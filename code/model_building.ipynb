{
 "cells": [
  {
   "cell_type": "heading",
   "metadata": {
    "collapsed": true
   },
   "level": 1,
   "source": [
    "Loading the data and preparation"
   ]
  },
  {
   "cell_type": "code",
   "execution_count": 1,
   "metadata": {
    "collapsed": true
   },
   "outputs": [
    {
     "data": {
      "text/html": [
       "<div>\n",
       "<style scoped>\n",
       "    .dataframe tbody tr th:only-of-type {\n",
       "        vertical-align: middle;\n",
       "    }\n",
       "\n",
       "    .dataframe tbody tr th {\n",
       "        vertical-align: top;\n",
       "    }\n",
       "\n",
       "    .dataframe thead th {\n",
       "        text-align: right;\n",
       "    }\n",
       "</style>\n",
       "<table border=\"1\" class=\"dataframe\">\n",
       "  <thead>\n",
       "    <tr style=\"text-align: right;\">\n",
       "      <th></th>\n",
       "      <th>Unnamed: 0</th>\n",
       "      <th>section_names</th>\n",
       "      <th>entropy</th>\n",
       "      <th>children_entropies</th>\n",
       "      <th>group</th>\n",
       "      <th>label</th>\n",
       "    </tr>\n",
       "    <tr>\n",
       "      <th>sha1</th>\n",
       "      <th></th>\n",
       "      <th></th>\n",
       "      <th></th>\n",
       "      <th></th>\n",
       "      <th></th>\n",
       "      <th></th>\n",
       "    </tr>\n",
       "  </thead>\n",
       "  <tbody>\n",
       "    <tr>\n",
       "      <th>58f96ae28ad3671ded1842ad1e0bf8c0aebc051a</th>\n",
       "      <td>0</td>\n",
       "      <td>['UPX0', 'UPX1', 'UPX2', '.imports', '.reloc']</td>\n",
       "      <td>0.838933</td>\n",
       "      <td>NaN</td>\n",
       "      <td>0</td>\n",
       "      <td>0</td>\n",
       "    </tr>\n",
       "    <tr>\n",
       "      <th>785390da804816a7854aa14958568794172ebc50</th>\n",
       "      <td>1</td>\n",
       "      <td>['.text', '.rdata', '.data', '.bldvar', '.CRT'...</td>\n",
       "      <td>6.509760</td>\n",
       "      <td>NaN</td>\n",
       "      <td>0</td>\n",
       "      <td>0</td>\n",
       "    </tr>\n",
       "    <tr>\n",
       "      <th>afd8621950984e7e9ce959f8f5e740b56f21523a</th>\n",
       "      <td>2</td>\n",
       "      <td>['pec1', 'pec2', '.rsrc']</td>\n",
       "      <td>5.763027</td>\n",
       "      <td>5.885089</td>\n",
       "      <td>3</td>\n",
       "      <td>1</td>\n",
       "    </tr>\n",
       "    <tr>\n",
       "      <th>364bc220e28d43483e11b2456fdd9375ea02ef3e</th>\n",
       "      <td>3</td>\n",
       "      <td>['.text', '.rdata', '.data', '.rsrc', '.reloc']</td>\n",
       "      <td>6.014410</td>\n",
       "      <td>NaN</td>\n",
       "      <td>1</td>\n",
       "      <td>1</td>\n",
       "    </tr>\n",
       "    <tr>\n",
       "      <th>e774bdc104dcfaef23a70a13f7ad97286809a0dd</th>\n",
       "      <td>4</td>\n",
       "      <td>['   ', '.rsrc', '.idata  ', '        ', 'qzqq...</td>\n",
       "      <td>7.955606</td>\n",
       "      <td>4.655421</td>\n",
       "      <td>4</td>\n",
       "      <td>1</td>\n",
       "    </tr>\n",
       "    <tr>\n",
       "      <th>82639adebd57de304d5083940eaa8dbd050d7812</th>\n",
       "      <td>5</td>\n",
       "      <td>['UPX0', 'UPX1', '.rsrc']</td>\n",
       "      <td>7.515672</td>\n",
       "      <td>NaN</td>\n",
       "      <td>3</td>\n",
       "      <td>1</td>\n",
       "    </tr>\n",
       "    <tr>\n",
       "      <th>5a1128c1f639b4e75086d1044df7d0c08736e350</th>\n",
       "      <td>6</td>\n",
       "      <td>['pec1', 'pec2', 'pec3', 'pec4', 'pec5', 'pec6...</td>\n",
       "      <td>6.933188</td>\n",
       "      <td>4.018102</td>\n",
       "      <td>3</td>\n",
       "      <td>1</td>\n",
       "    </tr>\n",
       "    <tr>\n",
       "      <th>f3c2da49b110652c9e8aeb06ff1db8c99580729d</th>\n",
       "      <td>7</td>\n",
       "      <td>['.rdata', '.data', '.rsrc', '.text']</td>\n",
       "      <td>4.199491</td>\n",
       "      <td>4.638900</td>\n",
       "      <td>0</td>\n",
       "      <td>0</td>\n",
       "    </tr>\n",
       "    <tr>\n",
       "      <th>fb645eca420205d325f697fb3d3eb81eb60318bd</th>\n",
       "      <td>8</td>\n",
       "      <td>['.text', '.rdata', '.data', '.idata', '.rsrc'...</td>\n",
       "      <td>7.928554</td>\n",
       "      <td>2.838714</td>\n",
       "      <td>3</td>\n",
       "      <td>1</td>\n",
       "    </tr>\n",
       "    <tr>\n",
       "      <th>fdfb42628ab1ac53adcbe48d982ea4e922aab157</th>\n",
       "      <td>9</td>\n",
       "      <td>['.text', '.data', '.rdata', '.buildid', '.pda...</td>\n",
       "      <td>5.825266</td>\n",
       "      <td>NaN</td>\n",
       "      <td>0</td>\n",
       "      <td>0</td>\n",
       "    </tr>\n",
       "  </tbody>\n",
       "</table>\n",
       "</div>"
      ],
      "text/plain": [
       "<div>\n",
       "<style scoped>\n",
       "    .dataframe tbody tr th:only-of-type {\n",
       "        vertical-align: middle;\n",
       "    }\n",
       "\n",
       "    .dataframe tbody tr th {\n",
       "        vertical-align: top;\n",
       "    }\n",
       "\n",
       "    .dataframe thead th {\n",
       "        text-align: right;\n",
       "    }\n",
       "</style>\n",
       "<table border=\"1\" class=\"dataframe\">\n",
       "  <thead>\n",
       "    <tr style=\"text-align: right;\">\n",
       "      <th></th>\n",
       "      <th>Unnamed: 0</th>\n",
       "      <th>section_names</th>\n",
       "      <th>entropy</th>\n",
       "      <th>children_entropies</th>\n",
       "      <th>group</th>\n",
       "      <th>label</th>\n",
       "    </tr>\n",
       "    <tr>\n",
       "      <th>sha1</th>\n",
       "      <th></th>\n",
       "      <th></th>\n",
       "      <th></th>\n",
       "      <th></th>\n",
       "      <th></th>\n",
       "      <th></th>\n",
       "    </tr>\n",
       "  </thead>\n",
       "  <tbody>\n",
       "    <tr>\n",
       "      <th>58f96ae28ad3671ded1842ad1e0bf8c0aebc051a</th>\n",
       "      <td>0</td>\n",
       "      <td>['UPX0', 'UPX1', 'UPX2', '.imports', '.reloc']</td>\n",
       "      <td>0.838933</td>\n",
       "      <td>NaN</td>\n",
       "      <td>0</td>\n",
       "      <td>0</td>\n",
       "    </tr>\n",
       "    <tr>\n",
       "      <th>785390da804816a7854aa14958568794172ebc50</th>\n",
       "      <td>1</td>\n",
       "      <td>['.text', '.rdata', '.data', '.bldvar', '.CRT'...</td>\n",
       "      <td>6.509760</td>\n",
       "      <td>NaN</td>\n",
       "      <td>0</td>\n",
       "      <td>0</td>\n",
       "    </tr>\n",
       "    <tr>\n",
       "      <th>afd8621950984e7e9ce959f8f5e740b56f21523a</th>\n",
       "      <td>2</td>\n",
       "      <td>['pec1', 'pec2', '.rsrc']</td>\n",
       "      <td>5.763027</td>\n",
       "      <td>5.885089</td>\n",
       "      <td>3</td>\n",
       "      <td>1</td>\n",
       "    </tr>\n",
       "    <tr>\n",
       "      <th>364bc220e28d43483e11b2456fdd9375ea02ef3e</th>\n",
       "      <td>3</td>\n",
       "      <td>['.text', '.rdata', '.data', '.rsrc', '.reloc']</td>\n",
       "      <td>6.014410</td>\n",
       "      <td>NaN</td>\n",
       "      <td>1</td>\n",
       "      <td>1</td>\n",
       "    </tr>\n",
       "    <tr>\n",
       "      <th>e774bdc104dcfaef23a70a13f7ad97286809a0dd</th>\n",
       "      <td>4</td>\n",
       "      <td>['   ', '.rsrc', '.idata  ', '        ', 'qzqq...</td>\n",
       "      <td>7.955606</td>\n",
       "      <td>4.655421</td>\n",
       "      <td>4</td>\n",
       "      <td>1</td>\n",
       "    </tr>\n",
       "    <tr>\n",
       "      <th>82639adebd57de304d5083940eaa8dbd050d7812</th>\n",
       "      <td>5</td>\n",
       "      <td>['UPX0', 'UPX1', '.rsrc']</td>\n",
       "      <td>7.515672</td>\n",
       "      <td>NaN</td>\n",
       "      <td>3</td>\n",
       "      <td>1</td>\n",
       "    </tr>\n",
       "    <tr>\n",
       "      <th>5a1128c1f639b4e75086d1044df7d0c08736e350</th>\n",
       "      <td>6</td>\n",
       "      <td>['pec1', 'pec2', 'pec3', 'pec4', 'pec5', 'pec6...</td>\n",
       "      <td>6.933188</td>\n",
       "      <td>4.018102</td>\n",
       "      <td>3</td>\n",
       "      <td>1</td>\n",
       "    </tr>\n",
       "    <tr>\n",
       "      <th>f3c2da49b110652c9e8aeb06ff1db8c99580729d</th>\n",
       "      <td>7</td>\n",
       "      <td>['.rdata', '.data', '.rsrc', '.text']</td>\n",
       "      <td>4.199491</td>\n",
       "      <td>4.638900</td>\n",
       "      <td>0</td>\n",
       "      <td>0</td>\n",
       "    </tr>\n",
       "    <tr>\n",
       "      <th>fb645eca420205d325f697fb3d3eb81eb60318bd</th>\n",
       "      <td>8</td>\n",
       "      <td>['.text', '.rdata', '.data', '.idata', '.rsrc'...</td>\n",
       "      <td>7.928554</td>\n",
       "      <td>2.838714</td>\n",
       "      <td>3</td>\n",
       "      <td>1</td>\n",
       "    </tr>\n",
       "    <tr>\n",
       "      <th>fdfb42628ab1ac53adcbe48d982ea4e922aab157</th>\n",
       "      <td>9</td>\n",
       "      <td>['.text', '.data', '.rdata', '.buildid', '.pda...</td>\n",
       "      <td>5.825266</td>\n",
       "      <td>NaN</td>\n",
       "      <td>0</td>\n",
       "      <td>0</td>\n",
       "    </tr>\n",
       "  </tbody>\n",
       "</table>\n",
       "</div>"
      ]
     },
     "execution_count": 1,
     "metadata": {},
     "output_type": "execute_result"
    }
   ],
   "source": [
    "# importing the data\n",
    "import pandas as pd\n",
    "\n",
    "df = pd.read_csv('/home/dkovac/PycharmProjects/Proteus/data/raw.csv',\n",
    "                        delimiter=',', header=0, index_col=1, quotechar='\"')\n",
    "df.head(10)\n",
    "\n"
   ]
  },
  {
   "cell_type": "code",
   "execution_count": 2,
   "metadata": {
    "collapsed": true
   },
   "outputs": [
    {
     "name": "stdout",
     "output_type": "stream",
     "text": [
      "0    0.668304\n3    0.210806\n2    0.063056\n4    0.030532\n1    0.027302\nName: group, dtype: float64\n"
     ]
    }
   ],
   "source": [
    "# train test split\n",
    "from sklearn.model_selection import train_test_split\n",
    "\n",
    "features = df.drop([ 'Unnamed: 0', 'group'], axis=1)\n",
    "#'section_names', 'label' 'group',\n",
    "labels = df[['label']]\n",
    "# Monte Carlo CV\n",
    "features_train, features_test, labels_train, labels_test = \\\n",
    "    train_test_split(features, labels, test_size=0.2, random_state=42, stratify=labels)\n",
    "\n",
    "null_data = df[df.isnull().any(axis=1)]\n",
    "print(null_data.group.value_counts(normalize=True))\n",
    "df.group.value_counts(normalize=True)\n",
    "df = df.fillna(0)\n"
   ]
  },
  {
   "cell_type": "heading",
   "metadata": {
    "collapsed": true
   },
   "level": 1,
   "source": [
    "Preprocessing"
   ]
  },
  {
   "cell_type": "code",
   "execution_count": 3,
   "metadata": {},
   "outputs": [],
   "source": [
    "from sklearn.base import BaseEstimator, TransformerMixin\n",
    "\n",
    "\n",
    "class ItemSelector(BaseEstimator, TransformerMixin):\n",
    "    def __init__(self, key, dt):\n",
    "        self.key = key\n",
    "        self.dt = dt\n",
    "\n",
    "    def fit(self, x, y=None):\n",
    "        # does nothing\n",
    "        return self\n",
    "\n",
    "    def transform(self, data_dict):\n",
    "        # this returns the column requested\n",
    "        if self.dt == 'text':\n",
    "            return data_dict.loc[:, self.key]\n",
    "        elif self.dt == 'num2text':\n",
    "            return data_dict.loc[:, self.key].astype(unicode)\n",
    "        elif self.dt == 'date':\n",
    "            return (data_dict.loc[:, self.key].squeeze() - pd.Timestamp(1900, 1, 1)).dt.days.to_frame()\n",
    "        else:\n",
    "            return data_dict.loc[:, [self.key]].astype(float)\n",
    "\n"
   ]
  },
  {
   "cell_type": "code",
   "execution_count": 20,
   "metadata": {},
   "outputs": [],
   "source": [
    "from sklearn.pipeline import FeatureUnion\n",
    "from sklearn.preprocessing import OneHotEncoder\n",
    "from sklearn.feature_extraction.text import TfidfTransformer\n",
    "\n",
    "def preproc_pipeline():\n",
    "    return FeatureUnion(\n",
    "        transformer_list=[\n",
    "            ('entropy_child', Pipeline([\n",
    "                ('selector', ItemSelector(key='children_entropies', dt='num')),\n",
    "                ('impute', Imputer(strategy='mean', axis=0))\n",
    "            ])),\n",
    "            ('entropy', Pipeline([\n",
    "                ('selector', ItemSelector(key='entropy', dt='num')),\n",
    "                ('impute', Imputer(strategy='mean', axis=0))\n",
    "            ])),\n",
    "            ('vect', Pipeline([\n",
    "                ('selector', ItemSelector(key='section_names', dt='text')),\n",
    "                ('cv', CountVectorizer(binary=False)),\n",
    "                #('tfidf'), TfidfTransformer()\n",
    "            ])),\n",
    "        ])\n"
   ]
  },
  {
   "cell_type": "heading",
   "metadata": {},
   "level": 1,
   "source": [
    "Pipeline"
   ]
  },
  {
   "cell_type": "code",
   "execution_count": 21,
   "metadata": {},
   "outputs": [],
   "source": [
    "# try ensembles, i distilled\n",
    "# log reg model\n",
    "from sklearn.linear_model import LogisticRegression\n",
    "\n",
    "lr = LogisticRegression(random_state=42)\n"
   ]
  },
  {
   "cell_type": "code",
   "execution_count": 22,
   "metadata": {
    "collapsed": true
   },
   "outputs": [],
   "source": [
    "# pipeline definition\n",
    "from sklearn.pipeline import Pipeline, make_union\n",
    "from tempfile import mkdtemp\n",
    "from sklearn.feature_extraction.text import CountVectorizer\n",
    "from sklearn.preprocessing import Imputer, FunctionTransformer\n",
    "\n",
    "pipeline = Pipeline([\n",
    "    ('preproc', preproc_pipeline()),\n",
    "    ('lr', lr)\n",
    "], memory=None)\n",
    "#mkdtemp\n"
   ]
  },
  {
   "cell_type": "heading",
   "metadata": {},
   "level": 1,
   "source": [
    "Grid search and testing"
   ]
  },
  {
   "cell_type": "code",
   "execution_count": 25,
   "metadata": {},
   "outputs": [],
   "source": [
    "# grid search\n",
    "import numpy as np\n",
    "from sklearn.model_selection import GridSearchCV\n",
    "from sklearn.model_selection import learning_curve\n",
    "\n",
    "params = {\n",
    "    'lr__C': [10],#[0.001, 0.01, 0.1, 1, 10, 100, 1000], #np.arange(0.7, 1.3, 0.1),\n",
    "    'lr__penalty': ['l2']#['l1', 'l2']\n",
    "}\n",
    "import warnings\n",
    "\n",
    "with warnings.catch_warnings():\n",
    "    warnings.simplefilter(\"ignore\")\n",
    "    # TODO check how they evaluate and decide on metric\n",
    "    model = GridSearchCV(pipeline, cv=10,  param_grid=params, scoring='f1_weighted')\n",
    "    model.fit(features_train, labels_train)"
   ]
  },
  {
   "cell_type": "code",
   "execution_count": 26,
   "metadata": {
    "collapsed": true
   },
   "outputs": [],
   "source": [
    "import warnings\n",
    "warnings.filterwarnings(\"ignore\", category=DeprecationWarning)\n",
    "# fir the CV and get basic results\n",
    "print(model.best_params_)"
   ]
  },
  {
   "cell_type": "code",
   "execution_count": null,
   "metadata": {},
   "outputs": [
    {
     "name": "stdout",
     "output_type": "stream",
     "text": [
      "0.841 (+/-0.010) for {'lr__C': 0.001, 'lr__penalty': 'l1'}\n0.884 (+/-0.009) for {'lr__C': 0.001, 'lr__penalty': 'l2'}\n0.934 (+/-0.008) for {'lr__C': 0.01, 'lr__penalty': 'l1'}\n0.929 (+/-0.009) for {'lr__C': 0.01, 'lr__penalty': 'l2'}\n0.949 (+/-0.007) for {'lr__C': 0.1, 'lr__penalty': 'l1'}\n0.946 (+/-0.007) for {'lr__C': 0.1, 'lr__penalty': 'l2'}\n0.953 (+/-0.010) for {'lr__C': 1, 'lr__penalty': 'l1'}\n0.953 (+/-0.008) for {'lr__C': 1, 'lr__penalty': 'l2'}\n0.954 (+/-0.009) for {'lr__C': 10, 'lr__penalty': 'l1'}\n0.954 (+/-0.008) for {'lr__C': 10, 'lr__penalty': 'l2'}\n0.953 (+/-0.008) for {'lr__C': 100, 'lr__penalty': 'l1'}\n0.953 (+/-0.008) for {'lr__C': 100, 'lr__penalty': 'l2'}\n0.953 (+/-0.008) for {'lr__C': 1000, 'lr__penalty': 'l1'}\n0.953 (+/-0.008) for {'lr__C': 1000, 'lr__penalty': 'l2'}\n"
     ]
    }
   ],
   "source": [
    "# detailed results\n",
    "means = model.cv_results_['mean_test_score']\n",
    "stds = model.cv_results_['std_test_score']\n",
    "\n",
    "for mean, std, params in zip(means, stds, model.cv_results_['params']):\n",
    "    print(\"%0.3f (+/-%0.03f) for %r\" % (mean, std * 2, params))\n"
   ]
  },
  {
   "cell_type": "code",
   "execution_count": 27,
   "metadata": {},
   "outputs": [
    {
     "name": "stdout",
     "output_type": "stream",
     "text": [
      "             precision    recall  f1-score   support\n\n          0       0.95      0.96      0.95      4393\n          1       0.96      0.94      0.95      4364\n\navg / total       0.95      0.95      0.95      8757\n\n"
     ]
    }
   ],
   "source": [
    "# test best model on test set and get classification report\n",
    "from sklearn.metrics import classification_report\n",
    "\n",
    "y_true, y_pred = labels_test, model.predict(features_test)\n",
    "print(classification_report(y_true, y_pred))"
   ]
  },
  {
   "cell_type": "code",
   "execution_count": 28,
   "metadata": {},
   "outputs": [
    {
     "data": {
      "image/png": "[encoded data removed]",
      "text/plain": [
       "<matplotlib.figure.Figure at 0x7faecd4a76d8>"
      ]
     },
     "metadata": {},
     "output_type": "display_data"
    }
   ],
   "source": [
    "import matplotlib.pyplot as plt\n",
    "from sklearn.model_selection import ShuffleSplit\n",
    "import warnings\n",
    "\n",
    "with warnings.catch_warnings():\n",
    "    warnings.simplefilter(\"ignore\")\n",
    "    plt.figure()\n",
    "    plt.title('LC')\n",
    "    \n",
    "    plt.xlabel(\"Training examples\")\n",
    "    plt.ylabel(\"Score\")\n",
    "    train_sizes, train_scores, test_scores = learning_curve(\n",
    "        pipeline, features_train, labels_train, cv=10, n_jobs=4, train_sizes=np.linspace(.1, 1.0, 10))\n",
    "    train_scores_mean = np.mean(train_scores, axis=1)\n",
    "    train_scores_std = np.std(train_scores, axis=1)\n",
    "    test_scores_mean = np.mean(test_scores, axis=1)\n",
    "    test_scores_std = np.std(test_scores, axis=1)\n",
    "    plt.grid()\n",
    "    \n",
    "    plt.fill_between(train_sizes, train_scores_mean - train_scores_std,\n",
    "                     train_scores_mean + train_scores_std, alpha=0.1,\n",
    "                     color=\"r\")\n",
    "    plt.fill_between(train_sizes, test_scores_mean - test_scores_std,\n",
    "                     test_scores_mean + test_scores_std, alpha=0.1, color=\"g\")\n",
    "    plt.plot(train_sizes, train_scores_mean, 'o-', color=\"r\",\n",
    "             label=\"Training score\")\n",
    "    plt.plot(train_sizes, test_scores_mean, 'o-', color=\"g\",\n",
    "             label=\"Cross-validation score\")\n",
    "\n",
    "    plt.legend(loc=\"best\")\n",
    "    plt.show()\n"
   ]
  },
  {
   "cell_type": "code",
   "execution_count": null,
   "metadata": {},
   "outputs": [],
   "source": []
  }
 ],
 "metadata": {
  "kernelspec": {
   "display_name": "Python 2",
   "language": "python",
   "name": "python2"
  },
  "language_info": {
   "codemirror_mode": {
    "name": "ipython",
    "version": 2
   },
   "file_extension": ".py",
   "mimetype": "text/x-python",
   "name": "python",
   "nbconvert_exporter": "python",
   "pygments_lexer": "ipython2",
   "version": "2.7.6"
  }
 },
 "nbformat": 4,
 "nbformat_minor": 0
}

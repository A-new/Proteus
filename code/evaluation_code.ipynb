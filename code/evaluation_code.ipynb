{
 "cells": [
  {
   "cell_type": "code",
   "execution_count": 13,
   "metadata": {
    "collapsed": false
   },
   "outputs": [
    {
     "name": "stdout",
     "output_type": "stream",
     "text": [
      "<class 'pandas.core.frame.DataFrame'>\nRangeIndex: 6928 entries, 0 to 6927\nData columns (total 33 columns):\nUnnamed: 0                          6928 non-null int64\nsha1                                6928 non-null object\nentropy                             6928 non-null float64\nimports                             6928 non-null object\nimports_count                       6928 non-null int64\napis                                6928 non-null object\napis_count                          6928 non-null int64\nhas_children                        6928 non-null bool\nchildren_entropies_mean             4290 non-null float64\nchildren_entropies_std              4290 non-null float64\nsection_names                       6926 non-null object\ntext_entropy                        3785 non-null float64\ndata_entropy                        3280 non-null float64\nrdata_entropy                       2073 non-null float64\nbuildid_entropy                     244 non-null float64\npdata_entropy                       283 non-null float64\nxdata_entropy                       47 non-null float64\nbss_entropy                         355 non-null float64\nedata_entropy                       162 non-null float64\nidata_entropy                       827 non-null float64\nreloc_entropy                       2281 non-null float64\nno_name_entropy_mean                957 non-null float64\nno_name_entropy_std                 957 non-null float64\nother_entropy_mean                  6685 non-null float64\nother_entropy_std                   6685 non-null float64\ntags                                6928 non-null object\nchecksum_valid                      6928 non-null bool\nentry_points_addresses              6928 non-null int64\nimage_bases                         6928 non-null uint64\nimage_sizes                         6928 non-null int64\nchildren_tags                       6928 non-null object\nchildren_sections_entropies_mean    4290 non-null float64\nchildren_sections_entropies_std     4290 non-null float64\ndtypes: bool(2), float64(19), int64(5), object(6), uint64(1)\nmemory usage: 1.7+ MB\n"
     ]
    }
   ],
   "source": [
    "import pandas as pd\n",
    "df = pd.read_csv('/home/dkovac/PycharmProjects/Proteus/data/eval.csv',\n",
    "                        delimiter=',', header=0, quotechar='\"')\n",
    "\n",
    "df['section_names'] = df['section_names'].str.lower()\n",
    "df['apis'] = df['apis'].str.lower()\n",
    "df['imports'] = df['imports'].str.lower()\n",
    "df.info()"
   ]
  },
  {
   "cell_type": "code",
   "execution_count": 9,
   "metadata": {
    "collapsed": true
   },
   "outputs": [],
   "source": [
    "from sklearn.base import BaseEstimator, TransformerMixin\n",
    "\n",
    "\n",
    "class ItemSelector(BaseEstimator, TransformerMixin):\n",
    "    def __init__(self, key, dt):\n",
    "        self.key = key\n",
    "        self.dt = dt\n",
    "\n",
    "    def fit(self, x, y=None):\n",
    "        # does nothing\n",
    "        return self\n",
    "\n",
    "    def transform(self, data_dict):\n",
    "        # this returns the column requested\n",
    "        if self.dt == 'text':\n",
    "            return data_dict.loc[:, self.key]\n",
    "        elif self.dt == 'num2text':\n",
    "            return data_dict.loc[:, self.key].astype(unicode)\n",
    "        elif self.dt == 'date':\n",
    "            return (data_dict.loc[:, self.key].squeeze() - pd.Timestamp(1900, 1, 1)).dt.days.to_frame()\n",
    "        else:\n",
    "            return data_dict.loc[:, [self.key]].astype(float)\n",
    "\n"
   ]
  },
  {
   "cell_type": "code",
   "execution_count": 10,
   "metadata": {
    "collapsed": true
   },
   "outputs": [
    {
     "name": "stderr",
     "output_type": "stream",
     "text": [
      "/home/dkovac/anaconda3/lib/python3.6/site-packages/sklearn/preprocessing/label.py:151: DeprecationWarning: The truth value of an empty array is ambiguous. Returning False, but in future this will result in an error. Use `array.size > 0` to check that an array is not empty.\n  if diff:\n"
     ]
    }
   ],
   "source": [
    "from sklearn.externals import joblib\n",
    "import csv \n",
    "\n",
    "\n",
    "model = joblib.load('/home/dkovac/PycharmProjects/Proteus/model/model.pkl')\n",
    "df['prediction'] = model.predict(df)\n"
   ]
  },
  {
   "cell_type": "code",
   "execution_count": 4,
   "metadata": {
    "collapsed": true
   },
   "outputs": [
    {
     "name": "stderr",
     "output_type": "stream",
     "text": [
      "/home/dkovac/anaconda3/lib/python3.6/site-packages/sklearn/preprocessing/label.py:151: DeprecationWarning: The truth value of an empty array is ambiguous. Returning False, but in future this will result in an error. Use `array.size > 0` to check that an array is not empty.\n  if diff:\n"
     ]
    }
   ],
   "source": [
    "with open('/home/dkovac/PycharmProjects/Proteus/data/order_list.txt') as f:\n",
    "    order_list = f.readlines()\n",
    "# you may also want to remove whitespace characters like `\\n` at the end of each line\n",
    "order_list = [x.strip() for x in order_list] \n",
    "print(order_list)\n"
   ]
  },
  {
   "cell_type": "code",
   "execution_count": 5,
   "metadata": {
    "collapsed": true
   },
   "outputs": [
    {
     "name": "stderr",
     "output_type": "stream",
     "text": [
      "/home/dkovac/anaconda3/lib/python3.6/site-packages/sklearn/preprocessing/label.py:151: DeprecationWarning: The truth value of an empty array is ambiguous. Returning False, but in future this will result in an error. Use `array.size > 0` to check that an array is not empty.\n  if diff:\n"
     ]
    }
   ],
   "source": [
    "\n",
    "df = df.set_index('sha1')\n",
    "df.loc[order_list]\n",
    "\n"
   ]
  },
  {
   "cell_type": "code",
   "execution_count": 12,
   "metadata": {
    "collapsed": true
   },
   "outputs": [],
   "source": [
    "\n",
    "results = df[['sha1', 'prediction']]\n",
    "results.to_csv('/home/dkovac/PycharmProjects/Proteus/data/eval1.tsv', sep='\\t', index=True, header=False, quoting=csv.QUOTE_NONE)\n"
   ]
  },
  {
   "cell_type": "code",
   "execution_count": null,
   "metadata": {},
   "outputs": [],
   "source": []
  }
 ],
 "metadata": {
  "kernelspec": {
   "display_name": "Python 2",
   "language": "python",
   "name": "python2"
  },
  "language_info": {
   "codemirror_mode": {
    "name": "ipython",
    "version": 2
   },
   "file_extension": ".py",
   "mimetype": "text/x-python",
   "name": "python",
   "nbconvert_exporter": "python",
   "pygments_lexer": "ipython2",
   "version": "2.7.6"
  }
 },
 "nbformat": 4,
 "nbformat_minor": 0
}

{
 "cells": [
  {
   "cell_type": "code",
   "execution_count": null,
   "metadata": {
    "collapsed": true
   },
   "outputs": [],
   "source": [
    "import pandas as pd\n",
    "df = pd.read_csv('/home/dkovac/PycharmProjects/Proteus/data/raw4.csv',\n",
    "                        delimiter=',', header=0, index_col=1, quotechar='\"')\n",
    "\n",
    "df['section_names'] = df['section_names'].str.lower()\n",
    "df['apis'] = df['apis'].str.lower()\n",
    "df['imports'] = df['imports'].str.lower()"
   ]
  },
  {
   "cell_type": "code",
   "execution_count": null,
   "metadata": {
    "collapsed": true
   },
   "outputs": [],
   "source": [
    "import pickle\n",
    "import csv \n",
    "\n",
    "model = pickle.loads(open(\"\", 'rb'))\n",
    "results = model.predict(df)\n",
    "results[['Unnamed: 0', 'prediction', 'label']]\n",
    "results.to_csv('results.tsv', sep='\\t', index=False, header=False, quoting=csv.QUOTE_NONE)\n"
   ]
  }
 ],
 "metadata": {
  "kernelspec": {
   "display_name": "Python 2",
   "language": "python",
   "name": "python2"
  },
  "language_info": {
   "codemirror_mode": {
    "name": "ipython",
    "version": 2
   },
   "file_extension": ".py",
   "mimetype": "text/x-python",
   "name": "python",
   "nbconvert_exporter": "python",
   "pygments_lexer": "ipython2",
   "version": "2.7.6"
  }
 },
 "nbformat": 4,
 "nbformat_minor": 0
}

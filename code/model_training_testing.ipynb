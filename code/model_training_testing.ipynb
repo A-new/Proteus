{
 "cells": [
  {
   "cell_type": "heading",
   "metadata": {
    "collapsed": true
   },
   "level": 1,
   "source": [
    "Loading the data and preparation"
   ]
  },
  {
   "cell_type": "code",
   "execution_count": 2,
   "metadata": {
    "collapsed": true
   },
   "outputs": [
    {
     "name": "stdout",
     "output_type": "stream",
     "text": [
      "<class 'pandas.core.frame.DataFrame'>\nIndex: 43784 entries, 8718ff9c6116730d5775f4947f30d20cb11d41a1 to 420c252a362757de22e3775b922132eb0bd9bdf2\nData columns (total 34 columns):\nUnnamed: 0                          43784 non-null int64\ngroup                               43784 non-null int64\nlabel                               43784 non-null int64\nentropy                             43784 non-null float64\nimports                             43784 non-null object\nimports_count                       43784 non-null int64\napis                                43784 non-null object\napis_count                          43784 non-null int64\nhas_children                        43784 non-null bool\nchildren_entropies_mean             21185 non-null float64\nchildren_entropies_std              21185 non-null float64\nsection_names                       43784 non-null object\ntext_entropy                        18364 non-null float64\ndata_entropy                        15013 non-null float64\nrdata_entropy                       14332 non-null float64\nbuildid_entropy                     180 non-null float64\npdata_entropy                       3997 non-null float64\nxdata_entropy                       314 non-null float64\nbss_entropy                         795 non-null float64\nedata_entropy                       1126 non-null float64\nidata_entropy                       4008 non-null float64\nreloc_entropy                       15230 non-null float64\nno_name_entropy_mean                3587 non-null float64\nno_name_entropy_std                 3587 non-null float64\nother_entropy_mean                  42116 non-null float64\nother_entropy_std                   42116 non-null float64\ntags                                43784 non-null object\nchecksum_valid                      43784 non-null bool\nentry_points_addresses              43784 non-null int64\nimage_bases                         43784 non-null uint64\nimage_sizes                         43784 non-null int64\nchildren_tags                       43784 non-null object\nchildren_sections_entropies_mean    21185 non-null float64\nchildren_sections_entropies_std     21185 non-null float64\ndtypes: bool(2), float64(19), int64(7), object(5), uint64(1)\nmemory usage: 11.1+ MB\n"
     ]
    }
   ],
   "source": [
    "# importing the data\n",
    "import pandas as pd\n",
    "\n",
    "df = pd.read_csv('/home/dkovac/PycharmProjects/Proteus/data/raw4.csv',\n",
    "                        delimiter=',', header=0, index_col=1, quotechar='\"')\n",
    "df.info()\n",
    "\n"
   ]
  },
  {
   "cell_type": "code",
   "execution_count": 3,
   "metadata": {
    "collapsed": true
   },
   "outputs": [],
   "source": [
    "# train test split\n",
    "from sklearn.model_selection import train_test_split\n",
    "\n",
    "df['section_names'] = df['section_names'].str.lower()\n",
    "df['apis'] = df['apis'].str.lower()\n",
    "df['imports'] = df['imports'].str.lower()\n",
    "features = df.drop(['Unnamed: 0', 'group', 'label'], axis=1)\n",
    "#'section_names', 'label' 'group',\n",
    "labels = df[['label']]\n",
    "# Monte Carlo CV\n",
    "features_train, features_test, labels_train, labels_test = \\\n",
    "    train_test_split(features, labels, test_size=0.2, random_state=42, stratify=labels)\n",
    "\n",
    "#null_data = df[df.isnull().any(axis=1)]\n",
    "#print(null_data.group.value_counts(normalize=True))\n",
    "#df.group.value_counts(normalize=True)\n",
    "#df = df.fillna(0)\n"
   ]
  },
  {
   "cell_type": "heading",
   "metadata": {
    "collapsed": true
   },
   "level": 1,
   "source": [
    "Preprocessing"
   ]
  },
  {
   "cell_type": "code",
   "execution_count": 4,
   "metadata": {},
   "outputs": [],
   "source": [
    "from sklearn.base import BaseEstimator, TransformerMixin\n",
    "\n",
    "\n",
    "class ItemSelector(BaseEstimator, TransformerMixin):\n",
    "    def __init__(self, key, dt):\n",
    "        self.key = key\n",
    "        self.dt = dt\n",
    "\n",
    "    def fit(self, x, y=None):\n",
    "        # does nothing\n",
    "        return self\n",
    "\n",
    "    def transform(self, data_dict):\n",
    "        # this returns the column requested\n",
    "        if self.dt == 'text':\n",
    "            return data_dict.loc[:, self.key]\n",
    "        elif self.dt == 'num2text':\n",
    "            return data_dict.loc[:, self.key].astype(unicode)\n",
    "        elif self.dt == 'date':\n",
    "            return (data_dict.loc[:, self.key].squeeze() - pd.Timestamp(1900, 1, 1)).dt.days.to_frame()\n",
    "        else:\n",
    "            return data_dict.loc[:, [self.key]].astype(float)\n",
    "\n"
   ]
  },
  {
   "cell_type": "code",
   "execution_count": 5,
   "metadata": {},
   "outputs": [],
   "source": [
    "from sklearn.pipeline import FeatureUnion\n",
    "from sklearn.preprocessing import OneHotEncoder\n",
    "from sklearn.feature_extraction.text import TfidfTransformer\n",
    "\n",
    "def preproc_pipeline():\n",
    "    return FeatureUnion(\n",
    "        transformer_list=[\n",
    "            ('entropy', Pipeline([\n",
    "                ('selector', ItemSelector(key='entropy', dt='num')),\n",
    "                ('impute', Imputer(strategy='mean', axis=0))\n",
    "            ])),\n",
    "            ('impots_c', Pipeline([\n",
    "                ('selector', ItemSelector(key='imports_count', dt='num')),\n",
    "                ('impute', Imputer(strategy='mean', axis=0))\n",
    "            ])),\n",
    "            ('apis_c', Pipeline([\n",
    "                ('selector', ItemSelector(key='apis_count', dt='num')),\n",
    "                ('impute', Imputer(strategy='mean', axis=0))\n",
    "            ])),\n",
    "            ('children_entropies_mean', Pipeline([\n",
    "                ('selector', ItemSelector(key='children_entropies_mean', dt='num')),\n",
    "                ('impute', Imputer(strategy='mean', axis=0))\n",
    "            ])),\n",
    "            ('children_entropies_std', Pipeline([\n",
    "                ('selector', ItemSelector(key='children_entropies_std', dt='num')),\n",
    "                ('impute', Imputer(strategy='mean', axis=0))\n",
    "            ])),\n",
    "            ################\n",
    "            ('text_entropy', Pipeline([\n",
    "                ('selector', ItemSelector(key='text_entropy', dt='num')),\n",
    "                ('impute', Imputer(strategy='mean', axis=0))\n",
    "            ])),\n",
    "            ('data_entropy', Pipeline([\n",
    "                ('selector', ItemSelector(key='data_entropy', dt='num')),\n",
    "                ('impute', Imputer(strategy='mean', axis=0))\n",
    "            ])),\n",
    "            ('rdata_entropy', Pipeline([\n",
    "                ('selector', ItemSelector(key='rdata_entropy', dt='num')),\n",
    "                ('impute', Imputer(strategy='mean', axis=0))\n",
    "            ])),\n",
    "            ('buildid_entropy', Pipeline([\n",
    "                ('selector', ItemSelector(key='buildid_entropy', dt='num')),\n",
    "                ('impute', Imputer(strategy='mean', axis=0))\n",
    "            ])),\n",
    "            ('pdata_entropy', Pipeline([\n",
    "                ('selector', ItemSelector(key='pdata_entropy', dt='num')),\n",
    "                ('impute', Imputer(strategy='mean', axis=0))\n",
    "            ])),\n",
    "            ('xdata_entropy', Pipeline([\n",
    "                ('selector', ItemSelector(key='xdata_entropy', dt='num')),\n",
    "                ('impute', Imputer(strategy='mean', axis=0))\n",
    "            ])),\n",
    "            ('bss_entropy', Pipeline([\n",
    "                ('selector', ItemSelector(key='bss_entropy', dt='num')),\n",
    "                ('impute', Imputer(strategy='mean', axis=0))\n",
    "            ])),\n",
    "            ('edata_entropy', Pipeline([\n",
    "                ('selector', ItemSelector(key='edata_entropy', dt='num')),\n",
    "                ('impute', Imputer(strategy='mean', axis=0))\n",
    "            ])),\n",
    "            ('idata_entropy', Pipeline([\n",
    "                ('selector', ItemSelector(key='idata_entropy', dt='num')),\n",
    "                ('impute', Imputer(strategy='mean', axis=0))\n",
    "            ])),\n",
    "            ('reloc_entropy', Pipeline([\n",
    "                ('selector', ItemSelector(key='reloc_entropy', dt='num')),\n",
    "                ('impute', Imputer(strategy='mean', axis=0))\n",
    "            ])),\n",
    "            ('no_name_entropy_mean', Pipeline([\n",
    "                ('selector', ItemSelector(key='no_name_entropy_mean', dt='num')),\n",
    "                ('impute', Imputer(strategy='mean', axis=0))\n",
    "            ])),\n",
    "            ('no_name_entropy_std', Pipeline([\n",
    "                ('selector', ItemSelector(key='no_name_entropy_std', dt='num')),\n",
    "                ('impute', Imputer(strategy='mean', axis=0))\n",
    "            ])),\n",
    "            ('other_entropy_mean', Pipeline([\n",
    "                ('selector', ItemSelector(key='other_entropy_mean', dt='num')),\n",
    "                ('impute', Imputer(strategy='mean', axis=0))\n",
    "            ])),\n",
    "            ('other_entropy_std', Pipeline([\n",
    "                ('selector', ItemSelector(key='other_entropy_std', dt='num')),\n",
    "                ('impute', Imputer(strategy='mean', axis=0))\n",
    "            ])),\n",
    "            ('entry_point', Pipeline([\n",
    "                ('selector', ItemSelector(key='entry_points_addresses', dt='num')),\n",
    "                ('impute', Imputer(strategy='mean', axis=0))\n",
    "            ])),\n",
    "            ('image_base', Pipeline([\n",
    "                ('selector', ItemSelector(key='image_bases', dt='num')),\n",
    "                ('impute', Imputer(strategy='mean', axis=0))\n",
    "            ])),\n",
    "            ('image_size', Pipeline([\n",
    "                ('selector', ItemSelector(key='image_sizes', dt='num')),\n",
    "                ('impute', Imputer(strategy='mean', axis=0))\n",
    "            ])),\n",
    "            ('children_sections_entropies_mean', Pipeline([\n",
    "                ('selector', ItemSelector(key='children_sections_entropies_mean', dt='num')),\n",
    "                ('impute', Imputer(strategy='mean', axis=0))\n",
    "            ])),\n",
    "            ('children_sections_entropies_std', Pipeline([\n",
    "                ('selector', ItemSelector(key='children_sections_entropies_std', dt='num')),\n",
    "                ('impute', Imputer(strategy='mean', axis=0))\n",
    "            ])),\n",
    "            ################\n",
    "            ('children', Pipeline([\n",
    "                ('selector', ItemSelector(key='checksum_valid', dt='categ')),\n",
    "                ('impute', OneHotEncoder())\n",
    "            ])),\n",
    "            ('checsum', Pipeline([\n",
    "                ('selector', ItemSelector(key='has_children', dt='categ')),\n",
    "              ('impute', OneHotEncoder())\n",
    "            ])),\n",
    "            ##############\n",
    "            ('sections', Pipeline([\n",
    "                ('selector', ItemSelector(key='section_names', dt='text')),\n",
    "                ('cv', CountVectorizer(binary=False, ngram_range=(1, 1))),  # max_features=100\n",
    "                #('tfidf_transformer', TfidfTransformer())\n",
    "            ])),\n",
    "            ('imports', Pipeline([\n",
    "                ('selector', ItemSelector(key='imports', dt='text')),\n",
    "                ('cv', CountVectorizer(binary=False, ngram_range=(1, 1))),  # max_features=100\n",
    "                #('tfidf_transformer', TfidfTransformer())\n",
    "            ])),\n",
    "            ('apis', Pipeline([\n",
    "                ('selector', ItemSelector(key='apis', dt='text')),\n",
    "                ('cv', CountVectorizer(binary=False, ngram_range=(1, 1))),  # max_features=100\n",
    "                #('tfidf_transformer', TfidfTransformer())\n",
    "            ])),\n",
    "            ('tags', Pipeline([\n",
    "                ('selector', ItemSelector(key='tags', dt='text')),\n",
    "                ('cv', CountVectorizer(binary=False, ngram_range=(1, 1))),  # max_features=100\n",
    "                #('tfidf_transformer', TfidfTransformer())\n",
    "            ])),\n",
    "            ('children_tags', Pipeline([\n",
    "                ('selector', ItemSelector(key='children_tags', dt='text')),\n",
    "                ('cv', CountVectorizer(binary=False, ngram_range=(1, 1))),  # max_features=100\n",
    "                #('tfidf_transformer', TfidfTransformer())\n",
    "            ])),\n",
    "        ])\n"
   ]
  },
  {
   "cell_type": "heading",
   "metadata": {},
   "level": 1,
   "source": [
    "Baseline model"
   ]
  },
  {
   "cell_type": "code",
   "execution_count": 6,
   "metadata": {},
   "outputs": [],
   "source": [
    "# try ensembles, i distilled\n",
    "# log reg model\n",
    "from sklearn.linear_model import LogisticRegression\n",
    "\n",
    "params = {\n",
    "    'lr__C': [10],#[0.001, 0.01, 0.1, 1, 10, 100, 1000],\n",
    "    'lr__penalty': ['l2']#['l1', 'l2']\n",
    "}\n",
    "\n",
    "lr = LogisticRegression(random_state=42)\n"
   ]
  },
  {
   "cell_type": "heading",
   "metadata": {},
   "level": 1,
   "source": [
    "XGB\n"
   ]
  },
  {
   "cell_type": "code",
   "execution_count": 5,
   "metadata": {
    "collapsed": true
   },
   "outputs": [
    {
     "ename": "NameError",
     "evalue": "name 'Pipeline' is not defined",
     "traceback": [
      "\u001b[0;31m---------------------------------------------------------------------------\u001b[0m",
      "\u001b[0;31mNameError\u001b[0m                                 Traceback (most recent call last)",
      "\u001b[0;32m<ipython-input-5-329fa2faeecc>\u001b[0m in \u001b[0;36m<module>\u001b[0;34m()\u001b[0m\n\u001b[1;32m      1\u001b[0m \u001b[0;32mimport\u001b[0m \u001b[0mxgboost\u001b[0m \u001b[0;32mas\u001b[0m \u001b[0mxgb\u001b[0m\u001b[0;34m\u001b[0m\u001b[0m\n\u001b[0;32m----> 2\u001b[0;31m \u001b[0mvect\u001b[0m \u001b[0;34m=\u001b[0m \u001b[0mpreproc_pipeline\u001b[0m\u001b[0;34m(\u001b[0m\u001b[0;34m)\u001b[0m\u001b[0;34m.\u001b[0m\u001b[0mfit_transform\u001b[0m\u001b[0;34m(\u001b[0m\u001b[0mfeatures_train\u001b[0m\u001b[0;34m)\u001b[0m\u001b[0;34m\u001b[0m\u001b[0m\n\u001b[0m\u001b[1;32m      3\u001b[0m params = {'seed': 42, 'max_depth': 8, 'learning_rate': 0.01, 'objective': 'multi:softmax', 'num_class': 5,\n\u001b[1;32m      4\u001b[0m           'min_child_weight': 1, 'gamma': 0, 'subsample': 0.9, 'colsample_bytree ': 0.6}\n\u001b[1;32m      5\u001b[0m cv_xgb = xgb.cv(params, xgb.DMatrix(vect, labels_train), early_stopping_rounds=100, verbose_eval=1,\n",
      "\u001b[0;32m<ipython-input-3-420f618ba95a>\u001b[0m in \u001b[0;36mpreproc_pipeline\u001b[0;34m()\u001b[0m\n\u001b[1;32m      6\u001b[0m     return FeatureUnion(\n\u001b[1;32m      7\u001b[0m         transformer_list=[\n\u001b[0;32m----> 8\u001b[0;31m             ('entropy', Pipeline([\n\u001b[0m\u001b[1;32m      9\u001b[0m                 \u001b[0;34m(\u001b[0m\u001b[0;34m'selector'\u001b[0m\u001b[0;34m,\u001b[0m \u001b[0mItemSelector\u001b[0m\u001b[0;34m(\u001b[0m\u001b[0mkey\u001b[0m\u001b[0;34m=\u001b[0m\u001b[0;34m'entropy'\u001b[0m\u001b[0;34m,\u001b[0m \u001b[0mdt\u001b[0m\u001b[0;34m=\u001b[0m\u001b[0;34m'num'\u001b[0m\u001b[0;34m)\u001b[0m\u001b[0;34m)\u001b[0m\u001b[0;34m,\u001b[0m\u001b[0;34m\u001b[0m\u001b[0m\n\u001b[1;32m     10\u001b[0m                 \u001b[0;34m(\u001b[0m\u001b[0;34m'impute'\u001b[0m\u001b[0;34m,\u001b[0m \u001b[0mImputer\u001b[0m\u001b[0;34m(\u001b[0m\u001b[0mstrategy\u001b[0m\u001b[0;34m=\u001b[0m\u001b[0;34m'mean'\u001b[0m\u001b[0;34m,\u001b[0m \u001b[0maxis\u001b[0m\u001b[0;34m=\u001b[0m\u001b[0;36m0\u001b[0m\u001b[0;34m)\u001b[0m\u001b[0;34m)\u001b[0m\u001b[0;34m\u001b[0m\u001b[0m\n",
      "\u001b[0;31mNameError\u001b[0m: name 'Pipeline' is not defined"
     ],
     "output_type": "error"
    }
   ],
   "source": [
    "import xgboost as xgb\n",
    "vect = preproc_pipeline().fit_transform(features_train)\n",
    "params = {'seed': 42, 'max_depth': 8, 'learning_rate': 0.01, 'objective': 'multi:softmax', 'num_class': 5,\n",
    "          'min_child_weight': 1, 'gamma': 0, 'subsample': 0.9, 'colsample_bytree ': 0.6}\n",
    "cv_xgb = xgb.cv(params, xgb.DMatrix(vect, labels_train), early_stopping_rounds=100, verbose_eval=1,\n",
    "                num_boost_round=5000, nfold=10)\n"
   ]
  },
  {
   "cell_type": "code",
   "execution_count": 7,
   "metadata": {},
   "outputs": [],
   "source": [
    "from xgboost import XGBClassifier\n",
    "\n",
    "params = {\n",
    "    # 'xgb__n_estimators': [1250], #[10, 50, 100, 500, 1000],\n",
    "    # 'xgb__learning_rate': [0.01],\n",
    "    # 'xgb__max_depth': [8], #range(6, 9, 1),\n",
    "    # 'xgb__min_child_weight': [1], #range(6, 9, 1),\n",
    "    # #'xgb__gamma': [0], #np.linspace(0, 0.5, 5),\n",
    "    # 'xgb__subsample': [0.9], #[i/10.0 for i in range(6, 11)],\n",
    "    # 'xgb__colsample_bytree': [0.6], #[i/10.0 for i in range(5, 7)],\n",
    "    # #'xgb__reg_alpha': [1e-5, 1e-2, 0.1, 1, 100],\n",
    "    # #'reg_lambda':[1e-5, 1e-2, 0.1, 1, 100]\n",
    "    # #'xgb__num_class': [2]\n",
    "}\n",
    "\n",
    "xgb = XGBClassifier(seed=42, n_estimators=1250,\n",
    "                    learning_rate=0.01, max_depth=8, min_child_weight=1, subsample=0.9, colsample_bytree=0.6)\n"
   ]
  },
  {
   "cell_type": "heading",
   "metadata": {},
   "level": 1,
   "source": [
    "Grid search and testing"
   ]
  },
  {
   "cell_type": "code",
   "execution_count": 8,
   "metadata": {
    "collapsed": true
   },
   "outputs": [],
   "source": [
    "# pipeline definition\n",
    "from sklearn.pipeline import Pipeline, make_union\n",
    "from tempfile import mkdtemp\n",
    "from sklearn.feature_extraction.text import CountVectorizer\n",
    "from sklearn.preprocessing import Imputer, FunctionTransformer\n",
    "\n",
    "\n",
    "\n",
    "pipeline = Pipeline([\n",
    "    ('preproc', preproc_pipeline()),\n",
    "    #('smote', SMOTE()),\n",
    "    ('xgb', xgb)\n",
    "], memory=None)\n",
    "#mkdtemp\n"
   ]
  },
  {
   "cell_type": "code",
   "execution_count": 56,
   "metadata": {
    "collapsed": true
   },
   "outputs": [
    {
     "name": "stdout",
     "output_type": "stream",
     "text": [
      "Fitting 10 folds for each of 1 candidates, totalling 10 fits\n[CV] xgb__colsample_bytree=0.6, xgb__learning_rate=0.01, xgb__max_depth=8, xgb__min_child_weight=1, xgb__n_estimators=1250, xgb__subsample=0.9 \n"
     ]
    },
    {
     "name": "stdout",
     "output_type": "stream",
     "text": [
      "[CV]  xgb__colsample_bytree=0.6, xgb__learning_rate=0.01, xgb__max_depth=8, xgb__min_child_weight=1, xgb__n_estimators=1250, xgb__subsample=0.9, score=0.9937196381465634, total= 9.9min\n[CV] xgb__colsample_bytree=0.6, xgb__learning_rate=0.01, xgb__max_depth=8, xgb__min_child_weight=1, xgb__n_estimators=1250, xgb__subsample=0.9 \n"
     ]
    },
    {
     "name": "stderr",
     "output_type": "stream",
     "text": [
      "[Parallel(n_jobs=1)]: Done   1 out of   1 | elapsed: 10.1min remaining:    0.0s\n"
     ]
    },
    {
     "name": "stdout",
     "output_type": "stream",
     "text": [
      "[CV]  xgb__colsample_bytree=0.6, xgb__learning_rate=0.01, xgb__max_depth=8, xgb__min_child_weight=1, xgb__n_estimators=1250, xgb__subsample=0.9, score=0.9945759980831366, total= 9.4min\n[CV] xgb__colsample_bytree=0.6, xgb__learning_rate=0.01, xgb__max_depth=8, xgb__min_child_weight=1, xgb__n_estimators=1250, xgb__subsample=0.9 \n"
     ]
    },
    {
     "name": "stderr",
     "output_type": "stream",
     "text": [
      "[Parallel(n_jobs=1)]: Done   2 out of   2 | elapsed: 19.8min remaining:    0.0s\n"
     ]
    },
    {
     "name": "stdout",
     "output_type": "stream",
     "text": [
      "[CV]  xgb__colsample_bytree=0.6, xgb__learning_rate=0.01, xgb__max_depth=8, xgb__min_child_weight=1, xgb__n_estimators=1250, xgb__subsample=0.9, score=0.9937195275917307, total=12.8min\n[CV] xgb__colsample_bytree=0.6, xgb__learning_rate=0.01, xgb__max_depth=8, xgb__min_child_weight=1, xgb__n_estimators=1250, xgb__subsample=0.9 \n"
     ]
    },
    {
     "name": "stderr",
     "output_type": "stream",
     "text": [
      "[Parallel(n_jobs=1)]: Done   3 out of   3 | elapsed: 32.8min remaining:    0.0s\n"
     ]
    },
    {
     "name": "stdout",
     "output_type": "stream",
     "text": [
      "[CV]  xgb__colsample_bytree=0.6, xgb__learning_rate=0.01, xgb__max_depth=8, xgb__min_child_weight=1, xgb__n_estimators=1250, xgb__subsample=0.9, score=0.9945759706768218, total=13.1min\n[CV] xgb__colsample_bytree=0.6, xgb__learning_rate=0.01, xgb__max_depth=8, xgb__min_child_weight=1, xgb__n_estimators=1250, xgb__subsample=0.9 \n"
     ]
    },
    {
     "name": "stderr",
     "output_type": "stream",
     "text": [
      "[Parallel(n_jobs=1)]: Done   4 out of   4 | elapsed: 46.1min remaining:    0.0s\n"
     ]
    }
   ],
   "source": [
    "# grid search\n",
    "import numpy as np\n",
    "from sklearn.model_selection import GridSearchCV\n",
    "from sklearn.model_selection import learning_curve\n",
    "\n",
    "\n",
    "import warnings\n",
    "\n",
    "with warnings.catch_warnings():\n",
    "    warnings.simplefilter(\"ignore\")\n",
    "    # TODO check how they evaluate and decide on metric\n",
    "    model = GridSearchCV(pipeline, cv=10,  param_grid=params, scoring='f1_weighted', verbose=10)\n",
    "    #model.fit(features_train, labels_train)\n",
    "    model.fit(features_train, labels_train)"
   ]
  },
  {
   "cell_type": "code",
   "execution_count": 43,
   "metadata": {
    "collapsed": true
   },
   "outputs": [
    {
     "ename": "NameError",
     "evalue": "name 'model' is not defined",
     "traceback": [
      "\u001b[0;31m---------------------------------------------------------------------------\u001b[0m",
      "\u001b[0;31mNameError\u001b[0m                                 Traceback (most recent call last)",
      "\u001b[0;32m<ipython-input-43-a4fd83b3147c>\u001b[0m in \u001b[0;36m<module>\u001b[0;34m()\u001b[0m\n\u001b[1;32m      1\u001b[0m \u001b[0;31m# fir the CV and get basic results\u001b[0m\u001b[0;34m\u001b[0m\u001b[0;34m\u001b[0m\u001b[0m\n\u001b[0;32m----> 2\u001b[0;31m \u001b[0mprint\u001b[0m\u001b[0;34m(\u001b[0m\u001b[0mmodel\u001b[0m\u001b[0;34m.\u001b[0m\u001b[0mbest_params_\u001b[0m\u001b[0;34m)\u001b[0m\u001b[0;34m\u001b[0m\u001b[0m\n\u001b[0m",
      "\u001b[0;31mNameError\u001b[0m: name 'model' is not defined"
     ],
     "output_type": "error"
    }
   ],
   "source": [
    "# fir the CV and get basic results\n",
    "print(model.best_params_)\n"
   ]
  },
  {
   "cell_type": "code",
   "execution_count": 34,
   "metadata": {
    "collapsed": true
   },
   "outputs": [
    {
     "name": "stdout",
     "output_type": "stream",
     "text": [
      "0.9970 (+/-0.0011) for {'xgb__colsample_bytree': 0.6, 'xgb__learning_rate': 0.01, 'xgb__max_depth': 8, 'xgb__min_child_weight': 1, 'xgb__n_estimators': 1250, 'xgb__subsample': 0.9}\n"
     ]
    }
   ],
   "source": [
    "# detailed results\n",
    "means = model.cv_results_['mean_test_score']\n",
    "stds = model.cv_results_['std_test_score']\n",
    "\n",
    "for mean, std, params in zip(means, stds, model.cv_results_['params']):\n",
    "    print(\"%0.4f (+/-%0.04f) for %r\" % (mean, std * 2, params))\n"
   ]
  },
  {
   "cell_type": "code",
   "execution_count": 35,
   "metadata": {
    "collapsed": true
   },
   "outputs": [
    {
     "name": "stdout",
     "output_type": "stream",
     "text": [
      "             precision    recall  f1-score   support\n\n          0     0.9993    0.9970    0.9982      4393\n          1     0.9920    1.0000    0.9960      2347\n          2     0.9983    1.0000    0.9991      2311\n          3     1.0000    0.9955    0.9978      2921\n          4     1.0000    1.0000    1.0000      2002\n\navg / total     0.9982    0.9981    0.9981     13974\n\n"
     ]
    },
    {
     "name": "stderr",
     "output_type": "stream",
     "text": [
      "/home/dkovac/anaconda3/lib/python3.6/site-packages/sklearn/preprocessing/label.py:151: DeprecationWarning: The truth value of an empty array is ambiguous. Returning False, but in future this will result in an error. Use `array.size > 0` to check that an array is not empty.\n  if diff:\n"
     ]
    }
   ],
   "source": [
    "# test best model on test set and get classification report\n",
    "from sklearn.metrics import classification_report\n",
    "\n",
    "y_true, y_pred = labels_test, model.predict(features_test)\n",
    "print(classification_report(y_true, y_pred, digits=4))\n"
   ]
  },
  {
   "cell_type": "code",
   "execution_count": 19,
   "metadata": {
    "collapsed": true
   },
   "outputs": [
    {
     "ename": "KeyboardInterrupt",
     "evalue": "",
     "traceback": [
      "\u001b[0;31m---------------------------------------------------------------------------\u001b[0m",
      "\u001b[0;31mKeyboardInterrupt\u001b[0m                         Traceback (most recent call last)",
      "\u001b[0;32m<ipython-input-19-9f45ac5f9d67>\u001b[0m in \u001b[0;36m<module>\u001b[0;34m()\u001b[0m\n\u001b[1;32m     28\u001b[0m         \u001b[0mlabels\u001b[0m \u001b[0;34m=\u001b[0m \u001b[0mdf_80\u001b[0m\u001b[0;34m[\u001b[0m\u001b[0;34m[\u001b[0m\u001b[0;34m'group'\u001b[0m\u001b[0;34m]\u001b[0m\u001b[0;34m]\u001b[0m\u001b[0;34m\u001b[0m\u001b[0m\n\u001b[1;32m     29\u001b[0m \u001b[0;34m\u001b[0m\u001b[0m\n\u001b[0;32m---> 30\u001b[0;31m         \u001b[0mpipeline\u001b[0m\u001b[0;34m.\u001b[0m\u001b[0mfit\u001b[0m\u001b[0;34m(\u001b[0m\u001b[0mfeatures\u001b[0m\u001b[0;34m,\u001b[0m \u001b[0mlabels\u001b[0m\u001b[0;34m)\u001b[0m\u001b[0;34m\u001b[0m\u001b[0m\n\u001b[0m\u001b[1;32m     31\u001b[0m         \u001b[0my_true\u001b[0m\u001b[0;34m,\u001b[0m \u001b[0my_pred\u001b[0m \u001b[0;34m=\u001b[0m \u001b[0mdf_20\u001b[0m\u001b[0;34m[\u001b[0m\u001b[0;34m[\u001b[0m\u001b[0;34m'group'\u001b[0m\u001b[0;34m]\u001b[0m\u001b[0;34m]\u001b[0m\u001b[0;34m,\u001b[0m \u001b[0mpipeline\u001b[0m\u001b[0;34m.\u001b[0m\u001b[0mpredict\u001b[0m\u001b[0;34m(\u001b[0m\u001b[0mdf_20\u001b[0m\u001b[0;34m)\u001b[0m\u001b[0;34m\u001b[0m\u001b[0m\n\u001b[1;32m     32\u001b[0m         \u001b[0mprint\u001b[0m\u001b[0;34m(\u001b[0m\u001b[0mclassification_report\u001b[0m\u001b[0;34m(\u001b[0m\u001b[0my_true\u001b[0m\u001b[0;34m,\u001b[0m \u001b[0my_pred\u001b[0m\u001b[0;34m,\u001b[0m \u001b[0mdigits\u001b[0m\u001b[0;34m=\u001b[0m\u001b[0;36m4\u001b[0m\u001b[0;34m)\u001b[0m\u001b[0;34m)\u001b[0m\u001b[0;34m\u001b[0m\u001b[0m\n",
      "\u001b[0;32m~/anaconda3/lib/python3.6/site-packages/sklearn/pipeline.py\u001b[0m in \u001b[0;36mfit\u001b[0;34m(self, X, y, **fit_params)\u001b[0m\n\u001b[1;32m    248\u001b[0m         \u001b[0mXt\u001b[0m\u001b[0;34m,\u001b[0m \u001b[0mfit_params\u001b[0m \u001b[0;34m=\u001b[0m \u001b[0mself\u001b[0m\u001b[0;34m.\u001b[0m\u001b[0m_fit\u001b[0m\u001b[0;34m(\u001b[0m\u001b[0mX\u001b[0m\u001b[0;34m,\u001b[0m \u001b[0my\u001b[0m\u001b[0;34m,\u001b[0m \u001b[0;34m**\u001b[0m\u001b[0mfit_params\u001b[0m\u001b[0;34m)\u001b[0m\u001b[0;34m\u001b[0m\u001b[0m\n\u001b[1;32m    249\u001b[0m         \u001b[0;32mif\u001b[0m \u001b[0mself\u001b[0m\u001b[0;34m.\u001b[0m\u001b[0m_final_estimator\u001b[0m \u001b[0;32mis\u001b[0m \u001b[0;32mnot\u001b[0m \u001b[0;32mNone\u001b[0m\u001b[0;34m:\u001b[0m\u001b[0;34m\u001b[0m\u001b[0m\n\u001b[0;32m--> 250\u001b[0;31m             \u001b[0mself\u001b[0m\u001b[0;34m.\u001b[0m\u001b[0m_final_estimator\u001b[0m\u001b[0;34m.\u001b[0m\u001b[0mfit\u001b[0m\u001b[0;34m(\u001b[0m\u001b[0mXt\u001b[0m\u001b[0;34m,\u001b[0m \u001b[0my\u001b[0m\u001b[0;34m,\u001b[0m \u001b[0;34m**\u001b[0m\u001b[0mfit_params\u001b[0m\u001b[0;34m)\u001b[0m\u001b[0;34m\u001b[0m\u001b[0m\n\u001b[0m\u001b[1;32m    251\u001b[0m         \u001b[0;32mreturn\u001b[0m \u001b[0mself\u001b[0m\u001b[0;34m\u001b[0m\u001b[0m\n\u001b[1;32m    252\u001b[0m \u001b[0;34m\u001b[0m\u001b[0m\n",
      "\u001b[0;32m~/anaconda3/lib/python3.6/site-packages/xgboost/sklearn.py\u001b[0m in \u001b[0;36mfit\u001b[0;34m(self, X, y, sample_weight, eval_set, eval_metric, early_stopping_rounds, verbose, xgb_model)\u001b[0m\n\u001b[1;32m    504\u001b[0m                               \u001b[0mearly_stopping_rounds\u001b[0m\u001b[0;34m=\u001b[0m\u001b[0mearly_stopping_rounds\u001b[0m\u001b[0;34m,\u001b[0m\u001b[0;34m\u001b[0m\u001b[0m\n\u001b[1;32m    505\u001b[0m                               \u001b[0mevals_result\u001b[0m\u001b[0;34m=\u001b[0m\u001b[0mevals_result\u001b[0m\u001b[0;34m,\u001b[0m \u001b[0mobj\u001b[0m\u001b[0;34m=\u001b[0m\u001b[0mobj\u001b[0m\u001b[0;34m,\u001b[0m \u001b[0mfeval\u001b[0m\u001b[0;34m=\u001b[0m\u001b[0mfeval\u001b[0m\u001b[0;34m,\u001b[0m\u001b[0;34m\u001b[0m\u001b[0m\n\u001b[0;32m--> 506\u001b[0;31m                               verbose_eval=verbose, xgb_model=None)\n\u001b[0m\u001b[1;32m    507\u001b[0m \u001b[0;34m\u001b[0m\u001b[0m\n\u001b[1;32m    508\u001b[0m         \u001b[0mself\u001b[0m\u001b[0;34m.\u001b[0m\u001b[0mobjective\u001b[0m \u001b[0;34m=\u001b[0m \u001b[0mxgb_options\u001b[0m\u001b[0;34m[\u001b[0m\u001b[0;34m\"objective\"\u001b[0m\u001b[0;34m]\u001b[0m\u001b[0;34m\u001b[0m\u001b[0m\n",
      "\u001b[0;32m~/anaconda3/lib/python3.6/site-packages/xgboost/training.py\u001b[0m in \u001b[0;36mtrain\u001b[0;34m(params, dtrain, num_boost_round, evals, obj, feval, maximize, early_stopping_rounds, evals_result, verbose_eval, xgb_model, callbacks, learning_rates)\u001b[0m\n\u001b[1;32m    202\u001b[0m                            \u001b[0mevals\u001b[0m\u001b[0;34m=\u001b[0m\u001b[0mevals\u001b[0m\u001b[0;34m,\u001b[0m\u001b[0;34m\u001b[0m\u001b[0m\n\u001b[1;32m    203\u001b[0m                            \u001b[0mobj\u001b[0m\u001b[0;34m=\u001b[0m\u001b[0mobj\u001b[0m\u001b[0;34m,\u001b[0m \u001b[0mfeval\u001b[0m\u001b[0;34m=\u001b[0m\u001b[0mfeval\u001b[0m\u001b[0;34m,\u001b[0m\u001b[0;34m\u001b[0m\u001b[0m\n\u001b[0;32m--> 204\u001b[0;31m                            xgb_model=xgb_model, callbacks=callbacks)\n\u001b[0m\u001b[1;32m    205\u001b[0m \u001b[0;34m\u001b[0m\u001b[0m\n\u001b[1;32m    206\u001b[0m \u001b[0;34m\u001b[0m\u001b[0m\n",
      "\u001b[0;32m~/anaconda3/lib/python3.6/site-packages/xgboost/training.py\u001b[0m in \u001b[0;36m_train_internal\u001b[0;34m(params, dtrain, num_boost_round, evals, obj, feval, xgb_model, callbacks)\u001b[0m\n\u001b[1;32m     72\u001b[0m         \u001b[0;31m# Skip the first update if it is a recovery step.\u001b[0m\u001b[0;34m\u001b[0m\u001b[0;34m\u001b[0m\u001b[0m\n\u001b[1;32m     73\u001b[0m         \u001b[0;32mif\u001b[0m \u001b[0mversion\u001b[0m \u001b[0;34m%\u001b[0m \u001b[0;36m2\u001b[0m \u001b[0;34m==\u001b[0m \u001b[0;36m0\u001b[0m\u001b[0;34m:\u001b[0m\u001b[0;34m\u001b[0m\u001b[0m\n\u001b[0;32m---> 74\u001b[0;31m             \u001b[0mbst\u001b[0m\u001b[0;34m.\u001b[0m\u001b[0mupdate\u001b[0m\u001b[0;34m(\u001b[0m\u001b[0mdtrain\u001b[0m\u001b[0;34m,\u001b[0m \u001b[0mi\u001b[0m\u001b[0;34m,\u001b[0m \u001b[0mobj\u001b[0m\u001b[0;34m)\u001b[0m\u001b[0;34m\u001b[0m\u001b[0m\n\u001b[0m\u001b[1;32m     75\u001b[0m             \u001b[0mbst\u001b[0m\u001b[0;34m.\u001b[0m\u001b[0msave_rabit_checkpoint\u001b[0m\u001b[0;34m(\u001b[0m\u001b[0;34m)\u001b[0m\u001b[0;34m\u001b[0m\u001b[0m\n\u001b[1;32m     76\u001b[0m             \u001b[0mversion\u001b[0m \u001b[0;34m+=\u001b[0m \u001b[0;36m1\u001b[0m\u001b[0;34m\u001b[0m\u001b[0m\n",
      "\u001b[0;32m~/anaconda3/lib/python3.6/site-packages/xgboost/core.py\u001b[0m in \u001b[0;36mupdate\u001b[0;34m(self, dtrain, iteration, fobj)\u001b[0m\n\u001b[1;32m    893\u001b[0m         \u001b[0;32mif\u001b[0m \u001b[0mfobj\u001b[0m \u001b[0;32mis\u001b[0m \u001b[0;32mNone\u001b[0m\u001b[0;34m:\u001b[0m\u001b[0;34m\u001b[0m\u001b[0m\n\u001b[1;32m    894\u001b[0m             _check_call(_LIB.XGBoosterUpdateOneIter(self.handle, ctypes.c_int(iteration),\n\u001b[0;32m--> 895\u001b[0;31m                                                     dtrain.handle))\n\u001b[0m\u001b[1;32m    896\u001b[0m         \u001b[0;32melse\u001b[0m\u001b[0;34m:\u001b[0m\u001b[0;34m\u001b[0m\u001b[0m\n\u001b[1;32m    897\u001b[0m             \u001b[0mpred\u001b[0m \u001b[0;34m=\u001b[0m \u001b[0mself\u001b[0m\u001b[0;34m.\u001b[0m\u001b[0mpredict\u001b[0m\u001b[0;34m(\u001b[0m\u001b[0mdtrain\u001b[0m\u001b[0;34m)\u001b[0m\u001b[0;34m\u001b[0m\u001b[0m\n",
      "\u001b[0;31mKeyboardInterrupt\u001b[0m: "
     ],
     "output_type": "error"
    }
   ],
   "source": [
    "# test oversampling\n",
    "import random \n",
    "from sklearn.utils import shuffle\n",
    "from sklearn.metrics import classification_report\n",
    "\n",
    "\n",
    "import warnings\n",
    "\n",
    "with warnings.catch_warnings():\n",
    "    warnings.simplefilter(\"ignore\")\n",
    "    for i in range(10):\n",
    "        df['section_names'] = df['section_names'].str.lower()\n",
    "        df['apis'] = df['apis'].str.lower()\n",
    "        df['imports'] = df['imports'].str.lower()\n",
    "        df = shuffle(df)\n",
    "        df_20 = df[0:8756]\n",
    "        df_80 = df[8757:43783]\n",
    "        \n",
    "        df1 = df_80[df_80['group'] == 1]\n",
    "        df2 = df_80[df_80['group'] == 2]\n",
    "        df3 = df_80[df_80['group'] == 3]\n",
    "        df4 = df_80[df_80['group'] == 4]\n",
    "        df_80 = df_80.append([df1]*4, ignore_index=True)\n",
    "        df_80 = df_80.append([df2]*2, ignore_index=True)\n",
    "        #df_80 = df_80.append([df4]*1, ignore_index=True)\n",
    "        \n",
    "        features = df_80.drop(['Unnamed: 0', 'group', 'label'], axis=1)\n",
    "        labels = df_80[['group']]\n",
    "        \n",
    "        pipeline.fit(features, labels)\n",
    "        y_true, y_pred = df_20[['group']], pipeline.predict(df_20)\n",
    "        print(classification_report(y_true, y_pred, digits=4))\n"
   ]
  },
  {
   "cell_type": "code",
   "execution_count": 21,
   "metadata": {},
   "outputs": [
    {
     "data": {
      "image/png": "[encoded data removed]",
      "text/plain": [
       "<matplotlib.figure.Figure at 0x7fe9c8bda518>"
      ]
     },
     "metadata": {},
     "output_type": "display_data"
    }
   ],
   "source": [
    "import matplotlib.pyplot as plt\n",
    "from sklearn.model_selection import learning_curve\n",
    "import numpy as np\n",
    "import warnings\n",
    "\n",
    "with warnings.catch_warnings():\n",
    "    warnings.simplefilter(\"ignore\")\n",
    "    plt.figure()\n",
    "    plt.title('LC')\n",
    "    \n",
    "    plt.xlabel(\"Training examples\")\n",
    "    plt.ylabel(\"Score\")\n",
    "    train_sizes, train_scores, test_scores = learning_curve(\n",
    "        pipeline, features, labels, cv=5, n_jobs=4, train_sizes=np.linspace(.1, 1.0, 5))\n",
    "    train_scores_mean = np.mean(train_scores, axis=1)\n",
    "    train_scores_std = np.std(train_scores, axis=1)\n",
    "    test_scores_mean = np.mean(test_scores, axis=1)\n",
    "    test_scores_std = np.std(test_scores, axis=1)\n",
    "    plt.grid()\n",
    "    \n",
    "    plt.fill_between(train_sizes, train_scores_mean - train_scores_std,\n",
    "                     train_scores_mean + train_scores_std, alpha=0.1,\n",
    "                     color=\"r\")\n",
    "    plt.fill_between(train_sizes, test_scores_mean - test_scores_std,\n",
    "                     test_scores_mean + test_scores_std, alpha=0.1, color=\"g\")\n",
    "    plt.plot(train_sizes, train_scores_mean, 'o-', color=\"r\",\n",
    "             label=\"Training score\")\n",
    "    plt.plot(train_sizes, test_scores_mean, 'o-', color=\"g\",\n",
    "             label=\"Cross-validation score\")\n",
    "\n",
    "    plt.legend(loc=\"best\")\n",
    "    plt.savefig('learning_curve.png', bbox_inches='tight')\n",
    "    plt.show()\n"
   ]
  },
  {
   "cell_type": "code",
   "execution_count": 12,
   "metadata": {},
   "outputs": [
    {
     "name": "stderr",
     "output_type": "stream",
     "text": [
      "/home/dkovac/anaconda3/lib/python3.6/site-packages/sklearn/preprocessing/label.py:95: DataConversionWarning: A column-vector y was passed when a 1d array was expected. Please change the shape of y to (n_samples, ), for example using ravel().\n  y = column_or_1d(y, warn=True)\n/home/dkovac/anaconda3/lib/python3.6/site-packages/sklearn/preprocessing/label.py:128: DataConversionWarning: A column-vector y was passed when a 1d array was expected. Please change the shape of y to (n_samples, ), for example using ravel().\n  y = column_or_1d(y, warn=True)\n"
     ]
    }
   ],
   "source": [
    "from xgboost import plot_importance\n",
    "import matplotlib.pyplot as plt\n",
    "\n",
    "pipeline.fit(features, labels)\n",
    "plot_importance(pipeline.named_steps['xgb'])\n",
    "plt.show()"
   ]
  },
  {
   "cell_type": "code",
   "execution_count": null,
   "metadata": {},
   "outputs": [],
   "source": []
  }
 ],
 "metadata": {
  "kernelspec": {
   "display_name": "Python 2",
   "language": "python",
   "name": "python2"
  },
  "language_info": {
   "codemirror_mode": {
    "name": "ipython",
    "version": 2
   },
   "file_extension": ".py",
   "mimetype": "text/x-python",
   "name": "python",
   "nbconvert_exporter": "python",
   "pygments_lexer": "ipython2",
   "version": "2.7.6"
  }
 },
 "nbformat": 4,
 "nbformat_minor": 0
}

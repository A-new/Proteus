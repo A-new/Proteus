{
 "cells": [
  {
   "cell_type": "heading",
   "metadata": {
    "collapsed": true
   },
   "level": 1,
   "source": [
    "Loading the data and preparation"
   ]
  },
  {
   "cell_type": "code",
   "execution_count": 4,
   "metadata": {
    "collapsed": false
   },
   "outputs": [
    {
     "name": "stdout",
     "output_type": "stream",
     "text": [
      "<class 'pandas.core.frame.DataFrame'>\nIndex: 43784 entries, 8718ff9c6116730d5775f4947f30d20cb11d41a1 to 420c252a362757de22e3775b922132eb0bd9bdf2\nData columns (total 34 columns):\nUnnamed: 0                          43784 non-null int64\ngroup                               43784 non-null int64\nlabel                               43784 non-null int64\nentropy                             43784 non-null float64\nimports                             43784 non-null object\nimports_count                       43784 non-null int64\napis                                43784 non-null object\napis_count                          43784 non-null int64\nhas_children                        43784 non-null bool\nchildren_entropies_mean             21185 non-null float64\nchildren_entropies_std              21185 non-null float64\nsection_names                       43784 non-null object\ntext_entropy                        18364 non-null float64\ndata_entropy                        15013 non-null float64\nrdata_entropy                       14332 non-null float64\nbuildid_entropy                     180 non-null float64\npdata_entropy                       3997 non-null float64\nxdata_entropy                       314 non-null float64\nbss_entropy                         795 non-null float64\nedata_entropy                       1126 non-null float64\nidata_entropy                       4008 non-null float64\nreloc_entropy                       15230 non-null float64\nno_name_entropy_mean                3587 non-null float64\nno_name_entropy_std                 3587 non-null float64\nother_entropy_mean                  42116 non-null float64\nother_entropy_std                   42116 non-null float64\ntags                                43784 non-null object\nchecksum_valid                      43784 non-null bool\nentry_points_addresses              43784 non-null int64\nimage_bases                         43784 non-null uint64\nimage_sizes                         43784 non-null int64\nchildren_tags                       43784 non-null object\nchildren_sections_entropies_mean    21185 non-null float64\nchildren_sections_entropies_std     21185 non-null float64\ndtypes: bool(2), float64(19), int64(7), object(5), uint64(1)\nmemory usage: 11.1+ MB\n"
     ]
    }
   ],
   "source": [
    "# importing the data\n",
    "import pandas as pd\n",
    "\n",
    "df = pd.read_csv('/home/dkovac/PycharmProjects/Proteus/data/raw4.csv',\n",
    "                        delimiter=',', header=0, index_col=1, quotechar='\"')\n",
    "df.info()\n",
    "\n"
   ]
  },
  {
   "cell_type": "code",
   "execution_count": 78,
   "metadata": {
    "collapsed": true
   },
   "outputs": [],
   "source": [
    "# train test split\n",
    "from sklearn.model_selection import train_test_split\n",
    "\n",
    "df['section_names'] = df['section_names'].str.lower()\n",
    "df['apis'] = df['apis'].str.lower()\n",
    "df['imports'] = df['imports'].str.lower()\n",
    "features = df.drop(['Unnamed: 0', 'group', 'label'], axis=1)\n",
    "#'section_names', 'label' 'group',\n",
    "labels = df[['label']]\n",
    "# Monte Carlo CV\n",
    "features_train, features_test, labels_train, labels_test = \\\n",
    "    train_test_split(features, labels, test_size=0.2, random_state=42, stratify=labels)\n",
    "\n",
    "#null_data = df[df.isnull().any(axis=1)]\n",
    "#print(null_data.group.value_counts(normalize=True))\n",
    "#df.group.value_counts(normalize=True)\n",
    "#df = df.fillna(0)\n"
   ]
  },
  {
   "cell_type": "heading",
   "metadata": {
    "collapsed": true
   },
   "level": 1,
   "source": [
    "Preprocessing"
   ]
  },
  {
   "cell_type": "code",
   "execution_count": 79,
   "metadata": {},
   "outputs": [],
   "source": [
    "from sklearn.base import BaseEstimator, TransformerMixin\n",
    "\n",
    "\n",
    "class ItemSelector(BaseEstimator, TransformerMixin):\n",
    "    def __init__(self, key, dt):\n",
    "        self.key = key\n",
    "        self.dt = dt\n",
    "\n",
    "    def fit(self, x, y=None):\n",
    "        # does nothing\n",
    "        return self\n",
    "\n",
    "    def transform(self, data_dict):\n",
    "        # this returns the column requested\n",
    "        if self.dt == 'text':\n",
    "            return data_dict.loc[:, self.key]\n",
    "        elif self.dt == 'num2text':\n",
    "            return data_dict.loc[:, self.key].astype(unicode)\n",
    "        elif self.dt == 'date':\n",
    "            return (data_dict.loc[:, self.key].squeeze() - pd.Timestamp(1900, 1, 1)).dt.days.to_frame()\n",
    "        else:\n",
    "            return data_dict.loc[:, [self.key]].astype(float)\n",
    "\n"
   ]
  },
  {
   "cell_type": "code",
   "execution_count": 80,
   "metadata": {},
   "outputs": [],
   "source": [
    "from sklearn.pipeline import FeatureUnion\n",
    "from sklearn.preprocessing import OneHotEncoder\n",
    "from sklearn.feature_extraction.text import TfidfTransformer\n",
    "\n",
    "def preproc_pipeline():\n",
    "    return FeatureUnion(\n",
    "        transformer_list=[\n",
    "            ('entropy', Pipeline([\n",
    "                ('selector', ItemSelector(key='entropy', dt='num')),\n",
    "                ('impute', Imputer(strategy='mean', axis=0))\n",
    "            ])),\n",
    "            ('imports_count', Pipeline([\n",
    "                ('selector', ItemSelector(key='imports_count', dt='num')),\n",
    "                ('impute', Imputer(strategy='mean', axis=0))\n",
    "            ])),\n",
    "            ('apis_c', Pipeline([\n",
    "                ('selector', ItemSelector(key='apis_count', dt='num')),\n",
    "                ('impute', Imputer(strategy='mean', axis=0))\n",
    "            ])),\n",
    "            ('children_entropies_mean', Pipeline([\n",
    "                ('selector', ItemSelector(key='children_entropies_mean', dt='num')),\n",
    "                ('impute', Imputer(strategy='mean', axis=0))\n",
    "            ])),\n",
    "            ('children_entropies_std', Pipeline([\n",
    "                ('selector', ItemSelector(key='children_entropies_std', dt='num')),\n",
    "                ('impute', Imputer(strategy='mean', axis=0))\n",
    "            ])),\n",
    "            ################\n",
    "            ('text_entropy', Pipeline([\n",
    "                ('selector', ItemSelector(key='text_entropy', dt='num')),\n",
    "                ('impute', Imputer(strategy='mean', axis=0))\n",
    "            ])),\n",
    "            ('data_entropy', Pipeline([\n",
    "                ('selector', ItemSelector(key='data_entropy', dt='num')),\n",
    "                ('impute', Imputer(strategy='mean', axis=0))\n",
    "            ])),\n",
    "            ('rdata_entropy', Pipeline([\n",
    "                ('selector', ItemSelector(key='rdata_entropy', dt='num')),\n",
    "                ('impute', Imputer(strategy='mean', axis=0))\n",
    "            ])),\n",
    "            ('buildid_entropy', Pipeline([\n",
    "                ('selector', ItemSelector(key='buildid_entropy', dt='num')),\n",
    "                ('impute', Imputer(strategy='mean', axis=0))\n",
    "            ])),\n",
    "            ('pdata_entropy', Pipeline([\n",
    "                ('selector', ItemSelector(key='pdata_entropy', dt='num')),\n",
    "                ('impute', Imputer(strategy='mean', axis=0))\n",
    "            ])),\n",
    "            #('xdata_entropy', Pipeline([\n",
    "            #    ('selector', ItemSelector(key='xdata_entropy', dt='num')),\n",
    "            #    ('impute', Imputer(strategy='mean', axis=0))\n",
    "            #])),\n",
    "            #('bss_entropy', Pipeline([\n",
    "            #    ('selector', ItemSelector(key='bss_entropy', dt='num')),\n",
    "            #    ('impute', Imputer(strategy='mean', axis=0))\n",
    "            #])),\n",
    "            #('edata_entropy', Pipeline([\n",
    "            #    ('selector', ItemSelector(key='edata_entropy', dt='num')),\n",
    "            #    ('impute', Imputer(strategy='mean', axis=0))\n",
    "            #])),\n",
    "            ('idata_entropy', Pipeline([\n",
    "                ('selector', ItemSelector(key='idata_entropy', dt='num')),\n",
    "                ('impute', Imputer(strategy='mean', axis=0))\n",
    "            ])),\n",
    "            ('reloc_entropy', Pipeline([\n",
    "                ('selector', ItemSelector(key='reloc_entropy', dt='num')),\n",
    "                ('impute', Imputer(strategy='mean', axis=0))\n",
    "            ])),\n",
    "            ('no_name_entropy_mean', Pipeline([\n",
    "                ('selector', ItemSelector(key='no_name_entropy_mean', dt='num')),\n",
    "                ('impute', Imputer(strategy='mean', axis=0))\n",
    "            ])),\n",
    "            ('no_name_entropy_std', Pipeline([\n",
    "                ('selector', ItemSelector(key='no_name_entropy_std', dt='num')),\n",
    "                ('impute', Imputer(strategy='mean', axis=0))\n",
    "            ])),\n",
    "            ('other_entropy_mean', Pipeline([\n",
    "                ('selector', ItemSelector(key='other_entropy_mean', dt='num')),\n",
    "                ('impute', Imputer(strategy='mean', axis=0))\n",
    "            ])),\n",
    "            ('other_entropy_std', Pipeline([\n",
    "                ('selector', ItemSelector(key='other_entropy_std', dt='num')),\n",
    "                ('impute', Imputer(strategy='mean', axis=0))\n",
    "            ])),\n",
    "            ('entry_point', Pipeline([\n",
    "                ('selector', ItemSelector(key='entry_points_addresses', dt='num')),\n",
    "                ('impute', Imputer(strategy='mean', axis=0))\n",
    "            ])),\n",
    "            ('image_base', Pipeline([\n",
    "                ('selector', ItemSelector(key='image_bases', dt='num')),\n",
    "                ('impute', Imputer(strategy='mean', axis=0))\n",
    "            ])),\n",
    "            ('image_size', Pipeline([\n",
    "                ('selector', ItemSelector(key='image_sizes', dt='num')),\n",
    "                ('impute', Imputer(strategy='mean', axis=0))\n",
    "            ])),\n",
    "            ('children_sections_entropies_mean', Pipeline([\n",
    "                ('selector', ItemSelector(key='children_sections_entropies_mean', dt='num')),\n",
    "                ('impute', Imputer(strategy='mean', axis=0))\n",
    "            ])),\n",
    "            ('children_sections_entropies_std', Pipeline([\n",
    "                ('selector', ItemSelector(key='children_sections_entropies_std', dt='num')),\n",
    "                ('impute', Imputer(strategy='mean', axis=0))\n",
    "            ])),\n",
    "            ################\n",
    "            ('children', Pipeline([\n",
    "                ('selector', ItemSelector(key='checksum_valid', dt='categ')),\n",
    "                ('impute', OneHotEncoder())\n",
    "            ])),\n",
    "            ('checsum', Pipeline([\n",
    "                ('selector', ItemSelector(key='has_children', dt='categ')),\n",
    "              ('impute', OneHotEncoder())\n",
    "            ])),\n",
    "            ##############\n",
    "            #('sections', Pipeline([\n",
    "            #    ('selector', ItemSelector(key='section_names', dt='text')),\n",
    "            #    ('cv', CountVectorizer(binary=False, ngram_range=(1, 1))),  # max_features=100\n",
    "            #    #('tfidf_transformer', TfidfTransformer())\n",
    "            #])),\n",
    "            #('imports', Pipeline([\n",
    "            #    ('selector', ItemSelector(key='imports', dt='text')),\n",
    "            #    ('cv', CountVectorizer(binary=False, ngram_range=(1, 1))),  # max_features=100\n",
    "            #    #('tfidf_transformer', TfidfTransformer())\n",
    "            #])),\n",
    "            #('apis', Pipeline([\n",
    "            #    ('selector', ItemSelector(key='apis', dt='text')),\n",
    "            #    ('cv', CountVectorizer(binary=False, ngram_range=(1, 1))),  # max_features=100\n",
    "            #    #('tfidf_transformer', TfidfTransformer())\n",
    "            #])),\n",
    "            #('tags', Pipeline([\n",
    "            #    ('selector', ItemSelector(key='tags', dt='text')),\n",
    "            #    ('cv', CountVectorizer(binary=False, ngram_range=(1, 1))),  # max_features=100\n",
    "            #    #('tfidf_transformer', TfidfTransformer())\n",
    "            #])),\n",
    "            #('children_tags', Pipeline([\n",
    "            #    ('selector', ItemSelector(key='children_tags', dt='text')),\n",
    "            #    ('cv', CountVectorizer(binary=False, ngram_range=(1, 1))),  # max_features=100\n",
    "            #    #('tfidf_transformer', TfidfTransformer())\n",
    "            #])),\n",
    "        ])\n"
   ]
  },
  {
   "cell_type": "heading",
   "metadata": {},
   "level": 1,
   "source": [
    "Baseline model"
   ]
  },
  {
   "cell_type": "code",
   "execution_count": 81,
   "metadata": {},
   "outputs": [],
   "source": [
    "# try ensembles, i distilled\n",
    "# log reg model\n",
    "from sklearn.linear_model import LogisticRegression\n",
    "\n",
    "params = {\n",
    "    'lr__C': [10],#[0.001, 0.01, 0.1, 1, 10, 100, 1000],\n",
    "    'lr__penalty': ['l2']#['l1', 'l2']\n",
    "}\n",
    "\n",
    "lr = LogisticRegression(random_state=42)\n"
   ]
  },
  {
   "cell_type": "heading",
   "metadata": {},
   "level": 1,
   "source": [
    "XGB\n"
   ]
  },
  {
   "cell_type": "code",
   "execution_count": 76,
   "metadata": {
    "collapsed": true
   },
   "outputs": [
    {
     "name": "stdout",
     "output_type": "stream",
     "text": [
      "[0]\ttrain-merror:0.0265163+0.00877731\ttest-merror:0.0301703+0.0096963\n"
     ]
    },
    {
     "name": "stdout",
     "output_type": "stream",
     "text": [
      "[1]\ttrain-merror:0.027236+0.00735498\ttest-merror:0.031107+0.00800298\n"
     ]
    },
    {
     "name": "stdout",
     "output_type": "stream",
     "text": [
      "[2]\ttrain-merror:0.0254203+0.00829344\ttest-merror:0.0293253+0.00915436\n"
     ]
    },
    {
     "name": "stdout",
     "output_type": "stream",
     "text": [
      "[3]\ttrain-merror:0.0260373+0.00877731\ttest-merror:0.0301477+0.00927537\n"
     ]
    },
    {
     "name": "stdout",
     "output_type": "stream",
     "text": [
      "[4]\ttrain-merror:0.0260257+0.00879558\ttest-merror:0.030056+0.00919761\n"
     ]
    },
    {
     "name": "stdout",
     "output_type": "stream",
     "text": [
      "[5]\ttrain-merror:0.02598+0.00871399\ttest-merror:0.029965+0.00936716\n"
     ]
    },
    {
     "name": "stdout",
     "output_type": "stream",
     "text": [
      "[6]\ttrain-merror:0.0259687+0.00868076\ttest-merror:0.029965+0.00935754\n"
     ]
    },
    {
     "name": "stdout",
     "output_type": "stream",
     "text": [
      "[7]\ttrain-merror:0.0259917+0.00864826\ttest-merror:0.0299877+0.00942135\n"
     ]
    },
    {
     "name": "stdout",
     "output_type": "stream",
     "text": [
      "[8]\ttrain-merror:0.0260487+0.00856772\ttest-merror:0.0300563+0.0092985\n"
     ]
    },
    {
     "name": "stdout",
     "output_type": "stream",
     "text": [
      "[9]\ttrain-merror:0.0260713+0.00860962\ttest-merror:0.0300107+0.0094236\n"
     ]
    },
    {
     "name": "stdout",
     "output_type": "stream",
     "text": [
      "[10]\ttrain-merror:0.0260713+0.00863178\ttest-merror:0.0300333+0.00951388\n"
     ]
    },
    {
     "name": "stdout",
     "output_type": "stream",
     "text": [
      "[11]\ttrain-merror:0.0260713+0.00860718\ttest-merror:0.0299193+0.00939418\n"
     ]
    },
    {
     "name": "stdout",
     "output_type": "stream",
     "text": [
      "[12]\ttrain-merror:0.025786+0.0084956\ttest-merror:0.029577+0.0092302\n"
     ]
    },
    {
     "name": "stdout",
     "output_type": "stream",
     "text": [
      "[13]\ttrain-merror:0.0255573+0.00833579\ttest-merror:0.029074+0.00884315\n"
     ]
    },
    {
     "name": "stdout",
     "output_type": "stream",
     "text": [
      "[14]\ttrain-merror:0.0249637+0.00796735\ttest-merror:0.028686+0.00876366\n"
     ]
    },
    {
     "name": "stdout",
     "output_type": "stream",
     "text": [
      "[15]\ttrain-merror:0.0246663+0.00784078\ttest-merror:0.0283203+0.00854108\n"
     ]
    },
    {
     "name": "stdout",
     "output_type": "stream",
     "text": [
      "[16]\ttrain-merror:0.022154+0.00652871\ttest-merror:0.0256713+0.0067409\n"
     ]
    },
    {
     "name": "stdout",
     "output_type": "stream",
     "text": [
      "[17]\ttrain-merror:0.0212637+0.00642592\ttest-merror:0.0245523+0.00633483\n"
     ]
    },
    {
     "name": "stdout",
     "output_type": "stream",
     "text": [
      "[18]\ttrain-merror:0.019916+0.00714821\ttest-merror:0.023159+0.00686681\n"
     ]
    },
    {
     "name": "stdout",
     "output_type": "stream",
     "text": [
      "[19]\ttrain-merror:0.019836+0.00684883\ttest-merror:0.023456+0.00662288\n"
     ]
    },
    {
     "name": "stdout",
     "output_type": "stream",
     "text": [
      "[20]\ttrain-merror:0.0197447+0.00710525\ttest-merror:0.023182+0.00707195\n"
     ]
    },
    {
     "name": "stdout",
     "output_type": "stream",
     "text": [
      "[21]\ttrain-merror:0.0194363+0.00717545\ttest-merror:0.0227247+0.0071895\n"
     ]
    },
    {
     "name": "stdout",
     "output_type": "stream",
     "text": [
      "[22]\ttrain-merror:0.0205327+0.00671883\ttest-merror:0.0237527+0.00683758\n"
     ]
    },
    {
     "name": "stdout",
     "output_type": "stream",
     "text": [
      "[23]\ttrain-merror:0.0206923+0.00677484\ttest-merror:0.023981+0.00691304\n"
     ]
    },
    {
     "name": "stdout",
     "output_type": "stream",
     "text": [
      "[24]\ttrain-merror:0.0205213+0.00674549\ttest-merror:0.0238667+0.006791\n"
     ]
    },
    {
     "name": "stdout",
     "output_type": "stream",
     "text": [
      "[25]\ttrain-merror:0.020247+0.00627523\ttest-merror:0.0234787+0.0065341\n"
     ]
    },
    {
     "name": "stdout",
     "output_type": "stream",
     "text": [
      "[26]\ttrain-merror:0.0193107+0.006341\ttest-merror:0.0228393+0.00669588\n"
     ]
    },
    {
     "name": "stdout",
     "output_type": "stream",
     "text": [
      "[27]\ttrain-merror:0.0190023+0.00642164\ttest-merror:0.0225423+0.00666704\n"
     ]
    },
    {
     "name": "stdout",
     "output_type": "stream",
     "text": [
      "[28]\ttrain-merror:0.0188653+0.0062743\ttest-merror:0.0223597+0.00644526\n"
     ]
    },
    {
     "name": "stdout",
     "output_type": "stream",
     "text": [
      "[29]\ttrain-merror:0.0186253+0.00632769\ttest-merror:0.0220853+0.00651297\n"
     ]
    },
    {
     "name": "stdout",
     "output_type": "stream",
     "text": [
      "[30]\ttrain-merror:0.0167753+0.00405499\ttest-merror:0.020007+0.00394593\n"
     ]
    },
    {
     "name": "stdout",
     "output_type": "stream",
     "text": [
      "[31]\ttrain-merror:0.01657+0.00374221\ttest-merror:0.019756+0.00362674\n"
     ]
    },
    {
     "name": "stdout",
     "output_type": "stream",
     "text": [
      "[32]\ttrain-merror:0.016296+0.00361999\ttest-merror:0.019322+0.00325734\n"
     ]
    },
    {
     "name": "stdout",
     "output_type": "stream",
     "text": [
      "[33]\ttrain-merror:0.015999+0.00325815\ttest-merror:0.0187967+0.00264487\n"
     ]
    },
    {
     "name": "stdout",
     "output_type": "stream",
     "text": [
      "[34]\ttrain-merror:0.016022+0.00324876\ttest-merror:0.0188427+0.00264666\n"
     ]
    },
    {
     "name": "stdout",
     "output_type": "stream",
     "text": [
      "[35]\ttrain-merror:0.016273+0.00295242\ttest-merror:0.0188653+0.00289925\n"
     ]
    },
    {
     "name": "stdout",
     "output_type": "stream",
     "text": [
      "[36]\ttrain-merror:0.016193+0.00301036\ttest-merror:0.018888+0.00292378\n"
     ]
    },
    {
     "name": "stdout",
     "output_type": "stream",
     "text": [
      "[37]\ttrain-merror:0.0159993+0.00281376\ttest-merror:0.0187513+0.00284127\n"
     ]
    },
    {
     "name": "stdout",
     "output_type": "stream",
     "text": [
      "[38]\ttrain-merror:0.0158277+0.002731\ttest-merror:0.0185913+0.00264888\n"
     ]
    },
    {
     "name": "stdout",
     "output_type": "stream",
     "text": [
      "[39]\ttrain-merror:0.0153367+0.00211993\ttest-merror:0.0179517+0.00255316\n"
     ]
    },
    {
     "name": "stdout",
     "output_type": "stream",
     "text": [
      "[40]\ttrain-merror:0.0146973+0.00166024\ttest-merror:0.017495+0.00176994\n"
     ]
    },
    {
     "name": "stdout",
     "output_type": "stream",
     "text": [
      "[41]\ttrain-merror:0.0143773+0.00154755\ttest-merror:0.0170837+0.00194582\n"
     ]
    },
    {
     "name": "stdout",
     "output_type": "stream",
     "text": [
      "[42]\ttrain-merror:0.0142747+0.00148284\ttest-merror:0.0168557+0.00198861\n"
     ]
    },
    {
     "name": "stdout",
     "output_type": "stream",
     "text": [
      "[43]\ttrain-merror:0.014172+0.00163045\ttest-merror:0.0168553+0.00189457\n"
     ]
    },
    {
     "name": "stdout",
     "output_type": "stream",
     "text": [
      "[44]\ttrain-merror:0.013989+0.00148668\ttest-merror:0.0166953+0.00192577\n"
     ]
    },
    {
     "name": "stdout",
     "output_type": "stream",
     "text": [
      "[45]\ttrain-merror:0.0137267+0.00141262\ttest-merror:0.0164673+0.0020734\n"
     ]
    },
    {
     "name": "stdout",
     "output_type": "stream",
     "text": [
      "[46]\ttrain-merror:0.0136807+0.00140298\ttest-merror:0.016399+0.0019771\n"
     ]
    },
    {
     "name": "stdout",
     "output_type": "stream",
     "text": [
      "[47]\ttrain-merror:0.013578+0.00136406\ttest-merror:0.0163073+0.00189925\n"
     ]
    },
    {
     "name": "stdout",
     "output_type": "stream",
     "text": [
      "[48]\ttrain-merror:0.0133953+0.00123943\ttest-merror:0.0158963+0.00195796\n"
     ]
    },
    {
     "name": "stdout",
     "output_type": "stream",
     "text": [
      "[49]\ttrain-merror:0.0127557+0.00114443\ttest-merror:0.0155763+0.00202031\n"
     ]
    },
    {
     "name": "stdout",
     "output_type": "stream",
     "text": [
      "[50]\ttrain-merror:0.01271+0.00116297\ttest-merror:0.0155533+0.00209214\n"
     ]
    },
    {
     "name": "stdout",
     "output_type": "stream",
     "text": [
      "[51]\ttrain-merror:0.0126987+0.00118017\ttest-merror:0.015576+0.00206992\n"
     ]
    },
    {
     "name": "stdout",
     "output_type": "stream",
     "text": [
      "[52]\ttrain-merror:0.01271+0.00115613\ttest-merror:0.015576+0.0019708\n"
     ]
    },
    {
     "name": "stdout",
     "output_type": "stream",
     "text": [
      "[53]\ttrain-merror:0.0129953+0.00113637\ttest-merror:0.0156903+0.00193874\n"
     ]
    },
    {
     "name": "stdout",
     "output_type": "stream",
     "text": [
      "[54]\ttrain-merror:0.0122763+0.000676417\ttest-merror:0.0150053+0.00157554\n"
     ]
    },
    {
     "name": "stdout",
     "output_type": "stream",
     "text": [
      "[55]\ttrain-merror:0.012185+0.000618586\ttest-merror:0.0149823+0.00143862\n"
     ]
    },
    {
     "name": "stdout",
     "output_type": "stream",
     "text": [
      "[56]\ttrain-merror:0.0121277+0.000561404\ttest-merror:0.014937+0.00141868\n"
     ]
    },
    {
     "name": "stdout",
     "output_type": "stream",
     "text": [
      "[57]\ttrain-merror:0.0117967+0.00021372\ttest-merror:0.014503+0.000830379\n"
     ]
    },
    {
     "name": "stdout",
     "output_type": "stream",
     "text": [
      "[58]\ttrain-merror:0.0116597+0.000129165\ttest-merror:0.014366+0.000959885\n"
     ]
    },
    {
     "name": "stdout",
     "output_type": "stream",
     "text": [
      "[59]\ttrain-merror:0.0114427+0.000239244\ttest-merror:0.0141833+0.00117494\n"
     ]
    },
    {
     "name": "stdout",
     "output_type": "stream",
     "text": [
      "[60]\ttrain-merror:0.0114423+0.000228928\ttest-merror:0.0141603+0.00117538\n"
     ]
    },
    {
     "name": "stdout",
     "output_type": "stream",
     "text": [
      "[61]\ttrain-merror:0.011374+0.000302431\ttest-merror:0.014092+0.00125873\n"
     ]
    },
    {
     "name": "stdout",
     "output_type": "stream",
     "text": [
      "[62]\ttrain-merror:0.0113853+0.000306686\ttest-merror:0.014115+0.00125957\n"
     ]
    },
    {
     "name": "stdout",
     "output_type": "stream",
     "text": [
      "[63]\ttrain-merror:0.0113623+0.000381808\ttest-merror:0.014092+0.00125873\n"
     ]
    },
    {
     "name": "stdout",
     "output_type": "stream",
     "text": [
      "[64]\ttrain-merror:0.0111687+0.000269579\ttest-merror:0.0140233+0.00112088\n"
     ]
    },
    {
     "name": "stdout",
     "output_type": "stream",
     "text": [
      "[65]\ttrain-merror:0.0110543+0.000232855\ttest-merror:0.013795+0.000885239\n"
     ]
    },
    {
     "name": "stdout",
     "output_type": "stream",
     "text": [
      "[66]\ttrain-merror:0.0111343+0.000238862\ttest-merror:0.0139093+0.00101184\n"
     ]
    },
    {
     "name": "stdout",
     "output_type": "stream",
     "text": [
      "[67]\ttrain-merror:0.0110313+0.000283794\ttest-merror:0.013772+0.000846672\n"
     ]
    },
    {
     "name": "stdout",
     "output_type": "stream",
     "text": [
      "[68]\ttrain-merror:0.0110087+0.000271674\ttest-merror:0.0137267+0.00086899\n"
     ]
    },
    {
     "name": "stdout",
     "output_type": "stream",
     "text": [
      "[69]\ttrain-merror:0.0110087+0.000326193\ttest-merror:0.013704+0.000879269\n"
     ]
    },
    {
     "name": "stdout",
     "output_type": "stream",
     "text": [
      "[70]\ttrain-merror:0.0110083+0.000311707\ttest-merror:0.013681+0.000854434\n"
     ]
    },
    {
     "name": "stdout",
     "output_type": "stream",
     "text": [
      "[71]\ttrain-merror:0.01094+0.000264085\ttest-merror:0.013681+0.000854434\n"
     ]
    },
    {
     "name": "stdout",
     "output_type": "stream",
     "text": [
      "[72]\ttrain-merror:0.0108943+0.000311185\ttest-merror:0.0136807+0.000892244\n"
     ]
    },
    {
     "name": "stdout",
     "output_type": "stream",
     "text": [
      "[73]\ttrain-merror:0.0108943+0.000311185\ttest-merror:0.013772+0.00093118\n"
     ]
    },
    {
     "name": "stdout",
     "output_type": "stream",
     "text": [
      "[74]\ttrain-merror:0.010883+0.00032381\ttest-merror:0.0137493+0.000962885\n"
     ]
    },
    {
     "name": "stdout",
     "output_type": "stream",
     "text": [
      "[75]\ttrain-merror:0.0108143+0.00026844\ttest-merror:0.0137037+0.000900464\n"
     ]
    },
    {
     "name": "stdout",
     "output_type": "stream",
     "text": [
      "[76]\ttrain-merror:0.0108027+0.000281508\ttest-merror:0.0137037+0.000900464\n"
     ]
    },
    {
     "name": "stdout",
     "output_type": "stream",
     "text": [
      "[77]\ttrain-merror:0.010803+0.000253576\ttest-merror:0.0137263+0.00090963\n"
     ]
    },
    {
     "name": "stdout",
     "output_type": "stream",
     "text": [
      "[78]\ttrain-merror:0.0107913+0.000201432\ttest-merror:0.0137267+0.000761556\n"
     ]
    },
    {
     "name": "stdout",
     "output_type": "stream",
     "text": [
      "[79]\ttrain-merror:0.0107913+0.000201432\ttest-merror:0.0137267+0.000761556\n"
     ]
    },
    {
     "name": "stdout",
     "output_type": "stream",
     "text": [
      "[80]\ttrain-merror:0.010803+0.000217331\ttest-merror:0.0137263+0.000803709\n"
     ]
    },
    {
     "name": "stdout",
     "output_type": "stream",
     "text": [
      "[81]\ttrain-merror:0.0108143+0.000179409\ttest-merror:0.013681+0.000744903\n"
     ]
    },
    {
     "name": "stdout",
     "output_type": "stream",
     "text": [
      "[82]\ttrain-merror:0.010803+0.000163593\ttest-merror:0.0137723+0.000752977\n"
     ]
    },
    {
     "name": "stdout",
     "output_type": "stream",
     "text": [
      "[83]\ttrain-merror:0.01078+0.00014097\ttest-merror:0.0137493+0.00074525\n"
     ]
    },
    {
     "name": "stdout",
     "output_type": "stream",
     "text": [
      "[84]\ttrain-merror:0.0108027+0.000170869\ttest-merror:0.013704+0.000769178\n"
     ]
    },
    {
     "name": "stdout",
     "output_type": "stream",
     "text": [
      "[85]\ttrain-merror:0.0107913+0.000155813\ttest-merror:0.0137497+0.000783977\n"
     ]
    },
    {
     "name": "stdout",
     "output_type": "stream",
     "text": [
      "[86]\ttrain-merror:0.01078+0.00014097\ttest-merror:0.0137267+0.000815516\n"
     ]
    },
    {
     "name": "stdout",
     "output_type": "stream",
     "text": [
      "[87]\ttrain-merror:0.0107457+0.00015371\ttest-merror:0.0137493+0.000824995\n"
     ]
    },
    {
     "name": "stdout",
     "output_type": "stream",
     "text": [
      "[88]\ttrain-merror:0.01078+0.000196226\ttest-merror:0.0137267+0.000856405\n"
     ]
    },
    {
     "name": "stdout",
     "output_type": "stream",
     "text": [
      "[89]\ttrain-merror:0.0107687+0.000140592\ttest-merror:0.0137037+0.000888324\n"
     ]
    },
    {
     "name": "stdout",
     "output_type": "stream",
     "text": [
      "[90]\ttrain-merror:0.0107457+0.00015371\ttest-merror:0.013681+0.000919823\n"
     ]
    },
    {
     "name": "stdout",
     "output_type": "stream",
     "text": [
      "[91]\ttrain-merror:0.0107113+0.000170869\ttest-merror:0.0137723+0.00083576\n"
     ]
    },
    {
     "name": "stdout",
     "output_type": "stream",
     "text": [
      "[92]\ttrain-merror:0.0107117+0.000196614\ttest-merror:0.013681+0.000878351\n"
     ]
    },
    {
     "name": "stdout",
     "output_type": "stream",
     "text": [
      "[93]\ttrain-merror:0.0107+0.000181837\ttest-merror:0.013635+0.00083546\n"
     ]
    },
    {
     "name": "stdout",
     "output_type": "stream",
     "text": [
      "[94]\ttrain-merror:0.0107+0.000196226\ttest-merror:0.013612+0.000911231\n"
     ]
    },
    {
     "name": "stdout",
     "output_type": "stream",
     "text": [
      "[95]\ttrain-merror:0.0106087+0.000240956\ttest-merror:0.013658+0.000899034\n"
     ]
    },
    {
     "name": "stdout",
     "output_type": "stream",
     "text": [
      "[96]\ttrain-merror:0.0106313+0.000237736\ttest-merror:0.013635+0.000878957\n"
     ]
    },
    {
     "name": "stdout",
     "output_type": "stream",
     "text": [
      "[97]\ttrain-merror:0.0106313+0.000311707\ttest-merror:0.013658+0.000892022\n"
     ]
    },
    {
     "name": "stdout",
     "output_type": "stream",
     "text": [
      "[98]\ttrain-merror:0.010643+0.000301291\ttest-merror:0.013681+0.000911231\n"
     ]
    },
    {
     "name": "stdout",
     "output_type": "stream",
     "text": [
      "[99]\ttrain-merror:0.0105857+0.00033894\ttest-merror:0.0135663+0.000873916\n"
     ]
    },
    {
     "name": "stdout",
     "output_type": "stream",
     "text": [
      "[100]\ttrain-merror:0.010586+0.000339874\ttest-merror:0.0135663+0.000924758\n"
     ]
    },
    {
     "name": "stdout",
     "output_type": "stream",
     "text": [
      "[101]\ttrain-merror:0.0105747+0.000323904\ttest-merror:0.0135437+0.000911799\n"
     ]
    },
    {
     "name": "stdout",
     "output_type": "stream",
     "text": [
      "[102]\ttrain-merror:0.010552+0.000343291\ttest-merror:0.013521+0.000943619\n"
     ]
    },
    {
     "name": "stdout",
     "output_type": "stream",
     "text": [
      "[103]\ttrain-merror:0.010529+0.000356051\ttest-merror:0.013521+0.000943619\n"
     ]
    },
    {
     "name": "stdout",
     "output_type": "stream",
     "text": [
      "[104]\ttrain-merror:0.0105177+0.000340075\ttest-merror:0.013521+0.000943619\n"
     ]
    },
    {
     "name": "stdout",
     "output_type": "stream",
     "text": [
      "[105]\ttrain-merror:0.0104607+0.000381569\ttest-merror:0.0134523+0.00089933\n"
     ]
    },
    {
     "name": "stdout",
     "output_type": "stream",
     "text": [
      "[106]\ttrain-merror:0.0104033+0.000380408\ttest-merror:0.013384+0.000856716\n"
     ]
    },
    {
     "name": "stdout",
     "output_type": "stream",
     "text": [
      "[107]\ttrain-merror:0.0104377+0.000427896\ttest-merror:0.013498+0.000941277\n"
     ]
    },
    {
     "name": "stdout",
     "output_type": "stream",
     "text": [
      "[108]\ttrain-merror:0.0104037+0.000407464\ttest-merror:0.0134067+0.000878212\n"
     ]
    },
    {
     "name": "stdout",
     "output_type": "stream",
     "text": [
      "[109]\ttrain-merror:0.010392+0.00041234\ttest-merror:0.0133837+0.000847278\n"
     ]
    },
    {
     "name": "stdout",
     "output_type": "stream",
     "text": [
      "[110]\ttrain-merror:0.010392+0.000433458\ttest-merror:0.0134063+0.000815516\n"
     ]
    },
    {
     "name": "stdout",
     "output_type": "stream",
     "text": [
      "[111]\ttrain-merror:0.0103693+0.000423495\ttest-merror:0.0134063+0.000815516\n"
     ]
    },
    {
     "name": "stdout",
     "output_type": "stream",
     "text": [
      "[112]\ttrain-merror:0.0103577+0.000411879\ttest-merror:0.0133837+0.000804012\n"
     ]
    },
    {
     "name": "stdout",
     "output_type": "stream",
     "text": [
      "[113]\ttrain-merror:0.0103237+0.000385617\ttest-merror:0.0133837+0.000761735\n"
     ]
    },
    {
     "name": "stdout",
     "output_type": "stream",
     "text": [
      "[114]\ttrain-merror:0.0103237+0.000385617\ttest-merror:0.0132693+0.000815516\n"
     ]
    },
    {
     "name": "stdout",
     "output_type": "stream",
     "text": [
      "[115]\ttrain-merror:0.0103237+0.000385617\ttest-merror:0.0132923+0.000783312\n"
     ]
    },
    {
     "name": "stdout",
     "output_type": "stream",
     "text": [
      "[116]\ttrain-merror:0.0103237+0.000385617\ttest-merror:0.0133383+0.000815516\n"
     ]
    },
    {
     "name": "stdout",
     "output_type": "stream",
     "text": [
      "[117]\ttrain-merror:0.0103237+0.000385617\ttest-merror:0.013338+0.000824847\n"
     ]
    },
    {
     "name": "stdout",
     "output_type": "stream",
     "text": [
      "[118]\ttrain-merror:0.0102437+0.000322632\ttest-merror:0.0133153+0.000803851\n"
     ]
    },
    {
     "name": "stdout",
     "output_type": "stream",
     "text": [
      "[119]\ttrain-merror:0.010255+0.000338294\ttest-merror:0.0132697+0.000772003\n"
     ]
    },
    {
     "name": "stdout",
     "output_type": "stream",
     "text": [
      "[120]\ttrain-merror:0.010209+0.000322314\ttest-merror:0.013224+0.000752856\n"
     ]
    },
    {
     "name": "stdout",
     "output_type": "stream",
     "text": [
      "[121]\ttrain-merror:0.0101637+0.000327488\ttest-merror:0.013224+0.000752856\n"
     ]
    },
    {
     "name": "stdout",
     "output_type": "stream",
     "text": [
      "[122]\ttrain-merror:0.0101637+0.000327488\ttest-merror:0.0132697+0.000772003\n"
     ]
    },
    {
     "name": "stdout",
     "output_type": "stream",
     "text": [
      "[123]\ttrain-merror:0.010152+0.000338294\ttest-merror:0.013224+0.000752856\n"
     ]
    },
    {
     "name": "stdout",
     "output_type": "stream",
     "text": [
      "[124]\ttrain-merror:0.010152+0.000338294\ttest-merror:0.013224+0.000752856\n"
     ]
    },
    {
     "name": "stdout",
     "output_type": "stream",
     "text": [
      "[125]\ttrain-merror:0.0101637+0.000327488\ttest-merror:0.013224+0.000752856\n"
     ]
    },
    {
     "name": "stdout",
     "output_type": "stream",
     "text": [
      "[126]\ttrain-merror:0.010118+0.000364794\ttest-merror:0.0132697+0.000772003\n"
     ]
    },
    {
     "name": "stdout",
     "output_type": "stream",
     "text": [
      "[127]\ttrain-merror:0.0101633+0.000341738\ttest-merror:0.0132697+0.000772003\n"
     ]
    },
    {
     "name": "stdout",
     "output_type": "stream",
     "text": [
      "[128]\ttrain-merror:0.010152+0.000345126\ttest-merror:0.0132467+0.000804012\n"
     ]
    },
    {
     "name": "stdout",
     "output_type": "stream",
     "text": [
      "[129]\ttrain-merror:0.0101407+0.000349218\ttest-merror:0.013247+0.000776231\n"
     ]
    },
    {
     "name": "stdout",
     "output_type": "stream",
     "text": [
      "[130]\ttrain-merror:0.010152+0.000364794\ttest-merror:0.013247+0.000776231\n"
     ]
    },
    {
     "name": "stdout",
     "output_type": "stream",
     "text": [
      "[131]\ttrain-merror:0.0101293+0.000353988\ttest-merror:0.013201+0.000800245\n"
     ]
    },
    {
     "name": "stdout",
     "output_type": "stream",
     "text": [
      "[132]\ttrain-merror:0.0101293+0.000353988\ttest-merror:0.013224+0.000769445\n"
     ]
    },
    {
     "name": "stdout",
     "output_type": "stream",
     "text": [
      "[133]\ttrain-merror:0.0101293+0.000353988\ttest-merror:0.013224+0.000769445\n"
     ]
    },
    {
     "name": "stdout",
     "output_type": "stream",
     "text": [
      "[134]\ttrain-merror:0.010118+0.000338294\ttest-merror:0.0132467+0.000793967\n"
     ]
    },
    {
     "name": "stdout",
     "output_type": "stream",
     "text": [
      "[135]\ttrain-merror:0.0101293+0.000353988\ttest-merror:0.013224+0.000769445\n"
     ]
    },
    {
     "name": "stdout",
     "output_type": "stream",
     "text": [
      "[136]\ttrain-merror:0.0101177+0.000381569\ttest-merror:0.013201+0.000800245\n"
     ]
    },
    {
     "name": "stdout",
     "output_type": "stream",
     "text": [
      "[137]\ttrain-merror:0.010095+0.000349727\ttest-merror:0.013178+0.000776231\n"
     ]
    },
    {
     "name": "stdout",
     "output_type": "stream",
     "text": [
      "[138]\ttrain-merror:0.0101063+0.000343756\ttest-merror:0.0131327+0.000745598\n"
     ]
    },
    {
     "name": "stdout",
     "output_type": "stream",
     "text": [
      "[139]\ttrain-merror:0.010129+0.000375421\ttest-merror:0.0131327+0.000745598\n"
     ]
    },
    {
     "name": "stdout",
     "output_type": "stream",
     "text": [
      "[140]\ttrain-merror:0.010095+0.000354138\ttest-merror:0.0131553+0.000769534\n"
     ]
    },
    {
     "name": "stdout",
     "output_type": "stream",
     "text": [
      "[141]\ttrain-merror:0.010072+0.000322314\ttest-merror:0.0131553+0.000769534\n"
     ]
    },
    {
     "name": "stdout",
     "output_type": "stream",
     "text": [
      "[142]\ttrain-merror:0.0100723+0.000329339\ttest-merror:0.0131097+0.00075998\n"
     ]
    },
    {
     "name": "stdout",
     "output_type": "stream",
     "text": [
      "[143]\ttrain-merror:0.0100607+0.000333353\ttest-merror:0.0131097+0.00075998\n"
     ]
    },
    {
     "name": "stdout",
     "output_type": "stream",
     "text": [
      "[144]\ttrain-merror:0.010095+0.000380548\ttest-merror:0.0131097+0.00075998\n"
     ]
    },
    {
     "name": "stdout",
     "output_type": "stream",
     "text": [
      "[145]\ttrain-merror:0.0100837+0.00036493\ttest-merror:0.0131097+0.00075998\n"
     ]
    },
    {
     "name": "stdout",
     "output_type": "stream",
     "text": [
      "[146]\ttrain-merror:0.0100837+0.00036493\ttest-merror:0.0131097+0.00075998\n"
     ]
    },
    {
     "name": "stdout",
     "output_type": "stream",
     "text": [
      "[147]\ttrain-merror:0.0100837+0.00036493\ttest-merror:0.0131553+0.000769534\n"
     ]
    },
    {
     "name": "stdout",
     "output_type": "stream",
     "text": [
      "[148]\ttrain-merror:0.010061+0.000396763\ttest-merror:0.0131553+0.000769534\n"
     ]
    },
    {
     "name": "stdout",
     "output_type": "stream",
     "text": [
      "[149]\ttrain-merror:0.010061+0.000396763\ttest-merror:0.0131327+0.000690704\n"
     ]
    },
    {
     "name": "stdout",
     "output_type": "stream",
     "text": [
      "[150]\ttrain-merror:0.010038+0.000403317\ttest-merror:0.0131557+0.000714642\n"
     ]
    },
    {
     "name": "stdout",
     "output_type": "stream",
     "text": [
      "[151]\ttrain-merror:0.00999233+0.000401854\ttest-merror:0.0131327+0.000690704\n"
     ]
    },
    {
     "name": "stdout",
     "output_type": "stream",
     "text": [
      "[152]\ttrain-merror:0.010015+0.000433458\ttest-merror:0.0131323+0.000653632\n"
     ]
    },
    {
     "name": "stdout",
     "output_type": "stream",
     "text": [
      "[153]\ttrain-merror:0.00996933+0.000396199\ttest-merror:0.0131097+0.000648864\n"
     ]
    },
    {
     "name": "stdout",
     "output_type": "stream",
     "text": [
      "[154]\ttrain-merror:0.00996933+0.000396199\ttest-merror:0.0131323+0.000653632\n"
     ]
    },
    {
     "name": "stdout",
     "output_type": "stream",
     "text": [
      "[155]\ttrain-merror:0.00996933+0.000396199\ttest-merror:0.013064+0.000582857\n"
     ]
    },
    {
     "name": "stdout",
     "output_type": "stream",
     "text": [
      "[156]\ttrain-merror:0.009935+0.000423039\ttest-merror:0.013064+0.000582857\n"
     ]
    },
    {
     "name": "stdout",
     "output_type": "stream",
     "text": [
      "[157]\ttrain-merror:0.009912+0.000433458\ttest-merror:0.013041+0.000560775\n"
     ]
    },
    {
     "name": "stdout",
     "output_type": "stream",
     "text": [
      "[158]\ttrain-merror:0.00992367+0.00044975\ttest-merror:0.013041+0.000560775\n"
     ]
    },
    {
     "name": "stdout",
     "output_type": "stream",
     "text": [
      "[159]\ttrain-merror:0.00992367+0.00044975\ttest-merror:0.013041+0.000560775\n"
     ]
    },
    {
     "name": "stdout",
     "output_type": "stream",
     "text": [
      "[160]\ttrain-merror:0.00994633+0.000481443\ttest-merror:0.013041+0.000560775\n"
     ]
    },
    {
     "name": "stdout",
     "output_type": "stream",
     "text": [
      "[161]\ttrain-merror:0.00991233+0.000481443\ttest-merror:0.013041+0.000560775\n"
     ]
    },
    {
     "name": "stdout",
     "output_type": "stream",
     "text": [
      "[162]\ttrain-merror:0.00988933+0.000502267\ttest-merror:0.013041+0.000560775\n"
     ]
    },
    {
     "name": "stdout",
     "output_type": "stream",
     "text": [
      "[163]\ttrain-merror:0.00988933+0.000502267\ttest-merror:0.0129953+0.000520191\n"
     ]
    },
    {
     "name": "stdout",
     "output_type": "stream",
     "text": [
      "[164]\ttrain-merror:0.009878+0.000486557\ttest-merror:0.0129953+0.000520191\n"
     ]
    },
    {
     "name": "stdout",
     "output_type": "stream",
     "text": [
      "[165]\ttrain-merror:0.00986633+0.000470408\ttest-merror:0.0129953+0.000520191\n"
     ]
    },
    {
     "name": "stdout",
     "output_type": "stream",
     "text": [
      "[166]\ttrain-merror:0.009832+0.000403317\ttest-merror:0.012927+0.000423675\n"
     ]
    },
    {
     "name": "stdout",
     "output_type": "stream",
     "text": [
      "[167]\ttrain-merror:0.00983233+0.000423498\ttest-merror:0.01295+0.000391452\n"
     ]
    },
    {
     "name": "stdout",
     "output_type": "stream",
     "text": [
      "[168]\ttrain-merror:0.00983233+0.000423498\ttest-merror:0.01295+0.000391452\n"
     ]
    },
    {
     "name": "stdout",
     "output_type": "stream",
     "text": [
      "[169]\ttrain-merror:0.009798+0.000403317\ttest-merror:0.01295+0.000391452\n"
     ]
    },
    {
     "name": "stdout",
     "output_type": "stream",
     "text": [
      "[170]\ttrain-merror:0.009798+0.000403317\ttest-merror:0.01295+0.000391452\n"
     ]
    },
    {
     "name": "stdout",
     "output_type": "stream",
     "text": [
      "[171]\ttrain-merror:0.00978667+0.000387944\ttest-merror:0.01295+0.000391452\n"
     ]
    },
    {
     "name": "stdout",
     "output_type": "stream",
     "text": [
      "[172]\ttrain-merror:0.00978667+0.000387944\ttest-merror:0.01295+0.000391452\n"
     ]
    },
    {
     "name": "stdout",
     "output_type": "stream",
     "text": [
      "[173]\ttrain-merror:0.00976367+0.000356921\ttest-merror:0.0129503+0.000403431\n"
     ]
    },
    {
     "name": "stdout",
     "output_type": "stream",
     "text": [
      "[174]\ttrain-merror:0.00976367+0.000384143\ttest-merror:0.012973+0.00041234\n"
     ]
    },
    {
     "name": "stdout",
     "output_type": "stream",
     "text": [
      "[175]\ttrain-merror:0.00978667+0.000379344\ttest-merror:0.0128587+0.000396917\n"
     ]
    },
    {
     "name": "stdout",
     "output_type": "stream",
     "text": [
      "[176]\ttrain-merror:0.00971833+0.00043323\ttest-merror:0.0129043+0.000412489\n"
     ]
    },
    {
     "name": "stdout",
     "output_type": "stream",
     "text": [
      "[177]\ttrain-merror:0.00970667+0.00043323\ttest-merror:0.0128817+0.000422533\n"
     ]
    },
    {
     "name": "stdout",
     "output_type": "stream",
     "text": [
      "[178]\ttrain-merror:0.00968367+0.000447727\ttest-merror:0.01279+0.000475887\n"
     ]
    },
    {
     "name": "stdout",
     "output_type": "stream",
     "text": [
      "[179]\ttrain-merror:0.00968367+0.000447727\ttest-merror:0.01279+0.000475887\n"
     ]
    },
    {
     "name": "stdout",
     "output_type": "stream",
     "text": [
      "[180]\ttrain-merror:0.00968367+0.000447727\ttest-merror:0.01279+0.000475887\n"
     ]
    },
    {
     "name": "stdout",
     "output_type": "stream",
     "text": [
      "[181]\ttrain-merror:0.00967233+0.000489147\ttest-merror:0.0127213+0.000396839\n"
     ]
    },
    {
     "name": "stdout",
     "output_type": "stream",
     "text": [
      "[182]\ttrain-merror:0.00963833+0.000476281\ttest-merror:0.0126983+0.00042744\n"
     ]
    },
    {
     "name": "stdout",
     "output_type": "stream",
     "text": [
      "[183]\ttrain-merror:0.009581+0.000507466\ttest-merror:0.0126983+0.00042744\n"
     ]
    },
    {
     "name": "stdout",
     "output_type": "stream",
     "text": [
      "[184]\ttrain-merror:0.00961533+0.000503618\ttest-merror:0.0127213+0.000396839\n"
     ]
    },
    {
     "name": "stdout",
     "output_type": "stream",
     "text": [
      "[185]\ttrain-merror:0.009604+0.000489551\ttest-merror:0.0127213+0.000396839\n"
     ]
    },
    {
     "name": "stdout",
     "output_type": "stream",
     "text": [
      "[186]\ttrain-merror:0.00961533+0.000503618\ttest-merror:0.0126987+0.000392879\n"
     ]
    },
    {
     "name": "stdout",
     "output_type": "stream",
     "text": [
      "[187]\ttrain-merror:0.009604+0.000489551\ttest-merror:0.0126987+0.000392879\n"
     ]
    },
    {
     "name": "stdout",
     "output_type": "stream",
     "text": [
      "[188]\ttrain-merror:0.009581+0.000475887\ttest-merror:0.0126757+0.000422533\n"
     ]
    },
    {
     "name": "stdout",
     "output_type": "stream",
     "text": [
      "[189]\ttrain-merror:0.00956967+0.000489559\ttest-merror:0.01263+0.000372728\n"
     ]
    },
    {
     "name": "stdout",
     "output_type": "stream",
     "text": [
      "[190]\ttrain-merror:0.00959267+0.000490091\ttest-merror:0.012676+0.000367007\n"
     ]
    },
    {
     "name": "stdout",
     "output_type": "stream",
     "text": [
      "[191]\ttrain-merror:0.009558+0.000475201\ttest-merror:0.01263+0.000337153\n"
     ]
    },
    {
     "name": "stdout",
     "output_type": "stream",
     "text": [
      "[192]\ttrain-merror:0.00956967+0.000475487\ttest-merror:0.01263+0.000337153\n"
     ]
    },
    {
     "name": "stdout",
     "output_type": "stream",
     "text": [
      "[193]\ttrain-merror:0.00955833+0.000461971\ttest-merror:0.012607+0.000367007\n"
     ]
    },
    {
     "name": "stdout",
     "output_type": "stream",
     "text": [
      "[194]\ttrain-merror:0.00955833+0.000461971\ttest-merror:0.01263+0.000372728\n"
     ]
    },
    {
     "name": "stdout",
     "output_type": "stream",
     "text": [
      "[195]\ttrain-merror:0.00955833+0.000461971\ttest-merror:0.01263+0.00041234\n"
     ]
    },
    {
     "name": "stdout",
     "output_type": "stream",
     "text": [
      "[196]\ttrain-merror:0.00953533+0.000491185\ttest-merror:0.01263+0.00041234\n"
     ]
    },
    {
     "name": "stdout",
     "output_type": "stream",
     "text": [
      "[197]\ttrain-merror:0.00951267+0.00046521\ttest-merror:0.0125847+0.000381008\n"
     ]
    },
    {
     "name": "stdout",
     "output_type": "stream",
     "text": [
      "[198]\ttrain-merror:0.009501+0.000463485\ttest-merror:0.0125847+0.000381008\n"
     ]
    },
    {
     "name": "stdout",
     "output_type": "stream",
     "text": [
      "[199]\ttrain-merror:0.009478+0.000448621\ttest-merror:0.012516+0.000423675\n"
     ]
    },
    {
     "name": "stdout",
     "output_type": "stream",
     "text": [
      "[200]\ttrain-merror:0.009478+0.000448621\ttest-merror:0.0125157+0.000469398\n"
     ]
    },
    {
     "name": "stdout",
     "output_type": "stream",
     "text": [
      "[201]\ttrain-merror:0.00946667+0.000435451\ttest-merror:0.012493+0.000455942\n"
     ]
    },
    {
     "name": "stdout",
     "output_type": "stream",
     "text": [
      "[202]\ttrain-merror:0.00945533+0.000434252\ttest-merror:0.0125157+0.000469398\n"
     ]
    },
    {
     "name": "stdout",
     "output_type": "stream",
     "text": [
      "[203]\ttrain-merror:0.00945533+0.000434252\ttest-merror:0.0125387+0.00048484\n"
     ]
    },
    {
     "name": "stdout",
     "output_type": "stream",
     "text": [
      "[204]\ttrain-merror:0.00945533+0.000434252\ttest-merror:0.012516+0.000469657\n"
     ]
    },
    {
     "name": "stdout",
     "output_type": "stream",
     "text": [
      "[205]\ttrain-merror:0.00946667+0.000435451\ttest-merror:0.0125617+0.000501917\n"
     ]
    },
    {
     "name": "stdout",
     "output_type": "stream",
     "text": [
      "[206]\ttrain-merror:0.009444+0.000420938\ttest-merror:0.012539+0.000488336\n"
     ]
    },
    {
     "name": "stdout",
     "output_type": "stream",
     "text": [
      "[207]\ttrain-merror:0.00943233+0.000396839\ttest-merror:0.0125617+0.000508111\n"
     ]
    },
    {
     "name": "stdout",
     "output_type": "stream",
     "text": [
      "[208]\ttrain-merror:0.009421+0.000394539\ttest-merror:0.0125617+0.000508111\n"
     ]
    },
    {
     "name": "stdout",
     "output_type": "stream",
     "text": [
      "[209]\ttrain-merror:0.00939833+0.000379825\ttest-merror:0.012539+0.000488336\n"
     ]
    },
    {
     "name": "stdout",
     "output_type": "stream",
     "text": [
      "[210]\ttrain-merror:0.00939833+0.000379825\ttest-merror:0.0125163+0.000520191\n"
     ]
    },
    {
     "name": "stdout",
     "output_type": "stream",
     "text": [
      "[211]\ttrain-merror:0.00939833+0.000379825\ttest-merror:0.0125163+0.000520191\n"
     ]
    },
    {
     "name": "stdout",
     "output_type": "stream",
     "text": [
      "[212]\ttrain-merror:0.009353+0.000384589\ttest-merror:0.0125163+0.000520191\n"
     ]
    },
    {
     "name": "stdout",
     "output_type": "stream",
     "text": [
      "[213]\ttrain-merror:0.00934133+0.000381808\ttest-merror:0.0125163+0.000520191\n"
     ]
    },
    {
     "name": "stdout",
     "output_type": "stream",
     "text": [
      "[214]\ttrain-merror:0.00931867+0.000394481\ttest-merror:0.0125163+0.000520191\n"
     ]
    },
    {
     "name": "stdout",
     "output_type": "stream",
     "text": [
      "[215]\ttrain-merror:0.00931867+0.000378409\ttest-merror:0.0125163+0.000520191\n"
     ]
    },
    {
     "name": "stdout",
     "output_type": "stream",
     "text": [
      "[216]\ttrain-merror:0.009296+0.000391848\ttest-merror:0.0125163+0.000520191\n"
     ]
    },
    {
     "name": "stdout",
     "output_type": "stream",
     "text": [
      "[217]\ttrain-merror:0.009296+0.000391848\ttest-merror:0.012539+0.000533924\n"
     ]
    },
    {
     "name": "stdout",
     "output_type": "stream",
     "text": [
      "[218]\ttrain-merror:0.009296+0.000391848\ttest-merror:0.0125163+0.000520191\n"
     ]
    },
    {
     "name": "stdout",
     "output_type": "stream",
     "text": [
      "[219]\ttrain-merror:0.00928433+0.000378017\ttest-merror:0.0125163+0.000520191\n"
     ]
    },
    {
     "name": "stdout",
     "output_type": "stream",
     "text": [
      "[220]\ttrain-merror:0.00930733+0.00037772\ttest-merror:0.0125163+0.000520191\n"
     ]
    },
    {
     "name": "stdout",
     "output_type": "stream",
     "text": [
      "[221]\ttrain-merror:0.00928433+0.000406539\ttest-merror:0.012539+0.000533924\n"
     ]
    },
    {
     "name": "stdout",
     "output_type": "stream",
     "text": [
      "[222]\ttrain-merror:0.00923833+0.00039284\ttest-merror:0.0126073+0.000487868\n"
     ]
    },
    {
     "name": "stdout",
     "output_type": "stream",
     "text": [
      "[223]\ttrain-merror:0.009227+0.00037771\ttest-merror:0.0125847+0.000469447\n"
     ]
    },
    {
     "name": "stdout",
     "output_type": "stream",
     "text": [
      "[224]\ttrain-merror:0.00921567+0.000378379\ttest-merror:0.0125847+0.000469447\n"
     ]
    },
    {
     "name": "stdout",
     "output_type": "stream",
     "text": [
      "[225]\ttrain-merror:0.00920433+0.000391828\ttest-merror:0.012562+0.000456042\n"
     ]
    },
    {
     "name": "stdout",
     "output_type": "stream",
     "text": [
      "[226]\ttrain-merror:0.00921567+0.000378379\ttest-merror:0.0125847+0.000469447\n"
     ]
    },
    {
     "name": "stdout",
     "output_type": "stream",
     "text": [
      "[227]\ttrain-merror:0.00918133+0.0003845\ttest-merror:0.012539+0.000488336\n"
     ]
    },
    {
     "name": "stdout",
     "output_type": "stream",
     "text": [
      "[228]\ttrain-merror:0.00914733+0.000422046\ttest-merror:0.012539+0.000488336\n"
     ]
    },
    {
     "name": "stdout",
     "output_type": "stream",
     "text": [
      "[229]\ttrain-merror:0.00917+0.000396763\ttest-merror:0.012539+0.000488336\n"
     ]
    },
    {
     "name": "stdout",
     "output_type": "stream",
     "text": [
      "[230]\ttrain-merror:0.00917+0.000396763\ttest-merror:0.012539+0.000488336\n"
     ]
    },
    {
     "name": "stdout",
     "output_type": "stream",
     "text": [
      "[231]\ttrain-merror:0.00907867+0.000436723\ttest-merror:0.0124707+0.000584435\n"
     ]
    },
    {
     "name": "stdout",
     "output_type": "stream",
     "text": [
      "[232]\ttrain-merror:0.00896433+0.000347231\ttest-merror:0.0124247+0.000549186\n"
     ]
    },
    {
     "name": "stdout",
     "output_type": "stream",
     "text": [
      "[233]\ttrain-merror:0.00893033+0.000299193\ttest-merror:0.0123333+0.00053992\n"
     ]
    },
    {
     "name": "stdout",
     "output_type": "stream",
     "text": [
      "[234]\ttrain-merror:0.008919+0.000306884\ttest-merror:0.0122877+0.000501871\n"
     ]
    },
    {
     "name": "stdout",
     "output_type": "stream",
     "text": [
      "[235]\ttrain-merror:0.008896+0.000298722\ttest-merror:0.0122877+0.000501871\n"
     ]
    },
    {
     "name": "stdout",
     "output_type": "stream",
     "text": [
      "[236]\ttrain-merror:0.00893033+0.000322912\ttest-merror:0.012265+0.000533881\n"
     ]
    },
    {
     "name": "stdout",
     "output_type": "stream",
     "text": [
      "[237]\ttrain-merror:0.00890733+0.000340343\ttest-merror:0.012242+0.000613769\n"
     ]
    },
    {
     "name": "stdout",
     "output_type": "stream",
     "text": [
      "[238]\ttrain-merror:0.00888467+0.00035958\ttest-merror:0.0122193+0.000598385\n"
     ]
    },
    {
     "name": "stdout",
     "output_type": "stream",
     "text": [
      "[239]\ttrain-merror:0.00887333+0.000365643\ttest-merror:0.0121963+0.000581478\n"
     ]
    },
    {
     "name": "stdout",
     "output_type": "stream",
     "text": [
      "[240]\ttrain-merror:0.00881633+0.000391925\ttest-merror:0.0121733+0.000614005\n"
     ]
    },
    {
     "name": "stdout",
     "output_type": "stream",
     "text": [
      "[241]\ttrain-merror:0.00877067+0.000356921\ttest-merror:0.0121277+0.000584357\n"
     ]
    },
    {
     "name": "stdout",
     "output_type": "stream",
     "text": [
      "[242]\ttrain-merror:0.00877033+0.000329339\ttest-merror:0.0121507+0.000603805\n"
     ]
    },
    {
     "name": "stdout",
     "output_type": "stream",
     "text": [
      "[243]\ttrain-merror:0.00877067+0.000356921\ttest-merror:0.012082+0.000552261\n"
     ]
    },
    {
     "name": "stdout",
     "output_type": "stream",
     "text": [
      "[244]\ttrain-merror:0.00877067+0.000356921\ttest-merror:0.012082+0.000552261\n"
     ]
    },
    {
     "name": "stdout",
     "output_type": "stream",
     "text": [
      "[245]\ttrain-merror:0.008759+0.000341293\ttest-merror:0.0120363+0.000517131\n"
     ]
    },
    {
     "name": "stdout",
     "output_type": "stream",
     "text": [
      "[246]\ttrain-merror:0.00874767+0.000326193\ttest-merror:0.0120593+0.000534138\n"
     ]
    },
    {
     "name": "stdout",
     "output_type": "stream",
     "text": [
      "[247]\ttrain-merror:0.00872467+0.00035175\ttest-merror:0.012105+0.000571903\n"
     ]
    },
    {
     "name": "stdout",
     "output_type": "stream",
     "text": [
      "[248]\ttrain-merror:0.00871333+0.000337108\ttest-merror:0.012059+0.000539751\n"
     ]
    },
    {
     "name": "stdout",
     "output_type": "stream",
     "text": [
      "[249]\ttrain-merror:0.00869067+0.000335963\ttest-merror:0.0120363+0.000520191\n"
     ]
    },
    {
     "name": "stdout",
     "output_type": "stream",
     "text": [
      "[250]\ttrain-merror:0.008782+0.000454643\ttest-merror:0.012059+0.000645406\n"
     ]
    },
    {
     "name": "stdout",
     "output_type": "stream",
     "text": [
      "[251]\ttrain-merror:0.00877033+0.000411798\ttest-merror:0.0119907+0.000584435\n"
     ]
    },
    {
     "name": "stdout",
     "output_type": "stream",
     "text": [
      "[252]\ttrain-merror:0.00877033+0.000411798\ttest-merror:0.0120133+0.000603628\n"
     ]
    },
    {
     "name": "stdout",
     "output_type": "stream",
     "text": [
      "[253]\ttrain-merror:0.00877033+0.000411798\ttest-merror:0.0119907+0.000584435\n"
     ]
    },
    {
     "name": "stdout",
     "output_type": "stream",
     "text": [
      "[254]\ttrain-merror:0.00877033+0.000411798\ttest-merror:0.0120133+0.000603628\n"
     ]
    },
    {
     "name": "stdout",
     "output_type": "stream",
     "text": [
      "[255]\ttrain-merror:0.00866767+0.00027965\ttest-merror:0.011922+0.000533881\n"
     ]
    },
    {
     "name": "stdout",
     "output_type": "stream",
     "text": [
      "[256]\ttrain-merror:0.008645+0.000307841\ttest-merror:0.0118763+0.000598385\n"
     ]
    },
    {
     "name": "stdout",
     "output_type": "stream",
     "text": [
      "[257]\ttrain-merror:0.008645+0.000307841\ttest-merror:0.0118993+0.000614005\n"
     ]
    },
    {
     "name": "stdout",
     "output_type": "stream",
     "text": [
      "[258]\ttrain-merror:0.00872467+0.000396839\ttest-merror:0.011922+0.000635674\n"
     ]
    },
    {
     "name": "stdout",
     "output_type": "stream",
     "text": [
      "[259]\ttrain-merror:0.008736+0.000411881\ttest-merror:0.011922+0.000630662\n"
     ]
    },
    {
     "name": "stdout",
     "output_type": "stream",
     "text": [
      "[260]\ttrain-merror:0.008679+0.000448621\ttest-merror:0.0118763+0.000648277\n"
     ]
    },
    {
     "name": "stdout",
     "output_type": "stream",
     "text": [
      "[261]\ttrain-merror:0.00850767+0.000333684\ttest-merror:0.0116707+0.000551986\n"
     ]
    },
    {
     "name": "stdout",
     "output_type": "stream",
     "text": [
      "[262]\ttrain-merror:0.00850767+0.000314521\ttest-merror:0.011648+0.000539624\n"
     ]
    },
    {
     "name": "stdout",
     "output_type": "stream",
     "text": [
      "[263]\ttrain-merror:0.008485+0.000326635\ttest-merror:0.011648+0.000539624\n"
     ]
    },
    {
     "name": "stdout",
     "output_type": "stream",
     "text": [
      "[264]\ttrain-merror:0.00843933+0.000306686\ttest-merror:0.0116023+0.000519854\n"
     ]
    },
    {
     "name": "stdout",
     "output_type": "stream",
     "text": [
      "[265]\ttrain-merror:0.008428+0.000295954\ttest-merror:0.0116253+0.000543545\n"
     ]
    },
    {
     "name": "stdout",
     "output_type": "stream",
     "text": [
      "[266]\ttrain-merror:0.00839367+0.000269579\ttest-merror:0.0116253+0.000543545\n"
     ]
    },
    {
     "name": "stdout",
     "output_type": "stream",
     "text": [
      "[267]\ttrain-merror:0.008405+0.000253756\ttest-merror:0.011648+0.000497025\n"
     ]
    },
    {
     "name": "stdout",
     "output_type": "stream",
     "text": [
      "[268]\ttrain-merror:0.008439+0.000232986\ttest-merror:0.011625+0.000423675\n"
     ]
    },
    {
     "name": "stdout",
     "output_type": "stream",
     "text": [
      "[269]\ttrain-merror:0.00838167+0.000291102\ttest-merror:0.0115567+0.000519634\n"
     ]
    },
    {
     "name": "stdout",
     "output_type": "stream",
     "text": [
      "[270]\ttrain-merror:0.00837033+0.000287064\ttest-merror:0.0115567+0.000519634\n"
     ]
    },
    {
     "name": "stdout",
     "output_type": "stream",
     "text": [
      "[271]\ttrain-merror:0.008359+0.000275569\ttest-merror:0.0115337+0.000551986\n"
     ]
    },
    {
     "name": "stdout",
     "output_type": "stream",
     "text": [
      "[272]\ttrain-merror:0.008359+0.000275569\ttest-merror:0.0115567+0.000519634\n"
     ]
    },
    {
     "name": "stdout",
     "output_type": "stream",
     "text": [
      "[273]\ttrain-merror:0.008302+0.000226274\ttest-merror:0.011488+0.000528774\n"
     ]
    },
    {
     "name": "stdout",
     "output_type": "stream",
     "text": [
      "[274]\ttrain-merror:0.00827933+0.000321397\ttest-merror:0.0115337+0.000551986\n"
     ]
    },
    {
     "name": "stdout",
     "output_type": "stream",
     "text": [
      "[275]\ttrain-merror:0.00825633+0.000322207\ttest-merror:0.0115337+0.000551986\n"
     ]
    },
    {
     "name": "stdout",
     "output_type": "stream",
     "text": [
      "[276]\ttrain-merror:0.00819933+0.000335963\ttest-merror:0.011511+0.000583888\n"
     ]
    },
    {
     "name": "stdout",
     "output_type": "stream",
     "text": [
      "[277]\ttrain-merror:0.00819933+0.000335963\ttest-merror:0.011511+0.000583888\n"
     ]
    },
    {
     "name": "stdout",
     "output_type": "stream",
     "text": [
      "[278]\ttrain-merror:0.00809667+0.000259641\ttest-merror:0.0114653+0.00056015\n"
     ]
    },
    {
     "name": "stdout",
     "output_type": "stream",
     "text": [
      "[279]\ttrain-merror:0.00808533+0.000248444\ttest-merror:0.0114883+0.000571317\n"
     ]
    },
    {
     "name": "stdout",
     "output_type": "stream",
     "text": [
      "[280]\ttrain-merror:0.008051+0.000218231\ttest-merror:0.0114653+0.00056015\n"
     ]
    },
    {
     "name": "stdout",
     "output_type": "stream",
     "text": [
      "[281]\ttrain-merror:0.00806233+0.000225803\ttest-merror:0.0114197+0.000519634\n"
     ]
    },
    {
     "name": "stdout",
     "output_type": "stream",
     "text": [
      "[282]\ttrain-merror:0.00803933+0.000234699\ttest-merror:0.0114197+0.000519634\n"
     ]
    },
    {
     "name": "stdout",
     "output_type": "stream",
     "text": [
      "[283]\ttrain-merror:0.008005+0.0002378\ttest-merror:0.0114197+0.000519634\n"
     ]
    },
    {
     "name": "stdout",
     "output_type": "stream",
     "text": [
      "[284]\ttrain-merror:0.008028+0.000227971\ttest-merror:0.0114197+0.000519634\n"
     ]
    },
    {
     "name": "stdout",
     "output_type": "stream",
     "text": [
      "[285]\ttrain-merror:0.008028+0.000227971\ttest-merror:0.0114197+0.000519634\n"
     ]
    },
    {
     "name": "stdout",
     "output_type": "stream",
     "text": [
      "[286]\ttrain-merror:0.00801633+0.000222043\ttest-merror:0.0114197+0.000519634\n"
     ]
    },
    {
     "name": "stdout",
     "output_type": "stream",
     "text": [
      "[287]\ttrain-merror:0.008005+0.000211891\ttest-merror:0.0114197+0.000519634\n"
     ]
    },
    {
     "name": "stdout",
     "output_type": "stream",
     "text": [
      "[288]\ttrain-merror:0.00798233+0.0002437\ttest-merror:0.0114197+0.000519634\n"
     ]
    },
    {
     "name": "stdout",
     "output_type": "stream",
     "text": [
      "[289]\ttrain-merror:0.00798233+0.0002437\ttest-merror:0.0114197+0.000519634\n"
     ]
    },
    {
     "name": "stdout",
     "output_type": "stream",
     "text": [
      "[290]\ttrain-merror:0.00798233+0.0002437\ttest-merror:0.0114427+0.000539454\n"
     ]
    },
    {
     "name": "stdout",
     "output_type": "stream",
     "text": [
      "[291]\ttrain-merror:0.00798233+0.0002437\ttest-merror:0.0114427+0.000539454\n"
     ]
    },
    {
     "name": "stdout",
     "output_type": "stream",
     "text": [
      "[292]\ttrain-merror:0.00795967+0.000253591\ttest-merror:0.0114427+0.000539454\n"
     ]
    },
    {
     "name": "stdout",
     "output_type": "stream",
     "text": [
      "[293]\ttrain-merror:0.00794833+0.000248444\ttest-merror:0.0114427+0.000539454\n"
     ]
    },
    {
     "name": "stdout",
     "output_type": "stream",
     "text": [
      "[294]\ttrain-merror:0.00793667+0.000264545\ttest-merror:0.0114427+0.000539454\n"
     ]
    },
    {
     "name": "stdout",
     "output_type": "stream",
     "text": [
      "[295]\ttrain-merror:0.00793667+0.000264545\ttest-merror:0.0114427+0.000539454\n"
     ]
    },
    {
     "name": "stdout",
     "output_type": "stream",
     "text": [
      "[296]\ttrain-merror:0.007948+0.000269875\ttest-merror:0.0114427+0.000539454\n"
     ]
    },
    {
     "name": "stdout",
     "output_type": "stream",
     "text": [
      "[297]\ttrain-merror:0.00792533+0.000280231\ttest-merror:0.0114657+0.000551986\n"
     ]
    },
    {
     "name": "stdout",
     "output_type": "stream",
     "text": [
      "[298]\ttrain-merror:0.00790233+0.000271674\ttest-merror:0.0114657+0.000551986\n"
     ]
    },
    {
     "name": "stdout",
     "output_type": "stream",
     "text": [
      "[299]\ttrain-merror:0.00790233+0.000271674\ttest-merror:0.0114657+0.000551986\n"
     ]
    },
    {
     "name": "stdout",
     "output_type": "stream",
     "text": [
      "[300]\ttrain-merror:0.00787933+0.000256125\ttest-merror:0.0114427+0.000539454\n"
     ]
    },
    {
     "name": "stdout",
     "output_type": "stream",
     "text": [
      "[301]\ttrain-merror:0.00787933+0.000256125\ttest-merror:0.0114427+0.000539454\n"
     ]
    },
    {
     "name": "stdout",
     "output_type": "stream",
     "text": [
      "[302]\ttrain-merror:0.007868+0.000244242\ttest-merror:0.0114427+0.000539454\n"
     ]
    },
    {
     "name": "stdout",
     "output_type": "stream",
     "text": [
      "[303]\ttrain-merror:0.00782233+0.000224293\ttest-merror:0.0114427+0.000539454\n"
     ]
    },
    {
     "name": "stdout",
     "output_type": "stream",
     "text": [
      "[304]\ttrain-merror:0.00778833+0.000224293\ttest-merror:0.0114197+0.00057161\n"
     ]
    },
    {
     "name": "stdout",
     "output_type": "stream",
     "text": [
      "[305]\ttrain-merror:0.007754+0.000186088\ttest-merror:0.0114197+0.00057161\n"
     ]
    },
    {
     "name": "stdout",
     "output_type": "stream",
     "text": [
      "[306]\ttrain-merror:0.00770833+0.000195551\ttest-merror:0.0114197+0.00057161\n"
     ]
    },
    {
     "name": "stdout",
     "output_type": "stream",
     "text": [
      "[307]\ttrain-merror:0.00770833+0.000195551\ttest-merror:0.0113967+0.000551986\n"
     ]
    },
    {
     "name": "stdout",
     "output_type": "stream",
     "text": [
      "[308]\ttrain-merror:0.00770833+0.000195551\ttest-merror:0.0114197+0.00057161\n"
     ]
    },
    {
     "name": "stdout",
     "output_type": "stream",
     "text": [
      "[309]\ttrain-merror:0.00769667+0.000209993\ttest-merror:0.0113967+0.000551986\n"
     ]
    },
    {
     "name": "stdout",
     "output_type": "stream",
     "text": [
      "[310]\ttrain-merror:0.007697+0.000196226\ttest-merror:0.0113967+0.000551986\n"
     ]
    },
    {
     "name": "stdout",
     "output_type": "stream",
     "text": [
      "[311]\ttrain-merror:0.00768533+0.000209993\ttest-merror:0.0113967+0.000551986\n"
     ]
    },
    {
     "name": "stdout",
     "output_type": "stream",
     "text": [
      "[312]\ttrain-merror:0.00766267+0.000237736\ttest-merror:0.011374+0.000583888\n"
     ]
    },
    {
     "name": "stdout",
     "output_type": "stream",
     "text": [
      "[313]\ttrain-merror:0.00763967+0.00027965\ttest-merror:0.011374+0.000583888\n"
     ]
    },
    {
     "name": "stdout",
     "output_type": "stream",
     "text": [
      "[314]\ttrain-merror:0.007594+0.000253576\ttest-merror:0.011351+0.000616275\n"
     ]
    },
    {
     "name": "stdout",
     "output_type": "stream",
     "text": [
      "[315]\ttrain-merror:0.00757133+0.000256125\ttest-merror:0.011374+0.000583888\n"
     ]
    },
    {
     "name": "stdout",
     "output_type": "stream",
     "text": [
      "[316]\ttrain-merror:0.00757133+0.000294959\ttest-merror:0.011374+0.000583888\n"
     ]
    },
    {
     "name": "stdout",
     "output_type": "stream",
     "text": [
      "[317]\ttrain-merror:0.00754833+0.00026888\ttest-merror:0.011351+0.000616275\n"
     ]
    },
    {
     "name": "stdout",
     "output_type": "stream",
     "text": [
      "[318]\ttrain-merror:0.00754833+0.00026888\ttest-merror:0.0113283+0.000648206\n"
     ]
    },
    {
     "name": "stdout",
     "output_type": "stream",
     "text": [
      "[319]\ttrain-merror:0.007537+0.000256571\ttest-merror:0.0112143+0.000582203\n"
     ]
    },
    {
     "name": "stdout",
     "output_type": "stream",
     "text": [
      "[320]\ttrain-merror:0.00751433+0.000287064\ttest-merror:0.0111913+0.000613831\n"
     ]
    },
    {
     "name": "stdout",
     "output_type": "stream",
     "text": [
      "[321]\ttrain-merror:0.00751433+0.000287064\ttest-merror:0.0111913+0.000613831\n"
     ]
    },
    {
     "name": "stdout",
     "output_type": "stream",
     "text": [
      "[322]\ttrain-merror:0.00749167+0.000291102\ttest-merror:0.0111913+0.000613831\n"
     ]
    },
    {
     "name": "stdout",
     "output_type": "stream",
     "text": [
      "[323]\ttrain-merror:0.00748+0.000286958\ttest-merror:0.0111453+0.000624038\n"
     ]
    },
    {
     "name": "stdout",
     "output_type": "stream",
     "text": [
      "[324]\ttrain-merror:0.00746833+0.000302771\ttest-merror:0.0111227+0.000655603\n"
     ]
    },
    {
     "name": "stdout",
     "output_type": "stream",
     "text": [
      "[325]\ttrain-merror:0.00746833+0.000302771\ttest-merror:0.0111227+0.000655603\n"
     ]
    },
    {
     "name": "stdout",
     "output_type": "stream",
     "text": [
      "[326]\ttrain-merror:0.00746833+0.000302771\ttest-merror:0.0111227+0.000655603\n"
     ]
    },
    {
     "name": "stdout",
     "output_type": "stream",
     "text": [
      "[327]\ttrain-merror:0.00746833+0.000302771\ttest-merror:0.0111227+0.000655603\n"
     ]
    },
    {
     "name": "stdout",
     "output_type": "stream",
     "text": [
      "[328]\ttrain-merror:0.00746833+0.000302771\ttest-merror:0.0111227+0.000655603\n"
     ]
    },
    {
     "name": "stdout",
     "output_type": "stream",
     "text": [
      "[329]\ttrain-merror:0.00746833+0.000302771\ttest-merror:0.0111227+0.000655603\n"
     ]
    },
    {
     "name": "stdout",
     "output_type": "stream",
     "text": [
      "[330]\ttrain-merror:0.007457+0.000299333\ttest-merror:0.0111453+0.000624038\n"
     ]
    },
    {
     "name": "stdout",
     "output_type": "stream",
     "text": [
      "[331]\ttrain-merror:0.00744533+0.000287064\ttest-merror:0.0111453+0.000624038\n"
     ]
    },
    {
     "name": "stdout",
     "output_type": "stream",
     "text": [
      "[332]\ttrain-merror:0.007434+0.000275569\ttest-merror:0.0111683+0.000635746\n"
     ]
    },
    {
     "name": "stdout",
     "output_type": "stream",
     "text": [
      "[333]\ttrain-merror:0.00742267+0.000291102\ttest-merror:0.0111457+0.000667539\n"
     ]
    },
    {
     "name": "stdout",
     "output_type": "stream",
     "text": [
      "[334]\ttrain-merror:0.0074+0.000322314\ttest-merror:0.0111227+0.000655603\n"
     ]
    },
    {
     "name": "stdout",
     "output_type": "stream",
     "text": [
      "[335]\ttrain-merror:0.00738867+0.000317864\ttest-merror:0.0110997+0.000687678\n"
     ]
    },
    {
     "name": "stdout",
     "output_type": "stream",
     "text": [
      "[336]\ttrain-merror:0.007377+0.000333809\ttest-merror:0.0110997+0.000687678\n"
     ]
    },
    {
     "name": "stdout",
     "output_type": "stream",
     "text": [
      "[337]\ttrain-merror:0.00736567+0.000322774\ttest-merror:0.0111227+0.000699823\n"
     ]
    },
    {
     "name": "stdout",
     "output_type": "stream",
     "text": [
      "[338]\ttrain-merror:0.00735433+0.000312171\ttest-merror:0.0110997+0.000687678\n"
     ]
    },
    {
     "name": "stdout",
     "output_type": "stream",
     "text": [
      "[339]\ttrain-merror:0.00735433+0.000312171\ttest-merror:0.0110997+0.000687678\n"
     ]
    },
    {
     "name": "stdout",
     "output_type": "stream",
     "text": [
      "[340]\ttrain-merror:0.00734267+0.000301757\ttest-merror:0.0110997+0.000687678\n"
     ]
    },
    {
     "name": "stdout",
     "output_type": "stream",
     "text": [
      "[341]\ttrain-merror:0.00737733+0.000306686\ttest-merror:0.011077+0.000677026\n"
     ]
    },
    {
     "name": "stdout",
     "output_type": "stream",
     "text": [
      "[342]\ttrain-merror:0.007263+0.00029492\ttest-merror:0.0110313+0.000630879\n"
     ]
    },
    {
     "name": "stdout",
     "output_type": "stream",
     "text": [
      "[343]\ttrain-merror:0.00727467+0.000281508\ttest-merror:0.0110313+0.000630879\n"
     ]
    },
    {
     "name": "stdout",
     "output_type": "stream",
     "text": [
      "[344]\ttrain-merror:0.00722833+0.000266876\ttest-merror:0.0110087+0.000662905\n"
     ]
    },
    {
     "name": "stdout",
     "output_type": "stream",
     "text": [
      "[345]\ttrain-merror:0.00720567+0.000265898\ttest-merror:0.0109857+0.000695405\n"
     ]
    },
    {
     "name": "stdout",
     "output_type": "stream",
     "text": [
      "[346]\ttrain-merror:0.00720567+0.000265898\ttest-merror:0.0109857+0.000695405\n"
     ]
    },
    {
     "name": "stdout",
     "output_type": "stream",
     "text": [
      "[347]\ttrain-merror:0.00722867+0.000238862\ttest-merror:0.0109857+0.000695405\n"
     ]
    },
    {
     "name": "stdout",
     "output_type": "stream",
     "text": [
      "[348]\ttrain-merror:0.007217+0.000252414\ttest-merror:0.0109857+0.000695405\n"
     ]
    },
    {
     "name": "stdout",
     "output_type": "stream",
     "text": [
      "[349]\ttrain-merror:0.00716033+0.00027965\ttest-merror:0.0109173+0.000695186\n"
     ]
    },
    {
     "name": "stdout",
     "output_type": "stream",
     "text": [
      "[350]\ttrain-merror:0.00714867+0.000294048\ttest-merror:0.0108487+0.000695405\n"
     ]
    },
    {
     "name": "stdout",
     "output_type": "stream",
     "text": [
      "[351]\ttrain-merror:0.00711433+0.000314521\ttest-merror:0.0108487+0.000695405\n"
     ]
    },
    {
     "name": "stdout",
     "output_type": "stream",
     "text": [
      "[352]\ttrain-merror:0.00713733+0.000309484\ttest-merror:0.0108487+0.000695405\n"
     ]
    },
    {
     "name": "stdout",
     "output_type": "stream",
     "text": [
      "[353]\ttrain-merror:0.007126+0.000322597\ttest-merror:0.0108487+0.000695405\n"
     ]
    },
    {
     "name": "stdout",
     "output_type": "stream",
     "text": [
      "[354]\ttrain-merror:0.00709167+0.000329789\ttest-merror:0.0108257+0.000680888\n"
     ]
    },
    {
     "name": "stdout",
     "output_type": "stream",
     "text": [
      "[355]\ttrain-merror:0.007069+0.000326635\ttest-merror:0.0108257+0.000680888\n"
     ]
    },
    {
     "name": "stdout",
     "output_type": "stream",
     "text": [
      "[356]\ttrain-merror:0.007046+0.00032381\ttest-merror:0.0108257+0.000680888\n"
     ]
    },
    {
     "name": "stdout",
     "output_type": "stream",
     "text": [
      "[357]\ttrain-merror:0.00703433+0.000317864\ttest-merror:0.0108257+0.000680888\n"
     ]
    },
    {
     "name": "stdout",
     "output_type": "stream",
     "text": [
      "[358]\ttrain-merror:0.007023+0.000329443\ttest-merror:0.0108257+0.000680888\n"
     ]
    },
    {
     "name": "stdout",
     "output_type": "stream",
     "text": [
      "[359]\ttrain-merror:0.00701133+0.000341738\ttest-merror:0.0108257+0.000680888\n"
     ]
    },
    {
     "name": "stdout",
     "output_type": "stream",
     "text": [
      "[360]\ttrain-merror:0.00701133+0.000341738\ttest-merror:0.0108257+0.000680888\n"
     ]
    },
    {
     "name": "stdout",
     "output_type": "stream",
     "text": [
      "[361]\ttrain-merror:0.00697733+0.000314521\ttest-merror:0.0108257+0.000680888\n"
     ]
    },
    {
     "name": "stdout",
     "output_type": "stream",
     "text": [
      "[362]\ttrain-merror:0.00694333+0.000314521\ttest-merror:0.0108257+0.000680888\n"
     ]
    },
    {
     "name": "stdout",
     "output_type": "stream",
     "text": [
      "[363]\ttrain-merror:0.00693167+0.000298887\ttest-merror:0.0108257+0.000680888\n"
     ]
    },
    {
     "name": "stdout",
     "output_type": "stream",
     "text": [
      "[364]\ttrain-merror:0.00693167+0.000298887\ttest-merror:0.0108257+0.000680888\n"
     ]
    },
    {
     "name": "stdout",
     "output_type": "stream",
     "text": [
      "[365]\ttrain-merror:0.00692033+0.000302318\ttest-merror:0.0108027+0.000662905\n"
     ]
    },
    {
     "name": "stdout",
     "output_type": "stream",
     "text": [
      "[366]\ttrain-merror:0.00692033+0.000302318\ttest-merror:0.01078+0.000646296\n"
     ]
    },
    {
     "name": "stdout",
     "output_type": "stream",
     "text": [
      "[367]\ttrain-merror:0.00689733+0.000291102\ttest-merror:0.01078+0.000646296\n"
     ]
    },
    {
     "name": "stdout",
     "output_type": "stream",
     "text": [
      "[368]\ttrain-merror:0.006909+0.000286958\ttest-merror:0.01078+0.000646296\n"
     ]
    },
    {
     "name": "stdout",
     "output_type": "stream",
     "text": [
      "[369]\ttrain-merror:0.00694333+0.000307009\ttest-merror:0.01078+0.000646296\n"
     ]
    },
    {
     "name": "stdout",
     "output_type": "stream",
     "text": [
      "[370]\ttrain-merror:0.00689733+0.000264545\ttest-merror:0.01078+0.000646296\n"
     ]
    },
    {
     "name": "stdout",
     "output_type": "stream",
     "text": [
      "[371]\ttrain-merror:0.00689733+0.000264545\ttest-merror:0.01078+0.000646296\n"
     ]
    },
    {
     "name": "stdout",
     "output_type": "stream",
     "text": [
      "[372]\ttrain-merror:0.006852+0.000295954\ttest-merror:0.0107573+0.000630879\n"
     ]
    },
    {
     "name": "stdout",
     "output_type": "stream",
     "text": [
      "[373]\ttrain-merror:0.00684067+0.000280231\ttest-merror:0.0107573+0.000630879\n"
     ]
    },
    {
     "name": "stdout",
     "output_type": "stream",
     "text": [
      "[374]\ttrain-merror:0.00682933+0.000291102\ttest-merror:0.0107343+0.000616546\n"
     ]
    },
    {
     "name": "stdout",
     "output_type": "stream",
     "text": [
      "[375]\ttrain-merror:0.00681767+0.000275113\ttest-merror:0.0107573+0.000630879\n"
     ]
    },
    {
     "name": "stdout",
     "output_type": "stream",
     "text": [
      "[376]\ttrain-merror:0.006795+0.000244242\ttest-merror:0.0107573+0.000630879\n"
     ]
    },
    {
     "name": "stdout",
     "output_type": "stream",
     "text": [
      "[377]\ttrain-merror:0.00678333+0.000256482\ttest-merror:0.0107573+0.000630879\n"
     ]
    },
    {
     "name": "stdout",
     "output_type": "stream",
     "text": [
      "[378]\ttrain-merror:0.00677167+0.000240956\ttest-merror:0.0107573+0.000630879\n"
     ]
    },
    {
     "name": "stdout",
     "output_type": "stream",
     "text": [
      "[379]\ttrain-merror:0.00677167+0.000240956\ttest-merror:0.0107573+0.000630879\n"
     ]
    },
    {
     "name": "stdout",
     "output_type": "stream",
     "text": [
      "[380]\ttrain-merror:0.006749+0.000256036\ttest-merror:0.01078+0.000646296\n"
     ]
    },
    {
     "name": "stdout",
     "output_type": "stream",
     "text": [
      "[381]\ttrain-merror:0.00676033+0.000253516\ttest-merror:0.0107573+0.000678351\n"
     ]
    },
    {
     "name": "stdout",
     "output_type": "stream",
     "text": [
      "[382]\ttrain-merror:0.00673767+0.000240956\ttest-merror:0.0107343+0.000662687\n"
     ]
    },
    {
     "name": "stdout",
     "output_type": "stream",
     "text": [
      "[383]\ttrain-merror:0.00673767+0.000224293\ttest-merror:0.0107113+0.000695186\n"
     ]
    },
    {
     "name": "stdout",
     "output_type": "stream",
     "text": [
      "[384]\ttrain-merror:0.006749+0.000211212\ttest-merror:0.0107113+0.000695186\n"
     ]
    },
    {
     "name": "stdout",
     "output_type": "stream",
     "text": [
      "[385]\ttrain-merror:0.00676033+0.000226005\ttest-merror:0.0106887+0.000680888\n"
     ]
    },
    {
     "name": "stdout",
     "output_type": "stream",
     "text": [
      "[386]\ttrain-merror:0.00672633+0.000226005\ttest-merror:0.0107347+0.000667641\n"
     ]
    },
    {
     "name": "stdout",
     "output_type": "stream",
     "text": [
      "[387]\ttrain-merror:0.00673767+0.000213631\ttest-merror:0.0107117+0.000699921\n"
     ]
    },
    {
     "name": "stdout",
     "output_type": "stream",
     "text": [
      "[388]\ttrain-merror:0.00673767+0.000240956\ttest-merror:0.0106887+0.000680888\n"
     ]
    },
    {
     "name": "stdout",
     "output_type": "stream",
     "text": [
      "[389]\ttrain-merror:0.00672633+0.000226005\ttest-merror:0.0106887+0.000680888\n"
     ]
    },
    {
     "name": "stdout",
     "output_type": "stream",
     "text": [
      "[390]\ttrain-merror:0.00672633+0.000226005\ttest-merror:0.0107113+0.000695186\n"
     ]
    },
    {
     "name": "stdout",
     "output_type": "stream",
     "text": [
      "[391]\ttrain-merror:0.00672633+0.000226005\ttest-merror:0.0107117+0.000648476\n"
     ]
    },
    {
     "name": "stdout",
     "output_type": "stream",
     "text": [
      "[392]\ttrain-merror:0.00672633+0.000226005\ttest-merror:0.0107117+0.000648476\n"
     ]
    },
    {
     "name": "stdout",
     "output_type": "stream",
     "text": [
      "[393]\ttrain-merror:0.006715+0.000211212\ttest-merror:0.0107343+0.000662687\n"
     ]
    },
    {
     "name": "stdout",
     "output_type": "stream",
     "text": [
      "[394]\ttrain-merror:0.006715+0.000211212\ttest-merror:0.0107343+0.000662687\n"
     ]
    },
    {
     "name": "stdout",
     "output_type": "stream",
     "text": [
      "[395]\ttrain-merror:0.00670333+0.000241034\ttest-merror:0.0106887+0.000630408\n"
     ]
    },
    {
     "name": "stdout",
     "output_type": "stream",
     "text": [
      "[396]\ttrain-merror:0.00670333+0.000241034\ttest-merror:0.0107117+0.00059864\n"
     ]
    },
    {
     "name": "stdout",
     "output_type": "stream",
     "text": [
      "[397]\ttrain-merror:0.00670333+0.000241034\ttest-merror:0.0106887+0.000581713\n"
     ]
    },
    {
     "name": "stdout",
     "output_type": "stream",
     "text": [
      "[398]\ttrain-merror:0.006692+0.000226072\ttest-merror:0.0106887+0.000581713\n"
     ]
    },
    {
     "name": "stdout",
     "output_type": "stream",
     "text": [
      "[399]\ttrain-merror:0.006692+0.000226072\ttest-merror:0.010666+0.000566366\n"
     ]
    },
    {
     "name": "stdout",
     "output_type": "stream",
     "text": [
      "[400]\ttrain-merror:0.00668033+0.000210834\ttest-merror:0.010666+0.000566366\n"
     ]
    },
    {
     "name": "stdout",
     "output_type": "stream",
     "text": [
      "[401]\ttrain-merror:0.006692+0.000226072\ttest-merror:0.010643+0.000549422\n"
     ]
    },
    {
     "name": "stdout",
     "output_type": "stream",
     "text": [
      "[402]\ttrain-merror:0.006692+0.000226072\ttest-merror:0.010643+0.000549422\n"
     ]
    },
    {
     "name": "stdout",
     "output_type": "stream",
     "text": [
      "[403]\ttrain-merror:0.00668067+0.000238862\ttest-merror:0.010643+0.000549422\n"
     ]
    },
    {
     "name": "stdout",
     "output_type": "stream",
     "text": [
      "[404]\ttrain-merror:0.006669+0.000223903\ttest-merror:0.010643+0.000549422\n"
     ]
    },
    {
     "name": "stdout",
     "output_type": "stream",
     "text": [
      "[405]\ttrain-merror:0.00665767+0.000225634\ttest-merror:0.010666+0.000566366\n"
     ]
    },
    {
     "name": "stdout",
     "output_type": "stream",
     "text": [
      "[406]\ttrain-merror:0.00664633+0.000210834\ttest-merror:0.010666+0.000566366\n"
     ]
    },
    {
     "name": "stdout",
     "output_type": "stream",
     "text": [
      "[407]\ttrain-merror:0.00664633+0.000210834\ttest-merror:0.010643+0.000549422\n"
     ]
    },
    {
     "name": "stdout",
     "output_type": "stream",
     "text": [
      "[408]\ttrain-merror:0.006635+0.000196226\ttest-merror:0.010643+0.000552261\n"
     ]
    },
    {
     "name": "stdout",
     "output_type": "stream",
     "text": [
      "[409]\ttrain-merror:0.00662367+0.000198199\ttest-merror:0.010643+0.000552261\n"
     ]
    },
    {
     "name": "stdout",
     "output_type": "stream",
     "text": [
      "[410]\ttrain-merror:0.00662367+0.000198199\ttest-merror:0.01062+0.000533881\n"
     ]
    },
    {
     "name": "stdout",
     "output_type": "stream",
     "text": [
      "[411]\ttrain-merror:0.00661233+0.000183285\ttest-merror:0.01062+0.000533881\n"
     ]
    },
    {
     "name": "stdout",
     "output_type": "stream",
     "text": [
      "[412]\ttrain-merror:0.006612+0.000155373\ttest-merror:0.0105973+0.000520103\n"
     ]
    },
    {
     "name": "stdout",
     "output_type": "stream",
     "text": [
      "[413]\ttrain-merror:0.006555+0.000196226\ttest-merror:0.010529+0.000516895\n"
     ]
    },
    {
     "name": "stdout",
     "output_type": "stream",
     "text": [
      "[414]\ttrain-merror:0.006532+0.000210011\ttest-merror:0.0104603+0.000616546\n"
     ]
    },
    {
     "name": "stdout",
     "output_type": "stream",
     "text": [
      "[415]\ttrain-merror:0.006532+0.000210011\ttest-merror:0.0104603+0.000616546\n"
     ]
    },
    {
     "name": "stdout",
     "output_type": "stream",
     "text": [
      "[416]\ttrain-merror:0.006498+0.00019864\ttest-merror:0.0104147+0.000630408\n"
     ]
    },
    {
     "name": "stdout",
     "output_type": "stream",
     "text": [
      "[417]\ttrain-merror:0.00646367+0.000244693\ttest-merror:0.0103917+0.000662905\n"
     ]
    },
    {
     "name": "stdout",
     "output_type": "stream",
     "text": [
      "[418]\ttrain-merror:0.006429+0.000244242\ttest-merror:0.010369+0.000646296\n"
     ]
    },
    {
     "name": "stdout",
     "output_type": "stream",
     "text": [
      "[419]\ttrain-merror:0.006429+0.000244242\ttest-merror:0.0104147+0.000630408\n"
     ]
    },
    {
     "name": "stdout",
     "output_type": "stream",
     "text": [
      "[420]\ttrain-merror:0.00644033+0.000228928\ttest-merror:0.010392+0.000613769\n"
     ]
    },
    {
     "name": "stdout",
     "output_type": "stream",
     "text": [
      "[421]\ttrain-merror:0.00644033+0.000228928\ttest-merror:0.010415+0.000630662\n"
     ]
    },
    {
     "name": "stdout",
     "output_type": "stream",
     "text": [
      "[422]\ttrain-merror:0.00644033+0.000228928\ttest-merror:0.0104607+0.000662905\n"
     ]
    },
    {
     "name": "stdout",
     "output_type": "stream",
     "text": [
      "[423]\ttrain-merror:0.006429+0.000244242\ttest-merror:0.010415+0.000630662\n"
     ]
    },
    {
     "name": "stdout",
     "output_type": "stream",
     "text": [
      "[424]\ttrain-merror:0.00641767+0.000241034\ttest-merror:0.010415+0.000630662\n"
     ]
    },
    {
     "name": "stdout",
     "output_type": "stream",
     "text": [
      "[425]\ttrain-merror:0.006395+0.000237752\ttest-merror:0.0104377+0.00064606\n"
     ]
    },
    {
     "name": "stdout",
     "output_type": "stream",
     "text": [
      "[426]\ttrain-merror:0.006395+0.000237752\ttest-merror:0.010415+0.000630662\n"
     ]
    },
    {
     "name": "stdout",
     "output_type": "stream",
     "text": [
      "[427]\ttrain-merror:0.00637233+0.000211267\ttest-merror:0.010369+0.000646296\n"
     ]
    },
    {
     "name": "stdout",
     "output_type": "stream",
     "text": [
      "[428]\ttrain-merror:0.00636067+0.000209993\ttest-merror:0.010392+0.000663158\n"
     ]
    },
    {
     "name": "stdout",
     "output_type": "stream",
     "text": [
      "[429]\ttrain-merror:0.00633767+0.000183285\ttest-merror:0.010392+0.000663158\n"
     ]
    },
    {
     "name": "stdout",
     "output_type": "stream",
     "text": [
      "[430]\ttrain-merror:0.006315+0.000154106\ttest-merror:0.010346+0.000630662\n"
     ]
    },
    {
     "name": "stdout",
     "output_type": "stream",
     "text": [
      "[431]\ttrain-merror:0.00629233+0.000154131\ttest-merror:0.010346+0.000630662\n"
     ]
    },
    {
     "name": "stdout",
     "output_type": "stream",
     "text": [
      "[432]\ttrain-merror:0.00629233+0.000154131\ttest-merror:0.010346+0.000630662\n"
     ]
    },
    {
     "name": "stdout",
     "output_type": "stream",
     "text": [
      "[433]\ttrain-merror:0.00626933+0.000155813\ttest-merror:0.010346+0.000630662\n"
     ]
    },
    {
     "name": "stdout",
     "output_type": "stream",
     "text": [
      "[434]\ttrain-merror:0.006235+0.000170272\ttest-merror:0.010346+0.000630662\n"
     ]
    },
    {
     "name": "stdout",
     "output_type": "stream",
     "text": [
      "[435]\ttrain-merror:0.00621233+0.000186251\ttest-merror:0.010346+0.000630662\n"
     ]
    },
    {
     "name": "stdout",
     "output_type": "stream",
     "text": [
      "[436]\ttrain-merror:0.00621233+0.000186251\ttest-merror:0.010346+0.000630662\n"
     ]
    },
    {
     "name": "stdout",
     "output_type": "stream",
     "text": [
      "[437]\ttrain-merror:0.006178+0.000190664\ttest-merror:0.010346+0.000630662\n"
     ]
    },
    {
     "name": "stdout",
     "output_type": "stream",
     "text": [
      "[438]\ttrain-merror:0.006178+0.000190664\ttest-merror:0.0103233+0.000616546\n"
     ]
    },
    {
     "name": "stdout",
     "output_type": "stream",
     "text": [
      "[439]\ttrain-merror:0.006178+0.000190664\ttest-merror:0.0103233+0.000616546\n"
     ]
    },
    {
     "name": "stdout",
     "output_type": "stream",
     "text": [
      "[440]\ttrain-merror:0.00616667+0.000228928\ttest-merror:0.0103463+0.000635854\n"
     ]
    },
    {
     "name": "stdout",
     "output_type": "stream",
     "text": [
      "[441]\ttrain-merror:0.00616667+0.000228928\ttest-merror:0.0103463+0.000680687\n"
     ]
    },
    {
     "name": "stdout",
     "output_type": "stream",
     "text": [
      "[442]\ttrain-merror:0.00616667+0.000228928\ttest-merror:0.0103237+0.000667641\n"
     ]
    },
    {
     "name": "stdout",
     "output_type": "stream",
     "text": [
      "[443]\ttrain-merror:0.00616667+0.000228928\ttest-merror:0.0103007+0.000648476\n"
     ]
    },
    {
     "name": "stdout",
     "output_type": "stream",
     "text": [
      "[444]\ttrain-merror:0.00613267+0.000228928\ttest-merror:0.0103007+0.000648476\n"
     ]
    },
    {
     "name": "stdout",
     "output_type": "stream",
     "text": [
      "[445]\ttrain-merror:0.006121+0.000227971\ttest-merror:0.0103007+0.000655742\n"
     ]
    },
    {
     "name": "stdout",
     "output_type": "stream",
     "text": [
      "[446]\ttrain-merror:0.00610967+0.000234699\ttest-merror:0.010278+0.000645406\n"
     ]
    },
    {
     "name": "stdout",
     "output_type": "stream",
     "text": [
      "[447]\ttrain-merror:0.006064+0.000218231\ttest-merror:0.010232+0.000613694\n"
     ]
    },
    {
     "name": "stdout",
     "output_type": "stream",
     "text": [
      "[448]\ttrain-merror:0.00605233+0.000227787\ttest-merror:0.010209+0.000645406\n"
     ]
    },
    {
     "name": "stdout",
     "output_type": "stream",
     "text": [
      "[449]\ttrain-merror:0.00605233+0.000227787\ttest-merror:0.010209+0.000645406\n"
     ]
    },
    {
     "name": "stdout",
     "output_type": "stream",
     "text": [
      "[450]\ttrain-merror:0.00605233+0.000227787\ttest-merror:0.010232+0.000655904\n"
     ]
    },
    {
     "name": "stdout",
     "output_type": "stream",
     "text": [
      "[451]\ttrain-merror:0.006041+0.000211891\ttest-merror:0.010232+0.000655904\n"
     ]
    },
    {
     "name": "stdout",
     "output_type": "stream",
     "text": [
      "[452]\ttrain-merror:0.006064+0.000193747\ttest-merror:0.010232+0.000655904\n"
     ]
    },
    {
     "name": "stdout",
     "output_type": "stream",
     "text": [
      "[453]\ttrain-merror:0.00602967+0.000218492\ttest-merror:0.010232+0.000648746\n"
     ]
    },
    {
     "name": "stdout",
     "output_type": "stream",
     "text": [
      "[454]\ttrain-merror:0.00601833+0.000227787\ttest-merror:0.010232+0.000648746\n"
     ]
    },
    {
     "name": "stdout",
     "output_type": "stream",
     "text": [
      "[455]\ttrain-merror:0.00601833+0.000232855\ttest-merror:0.010232+0.000648746\n"
     ]
    },
    {
     "name": "stdout",
     "output_type": "stream",
     "text": [
      "[456]\ttrain-merror:0.00599567+0.000248444\ttest-merror:0.0102093+0.000635854\n"
     ]
    },
    {
     "name": "stdout",
     "output_type": "stream",
     "text": [
      "[457]\ttrain-merror:0.006007+0.0002378\ttest-merror:0.010118+0.000636398\n"
     ]
    },
    {
     "name": "stdout",
     "output_type": "stream",
     "text": [
      "[458]\ttrain-merror:0.00601833+0.000227787\ttest-merror:0.010118+0.000636398\n"
     ]
    },
    {
     "name": "stdout",
     "output_type": "stream",
     "text": [
      "[459]\ttrain-merror:0.00602967+0.000222043\ttest-merror:0.010118+0.000636398\n"
     ]
    },
    {
     "name": "stdout",
     "output_type": "stream",
     "text": [
      "[460]\ttrain-merror:0.00602967+0.000222043\ttest-merror:0.010118+0.000636398\n"
     ]
    },
    {
     "name": "stdout",
     "output_type": "stream",
     "text": [
      "[461]\ttrain-merror:0.00599567+0.000248444\ttest-merror:0.010118+0.000636398\n"
     ]
    },
    {
     "name": "stdout",
     "output_type": "stream",
     "text": [
      "[462]\ttrain-merror:0.005984+0.000259978\ttest-merror:0.010118+0.000636398\n"
     ]
    },
    {
     "name": "stdout",
     "output_type": "stream",
     "text": [
      "[463]\ttrain-merror:0.005927+0.000291983\ttest-merror:0.010095+0.000667824\n"
     ]
    },
    {
     "name": "stdout",
     "output_type": "stream",
     "text": [
      "[464]\ttrain-merror:0.00591567+0.000301581\ttest-merror:0.0100493+0.000653632\n"
     ]
    },
    {
     "name": "stdout",
     "output_type": "stream",
     "text": [
      "[465]\ttrain-merror:0.005927+0.000291983\ttest-merror:0.010095+0.000667824\n"
     ]
    },
    {
     "name": "stdout",
     "output_type": "stream",
     "text": [
      "[466]\ttrain-merror:0.005904+0.000308137\ttest-merror:0.0100263+0.000629042\n"
     ]
    },
    {
     "name": "stdout",
     "output_type": "stream",
     "text": [
      "[467]\ttrain-merror:0.00588133+0.000324103\ttest-merror:0.0100263+0.000629042\n"
     ]
    },
    {
     "name": "stdout",
     "output_type": "stream",
     "text": [
      "[468]\ttrain-merror:0.00587+0.000331217\ttest-merror:0.0100263+0.000629042\n"
     ]
    },
    {
     "name": "stdout",
     "output_type": "stream",
     "text": [
      "[469]\ttrain-merror:0.00587+0.000331217\ttest-merror:0.0100263+0.000629042\n"
     ]
    },
    {
     "name": "stdout",
     "output_type": "stream",
     "text": [
      "[470]\ttrain-merror:0.005847+0.000298722\ttest-merror:0.0100263+0.000629042\n"
     ]
    },
    {
     "name": "stdout",
     "output_type": "stream",
     "text": [
      "[471]\ttrain-merror:0.005847+0.000298722\ttest-merror:0.0100033+0.000623177\n"
     ]
    },
    {
     "name": "stdout",
     "output_type": "stream",
     "text": [
      "[472]\ttrain-merror:0.005847+0.000298722\ttest-merror:0.00998067+0.000619017\n"
     ]
    },
    {
     "name": "stdout",
     "output_type": "stream",
     "text": [
      "[473]\ttrain-merror:0.00581267+0.000323904\ttest-merror:0.009958+0.000648429\n"
     ]
    },
    {
     "name": "stdout",
     "output_type": "stream",
     "text": [
      "[474]\ttrain-merror:0.00581267+0.000323904\ttest-merror:0.009935+0.000678519\n"
     ]
    },
    {
     "name": "stdout",
     "output_type": "stream",
     "text": [
      "[475]\ttrain-merror:0.00580133+0.000333353\ttest-merror:0.009935+0.000678519\n"
     ]
    },
    {
     "name": "stdout",
     "output_type": "stream",
     "text": [
      "[476]\ttrain-merror:0.00580133+0.000333353\ttest-merror:0.00988933+0.000703933\n"
     ]
    },
    {
     "name": "stdout",
     "output_type": "stream",
     "text": [
      "[477]\ttrain-merror:0.00580133+0.000333353\ttest-merror:0.00988933+0.000703933\n"
     ]
    },
    {
     "name": "stdout",
     "output_type": "stream",
     "text": [
      "[478]\ttrain-merror:0.00580133+0.000333353\ttest-merror:0.00986667+0.000678452\n"
     ]
    },
    {
     "name": "stdout",
     "output_type": "stream",
     "text": [
      "[479]\ttrain-merror:0.00578967+0.000340075\ttest-merror:0.00986667+0.000678452\n"
     ]
    },
    {
     "name": "stdout",
     "output_type": "stream",
     "text": [
      "[480]\ttrain-merror:0.00578967+0.000340075\ttest-merror:0.00984367+0.000653189\n"
     ]
    },
    {
     "name": "stdout",
     "output_type": "stream",
     "text": [
      "[481]\ttrain-merror:0.00578967+0.000340075\ttest-merror:0.00984367+0.000653189\n"
     ]
    },
    {
     "name": "stdout",
     "output_type": "stream",
     "text": [
      "[482]\ttrain-merror:0.00578967+0.000340075\ttest-merror:0.009821+0.000648429\n"
     ]
    },
    {
     "name": "stdout",
     "output_type": "stream",
     "text": [
      "[483]\ttrain-merror:0.00578967+0.000340075\ttest-merror:0.009821+0.000648429\n"
     ]
    },
    {
     "name": "stdout",
     "output_type": "stream",
     "text": [
      "[484]\ttrain-merror:0.00577833+0.000347231\ttest-merror:0.009821+0.000648429\n"
     ]
    },
    {
     "name": "stdout",
     "output_type": "stream",
     "text": [
      "[485]\ttrain-merror:0.00577833+0.000347231\ttest-merror:0.009821+0.000648429\n"
     ]
    },
    {
     "name": "stdout",
     "output_type": "stream",
     "text": [
      "[486]\ttrain-merror:0.00577833+0.000347231\ttest-merror:0.009798+0.000678519\n"
     ]
    },
    {
     "name": "stdout",
     "output_type": "stream",
     "text": [
      "[487]\ttrain-merror:0.00574433+0.000370995\ttest-merror:0.009798+0.000678519\n"
     ]
    },
    {
     "name": "stdout",
     "output_type": "stream",
     "text": [
      "[488]\ttrain-merror:0.00574433+0.000370995\ttest-merror:0.009798+0.000678519\n"
     ]
    },
    {
     "name": "stdout",
     "output_type": "stream",
     "text": [
      "[489]\ttrain-merror:0.00574433+0.000370995\ttest-merror:0.009798+0.000714195\n"
     ]
    },
    {
     "name": "stdout",
     "output_type": "stream",
     "text": [
      "[490]\ttrain-merror:0.00573267+0.000379514\ttest-merror:0.00977533+0.000708384\n"
     ]
    },
    {
     "name": "stdout",
     "output_type": "stream",
     "text": [
      "[491]\ttrain-merror:0.00570967+0.000371467\ttest-merror:0.00972967+0.000678452\n"
     ]
    },
    {
     "name": "stdout",
     "output_type": "stream",
     "text": [
      "[492]\ttrain-merror:0.005687+0.000363718\ttest-merror:0.009684+0.000648429\n"
     ]
    },
    {
     "name": "stdout",
     "output_type": "stream",
     "text": [
      "[493]\ttrain-merror:0.005687+0.000387495\ttest-merror:0.009684+0.000704365\n"
     ]
    },
    {
     "name": "stdout",
     "output_type": "stream",
     "text": [
      "[494]\ttrain-merror:0.00565267+0.000388752\ttest-merror:0.00961533+0.000629042\n"
     ]
    },
    {
     "name": "stdout",
     "output_type": "stream",
     "text": [
      "[495]\ttrain-merror:0.00561833+0.000363498\ttest-merror:0.009661+0.000678519\n"
     ]
    },
    {
     "name": "stdout",
     "output_type": "stream",
     "text": [
      "[496]\ttrain-merror:0.005607+0.000347483\ttest-merror:0.00961533+0.000629042\n"
     ]
    },
    {
     "name": "stdout",
     "output_type": "stream",
     "text": [
      "[497]\ttrain-merror:0.00559533+0.000355439\ttest-merror:0.00959233+0.000623177\n"
     ]
    },
    {
     "name": "stdout",
     "output_type": "stream",
     "text": [
      "[498]\ttrain-merror:0.00558433+0.000365643\ttest-merror:0.00959233+0.000623177\n"
     ]
    },
    {
     "name": "stdout",
     "output_type": "stream",
     "text": [
      "[499]\ttrain-merror:0.00556133+0.000333353\ttest-merror:0.00961533+0.000629042\n"
     ]
    },
    {
     "name": "stdout",
     "output_type": "stream",
     "text": [
      "[500]\ttrain-merror:0.005573+0.000349727\ttest-merror:0.00959233+0.000623177\n"
     ]
    },
    {
     "name": "stdout",
     "output_type": "stream",
     "text": [
      "[501]\ttrain-merror:0.00557267+0.000372503\ttest-merror:0.00956967+0.000598576\n"
     ]
    },
    {
     "name": "stdout",
     "output_type": "stream",
     "text": [
      "[502]\ttrain-merror:0.00555+0.000363718\ttest-merror:0.00954667+0.000574366\n"
     ]
    },
    {
     "name": "stdout",
     "output_type": "stream",
     "text": [
      "[503]\ttrain-merror:0.005504+0.000349727\ttest-merror:0.009524+0.000605089\n"
     ]
    },
    {
     "name": "stdout",
     "output_type": "stream",
     "text": [
      "[504]\ttrain-merror:0.00549267+0.000356319\ttest-merror:0.009547+0.000628946\n"
     ]
    },
    {
     "name": "stdout",
     "output_type": "stream",
     "text": [
      "[505]\ttrain-merror:0.00550433+0.000347231\ttest-merror:0.009524+0.000605089\n"
     ]
    },
    {
     "name": "stdout",
     "output_type": "stream",
     "text": [
      "[506]\ttrain-merror:0.005493+0.000331217\ttest-merror:0.00950133+0.0005824\n"
     ]
    },
    {
     "name": "stdout",
     "output_type": "stream",
     "text": [
      "[507]\ttrain-merror:0.005493+0.000331217\ttest-merror:0.009547+0.000628946\n"
     ]
    },
    {
     "name": "stdout",
     "output_type": "stream",
     "text": [
      "[508]\ttrain-merror:0.00547033+0.000322912\ttest-merror:0.009524+0.000605089\n"
     ]
    },
    {
     "name": "stdout",
     "output_type": "stream",
     "text": [
      "[509]\ttrain-merror:0.00547033+0.000322912\ttest-merror:0.00950133+0.0005824\n"
     ]
    },
    {
     "name": "stdout",
     "output_type": "stream",
     "text": [
      "[510]\ttrain-merror:0.00545867+0.00033147\ttest-merror:0.009524+0.000551344\n"
     ]
    },
    {
     "name": "stdout",
     "output_type": "stream",
     "text": [
      "[511]\ttrain-merror:0.00544733+0.000340343\ttest-merror:0.00950133+0.0005824\n"
     ]
    },
    {
     "name": "stdout",
     "output_type": "stream",
     "text": [
      "[512]\ttrain-merror:0.005436+0.000349727\ttest-merror:0.00950133+0.0005824\n"
     ]
    },
    {
     "name": "stdout",
     "output_type": "stream",
     "text": [
      "[513]\ttrain-merror:0.00544733+0.000340343\ttest-merror:0.00945567+0.000645264\n"
     ]
    },
    {
     "name": "stdout",
     "output_type": "stream",
     "text": [
      "[514]\ttrain-merror:0.00542433+0.000355439\ttest-merror:0.00945567+0.000645264\n"
     ]
    },
    {
     "name": "stdout",
     "output_type": "stream",
     "text": [
      "[515]\ttrain-merror:0.005413+0.000363718\ttest-merror:0.00945567+0.000645264\n"
     ]
    },
    {
     "name": "stdout",
     "output_type": "stream",
     "text": [
      "[516]\ttrain-merror:0.005413+0.000363718\ttest-merror:0.00945567+0.000645264\n"
     ]
    },
    {
     "name": "stdout",
     "output_type": "stream",
     "text": [
      "[517]\ttrain-merror:0.00540167+0.000371467\ttest-merror:0.00945567+0.000645264\n"
     ]
    },
    {
     "name": "stdout",
     "output_type": "stream",
     "text": [
      "[518]\ttrain-merror:0.00540167+0.000371467\ttest-merror:0.00945567+0.000645264\n"
     ]
    },
    {
     "name": "stdout",
     "output_type": "stream",
     "text": [
      "[519]\ttrain-merror:0.00539033+0.000379734\ttest-merror:0.00945567+0.000645264\n"
     ]
    },
    {
     "name": "stdout",
     "output_type": "stream",
     "text": [
      "[520]\ttrain-merror:0.00537867+0.000388752\ttest-merror:0.00945567+0.000645264\n"
     ]
    },
    {
     "name": "stdout",
     "output_type": "stream",
     "text": [
      "[521]\ttrain-merror:0.005367+0.000372298\ttest-merror:0.00945567+0.000645264\n"
     ]
    },
    {
     "name": "stdout",
     "output_type": "stream",
     "text": [
      "[522]\ttrain-merror:0.00534433+0.000388282\ttest-merror:0.00945567+0.000645264\n"
     ]
    },
    {
     "name": "stdout",
     "output_type": "stream",
     "text": [
      "[523]\ttrain-merror:0.00531033+0.000365643\ttest-merror:0.00945567+0.000645264\n"
     ]
    },
    {
     "name": "stdout",
     "output_type": "stream",
     "text": [
      "[524]\ttrain-merror:0.00529867+0.000372503\ttest-merror:0.00945567+0.000645264\n"
     ]
    },
    {
     "name": "stdout",
     "output_type": "stream",
     "text": [
      "[525]\ttrain-merror:0.005276+0.000365831\ttest-merror:0.00945567+0.000645264\n"
     ]
    },
    {
     "name": "stdout",
     "output_type": "stream",
     "text": [
      "[526]\ttrain-merror:0.005276+0.000365831\ttest-merror:0.00945567+0.000645264\n"
     ]
    },
    {
     "name": "stdout",
     "output_type": "stream",
     "text": [
      "[527]\ttrain-merror:0.00526467+0.000372503\ttest-merror:0.009433+0.000636398\n"
     ]
    },
    {
     "name": "stdout",
     "output_type": "stream",
     "text": [
      "[528]\ttrain-merror:0.005219+0.000331217\ttest-merror:0.00936433+0.000571436\n"
     ]
    },
    {
     "name": "stdout",
     "output_type": "stream",
     "text": [
      "[529]\ttrain-merror:0.005219+0.000331217\ttest-merror:0.00934133+0.000560313\n"
     ]
    },
    {
     "name": "stdout",
     "output_type": "stream",
     "text": [
      "[530]\ttrain-merror:0.005219+0.000331217\ttest-merror:0.00934133+0.000560313\n"
     ]
    },
    {
     "name": "stdout",
     "output_type": "stream",
     "text": [
      "[531]\ttrain-merror:0.005219+0.000331217\ttest-merror:0.00931833+0.000592216\n"
     ]
    },
    {
     "name": "stdout",
     "output_type": "stream",
     "text": [
      "[532]\ttrain-merror:0.005219+0.000331217\ttest-merror:0.00931833+0.000592216\n"
     ]
    },
    {
     "name": "stdout",
     "output_type": "stream",
     "text": [
      "[533]\ttrain-merror:0.00520733+0.000340343\ttest-merror:0.00929567+0.00062372\n"
     ]
    },
    {
     "name": "stdout",
     "output_type": "stream",
     "text": [
      "[534]\ttrain-merror:0.00518467+0.000333821\ttest-merror:0.00929567+0.00062372\n"
     ]
    },
    {
     "name": "stdout",
     "output_type": "stream",
     "text": [
      "[535]\ttrain-merror:0.005173+0.00031746\ttest-merror:0.00929567+0.00062372\n"
     ]
    },
    {
     "name": "stdout",
     "output_type": "stream",
     "text": [
      "[536]\ttrain-merror:0.005173+0.00031746\ttest-merror:0.00929567+0.00062372\n"
     ]
    },
    {
     "name": "stdout",
     "output_type": "stream",
     "text": [
      "[537]\ttrain-merror:0.00516167+0.000327488\ttest-merror:0.009273+0.000613694\n"
     ]
    },
    {
     "name": "stdout",
     "output_type": "stream",
     "text": [
      "[538]\ttrain-merror:0.005116+0.000308137\ttest-merror:0.00925+0.000605089\n"
     ]
    },
    {
     "name": "stdout",
     "output_type": "stream",
     "text": [
      "[539]\ttrain-merror:0.00510467+0.00031764\ttest-merror:0.00925+0.000605089\n"
     ]
    },
    {
     "name": "stdout",
     "output_type": "stream",
     "text": [
      "[540]\ttrain-merror:0.00509333+0.000324103\ttest-merror:0.00922733+0.0005824\n"
     ]
    },
    {
     "name": "stdout",
     "output_type": "stream",
     "text": [
      "[541]\ttrain-merror:0.00509333+0.000322912\ttest-merror:0.00920467+0.000574366\n"
     ]
    },
    {
     "name": "stdout",
     "output_type": "stream",
     "text": [
      "[542]\ttrain-merror:0.005082+0.000331217\ttest-merror:0.00920467+0.000574366\n"
     ]
    },
    {
     "name": "stdout",
     "output_type": "stream",
     "text": [
      "[543]\ttrain-merror:0.005036+0.000291983\ttest-merror:0.00920467+0.000574366\n"
     ]
    },
    {
     "name": "stdout",
     "output_type": "stream",
     "text": [
      "[544]\ttrain-merror:0.005036+0.000291983\ttest-merror:0.00918167+0.000605542\n"
     ]
    },
    {
     "name": "stdout",
     "output_type": "stream",
     "text": [
      "[545]\ttrain-merror:0.00502467+0.000298976\ttest-merror:0.00918167+0.000605542\n"
     ]
    },
    {
     "name": "stdout",
     "output_type": "stream",
     "text": [
      "[546]\ttrain-merror:0.005013+0.000306884\ttest-merror:0.00915867+0.00058253\n"
     ]
    },
    {
     "name": "stdout",
     "output_type": "stream",
     "text": [
      "[547]\ttrain-merror:0.005013+0.000306884\ttest-merror:0.00911333+0.000592216\n"
     ]
    },
    {
     "name": "stdout",
     "output_type": "stream",
     "text": [
      "[548]\ttrain-merror:0.00500167+0.000290857\ttest-merror:0.00904467+0.000533667\n"
     ]
    },
    {
     "name": "stdout",
     "output_type": "stream",
     "text": [
      "[549]\ttrain-merror:0.004979+0.000283183\ttest-merror:0.00904467+0.000533667\n"
     ]
    },
    {
     "name": "stdout",
     "output_type": "stream",
     "text": [
      "[550]\ttrain-merror:0.004979+0.000283183\ttest-merror:0.00904467+0.000533667\n"
     ]
    },
    {
     "name": "stdout",
     "output_type": "stream",
     "text": [
      "[551]\ttrain-merror:0.004979+0.000283183\ttest-merror:0.00904467+0.000533667\n"
     ]
    },
    {
     "name": "stdout",
     "output_type": "stream",
     "text": [
      "[552]\ttrain-merror:0.00496767+0.000292178\ttest-merror:0.00899867+0.000552068\n"
     ]
    },
    {
     "name": "stdout",
     "output_type": "stream",
     "text": [
      "[553]\ttrain-merror:0.00494467+0.000285425\ttest-merror:0.008976+0.000539751\n"
     ]
    },
    {
     "name": "stdout",
     "output_type": "stream",
     "text": [
      "[554]\ttrain-merror:0.004922+0.000298722\ttest-merror:0.008976+0.000539751\n"
     ]
    },
    {
     "name": "stdout",
     "output_type": "stream",
     "text": [
      "[555]\ttrain-merror:0.00491067+0.000282712\ttest-merror:0.008976+0.000539751\n"
     ]
    },
    {
     "name": "stdout",
     "output_type": "stream",
     "text": [
      "[556]\ttrain-merror:0.004899+0.00031746\ttest-merror:0.008976+0.000539751\n"
     ]
    },
    {
     "name": "stdout",
     "output_type": "stream",
     "text": [
      "[557]\ttrain-merror:0.004899+0.000291983\ttest-merror:0.008953+0.000528947\n"
     ]
    },
    {
     "name": "stdout",
     "output_type": "stream",
     "text": [
      "[558]\ttrain-merror:0.00487633+0.00030794\ttest-merror:0.008953+0.000528947\n"
     ]
    },
    {
     "name": "stdout",
     "output_type": "stream",
     "text": [
      "[559]\ttrain-merror:0.00487633+0.00030794\ttest-merror:0.008953+0.000528947\n"
     ]
    },
    {
     "name": "stdout",
     "output_type": "stream",
     "text": [
      "[560]\ttrain-merror:0.00486467+0.000315204\ttest-merror:0.00893+0.000507646\n"
     ]
    },
    {
     "name": "stdout",
     "output_type": "stream",
     "text": [
      "[561]\ttrain-merror:0.004842+0.000333536\ttest-merror:0.00893+0.000507646\n"
     ]
    },
    {
     "name": "stdout",
     "output_type": "stream",
     "text": [
      "[562]\ttrain-merror:0.00483033+0.000343756\ttest-merror:0.00893+0.000507646\n"
     ]
    },
    {
     "name": "stdout",
     "output_type": "stream",
     "text": [
      "[563]\ttrain-merror:0.00480767+0.00033844\ttest-merror:0.008907+0.000539751\n"
     ]
    },
    {
     "name": "stdout",
     "output_type": "stream",
     "text": [
      "[564]\ttrain-merror:0.00480767+0.00033844\ttest-merror:0.00888433+0.000571436\n"
     ]
    },
    {
     "name": "stdout",
     "output_type": "stream",
     "text": [
      "[565]\ttrain-merror:0.00478467+0.000306686\ttest-merror:0.00888433+0.000571436\n"
     ]
    },
    {
     "name": "stdout",
     "output_type": "stream",
     "text": [
      "[566]\ttrain-merror:0.00478467+0.000306686\ttest-merror:0.00886133+0.000603628\n"
     ]
    },
    {
     "name": "stdout",
     "output_type": "stream",
     "text": [
      "[567]\ttrain-merror:0.00478467+0.000306686\ttest-merror:0.00886133+0.000603628\n"
     ]
    },
    {
     "name": "stdout",
     "output_type": "stream",
     "text": [
      "[568]\ttrain-merror:0.00478467+0.000306686\ttest-merror:0.008793+0.000549422\n"
     ]
    },
    {
     "name": "stdout",
     "output_type": "stream",
     "text": [
      "[569]\ttrain-merror:0.00477333+0.000291102\ttest-merror:0.00881567+0.000566151\n"
     ]
    },
    {
     "name": "stdout",
     "output_type": "stream",
     "text": [
      "[570]\ttrain-merror:0.00477333+0.000291102\ttest-merror:0.00874733+0.000565895\n"
     ]
    },
    {
     "name": "stdout",
     "output_type": "stream",
     "text": [
      "[571]\ttrain-merror:0.00477333+0.000291102\ttest-merror:0.00872467+0.000551986\n"
     ]
    },
    {
     "name": "stdout",
     "output_type": "stream",
     "text": [
      "[572]\ttrain-merror:0.00475067+0.000287064\ttest-merror:0.00870167+0.000539454\n"
     ]
    },
    {
     "name": "stdout",
     "output_type": "stream",
     "text": [
      "[573]\ttrain-merror:0.00475067+0.000287064\ttest-merror:0.00870167+0.000539454\n"
     ]
    },
    {
     "name": "stdout",
     "output_type": "stream",
     "text": [
      "[574]\ttrain-merror:0.00475067+0.000287064\ttest-merror:0.00870167+0.000539454\n"
     ]
    },
    {
     "name": "stdout",
     "output_type": "stream",
     "text": [
      "[575]\ttrain-merror:0.00475067+0.000287064\ttest-merror:0.00870167+0.000539454\n"
     ]
    },
    {
     "name": "stdout",
     "output_type": "stream",
     "text": [
      "[576]\ttrain-merror:0.00470467+0.000253951\ttest-merror:0.00870167+0.000539454\n"
     ]
    },
    {
     "name": "stdout",
     "output_type": "stream",
     "text": [
      "[577]\ttrain-merror:0.00470467+0.000271674\ttest-merror:0.008679+0.000519912\n"
     ]
    },
    {
     "name": "stdout",
     "output_type": "stream",
     "text": [
      "[578]\ttrain-merror:0.004682+0.000268808\ttest-merror:0.00865633+0.000507811\n"
     ]
    },
    {
     "name": "stdout",
     "output_type": "stream",
     "text": [
      "[579]\ttrain-merror:0.00464767+0.000240956\ttest-merror:0.00872467+0.000549186\n"
     ]
    },
    {
     "name": "stdout",
     "output_type": "stream",
     "text": [
      "[580]\ttrain-merror:0.00463667+0.000271674\ttest-merror:0.00865633+0.000507811\n"
     ]
    },
    {
     "name": "stdout",
     "output_type": "stream",
     "text": [
      "[581]\ttrain-merror:0.00457933+0.000241034\ttest-merror:0.008702+0.000533881\n"
     ]
    },
    {
     "name": "stdout",
     "output_type": "stream",
     "text": [
      "[582]\ttrain-merror:0.004579+0.000268808\ttest-merror:0.008702+0.000533881\n"
     ]
    },
    {
     "name": "stdout",
     "output_type": "stream",
     "text": [
      "[583]\ttrain-merror:0.00456767+0.000253951\ttest-merror:0.008702+0.000533881\n"
     ]
    },
    {
     "name": "stdout",
     "output_type": "stream",
     "text": [
      "[584]\ttrain-merror:0.00456767+0.000253951\ttest-merror:0.008702+0.000533881\n"
     ]
    },
    {
     "name": "stdout",
     "output_type": "stream",
     "text": [
      "[585]\ttrain-merror:0.00456767+0.000253951\ttest-merror:0.008702+0.000533881\n"
     ]
    },
    {
     "name": "stdout",
     "output_type": "stream",
     "text": [
      "[586]\ttrain-merror:0.00455633+0.000239244\ttest-merror:0.00872467+0.000549186\n"
     ]
    },
    {
     "name": "stdout",
     "output_type": "stream",
     "text": [
      "[587]\ttrain-merror:0.00454467+0.000224293\ttest-merror:0.00872467+0.000549186\n"
     ]
    },
    {
     "name": "stdout",
     "output_type": "stream",
     "text": [
      "[588]\ttrain-merror:0.004522+0.000251481\ttest-merror:0.00872467+0.000549186\n"
     ]
    },
    {
     "name": "stdout",
     "output_type": "stream",
     "text": [
      "[589]\ttrain-merror:0.004488+0.000266448\ttest-merror:0.00870167+0.000533667\n"
     ]
    },
    {
     "name": "stdout",
     "output_type": "stream",
     "text": [
      "[590]\ttrain-merror:0.00445367+0.000256125\ttest-merror:0.00870167+0.000533667\n"
     ]
    },
    {
     "name": "stdout",
     "output_type": "stream",
     "text": [
      "[591]\ttrain-merror:0.00444233+0.000241034\ttest-merror:0.00870167+0.000533667\n"
     ]
    },
    {
     "name": "stdout",
     "output_type": "stream",
     "text": [
      "[592]\ttrain-merror:0.00444233+0.000241034\ttest-merror:0.00870167+0.000533667\n"
     ]
    },
    {
     "name": "stdout",
     "output_type": "stream",
     "text": [
      "[593]\ttrain-merror:0.004431+0.000244242\ttest-merror:0.00870167+0.000533667\n"
     ]
    },
    {
     "name": "stdout",
     "output_type": "stream",
     "text": [
      "[594]\ttrain-merror:0.00437367+0.000260095\ttest-merror:0.008679+0.000519912\n"
     ]
    },
    {
     "name": "stdout",
     "output_type": "stream",
     "text": [
      "[595]\ttrain-merror:0.00435067+0.000228928\ttest-merror:0.008679+0.000519912\n"
     ]
    },
    {
     "name": "stdout",
     "output_type": "stream",
     "text": [
      "[596]\ttrain-merror:0.00433933+0.00021372\ttest-merror:0.008679+0.000519912\n"
     ]
    },
    {
     "name": "stdout",
     "output_type": "stream",
     "text": [
      "[597]\ttrain-merror:0.00433933+0.00021372\ttest-merror:0.008679+0.000519912\n"
     ]
    },
    {
     "name": "stdout",
     "output_type": "stream",
     "text": [
      "[598]\ttrain-merror:0.004328+0.000217331\ttest-merror:0.008679+0.000519912\n"
     ]
    },
    {
     "name": "stdout",
     "output_type": "stream",
     "text": [
      "[599]\ttrain-merror:0.004328+0.000226072\ttest-merror:0.008679+0.000519912\n"
     ]
    },
    {
     "name": "stdout",
     "output_type": "stream",
     "text": [
      "[600]\ttrain-merror:0.00431667+0.000228928\ttest-merror:0.008679+0.000519912\n"
     ]
    },
    {
     "name": "stdout",
     "output_type": "stream",
     "text": [
      "[601]\ttrain-merror:0.00431667+0.000228928\ttest-merror:0.008679+0.000519912\n"
     ]
    },
    {
     "name": "stdout",
     "output_type": "stream",
     "text": [
      "[602]\ttrain-merror:0.00431667+0.000228928\ttest-merror:0.008679+0.000519912\n"
     ]
    },
    {
     "name": "stdout",
     "output_type": "stream",
     "text": [
      "[603]\ttrain-merror:0.00430533+0.000241034\ttest-merror:0.008679+0.000519912\n"
     ]
    },
    {
     "name": "stdout",
     "output_type": "stream",
     "text": [
      "[604]\ttrain-merror:0.004294+0.000226072\ttest-merror:0.008679+0.000519912\n"
     ]
    },
    {
     "name": "stdout",
     "output_type": "stream",
     "text": [
      "[605]\ttrain-merror:0.00427133+0.000232855\ttest-merror:0.008679+0.000519912\n"
     ]
    },
    {
     "name": "stdout",
     "output_type": "stream",
     "text": [
      "[606]\ttrain-merror:0.004248+0.000228829\ttest-merror:0.008656+0.000552261\n"
     ]
    },
    {
     "name": "stdout",
     "output_type": "stream",
     "text": [
      "[607]\ttrain-merror:0.00422533+0.000198564\ttest-merror:0.008656+0.000552261\n"
     ]
    },
    {
     "name": "stdout",
     "output_type": "stream",
     "text": [
      "[608]\ttrain-merror:0.004214+0.000183659\ttest-merror:0.008656+0.000552261\n"
     ]
    },
    {
     "name": "stdout",
     "output_type": "stream",
     "text": [
      "[609]\ttrain-merror:0.00420267+0.000196614\ttest-merror:0.008656+0.000552261\n"
     ]
    },
    {
     "name": "stdout",
     "output_type": "stream",
     "text": [
      "[610]\ttrain-merror:0.00417967+0.000211267\ttest-merror:0.008656+0.000552261\n"
     ]
    },
    {
     "name": "stdout",
     "output_type": "stream",
     "text": [
      "[611]\ttrain-merror:0.00417967+0.000211267\ttest-merror:0.008656+0.000552261\n"
     ]
    },
    {
     "name": "stdout",
     "output_type": "stream",
     "text": [
      "[612]\ttrain-merror:0.004168+0.000196226\ttest-merror:0.008633+0.000539751\n"
     ]
    },
    {
     "name": "stdout",
     "output_type": "stream",
     "text": [
      "[613]\ttrain-merror:0.00415667+0.000181858\ttest-merror:0.008633+0.000539751\n"
     ]
    },
    {
     "name": "stdout",
     "output_type": "stream",
     "text": [
      "[614]\ttrain-merror:0.00412267+0.000168532\ttest-merror:0.00861033+0.000520191\n"
     ]
    },
    {
     "name": "stdout",
     "output_type": "stream",
     "text": [
      "[615]\ttrain-merror:0.004111+0.000155373\ttest-merror:0.00856467+0.000533667\n"
     ]
    },
    {
     "name": "stdout",
     "output_type": "stream",
     "text": [
      "[616]\ttrain-merror:0.00406533+0.000190204\ttest-merror:0.00856467+0.000533667\n"
     ]
    },
    {
     "name": "stdout",
     "output_type": "stream",
     "text": [
      "[617]\ttrain-merror:0.004054+0.000179705\ttest-merror:0.00856467+0.000533667\n"
     ]
    },
    {
     "name": "stdout",
     "output_type": "stream",
     "text": [
      "[618]\ttrain-merror:0.004054+0.000179705\ttest-merror:0.00856467+0.000533667\n"
     ]
    },
    {
     "name": "stdout",
     "output_type": "stream",
     "text": [
      "[619]\ttrain-merror:0.004054+0.000179705\ttest-merror:0.00856467+0.000533667\n"
     ]
    },
    {
     "name": "stdout",
     "output_type": "stream",
     "text": [
      "[620]\ttrain-merror:0.004054+0.000179705\ttest-merror:0.00856467+0.000533667\n"
     ]
    },
    {
     "name": "stdout",
     "output_type": "stream",
     "text": [
      "[621]\ttrain-merror:0.00404267+0.000170071\ttest-merror:0.00856467+0.000533667\n"
     ]
    },
    {
     "name": "stdout",
     "output_type": "stream",
     "text": [
      "[622]\ttrain-merror:0.004031+0.00016122\ttest-merror:0.008542+0.000516895\n"
     ]
    },
    {
     "name": "stdout",
     "output_type": "stream",
     "text": [
      "[623]\ttrain-merror:0.00401967+0.000153834\ttest-merror:0.00849633+0.000487774\n"
     ]
    },
    {
     "name": "stdout",
     "output_type": "stream",
     "text": [
      "[624]\ttrain-merror:0.00398567+0.000153834\ttest-merror:0.008519+0.000501401\n"
     ]
    },
    {
     "name": "stdout",
     "output_type": "stream",
     "text": [
      "[625]\ttrain-merror:0.00397433+0.000147823\ttest-merror:0.00849633+0.000487774\n"
     ]
    },
    {
     "name": "stdout",
     "output_type": "stream",
     "text": [
      "[626]\ttrain-merror:0.003963+0.000137879\ttest-merror:0.00847333+0.000520103\n"
     ]
    },
    {
     "name": "stdout",
     "output_type": "stream",
     "text": [
      "[627]\ttrain-merror:0.00395133+0.00012893\ttest-merror:0.00847333+0.000520103\n"
     ]
    },
    {
     "name": "stdout",
     "output_type": "stream",
     "text": [
      "[628]\ttrain-merror:0.00395133+0.00012893\ttest-merror:0.00847333+0.000520103\n"
     ]
    },
    {
     "name": "stdout",
     "output_type": "stream",
     "text": [
      "[629]\ttrain-merror:0.00393967+0.000121475\ttest-merror:0.00845033+0.000507811\n"
     ]
    },
    {
     "name": "stdout",
     "output_type": "stream",
     "text": [
      "[630]\ttrain-merror:0.00392833+0.000116035\ttest-merror:0.00845033+0.000507811\n"
     ]
    },
    {
     "name": "stdout",
     "output_type": "stream",
     "text": [
      "[631]\ttrain-merror:0.00391667+0.000132114\ttest-merror:0.00842767+0.000539454\n"
     ]
    },
    {
     "name": "stdout",
     "output_type": "stream",
     "text": [
      "[632]\ttrain-merror:0.003894+0.000113137\ttest-merror:0.00842767+0.000539454\n"
     ]
    },
    {
     "name": "stdout",
     "output_type": "stream",
     "text": [
      "[633]\ttrain-merror:0.00388267+0.000106036\ttest-merror:0.00842767+0.000539454\n"
     ]
    },
    {
     "name": "stdout",
     "output_type": "stream",
     "text": [
      "[634]\ttrain-merror:0.00387133+9.71093e-05\ttest-merror:0.00845067+0.000551986\n"
     ]
    },
    {
     "name": "stdout",
     "output_type": "stream",
     "text": [
      "[635]\ttrain-merror:0.00384833+8.56128e-05\ttest-merror:0.00845067+0.000551986\n"
     ]
    },
    {
     "name": "stdout",
     "output_type": "stream",
     "text": [
      "[636]\ttrain-merror:0.00384833+8.08469e-05\ttest-merror:0.00845067+0.000551986\n"
     ]
    },
    {
     "name": "stdout",
     "output_type": "stream",
     "text": [
      "[637]\ttrain-merror:0.00381433+7.06745e-05\ttest-merror:0.00842767+0.000539454\n"
     ]
    },
    {
     "name": "stdout",
     "output_type": "stream",
     "text": [
      "[638]\ttrain-merror:0.00379133+7.02962e-05\ttest-merror:0.008405+0.000528774\n"
     ]
    },
    {
     "name": "stdout",
     "output_type": "stream",
     "text": [
      "[639]\ttrain-merror:0.00379133+7.02962e-05\ttest-merror:0.008405+0.000528774\n"
     ]
    },
    {
     "name": "stdout",
     "output_type": "stream",
     "text": [
      "[640]\ttrain-merror:0.00379133+7.02962e-05\ttest-merror:0.008405+0.000528774\n"
     ]
    },
    {
     "name": "stdout",
     "output_type": "stream",
     "text": [
      "[641]\ttrain-merror:0.00379133+7.02962e-05\ttest-merror:0.008405+0.000528774\n"
     ]
    },
    {
     "name": "stdout",
     "output_type": "stream",
     "text": [
      "[642]\ttrain-merror:0.00379133+7.02962e-05\ttest-merror:0.008405+0.000528774\n"
     ]
    },
    {
     "name": "stdout",
     "output_type": "stream",
     "text": [
      "[643]\ttrain-merror:0.00379133+7.02962e-05\ttest-merror:0.008382+0.000560612\n"
     ]
    },
    {
     "name": "stdout",
     "output_type": "stream",
     "text": [
      "[644]\ttrain-merror:0.00378+5.82466e-05\ttest-merror:0.008382+0.000560612\n"
     ]
    },
    {
     "name": "stdout",
     "output_type": "stream",
     "text": [
      "[645]\ttrain-merror:0.00379133+7.02962e-05\ttest-merror:0.008382+0.000560612\n"
     ]
    },
    {
     "name": "stdout",
     "output_type": "stream",
     "text": [
      "[646]\ttrain-merror:0.00378+5.82466e-05\ttest-merror:0.008382+0.000560612\n"
     ]
    },
    {
     "name": "stdout",
     "output_type": "stream",
     "text": [
      "[647]\ttrain-merror:0.00376867+4.85547e-05\ttest-merror:0.008382+0.000560612\n"
     ]
    },
    {
     "name": "stdout",
     "output_type": "stream",
     "text": [
      "[648]\ttrain-merror:0.00376867+4.85547e-05\ttest-merror:0.008382+0.000560612\n"
     ]
    },
    {
     "name": "stdout",
     "output_type": "stream",
     "text": [
      "[649]\ttrain-merror:0.003757+4.27629e-05\ttest-merror:0.00835933+0.00053992\n"
     ]
    },
    {
     "name": "stdout",
     "output_type": "stream",
     "text": [
      "[650]\ttrain-merror:0.00374567+5.81167e-05\ttest-merror:0.00835933+0.00053992\n"
     ]
    },
    {
     "name": "stdout",
     "output_type": "stream",
     "text": [
      "[651]\ttrain-merror:0.00373433+7.37579e-05\ttest-merror:0.00835933+0.00053992\n"
     ]
    },
    {
     "name": "stdout",
     "output_type": "stream",
     "text": [
      "[652]\ttrain-merror:0.003723+6.4348e-05\ttest-merror:0.00835933+0.00053992\n"
     ]
    },
    {
     "name": "stdout",
     "output_type": "stream",
     "text": [
      "[653]\ttrain-merror:0.00371133+5.77889e-05\ttest-merror:0.00835933+0.00053992\n"
     ]
    },
    {
     "name": "stdout",
     "output_type": "stream",
     "text": [
      "[654]\ttrain-merror:0.003723+6.4348e-05\ttest-merror:0.00833633+0.000529091\n"
     ]
    },
    {
     "name": "stdout",
     "output_type": "stream",
     "text": [
      "[655]\ttrain-merror:0.00368867+4.24055e-05\ttest-merror:0.00833633+0.000529091\n"
     ]
    },
    {
     "name": "stdout",
     "output_type": "stream",
     "text": [
      "[656]\ttrain-merror:0.00368867+4.24055e-05\ttest-merror:0.00833633+0.000529091\n"
     ]
    },
    {
     "name": "stdout",
     "output_type": "stream",
     "text": [
      "[657]\ttrain-merror:0.00368867+4.24055e-05\ttest-merror:0.00833633+0.000529091\n"
     ]
    },
    {
     "name": "stdout",
     "output_type": "stream",
     "text": [
      "[658]\ttrain-merror:0.00367733+3.20555e-05\ttest-merror:0.00831333+0.000507811\n"
     ]
    },
    {
     "name": "stdout",
     "output_type": "stream",
     "text": [
      "[659]\ttrain-merror:0.00367733+3.20555e-05\ttest-merror:0.00831333+0.000507811\n"
     ]
    },
    {
     "name": "stdout",
     "output_type": "stream",
     "text": [
      "[660]\ttrain-merror:0.00368867+4.24055e-05\ttest-merror:0.00829067+0.000497485\n"
     ]
    },
    {
     "name": "stdout",
     "output_type": "stream",
     "text": [
      "[661]\ttrain-merror:0.00367733+3.20555e-05\ttest-merror:0.008268+0.000528774\n"
     ]
    },
    {
     "name": "stdout",
     "output_type": "stream",
     "text": [
      "[662]\ttrain-merror:0.00367733+3.20555e-05\ttest-merror:0.008268+0.000528774\n"
     ]
    },
    {
     "name": "stdout",
     "output_type": "stream",
     "text": [
      "[663]\ttrain-merror:0.00367733+3.20555e-05\ttest-merror:0.008268+0.000528774\n"
     ]
    },
    {
     "name": "stdout",
     "output_type": "stream",
     "text": [
      "[664]\ttrain-merror:0.00366567+4.85547e-05\ttest-merror:0.008268+0.000528774\n"
     ]
    },
    {
     "name": "stdout",
     "output_type": "stream",
     "text": [
      "[665]\ttrain-merror:0.00366567+4.85547e-05\ttest-merror:0.008268+0.000528774\n"
     ]
    },
    {
     "name": "stdout",
     "output_type": "stream",
     "text": [
      "[666]\ttrain-merror:0.003643+3.25269e-05\ttest-merror:0.008268+0.000528774\n"
     ]
    },
    {
     "name": "stdout",
     "output_type": "stream",
     "text": [
      "[667]\ttrain-merror:0.003643+3.25269e-05\ttest-merror:0.00822233+0.000487774\n"
     ]
    },
    {
     "name": "stdout",
     "output_type": "stream",
     "text": [
      "[668]\ttrain-merror:0.003643+3.25269e-05\ttest-merror:0.00822233+0.000487774\n"
     ]
    },
    {
     "name": "stdout",
     "output_type": "stream",
     "text": [
      "[669]\ttrain-merror:0.003643+3.25269e-05\ttest-merror:0.00822233+0.000487774\n"
     ]
    },
    {
     "name": "stdout",
     "output_type": "stream",
     "text": [
      "[670]\ttrain-merror:0.00363133+2.81701e-05\ttest-merror:0.00822233+0.000487774\n"
     ]
    },
    {
     "name": "stdout",
     "output_type": "stream",
     "text": [
      "[671]\ttrain-merror:0.00362+3.25269e-05\ttest-merror:0.00822233+0.000487774\n"
     ]
    },
    {
     "name": "stdout",
     "output_type": "stream",
     "text": [
      "[672]\ttrain-merror:0.00360867+4.28512e-05\ttest-merror:0.00822233+0.000487774\n"
     ]
    },
    {
     "name": "stdout",
     "output_type": "stream",
     "text": [
      "[673]\ttrain-merror:0.00359733+2.81701e-05\ttest-merror:0.00817667+0.000465841\n"
     ]
    },
    {
     "name": "stdout",
     "output_type": "stream",
     "text": [
      "[674]\ttrain-merror:0.00358567+1.60278e-05\ttest-merror:0.00817667+0.000465841\n"
     ]
    },
    {
     "name": "stdout",
     "output_type": "stream",
     "text": [
      "[675]\ttrain-merror:0.00357433+1.60278e-05\ttest-merror:0.00817667+0.000465841\n"
     ]
    },
    {
     "name": "stdout",
     "output_type": "stream",
     "text": [
      "[676]\ttrain-merror:0.00355167+1.60278e-05\ttest-merror:0.00817667+0.000465841\n"
     ]
    },
    {
     "name": "stdout",
     "output_type": "stream",
     "text": [
      "[677]\ttrain-merror:0.003529+4.33681e-19\ttest-merror:0.00817667+0.000465841\n"
     ]
    },
    {
     "name": "stdout",
     "output_type": "stream",
     "text": [
      "[678]\ttrain-merror:0.00352867+2.81701e-05\ttest-merror:0.00817667+0.000465841\n"
     ]
    },
    {
     "name": "stdout",
     "output_type": "stream",
     "text": [
      "[679]\ttrain-merror:0.00350567+4.28512e-05\ttest-merror:0.008131+0.000423675\n"
     ]
    },
    {
     "name": "stdout",
     "output_type": "stream",
     "text": [
      "[680]\ttrain-merror:0.00349433+4.85547e-05\ttest-merror:0.008131+0.000423675\n"
     ]
    },
    {
     "name": "stdout",
     "output_type": "stream",
     "text": [
      "[681]\ttrain-merror:0.00349433+4.85547e-05\ttest-merror:0.008131+0.000423675\n"
     ]
    },
    {
     "name": "stdout",
     "output_type": "stream",
     "text": [
      "[682]\ttrain-merror:0.003483+3.25269e-05\ttest-merror:0.008108+0.00041234\n"
     ]
    },
    {
     "name": "stdout",
     "output_type": "stream",
     "text": [
      "[683]\ttrain-merror:0.00347167+4.28512e-05\ttest-merror:0.008108+0.00041234\n"
     ]
    },
    {
     "name": "stdout",
     "output_type": "stream",
     "text": [
      "[684]\ttrain-merror:0.00347167+4.28512e-05\ttest-merror:0.00803967+0.000392879\n"
     ]
    },
    {
     "name": "stdout",
     "output_type": "stream",
     "text": [
      "[685]\ttrain-merror:0.00347167+4.28512e-05\ttest-merror:0.00803967+0.000392879\n"
     ]
    },
    {
     "name": "stdout",
     "output_type": "stream",
     "text": [
      "[686]\ttrain-merror:0.00347167+4.28512e-05\ttest-merror:0.00803967+0.000392879\n"
     ]
    },
    {
     "name": "stdout",
     "output_type": "stream",
     "text": [
      "[687]\ttrain-merror:0.003483+5.82466e-05\ttest-merror:0.00803967+0.000392879\n"
     ]
    },
    {
     "name": "stdout",
     "output_type": "stream",
     "text": [
      "[688]\ttrain-merror:0.003483+5.82466e-05\ttest-merror:0.00803967+0.000392879\n"
     ]
    },
    {
     "name": "stdout",
     "output_type": "stream",
     "text": [
      "[689]\ttrain-merror:0.003483+5.82466e-05\ttest-merror:0.00803967+0.000392879\n"
     ]
    },
    {
     "name": "stdout",
     "output_type": "stream",
     "text": [
      "[690]\ttrain-merror:0.00347167+4.28512e-05\ttest-merror:0.00803967+0.000392879\n"
     ]
    },
    {
     "name": "stdout",
     "output_type": "stream",
     "text": [
      "[691]\ttrain-merror:0.00343733+3.20555e-05\ttest-merror:0.00803967+0.000392879\n"
     ]
    },
    {
     "name": "stdout",
     "output_type": "stream",
     "text": [
      "[692]\ttrain-merror:0.003426+2.77609e-05\ttest-merror:0.00803967+0.000392879\n"
     ]
    },
    {
     "name": "stdout",
     "output_type": "stream",
     "text": [
      "[693]\ttrain-merror:0.003426+2.77609e-05\ttest-merror:0.00803967+0.000392879\n"
     ]
    },
    {
     "name": "stdout",
     "output_type": "stream",
     "text": [
      "[694]\ttrain-merror:0.003426+2.77609e-05\ttest-merror:0.00801667+0.00039151\n"
     ]
    },
    {
     "name": "stdout",
     "output_type": "stream",
     "text": [
      "[695]\ttrain-merror:0.003426+2.77609e-05\ttest-merror:0.00801667+0.00039151\n"
     ]
    },
    {
     "name": "stdout",
     "output_type": "stream",
     "text": [
      "[696]\ttrain-merror:0.003403+4.27629e-05\ttest-merror:0.007994+0.000364113\n"
     ]
    },
    {
     "name": "stdout",
     "output_type": "stream",
     "text": [
      "[697]\ttrain-merror:0.003403+4.27629e-05\ttest-merror:0.00801667+0.00039151\n"
     ]
    },
    {
     "name": "stdout",
     "output_type": "stream",
     "text": [
      "[698]\ttrain-merror:0.00338+3.25269e-05\ttest-merror:0.00801667+0.00039151\n"
     ]
    },
    {
     "name": "stdout",
     "output_type": "stream",
     "text": [
      "[699]\ttrain-merror:0.003357+0\ttest-merror:0.00801667+0.00039151\n"
     ]
    },
    {
     "name": "stdout",
     "output_type": "stream",
     "text": [
      "[700]\ttrain-merror:0.00334567+1.60278e-05\ttest-merror:0.00801667+0.00039151\n"
     ]
    },
    {
     "name": "stdout",
     "output_type": "stream",
     "text": [
      "[701]\ttrain-merror:0.00334567+1.60278e-05\ttest-merror:0.00801667+0.00039151\n"
     ]
    },
    {
     "name": "stdout",
     "output_type": "stream",
     "text": [
      "[702]\ttrain-merror:0.003323+2.77609e-05\ttest-merror:0.007971+0.000337153\n"
     ]
    },
    {
     "name": "stdout",
     "output_type": "stream",
     "text": [
      "[703]\ttrain-merror:0.003323+2.77609e-05\ttest-merror:0.007971+0.000337153\n"
     ]
    },
    {
     "name": "stdout",
     "output_type": "stream",
     "text": [
      "[704]\ttrain-merror:0.003323+2.77609e-05\ttest-merror:0.007994+0.000364113\n"
     ]
    },
    {
     "name": "stdout",
     "output_type": "stream",
     "text": [
      "[705]\ttrain-merror:0.003323+2.77609e-05\ttest-merror:0.007994+0.000364113\n"
     ]
    },
    {
     "name": "stdout",
     "output_type": "stream",
     "text": [
      "[706]\ttrain-merror:0.00331167+4.24055e-05\ttest-merror:0.007971+0.000364113\n"
     ]
    },
    {
     "name": "stdout",
     "output_type": "stream",
     "text": [
      "[707]\ttrain-merror:0.0033+5.82466e-05\ttest-merror:0.007971+0.000364113\n"
     ]
    },
    {
     "name": "stdout",
     "output_type": "stream",
     "text": [
      "[708]\ttrain-merror:0.0033+5.82466e-05\ttest-merror:0.007971+0.000364113\n"
     ]
    },
    {
     "name": "stdout",
     "output_type": "stream",
     "text": [
      "[709]\ttrain-merror:0.00328867+7.39114e-05\ttest-merror:0.007971+0.000364113\n"
     ]
    },
    {
     "name": "stdout",
     "output_type": "stream",
     "text": [
      "[710]\ttrain-merror:0.00328867+7.39114e-05\ttest-merror:0.007971+0.000364113\n"
     ]
    },
    {
     "name": "stdout",
     "output_type": "stream",
     "text": [
      "[711]\ttrain-merror:0.003266+5.82466e-05\ttest-merror:0.007971+0.000364113\n"
     ]
    },
    {
     "name": "stdout",
     "output_type": "stream",
     "text": [
      "[712]\ttrain-merror:0.00325467+5.59305e-05\ttest-merror:0.007971+0.000364113\n"
     ]
    },
    {
     "name": "stdout",
     "output_type": "stream",
     "text": [
      "[713]\ttrain-merror:0.00324333+4.28512e-05\ttest-merror:0.007971+0.000364113\n"
     ]
    },
    {
     "name": "stdout",
     "output_type": "stream",
     "text": [
      "[714]\ttrain-merror:0.00324333+4.28512e-05\ttest-merror:0.007971+0.000364113\n"
     ]
    },
    {
     "name": "stdout",
     "output_type": "stream",
     "text": [
      "[715]\ttrain-merror:0.00323167+4.28512e-05\ttest-merror:0.00792533+0.000337108\n"
     ]
    },
    {
     "name": "stdout",
     "output_type": "stream",
     "text": [
      "[716]\ttrain-merror:0.00320867+1.60278e-05\ttest-merror:0.00792533+0.000337108\n"
     ]
    },
    {
     "name": "stdout",
     "output_type": "stream",
     "text": [
      "[717]\ttrain-merror:0.00319733+1.60278e-05\ttest-merror:0.00792533+0.000308236\n"
     ]
    },
    {
     "name": "stdout",
     "output_type": "stream",
     "text": [
      "[718]\ttrain-merror:0.00319733+1.60278e-05\ttest-merror:0.00787967+0.000335988\n"
     ]
    },
    {
     "name": "stdout",
     "output_type": "stream",
     "text": [
      "[719]\ttrain-merror:0.00317467+1.60278e-05\ttest-merror:0.00787967+0.000335988\n"
     ]
    },
    {
     "name": "stdout",
     "output_type": "stream",
     "text": [
      "[720]\ttrain-merror:0.00317467+1.60278e-05\ttest-merror:0.007857+0.000364113\n"
     ]
    },
    {
     "name": "stdout",
     "output_type": "stream",
     "text": [
      "[721]\ttrain-merror:0.00317467+1.60278e-05\ttest-merror:0.007857+0.000364113\n"
     ]
    },
    {
     "name": "stdout",
     "output_type": "stream",
     "text": [
      "[722]\ttrain-merror:0.00316333+1.60278e-05\ttest-merror:0.007857+0.000364113\n"
     ]
    },
    {
     "name": "stdout",
     "output_type": "stream",
     "text": [
      "[723]\ttrain-merror:0.00316333+1.60278e-05\ttest-merror:0.007857+0.000364113\n"
     ]
    },
    {
     "name": "stdout",
     "output_type": "stream",
     "text": [
      "[724]\ttrain-merror:0.00316333+1.60278e-05\ttest-merror:0.007857+0.000364113\n"
     ]
    },
    {
     "name": "stdout",
     "output_type": "stream",
     "text": [
      "[725]\ttrain-merror:0.00316333+1.60278e-05\ttest-merror:0.007857+0.000364113\n"
     ]
    },
    {
     "name": "stdout",
     "output_type": "stream",
     "text": [
      "[726]\ttrain-merror:0.003152+2.77609e-05\ttest-merror:0.007857+0.000364113\n"
     ]
    },
    {
     "name": "stdout",
     "output_type": "stream",
     "text": [
      "[727]\ttrain-merror:0.003129+3.25269e-05\ttest-merror:0.007857+0.000364113\n"
     ]
    },
    {
     "name": "stdout",
     "output_type": "stream",
     "text": [
      "[728]\ttrain-merror:0.00314067+1.60278e-05\ttest-merror:0.007857+0.000364113\n"
     ]
    },
    {
     "name": "stdout",
     "output_type": "stream",
     "text": [
      "[729]\ttrain-merror:0.00310633+6.45824e-05\ttest-merror:0.007834+0.000337153\n"
     ]
    },
    {
     "name": "stdout",
     "output_type": "stream",
     "text": [
      "[730]\ttrain-merror:0.00308367+7.39114e-05\ttest-merror:0.007834+0.000337153\n"
     ]
    },
    {
     "name": "stdout",
     "output_type": "stream",
     "text": [
      "[731]\ttrain-merror:0.003095+8.06102e-05\ttest-merror:0.007834+0.000337153\n"
     ]
    },
    {
     "name": "stdout",
     "output_type": "stream",
     "text": [
      "[732]\ttrain-merror:0.003095+8.06102e-05\ttest-merror:0.007834+0.000337153\n"
     ]
    },
    {
     "name": "stdout",
     "output_type": "stream",
     "text": [
      "[733]\ttrain-merror:0.00307233+6.45824e-05\ttest-merror:0.007811+0.00033558\n"
     ]
    },
    {
     "name": "stdout",
     "output_type": "stream",
     "text": [
      "[734]\ttrain-merror:0.00307233+6.45824e-05\ttest-merror:0.007811+0.00033558\n"
     ]
    },
    {
     "name": "stdout",
     "output_type": "stream",
     "text": [
      "[735]\ttrain-merror:0.003049+7.42204e-05\ttest-merror:0.007811+0.00033558\n"
     ]
    },
    {
     "name": "stdout",
     "output_type": "stream",
     "text": [
      "[736]\ttrain-merror:0.00306067+5.81167e-05\ttest-merror:0.007811+0.00033558\n"
     ]
    },
    {
     "name": "stdout",
     "output_type": "stream",
     "text": [
      "[737]\ttrain-merror:0.00303767+7.06745e-05\ttest-merror:0.007811+0.00033558\n"
     ]
    },
    {
     "name": "stdout",
     "output_type": "stream",
     "text": [
      "[738]\ttrain-merror:0.00301467+5.59305e-05\ttest-merror:0.007788+0.000307841\n"
     ]
    },
    {
     "name": "stdout",
     "output_type": "stream",
     "text": [
      "[739]\ttrain-merror:0.00301467+5.59305e-05\ttest-merror:0.007788+0.000307841\n"
     ]
    },
    {
     "name": "stdout",
     "output_type": "stream",
     "text": [
      "[740]\ttrain-merror:0.00302633+7.06745e-05\ttest-merror:0.007788+0.000307841\n"
     ]
    },
    {
     "name": "stdout",
     "output_type": "stream",
     "text": [
      "[741]\ttrain-merror:0.00300333+7.02962e-05\ttest-merror:0.00776533+0.000281508\n"
     ]
    },
    {
     "name": "stdout",
     "output_type": "stream",
     "text": [
      "[742]\ttrain-merror:0.00300333+7.02962e-05\ttest-merror:0.00774233+0.000256125\n"
     ]
    },
    {
     "name": "stdout",
     "output_type": "stream",
     "text": [
      "[743]\ttrain-merror:0.00298067+5.59305e-05\ttest-merror:0.00776533+0.000281508\n"
     ]
    },
    {
     "name": "stdout",
     "output_type": "stream",
     "text": [
      "[744]\ttrain-merror:0.00298067+5.59305e-05\ttest-merror:0.00771933+0.000287064\n"
     ]
    },
    {
     "name": "stdout",
     "output_type": "stream",
     "text": [
      "[745]\ttrain-merror:0.00298067+5.59305e-05\ttest-merror:0.00771933+0.000287064\n"
     ]
    },
    {
     "name": "stdout",
     "output_type": "stream",
     "text": [
      "[746]\ttrain-merror:0.00298067+5.59305e-05\ttest-merror:0.00771933+0.000287064\n"
     ]
    },
    {
     "name": "stdout",
     "output_type": "stream",
     "text": [
      "[747]\ttrain-merror:0.00298067+5.59305e-05\ttest-merror:0.00769667+0.000264545\n"
     ]
    },
    {
     "name": "stdout",
     "output_type": "stream",
     "text": [
      "[748]\ttrain-merror:0.00296933+4.28512e-05\ttest-merror:0.00769667+0.000264545\n"
     ]
    },
    {
     "name": "stdout",
     "output_type": "stream",
     "text": [
      "[749]\ttrain-merror:0.00296933+4.28512e-05\ttest-merror:0.00767367+0.000243887\n"
     ]
    },
    {
     "name": "stdout",
     "output_type": "stream",
     "text": [
      "[750]\ttrain-merror:0.00296933+4.28512e-05\ttest-merror:0.00769667+0.000258566\n"
     ]
    },
    {
     "name": "stdout",
     "output_type": "stream",
     "text": [
      "[751]\ttrain-merror:0.00296933+4.28512e-05\ttest-merror:0.00769667+0.000258566\n"
     ]
    },
    {
     "name": "stdout",
     "output_type": "stream",
     "text": [
      "[752]\ttrain-merror:0.00296933+4.28512e-05\ttest-merror:0.00769667+0.000258566\n"
     ]
    },
    {
     "name": "stdout",
     "output_type": "stream",
     "text": [
      "[753]\ttrain-merror:0.00295767+4.28512e-05\ttest-merror:0.00769667+0.000258566\n"
     ]
    },
    {
     "name": "stdout",
     "output_type": "stream",
     "text": [
      "[754]\ttrain-merror:0.00295767+4.28512e-05\ttest-merror:0.00769667+0.000258566\n"
     ]
    },
    {
     "name": "stdout",
     "output_type": "stream",
     "text": [
      "[755]\ttrain-merror:0.00295767+4.28512e-05\ttest-merror:0.00771967+0.000226039\n"
     ]
    },
    {
     "name": "stdout",
     "output_type": "stream",
     "text": [
      "[756]\ttrain-merror:0.00294633+5.59305e-05\ttest-merror:0.00771967+0.000226039\n"
     ]
    },
    {
     "name": "stdout",
     "output_type": "stream",
     "text": [
      "[757]\ttrain-merror:0.00292333+4.24055e-05\ttest-merror:0.00771967+0.000226039\n"
     ]
    },
    {
     "name": "stdout",
     "output_type": "stream",
     "text": [
      "[758]\ttrain-merror:0.00292333+4.24055e-05\ttest-merror:0.00771967+0.000226039\n"
     ]
    },
    {
     "name": "stdout",
     "output_type": "stream",
     "text": [
      "[759]\ttrain-merror:0.00292333+4.24055e-05\ttest-merror:0.00771967+0.000226039\n"
     ]
    },
    {
     "name": "stdout",
     "output_type": "stream",
     "text": [
      "[760]\ttrain-merror:0.00292333+4.24055e-05\ttest-merror:0.00771967+0.000226039\n"
     ]
    },
    {
     "name": "stdout",
     "output_type": "stream",
     "text": [
      "[761]\ttrain-merror:0.00292333+4.24055e-05\ttest-merror:0.00771967+0.000226039\n"
     ]
    },
    {
     "name": "stdout",
     "output_type": "stream",
     "text": [
      "[762]\ttrain-merror:0.00292333+4.24055e-05\ttest-merror:0.00771967+0.000226039\n"
     ]
    },
    {
     "name": "stdout",
     "output_type": "stream",
     "text": [
      "[763]\ttrain-merror:0.00292333+4.24055e-05\ttest-merror:0.00771967+0.000226039\n"
     ]
    },
    {
     "name": "stdout",
     "output_type": "stream",
     "text": [
      "[764]\ttrain-merror:0.00288933+4.24055e-05\ttest-merror:0.00771967+0.000226039\n"
     ]
    },
    {
     "name": "stdout",
     "output_type": "stream",
     "text": [
      "[765]\ttrain-merror:0.002878+4.80833e-05\ttest-merror:0.00774233+0.0002437\n"
     ]
    },
    {
     "name": "stdout",
     "output_type": "stream",
     "text": [
      "[766]\ttrain-merror:0.002878+4.80833e-05\ttest-merror:0.00774233+0.0002437\n"
     ]
    },
    {
     "name": "stdout",
     "output_type": "stream",
     "text": [
      "[767]\ttrain-merror:0.002855+4.27629e-05\ttest-merror:0.00774233+0.0002437\n"
     ]
    },
    {
     "name": "stdout",
     "output_type": "stream",
     "text": [
      "[768]\ttrain-merror:0.002809+2.77609e-05\ttest-merror:0.00774233+0.0002437\n"
     ]
    },
    {
     "name": "stdout",
     "output_type": "stream",
     "text": [
      "[769]\ttrain-merror:0.002809+2.77609e-05\ttest-merror:0.00774233+0.0002437\n"
     ]
    },
    {
     "name": "stdout",
     "output_type": "stream",
     "text": [
      "[770]\ttrain-merror:0.002809+2.77609e-05\ttest-merror:0.00774233+0.0002437\n"
     ]
    },
    {
     "name": "stdout",
     "output_type": "stream",
     "text": [
      "[771]\ttrain-merror:0.00282067+4.28512e-05\ttest-merror:0.00771967+0.000226039\n"
     ]
    },
    {
     "name": "stdout",
     "output_type": "stream",
     "text": [
      "[772]\ttrain-merror:0.002809+2.77609e-05\ttest-merror:0.007697+0.000211891\n"
     ]
    },
    {
     "name": "stdout",
     "output_type": "stream",
     "text": [
      "[773]\ttrain-merror:0.002809+2.77609e-05\ttest-merror:0.007697+0.000211891\n"
     ]
    },
    {
     "name": "stdout",
     "output_type": "stream",
     "text": [
      "[774]\ttrain-merror:0.00279767+3.20555e-05\ttest-merror:0.00771967+0.000226039\n"
     ]
    },
    {
     "name": "stdout",
     "output_type": "stream",
     "text": [
      "[775]\ttrain-merror:0.00278633+4.24055e-05\ttest-merror:0.007674+0.000244168\n"
     ]
    },
    {
     "name": "stdout",
     "output_type": "stream",
     "text": [
      "[776]\ttrain-merror:0.00276333+7.02962e-05\ttest-merror:0.007651+0.000233182\n"
     ]
    },
    {
     "name": "stdout",
     "output_type": "stream",
     "text": [
      "[777]\ttrain-merror:0.00276333+7.02962e-05\ttest-merror:0.007651+0.000233182\n"
     ]
    },
    {
     "name": "stdout",
     "output_type": "stream",
     "text": [
      "[778]\ttrain-merror:0.00276333+7.02962e-05\ttest-merror:0.007674+0.000244168\n"
     ]
    },
    {
     "name": "stdout",
     "output_type": "stream",
     "text": [
      "[779]\ttrain-merror:0.00276333+7.02962e-05\ttest-merror:0.007651+0.000233182\n"
     ]
    },
    {
     "name": "stdout",
     "output_type": "stream",
     "text": [
      "[780]\ttrain-merror:0.002752+5.82466e-05\ttest-merror:0.007651+0.000233182\n"
     ]
    },
    {
     "name": "stdout",
     "output_type": "stream",
     "text": [
      "[781]\ttrain-merror:0.002752+8.52565e-05\ttest-merror:0.00762833+0.000264402\n"
     ]
    },
    {
     "name": "stdout",
     "output_type": "stream",
     "text": [
      "[782]\ttrain-merror:0.002752+8.52565e-05\ttest-merror:0.00762833+0.000264402\n"
     ]
    },
    {
     "name": "stdout",
     "output_type": "stream",
     "text": [
      "[783]\ttrain-merror:0.002752+8.52565e-05\ttest-merror:0.00762833+0.000264402\n"
     ]
    },
    {
     "name": "stdout",
     "output_type": "stream",
     "text": [
      "[784]\ttrain-merror:0.00274067+7.39114e-05\ttest-merror:0.007651+0.000233182\n"
     ]
    },
    {
     "name": "stdout",
     "output_type": "stream",
     "text": [
      "[785]\ttrain-merror:0.00274067+7.39114e-05\ttest-merror:0.00762833+0.000264402\n"
     ]
    },
    {
     "name": "stdout",
     "output_type": "stream",
     "text": [
      "[786]\ttrain-merror:0.00274067+7.39114e-05\ttest-merror:0.00760533+0.000296263\n"
     ]
    },
    {
     "name": "stdout",
     "output_type": "stream",
     "text": [
      "[787]\ttrain-merror:0.00274067+7.39114e-05\ttest-merror:0.00760533+0.000296263\n"
     ]
    },
    {
     "name": "stdout",
     "output_type": "stream",
     "text": [
      "[788]\ttrain-merror:0.00272933+7.02962e-05\ttest-merror:0.00762833+0.000264402\n"
     ]
    },
    {
     "name": "stdout",
     "output_type": "stream",
     "text": [
      "[789]\ttrain-merror:0.002695+4.27629e-05\ttest-merror:0.00762833+0.000226443\n"
     ]
    },
    {
     "name": "stdout",
     "output_type": "stream",
     "text": [
      "[790]\ttrain-merror:0.00264933+7.06745e-05\ttest-merror:0.00760567+0.000256482\n"
     ]
    },
    {
     "name": "stdout",
     "output_type": "stream",
     "text": [
      "[791]\ttrain-merror:0.002638+8.40991e-05\ttest-merror:0.00760567+0.000256482\n"
     ]
    },
    {
     "name": "stdout",
     "output_type": "stream",
     "text": [
      "[792]\ttrain-merror:0.002638+8.40991e-05\ttest-merror:0.00758267+0.000287408\n"
     ]
    },
    {
     "name": "stdout",
     "output_type": "stream",
     "text": [
      "[793]\ttrain-merror:0.002638+8.40991e-05\ttest-merror:0.00758267+0.000287408\n"
     ]
    },
    {
     "name": "stdout",
     "output_type": "stream",
     "text": [
      "[794]\ttrain-merror:0.002638+8.40991e-05\ttest-merror:0.00758267+0.000287408\n"
     ]
    },
    {
     "name": "stdout",
     "output_type": "stream",
     "text": [
      "[795]\ttrain-merror:0.00262667+8.56128e-05\ttest-merror:0.00758267+0.000287408\n"
     ]
    },
    {
     "name": "stdout",
     "output_type": "stream",
     "text": [
      "[796]\ttrain-merror:0.00262667+8.56128e-05\ttest-merror:0.00758267+0.000287408\n"
     ]
    },
    {
     "name": "stdout",
     "output_type": "stream",
     "text": [
      "[797]\ttrain-merror:0.00262667+8.56128e-05\ttest-merror:0.00758267+0.000287408\n"
     ]
    },
    {
     "name": "stdout",
     "output_type": "stream",
     "text": [
      "[798]\ttrain-merror:0.002615+7.02424e-05\ttest-merror:0.00758267+0.000287408\n"
     ]
    },
    {
     "name": "stdout",
     "output_type": "stream",
     "text": [
      "[799]\ttrain-merror:0.00260333+7.39114e-05\ttest-merror:0.00758267+0.000287408\n"
     ]
    },
    {
     "name": "stdout",
     "output_type": "stream",
     "text": [
      "[800]\ttrain-merror:0.00260333+7.39114e-05\ttest-merror:0.00758267+0.000287408\n"
     ]
    },
    {
     "name": "stdout",
     "output_type": "stream",
     "text": [
      "[801]\ttrain-merror:0.00260333+7.39114e-05\ttest-merror:0.00758267+0.000287408\n"
     ]
    },
    {
     "name": "stdout",
     "output_type": "stream",
     "text": [
      "[802]\ttrain-merror:0.00260333+7.39114e-05\ttest-merror:0.00758267+0.000287408\n"
     ]
    },
    {
     "name": "stdout",
     "output_type": "stream",
     "text": [
      "[803]\ttrain-merror:0.00260333+7.39114e-05\ttest-merror:0.00758267+0.000287408\n"
     ]
    },
    {
     "name": "stdout",
     "output_type": "stream",
     "text": [
      "[804]\ttrain-merror:0.00260333+7.39114e-05\ttest-merror:0.00758267+0.000287408\n"
     ]
    },
    {
     "name": "stdout",
     "output_type": "stream",
     "text": [
      "[805]\ttrain-merror:0.002592+5.82466e-05\ttest-merror:0.00755967+0.000264545\n"
     ]
    },
    {
     "name": "stdout",
     "output_type": "stream",
     "text": [
      "[806]\ttrain-merror:0.002592+5.82466e-05\ttest-merror:0.00753667+0.000256482\n"
     ]
    },
    {
     "name": "stdout",
     "output_type": "stream",
     "text": [
      "[807]\ttrain-merror:0.002592+5.82466e-05\ttest-merror:0.00753667+0.000256482\n"
     ]
    },
    {
     "name": "stdout",
     "output_type": "stream",
     "text": [
      "[808]\ttrain-merror:0.002592+5.82466e-05\ttest-merror:0.007514+0.000252414\n"
     ]
    },
    {
     "name": "stdout",
     "output_type": "stream",
     "text": [
      "[809]\ttrain-merror:0.00258067+7.02962e-05\ttest-merror:0.007537+0.000280058\n"
     ]
    },
    {
     "name": "stdout",
     "output_type": "stream",
     "text": [
      "[810]\ttrain-merror:0.00256933+8.36912e-05\ttest-merror:0.007537+0.000280058\n"
     ]
    },
    {
     "name": "stdout",
     "output_type": "stream",
     "text": [
      "[811]\ttrain-merror:0.00256933+8.36912e-05\ttest-merror:0.00755967+0.000281887\n"
     ]
    },
    {
     "name": "stdout",
     "output_type": "stream",
     "text": [
      "[812]\ttrain-merror:0.00256933+8.36912e-05\ttest-merror:0.007514+0.000286958\n"
     ]
    },
    {
     "name": "stdout",
     "output_type": "stream",
     "text": [
      "[813]\ttrain-merror:0.00256933+8.36912e-05\ttest-merror:0.007514+0.000286958\n"
     ]
    },
    {
     "name": "stdout",
     "output_type": "stream",
     "text": [
      "[814]\ttrain-merror:0.002535+0.00011186\ttest-merror:0.007514+0.000286958\n"
     ]
    },
    {
     "name": "stdout",
     "output_type": "stream",
     "text": [
      "[815]\ttrain-merror:0.002535+0.000100886\ttest-merror:0.00749133+0.000281508\n"
     ]
    },
    {
     "name": "stdout",
     "output_type": "stream",
     "text": [
      "[816]\ttrain-merror:0.002535+0.000100886\ttest-merror:0.00749133+0.000281508\n"
     ]
    },
    {
     "name": "stdout",
     "output_type": "stream",
     "text": [
      "[817]\ttrain-merror:0.002535+0.000100886\ttest-merror:0.00749133+0.000281508\n"
     ]
    },
    {
     "name": "stdout",
     "output_type": "stream",
     "text": [
      "[818]\ttrain-merror:0.002535+0.000100886\ttest-merror:0.00749133+0.000281508\n"
     ]
    },
    {
     "name": "stdout",
     "output_type": "stream",
     "text": [
      "[819]\ttrain-merror:0.002535+0.000100886\ttest-merror:0.00746867+0.000256482\n"
     ]
    },
    {
     "name": "stdout",
     "output_type": "stream",
     "text": [
      "[820]\ttrain-merror:0.00252367+0.000113002\ttest-merror:0.00746867+0.000256482\n"
     ]
    },
    {
     "name": "stdout",
     "output_type": "stream",
     "text": [
      "[821]\ttrain-merror:0.00252367+0.000113002\ttest-merror:0.00746867+0.000256482\n"
     ]
    },
    {
     "name": "stdout",
     "output_type": "stream",
     "text": [
      "[822]\ttrain-merror:0.00252367+0.000113002\ttest-merror:0.00746867+0.000256482\n"
     ]
    },
    {
     "name": "stdout",
     "output_type": "stream",
     "text": [
      "[823]\ttrain-merror:0.00252367+0.000113002\ttest-merror:0.00746867+0.000256482\n"
     ]
    },
    {
     "name": "stdout",
     "output_type": "stream",
     "text": [
      "[824]\ttrain-merror:0.00252367+0.000113002\ttest-merror:0.00746867+0.000256482\n"
     ]
    },
    {
     "name": "stdout",
     "output_type": "stream",
     "text": [
      "[825]\ttrain-merror:0.00251233+0.000125996\ttest-merror:0.00746867+0.000256482\n"
     ]
    },
    {
     "name": "stdout",
     "output_type": "stream",
     "text": [
      "[826]\ttrain-merror:0.00251233+0.000125996\ttest-merror:0.00746867+0.000256482\n"
     ]
    },
    {
     "name": "stdout",
     "output_type": "stream",
     "text": [
      "[827]\ttrain-merror:0.00251233+0.000125996\ttest-merror:0.00746867+0.000256482\n"
     ]
    },
    {
     "name": "stdout",
     "output_type": "stream",
     "text": [
      "[828]\ttrain-merror:0.00251233+0.000125996\ttest-merror:0.00744567+0.000252384\n"
     ]
    },
    {
     "name": "stdout",
     "output_type": "stream",
     "text": [
      "[829]\ttrain-merror:0.002501+0.000128018\ttest-merror:0.00742267+0.000226005\n"
     ]
    },
    {
     "name": "stdout",
     "output_type": "stream",
     "text": [
      "[830]\ttrain-merror:0.002478+0.000116493\ttest-merror:0.00742267+0.000226005\n"
     ]
    },
    {
     "name": "stdout",
     "output_type": "stream",
     "text": [
      "[831]\ttrain-merror:0.00246667+0.000100999\ttest-merror:0.00742267+0.000226005\n"
     ]
    },
    {
     "name": "stdout",
     "output_type": "stream",
     "text": [
      "[832]\ttrain-merror:0.00246667+0.000100999\ttest-merror:0.00742267+0.000226005\n"
     ]
    },
    {
     "name": "stdout",
     "output_type": "stream",
     "text": [
      "[833]\ttrain-merror:0.00245533+0.000106036\ttest-merror:0.0074+0.00022372\n"
     ]
    },
    {
     "name": "stdout",
     "output_type": "stream",
     "text": [
      "[834]\ttrain-merror:0.00245533+0.000106036\ttest-merror:0.00735433+0.000281508\n"
     ]
    },
    {
     "name": "stdout",
     "output_type": "stream",
     "text": [
      "[835]\ttrain-merror:0.00245533+0.000106036\ttest-merror:0.007377+0.000252414\n"
     ]
    },
    {
     "name": "stdout",
     "output_type": "stream",
     "text": [
      "[836]\ttrain-merror:0.00245533+0.000106036\ttest-merror:0.00735433+0.000281508\n"
     ]
    },
    {
     "name": "stdout",
     "output_type": "stream",
     "text": [
      "[837]\ttrain-merror:0.00245533+0.000106036\ttest-merror:0.00735433+0.000281508\n"
     ]
    },
    {
     "name": "stdout",
     "output_type": "stream",
     "text": [
      "[838]\ttrain-merror:0.00245533+0.000106036\ttest-merror:0.00735433+0.000281508\n"
     ]
    },
    {
     "name": "stdout",
     "output_type": "stream",
     "text": [
      "[839]\ttrain-merror:0.00243233+0.000128464\ttest-merror:0.00733167+0.000256482\n"
     ]
    },
    {
     "name": "stdout",
     "output_type": "stream",
     "text": [
      "[840]\ttrain-merror:0.00243233+0.000128464\ttest-merror:0.00733167+0.000256482\n"
     ]
    },
    {
     "name": "stdout",
     "output_type": "stream",
     "text": [
      "[841]\ttrain-merror:0.00243233+0.000128464\ttest-merror:0.00735433+0.000281508\n"
     ]
    },
    {
     "name": "stdout",
     "output_type": "stream",
     "text": [
      "[842]\ttrain-merror:0.002421+0.000132431\ttest-merror:0.00733167+0.000256482\n"
     ]
    },
    {
     "name": "stdout",
     "output_type": "stream",
     "text": [
      "[843]\ttrain-merror:0.002421+0.000132431\ttest-merror:0.00733167+0.000256482\n"
     ]
    },
    {
     "name": "stdout",
     "output_type": "stream",
     "text": [
      "[844]\ttrain-merror:0.002421+0.000132431\ttest-merror:0.00733167+0.000256482\n"
     ]
    },
    {
     "name": "stdout",
     "output_type": "stream",
     "text": [
      "[845]\ttrain-merror:0.00240967+0.000143704\ttest-merror:0.00733167+0.000256482\n"
     ]
    },
    {
     "name": "stdout",
     "output_type": "stream",
     "text": [
      "[846]\ttrain-merror:0.00240967+0.000143704\ttest-merror:0.00735433+0.000226443\n"
     ]
    },
    {
     "name": "stdout",
     "output_type": "stream",
     "text": [
      "[847]\ttrain-merror:0.00239833+0.000155813\ttest-merror:0.00737733+0.000196614\n"
     ]
    },
    {
     "name": "stdout",
     "output_type": "stream",
     "text": [
      "[848]\ttrain-merror:0.00240967+0.000143704\ttest-merror:0.00737733+0.000196614\n"
     ]
    },
    {
     "name": "stdout",
     "output_type": "stream",
     "text": [
      "[849]\ttrain-merror:0.00239833+0.000155813\ttest-merror:0.00735433+0.000226443\n"
     ]
    },
    {
     "name": "stdout",
     "output_type": "stream",
     "text": [
      "[850]\ttrain-merror:0.002387+0.0001591\ttest-merror:0.00735433+0.000226443\n"
     ]
    },
    {
     "name": "stdout",
     "output_type": "stream",
     "text": [
      "[851]\ttrain-merror:0.002387+0.0001591\ttest-merror:0.00735433+0.000226443\n"
     ]
    },
    {
     "name": "stdout",
     "output_type": "stream",
     "text": [
      "[852]\ttrain-merror:0.002387+0.0001591\ttest-merror:0.00735433+0.000226443\n"
     ]
    },
    {
     "name": "stdout",
     "output_type": "stream",
     "text": [
      "[853]\ttrain-merror:0.00237533+0.000143253\ttest-merror:0.00735433+0.000226443\n"
     ]
    },
    {
     "name": "stdout",
     "output_type": "stream",
     "text": [
      "[854]\ttrain-merror:0.00237533+0.000143253\ttest-merror:0.00735433+0.000226443\n"
     ]
    },
    {
     "name": "stdout",
     "output_type": "stream",
     "text": [
      "[855]\ttrain-merror:0.00235267+0.000140538\ttest-merror:0.007377+0.000252414\n"
     ]
    },
    {
     "name": "stdout",
     "output_type": "stream",
     "text": [
      "[856]\ttrain-merror:0.00235267+0.000140538\ttest-merror:0.007377+0.000252414\n"
     ]
    },
    {
     "name": "stdout",
     "output_type": "stream",
     "text": [
      "[857]\ttrain-merror:0.00234133+0.000125996\ttest-merror:0.007377+0.000252414\n"
     ]
    },
    {
     "name": "stdout",
     "output_type": "stream",
     "text": [
      "[858]\ttrain-merror:0.00232967+0.000128108\ttest-merror:0.007377+0.000252414\n"
     ]
    },
    {
     "name": "stdout",
     "output_type": "stream",
     "text": [
      "[859]\ttrain-merror:0.002307+0.000137879\ttest-merror:0.007377+0.000252414\n"
     ]
    },
    {
     "name": "stdout",
     "output_type": "stream",
     "text": [
      "[860]\ttrain-merror:0.002307+0.000137879\ttest-merror:0.00735433+0.000226443\n"
     ]
    },
    {
     "name": "stdout",
     "output_type": "stream",
     "text": [
      "[861]\ttrain-merror:0.00229567+0.000121944\ttest-merror:0.007377+0.000252414\n"
     ]
    },
    {
     "name": "stdout",
     "output_type": "stream",
     "text": [
      "[862]\ttrain-merror:0.002284+0.000105568\ttest-merror:0.007377+0.000252414\n"
     ]
    },
    {
     "name": "stdout",
     "output_type": "stream",
     "text": [
      "[863]\ttrain-merror:0.002284+0.000105568\ttest-merror:0.007377+0.000252414\n"
     ]
    },
    {
     "name": "stdout",
     "output_type": "stream",
     "text": [
      "[864]\ttrain-merror:0.002261+0.000121757\ttest-merror:0.00735433+0.000226443\n"
     ]
    },
    {
     "name": "stdout",
     "output_type": "stream",
     "text": [
      "[865]\ttrain-merror:0.00227233+0.000116362\ttest-merror:0.00735433+0.000226443\n"
     ]
    },
    {
     "name": "stdout",
     "output_type": "stream",
     "text": [
      "[866]\ttrain-merror:0.00224967+0.000105856\ttest-merror:0.00733167+0.000256482\n"
     ]
    },
    {
     "name": "stdout",
     "output_type": "stream",
     "text": [
      "[867]\ttrain-merror:0.00223833+0.000116362\ttest-merror:0.00735433+0.000226443\n"
     ]
    },
    {
     "name": "stdout",
     "output_type": "stream",
     "text": [
      "[868]\ttrain-merror:0.00223833+0.000116362\ttest-merror:0.00733167+0.000256482\n"
     ]
    },
    {
     "name": "stdout",
     "output_type": "stream",
     "text": [
      "[869]\ttrain-merror:0.00221567+0.000113002\ttest-merror:0.00733167+0.000256482\n"
     ]
    },
    {
     "name": "stdout",
     "output_type": "stream",
     "text": [
      "[870]\ttrain-merror:0.00221567+0.000113002\ttest-merror:0.00733167+0.000256482\n"
     ]
    },
    {
     "name": "stdout",
     "output_type": "stream",
     "text": [
      "[871]\ttrain-merror:0.00221567+0.000113002\ttest-merror:0.00733167+0.000256482\n"
     ]
    },
    {
     "name": "stdout",
     "output_type": "stream",
     "text": [
      "[872]\ttrain-merror:0.00221567+0.000113002\ttest-merror:0.00733167+0.000256482\n"
     ]
    },
    {
     "name": "stdout",
     "output_type": "stream",
     "text": [
      "[873]\ttrain-merror:0.00221567+0.000113002\ttest-merror:0.00733167+0.000256482\n"
     ]
    },
    {
     "name": "stdout",
     "output_type": "stream",
     "text": [
      "[874]\ttrain-merror:0.00219267+0.000128108\ttest-merror:0.00733167+0.000256482\n"
     ]
    },
    {
     "name": "stdout",
     "output_type": "stream",
     "text": [
      "[875]\ttrain-merror:0.00216967+0.000143704\ttest-merror:0.00733167+0.000256482\n"
     ]
    },
    {
     "name": "stdout",
     "output_type": "stream",
     "text": [
      "[876]\ttrain-merror:0.00216967+0.000143704\ttest-merror:0.00733167+0.000256482\n"
     ]
    },
    {
     "name": "stdout",
     "output_type": "stream",
     "text": [
      "[877]\ttrain-merror:0.00215833+0.000155813\ttest-merror:0.00733167+0.000256482\n"
     ]
    },
    {
     "name": "stdout",
     "output_type": "stream",
     "text": [
      "[878]\ttrain-merror:0.002147+0.000168576\ttest-merror:0.00733167+0.000256482\n"
     ]
    },
    {
     "name": "stdout",
     "output_type": "stream",
     "text": [
      "[879]\ttrain-merror:0.00213567+0.000170869\ttest-merror:0.00733167+0.000256482\n"
     ]
    },
    {
     "name": "stdout",
     "output_type": "stream",
     "text": [
      "[880]\ttrain-merror:0.00212433+0.000155813\ttest-merror:0.00733167+0.000256482\n"
     ]
    },
    {
     "name": "stdout",
     "output_type": "stream",
     "text": [
      "[881]\ttrain-merror:0.00212433+0.000155813\ttest-merror:0.00733167+0.000256482\n"
     ]
    },
    {
     "name": "stdout",
     "output_type": "stream",
     "text": [
      "[882]\ttrain-merror:0.002113+0.000168576\ttest-merror:0.00730867+0.000252384\n"
     ]
    },
    {
     "name": "stdout",
     "output_type": "stream",
     "text": [
      "[883]\ttrain-merror:0.002113+0.000168576\ttest-merror:0.00730867+0.000252384\n"
     ]
    },
    {
     "name": "stdout",
     "output_type": "stream",
     "text": [
      "[884]\ttrain-merror:0.00210133+0.000182255\ttest-merror:0.00730867+0.000252384\n"
     ]
    },
    {
     "name": "stdout",
     "output_type": "stream",
     "text": [
      "[885]\ttrain-merror:0.00207833+0.000181858\ttest-merror:0.00730867+0.000252384\n"
     ]
    },
    {
     "name": "stdout",
     "output_type": "stream",
     "text": [
      "[886]\ttrain-merror:0.002067+0.000181837\ttest-merror:0.007286+0.000252414\n"
     ]
    },
    {
     "name": "stdout",
     "output_type": "stream",
     "text": [
      "[887]\ttrain-merror:0.00205567+0.00016779\ttest-merror:0.007286+0.000252414\n"
     ]
    },
    {
     "name": "stdout",
     "output_type": "stream",
     "text": [
      "[888]\ttrain-merror:0.00205567+0.00016779\ttest-merror:0.007286+0.000252414\n"
     ]
    },
    {
     "name": "stdout",
     "output_type": "stream",
     "text": [
      "[889]\ttrain-merror:0.00205567+0.00016779\ttest-merror:0.007286+0.000252414\n"
     ]
    },
    {
     "name": "stdout",
     "output_type": "stream",
     "text": [
      "[890]\ttrain-merror:0.00205567+0.00016779\ttest-merror:0.007286+0.000252414\n"
     ]
    },
    {
     "name": "stdout",
     "output_type": "stream",
     "text": [
      "[891]\ttrain-merror:0.00205567+0.00016779\ttest-merror:0.007286+0.000252414\n"
     ]
    },
    {
     "name": "stdout",
     "output_type": "stream",
     "text": [
      "[892]\ttrain-merror:0.00204433+0.000181858\ttest-merror:0.007286+0.000252414\n"
     ]
    },
    {
     "name": "stdout",
     "output_type": "stream",
     "text": [
      "[893]\ttrain-merror:0.00204433+0.000181858\ttest-merror:0.007263+0.00022372\n"
     ]
    },
    {
     "name": "stdout",
     "output_type": "stream",
     "text": [
      "[894]\ttrain-merror:0.00204433+0.000181858\ttest-merror:0.007263+0.00022372\n"
     ]
    },
    {
     "name": "stdout",
     "output_type": "stream",
     "text": [
      "[895]\ttrain-merror:0.00204433+0.000181858\ttest-merror:0.007263+0.00022372\n"
     ]
    },
    {
     "name": "stdout",
     "output_type": "stream",
     "text": [
      "[896]\ttrain-merror:0.00202167+0.000155813\ttest-merror:0.007263+0.00022372\n"
     ]
    },
    {
     "name": "stdout",
     "output_type": "stream",
     "text": [
      "[897]\ttrain-merror:0.00199833+0.00015922\ttest-merror:0.007263+0.00022372\n"
     ]
    },
    {
     "name": "stdout",
     "output_type": "stream",
     "text": [
      "[898]\ttrain-merror:0.00199833+0.00015922\ttest-merror:0.007263+0.00022372\n"
     ]
    },
    {
     "name": "stdout",
     "output_type": "stream",
     "text": [
      "[899]\ttrain-merror:0.00197533+0.000154131\ttest-merror:0.007263+0.00022372\n"
     ]
    },
    {
     "name": "stdout",
     "output_type": "stream",
     "text": [
      "[900]\ttrain-merror:0.00197533+0.000154131\ttest-merror:0.007263+0.00022372\n"
     ]
    },
    {
     "name": "stdout",
     "output_type": "stream",
     "text": [
      "[901]\ttrain-merror:0.001964+0.000168576\ttest-merror:0.007263+0.00022372\n"
     ]
    },
    {
     "name": "stdout",
     "output_type": "stream",
     "text": [
      "[902]\ttrain-merror:0.001964+0.000168576\ttest-merror:0.00724033+0.000196614\n"
     ]
    },
    {
     "name": "stdout",
     "output_type": "stream",
     "text": [
      "[903]\ttrain-merror:0.001964+0.000168576\ttest-merror:0.00724033+0.000196614\n"
     ]
    },
    {
     "name": "stdout",
     "output_type": "stream",
     "text": [
      "[904]\ttrain-merror:0.00195267+0.000183285\ttest-merror:0.00721733+0.000170869\n"
     ]
    },
    {
     "name": "stdout",
     "output_type": "stream",
     "text": [
      "[905]\ttrain-merror:0.00195267+0.000183285\ttest-merror:0.00721733+0.000170869\n"
     ]
    },
    {
     "name": "stdout",
     "output_type": "stream",
     "text": [
      "[906]\ttrain-merror:0.00194133+0.000198199\ttest-merror:0.00721733+0.000170869\n"
     ]
    },
    {
     "name": "stdout",
     "output_type": "stream",
     "text": [
      "[907]\ttrain-merror:0.00194133+0.000170869\ttest-merror:0.00719433+0.000201885\n"
     ]
    },
    {
     "name": "stdout",
     "output_type": "stream",
     "text": [
      "[908]\ttrain-merror:0.00194133+0.000198199\ttest-merror:0.00719433+0.000201885\n"
     ]
    },
    {
     "name": "stdout",
     "output_type": "stream",
     "text": [
      "[909]\ttrain-merror:0.00193+0.000186088\ttest-merror:0.00719433+0.000201885\n"
     ]
    },
    {
     "name": "stdout",
     "output_type": "stream",
     "text": [
      "[910]\ttrain-merror:0.00193+0.000186088\ttest-merror:0.00719433+0.000201885\n"
     ]
    },
    {
     "name": "stdout",
     "output_type": "stream",
     "text": [
      "[911]\ttrain-merror:0.00193+0.000186088\ttest-merror:0.00719433+0.000201885\n"
     ]
    },
    {
     "name": "stdout",
     "output_type": "stream",
     "text": [
      "[912]\ttrain-merror:0.00193+0.000186088\ttest-merror:0.00717133+0.000196614\n"
     ]
    },
    {
     "name": "stdout",
     "output_type": "stream",
     "text": [
      "[913]\ttrain-merror:0.00193+0.000186088\ttest-merror:0.00717133+0.000196614\n"
     ]
    },
    {
     "name": "stdout",
     "output_type": "stream",
     "text": [
      "[914]\ttrain-merror:0.00193+0.000186088\ttest-merror:0.00717133+0.000196614\n"
     ]
    },
    {
     "name": "stdout",
     "output_type": "stream",
     "text": [
      "[915]\ttrain-merror:0.00191867+0.000183285\ttest-merror:0.00717133+0.000196614\n"
     ]
    },
    {
     "name": "stdout",
     "output_type": "stream",
     "text": [
      "[916]\ttrain-merror:0.00191867+0.000183285\ttest-merror:0.00717133+0.000196614\n"
     ]
    },
    {
     "name": "stdout",
     "output_type": "stream",
     "text": [
      "[917]\ttrain-merror:0.00191867+0.000183285\ttest-merror:0.00717133+0.000196614\n"
     ]
    },
    {
     "name": "stdout",
     "output_type": "stream",
     "text": [
      "[918]\ttrain-merror:0.00191867+0.000183285\ttest-merror:0.00717133+0.000196614\n"
     ]
    },
    {
     "name": "stdout",
     "output_type": "stream",
     "text": [
      "[919]\ttrain-merror:0.00190733+0.000181858\ttest-merror:0.00717133+0.000196614\n"
     ]
    },
    {
     "name": "stdout",
     "output_type": "stream",
     "text": [
      "[920]\ttrain-merror:0.00190733+0.000181858\ttest-merror:0.00714867+0.000226005\n"
     ]
    },
    {
     "name": "stdout",
     "output_type": "stream",
     "text": [
      "[921]\ttrain-merror:0.00189567+0.000196653\ttest-merror:0.00714867+0.000226005\n"
     ]
    },
    {
     "name": "stdout",
     "output_type": "stream",
     "text": [
      "[922]\ttrain-merror:0.00189567+0.000196653\ttest-merror:0.00717133+0.000196614\n"
     ]
    },
    {
     "name": "stdout",
     "output_type": "stream",
     "text": [
      "[923]\ttrain-merror:0.00189567+0.000196653\ttest-merror:0.00714867+0.000226005\n"
     ]
    },
    {
     "name": "stdout",
     "output_type": "stream",
     "text": [
      "[924]\ttrain-merror:0.00189567+0.000196653\ttest-merror:0.00714867+0.000226005\n"
     ]
    },
    {
     "name": "stdout",
     "output_type": "stream",
     "text": [
      "[925]\ttrain-merror:0.00189567+0.000196653\ttest-merror:0.00714867+0.000226005\n"
     ]
    },
    {
     "name": "stdout",
     "output_type": "stream",
     "text": [
      "[926]\ttrain-merror:0.00189567+0.000196653\ttest-merror:0.00714867+0.000226005\n"
     ]
    },
    {
     "name": "stdout",
     "output_type": "stream",
     "text": [
      "[927]\ttrain-merror:0.00188433+0.000211267\ttest-merror:0.00714867+0.000226005\n"
     ]
    },
    {
     "name": "stdout",
     "output_type": "stream",
     "text": [
      "[928]\ttrain-merror:0.00186167+0.00021372\ttest-merror:0.00714867+0.000226005\n"
     ]
    },
    {
     "name": "stdout",
     "output_type": "stream",
     "text": [
      "[929]\ttrain-merror:0.00186167+0.00021372\ttest-merror:0.00714867+0.000226005\n"
     ]
    },
    {
     "name": "stdout",
     "output_type": "stream",
     "text": [
      "[930]\ttrain-merror:0.00186167+0.00021372\ttest-merror:0.00714867+0.000226005\n"
     ]
    },
    {
     "name": "stdout",
     "output_type": "stream",
     "text": [
      "[931]\ttrain-merror:0.00185+0.000211212\ttest-merror:0.00714867+0.000226005\n"
     ]
    },
    {
     "name": "stdout",
     "output_type": "stream",
     "text": [
      "[932]\ttrain-merror:0.00185+0.000211212\ttest-merror:0.00714867+0.000226005\n"
     ]
    },
    {
     "name": "stdout",
     "output_type": "stream",
     "text": [
      "[933]\ttrain-merror:0.00183867+0.000209993\ttest-merror:0.00714867+0.000226005\n"
     ]
    },
    {
     "name": "stdout",
     "output_type": "stream",
     "text": [
      "[934]\ttrain-merror:0.00182733+0.000209993\ttest-merror:0.00714867+0.000226005\n"
     ]
    },
    {
     "name": "stdout",
     "output_type": "stream",
     "text": [
      "[935]\ttrain-merror:0.00182733+0.000209993\ttest-merror:0.007126+0.00022372\n"
     ]
    },
    {
     "name": "stdout",
     "output_type": "stream",
     "text": [
      "[936]\ttrain-merror:0.00182733+0.000209993\ttest-merror:0.007126+0.00022372\n"
     ]
    },
    {
     "name": "stdout",
     "output_type": "stream",
     "text": [
      "[937]\ttrain-merror:0.00182733+0.000209993\ttest-merror:0.007126+0.00022372\n"
     ]
    },
    {
     "name": "stdout",
     "output_type": "stream",
     "text": [
      "[938]\ttrain-merror:0.00182733+0.000209993\ttest-merror:0.007126+0.00022372\n"
     ]
    },
    {
     "name": "stdout",
     "output_type": "stream",
     "text": [
      "[939]\ttrain-merror:0.00182733+0.000209993\ttest-merror:0.007126+0.00022372\n"
     ]
    },
    {
     "name": "stdout",
     "output_type": "stream",
     "text": [
      "[940]\ttrain-merror:0.00182733+0.000209993\ttest-merror:0.007126+0.00022372\n"
     ]
    },
    {
     "name": "stdout",
     "output_type": "stream",
     "text": [
      "[941]\ttrain-merror:0.00181567+0.000195551\ttest-merror:0.007126+0.00022372\n"
     ]
    },
    {
     "name": "stdout",
     "output_type": "stream",
     "text": [
      "[942]\ttrain-merror:0.00181567+0.000195551\ttest-merror:0.007126+0.00022372\n"
     ]
    },
    {
     "name": "stdout",
     "output_type": "stream",
     "text": [
      "[943]\ttrain-merror:0.00181567+0.000195551\ttest-merror:0.007126+0.00022372\n"
     ]
    },
    {
     "name": "stdout",
     "output_type": "stream",
     "text": [
      "[944]\ttrain-merror:0.00181567+0.000195551\ttest-merror:0.007126+0.00022372\n"
     ]
    },
    {
     "name": "stdout",
     "output_type": "stream",
     "text": [
      "[945]\ttrain-merror:0.00181567+0.000195551\ttest-merror:0.007126+0.00022372\n"
     ]
    },
    {
     "name": "stdout",
     "output_type": "stream",
     "text": [
      "[946]\ttrain-merror:0.001793+0.000196226\ttest-merror:0.007126+0.00022372\n"
     ]
    },
    {
     "name": "stdout",
     "output_type": "stream",
     "text": [
      "[947]\ttrain-merror:0.001793+0.000196226\ttest-merror:0.007126+0.00022372\n"
     ]
    },
    {
     "name": "stdout",
     "output_type": "stream",
     "text": [
      "[948]\ttrain-merror:0.001793+0.000196226\ttest-merror:0.007126+0.00022372\n"
     ]
    },
    {
     "name": "stdout",
     "output_type": "stream",
     "text": [
      "[949]\ttrain-merror:0.001793+0.000196226\ttest-merror:0.007126+0.00022372\n"
     ]
    },
    {
     "name": "stdout",
     "output_type": "stream",
     "text": [
      "[950]\ttrain-merror:0.001793+0.000196226\ttest-merror:0.007126+0.00022372\n"
     ]
    },
    {
     "name": "stdout",
     "output_type": "stream",
     "text": [
      "[951]\ttrain-merror:0.001793+0.000196226\ttest-merror:0.007103+0.000226072\n"
     ]
    },
    {
     "name": "stdout",
     "output_type": "stream",
     "text": [
      "[952]\ttrain-merror:0.00178133+0.000195551\ttest-merror:0.007103+0.000226072\n"
     ]
    },
    {
     "name": "stdout",
     "output_type": "stream",
     "text": [
      "[953]\ttrain-merror:0.00178133+0.000195551\ttest-merror:0.007103+0.000226072\n"
     ]
    },
    {
     "name": "stdout",
     "output_type": "stream",
     "text": [
      "[954]\ttrain-merror:0.00178133+0.000195551\ttest-merror:0.007103+0.000226072\n"
     ]
    },
    {
     "name": "stdout",
     "output_type": "stream",
     "text": [
      "[955]\ttrain-merror:0.00177+0.000181837\ttest-merror:0.007103+0.000226072\n"
     ]
    },
    {
     "name": "stdout",
     "output_type": "stream",
     "text": [
      "[956]\ttrain-merror:0.00175867+0.000181858\ttest-merror:0.007103+0.000226072\n"
     ]
    },
    {
     "name": "stdout",
     "output_type": "stream",
     "text": [
      "[957]\ttrain-merror:0.00175867+0.000181858\ttest-merror:0.007103+0.000226072\n"
     ]
    },
    {
     "name": "stdout",
     "output_type": "stream",
     "text": [
      "[958]\ttrain-merror:0.00173567+0.000182255\ttest-merror:0.007103+0.000226072\n"
     ]
    },
    {
     "name": "stdout",
     "output_type": "stream",
     "text": [
      "[959]\ttrain-merror:0.00173567+0.000182255\ttest-merror:0.007103+0.000226072\n"
     ]
    },
    {
     "name": "stdout",
     "output_type": "stream",
     "text": [
      "[960]\ttrain-merror:0.001713+0.000183659\ttest-merror:0.007103+0.000226072\n"
     ]
    },
    {
     "name": "stdout",
     "output_type": "stream",
     "text": [
      "[961]\ttrain-merror:0.00170133+0.000186537\ttest-merror:0.00708+0.000252414\n"
     ]
    },
    {
     "name": "stdout",
     "output_type": "stream",
     "text": [
      "[962]\ttrain-merror:0.00170133+0.000186537\ttest-merror:0.00705733+0.000224128\n"
     ]
    },
    {
     "name": "stdout",
     "output_type": "stream",
     "text": [
      "[963]\ttrain-merror:0.00168967+0.000170869\ttest-merror:0.00708+0.000252414\n"
     ]
    },
    {
     "name": "stdout",
     "output_type": "stream",
     "text": [
      "[964]\ttrain-merror:0.00167833+0.000155813\ttest-merror:0.00705733+0.000224128\n"
     ]
    },
    {
     "name": "stdout",
     "output_type": "stream",
     "text": [
      "[965]\ttrain-merror:0.00167833+0.000155813\ttest-merror:0.00705733+0.000224128\n"
     ]
    },
    {
     "name": "stdout",
     "output_type": "stream",
     "text": [
      "[966]\ttrain-merror:0.00167833+0.000155813\ttest-merror:0.00705733+0.000224128\n"
     ]
    },
    {
     "name": "stdout",
     "output_type": "stream",
     "text": [
      "[967]\ttrain-merror:0.001667+0.0001591\ttest-merror:0.00705733+0.000224128\n"
     ]
    },
    {
     "name": "stdout",
     "output_type": "stream",
     "text": [
      "[968]\ttrain-merror:0.00165567+0.000143704\ttest-merror:0.00705733+0.000224128\n"
     ]
    },
    {
     "name": "stdout",
     "output_type": "stream",
     "text": [
      "[969]\ttrain-merror:0.00165567+0.000170869\ttest-merror:0.00705733+0.000224128\n"
     ]
    },
    {
     "name": "stdout",
     "output_type": "stream",
     "text": [
      "[970]\ttrain-merror:0.00165567+0.000170869\ttest-merror:0.00705733+0.000224128\n"
     ]
    },
    {
     "name": "stdout",
     "output_type": "stream",
     "text": [
      "[971]\ttrain-merror:0.00164433+0.00016779\ttest-merror:0.00705733+0.000224128\n"
     ]
    },
    {
     "name": "stdout",
     "output_type": "stream",
     "text": [
      "[972]\ttrain-merror:0.00162133+0.000140538\ttest-merror:0.00705733+0.000224128\n"
     ]
    },
    {
     "name": "stdout",
     "output_type": "stream",
     "text": [
      "[973]\ttrain-merror:0.00161+0.000139621\ttest-merror:0.00705733+0.000224128\n"
     ]
    },
    {
     "name": "stdout",
     "output_type": "stream",
     "text": [
      "[974]\ttrain-merror:0.00161+0.000139621\ttest-merror:0.00703467+0.000252384\n"
     ]
    },
    {
     "name": "stdout",
     "output_type": "stream",
     "text": [
      "[975]\ttrain-merror:0.00161+0.000139621\ttest-merror:0.00703467+0.000252384\n"
     ]
    },
    {
     "name": "stdout",
     "output_type": "stream",
     "text": [
      "[976]\ttrain-merror:0.00161+0.000139621\ttest-merror:0.00703467+0.000252384\n"
     ]
    },
    {
     "name": "stdout",
     "output_type": "stream",
     "text": [
      "[977]\ttrain-merror:0.00161+0.000139621\ttest-merror:0.00703467+0.000252384\n"
     ]
    },
    {
     "name": "stdout",
     "output_type": "stream",
     "text": [
      "[978]\ttrain-merror:0.00159867+0.000140538\ttest-merror:0.00701167+0.000226005\n"
     ]
    },
    {
     "name": "stdout",
     "output_type": "stream",
     "text": [
      "[979]\ttrain-merror:0.00159867+0.000140538\ttest-merror:0.00701167+0.000226005\n"
     ]
    },
    {
     "name": "stdout",
     "output_type": "stream",
     "text": [
      "[980]\ttrain-merror:0.00158733+0.000125996\ttest-merror:0.00701167+0.000226005\n"
     ]
    },
    {
     "name": "stdout",
     "output_type": "stream",
     "text": [
      "[981]\ttrain-merror:0.001576+0.00011186\ttest-merror:0.00701167+0.000226005\n"
     ]
    },
    {
     "name": "stdout",
     "output_type": "stream",
     "text": [
      "[982]\ttrain-merror:0.001576+0.00011186\ttest-merror:0.00701167+0.000226005\n"
     ]
    },
    {
     "name": "stdout",
     "output_type": "stream",
     "text": [
      "[983]\ttrain-merror:0.001576+0.00011186\ttest-merror:0.00701167+0.000226005\n"
     ]
    },
    {
     "name": "stdout",
     "output_type": "stream",
     "text": [
      "[984]\ttrain-merror:0.001576+0.00011186\ttest-merror:0.00701167+0.000226005\n"
     ]
    },
    {
     "name": "stdout",
     "output_type": "stream",
     "text": [
      "[985]\ttrain-merror:0.001576+0.00011186\ttest-merror:0.00701167+0.000226005\n"
     ]
    },
    {
     "name": "stdout",
     "output_type": "stream",
     "text": [
      "[986]\ttrain-merror:0.001576+0.00011186\ttest-merror:0.00698867+0.000256482\n"
     ]
    },
    {
     "name": "stdout",
     "output_type": "stream",
     "text": [
      "[987]\ttrain-merror:0.001576+0.00011186\ttest-merror:0.00701167+0.000226005\n"
     ]
    },
    {
     "name": "stdout",
     "output_type": "stream",
     "text": [
      "[988]\ttrain-merror:0.001576+0.00011186\ttest-merror:0.00701167+0.000226005\n"
     ]
    },
    {
     "name": "stdout",
     "output_type": "stream",
     "text": [
      "[989]\ttrain-merror:0.001576+0.00011186\ttest-merror:0.00701167+0.000226005\n"
     ]
    },
    {
     "name": "stdout",
     "output_type": "stream",
     "text": [
      "[990]\ttrain-merror:0.001576+0.00011186\ttest-merror:0.00701167+0.000226005\n"
     ]
    },
    {
     "name": "stdout",
     "output_type": "stream",
     "text": [
      "[991]\ttrain-merror:0.001576+0.00011186\ttest-merror:0.006989+0.000295954\n"
     ]
    },
    {
     "name": "stdout",
     "output_type": "stream",
     "text": [
      "[992]\ttrain-merror:0.00156467+0.000113002\ttest-merror:0.00701167+0.000264545\n"
     ]
    },
    {
     "name": "stdout",
     "output_type": "stream",
     "text": [
      "[993]\ttrain-merror:0.00156467+0.000113002\ttest-merror:0.00701167+0.000264545\n"
     ]
    },
    {
     "name": "stdout",
     "output_type": "stream",
     "text": [
      "[994]\ttrain-merror:0.00156467+0.000113002\ttest-merror:0.00701167+0.000264545\n"
     ]
    },
    {
     "name": "stdout",
     "output_type": "stream",
     "text": [
      "[995]\ttrain-merror:0.00156467+0.000113002\ttest-merror:0.006989+0.000295954\n"
     ]
    },
    {
     "name": "stdout",
     "output_type": "stream",
     "text": [
      "[996]\ttrain-merror:0.00156467+0.000113002\ttest-merror:0.00701167+0.000264545\n"
     ]
    },
    {
     "name": "stdout",
     "output_type": "stream",
     "text": [
      "[997]\ttrain-merror:0.00156467+0.000113002\ttest-merror:0.006989+0.000295954\n"
     ]
    },
    {
     "name": "stdout",
     "output_type": "stream",
     "text": [
      "[998]\ttrain-merror:0.00156467+0.000113002\ttest-merror:0.00696633+0.000276034\n"
     ]
    },
    {
     "name": "stdout",
     "output_type": "stream",
     "text": [
      "[999]\ttrain-merror:0.00156467+0.000113002\ttest-merror:0.006989+0.000295954\n"
     ]
    },
    {
     "name": "stdout",
     "output_type": "stream",
     "text": [
      "[1000]\ttrain-merror:0.00156467+0.000113002\ttest-merror:0.006989+0.000295954\n"
     ]
    },
    {
     "name": "stdout",
     "output_type": "stream",
     "text": [
      "[1001]\ttrain-merror:0.00156467+0.000113002\ttest-merror:0.006989+0.000295954\n"
     ]
    },
    {
     "name": "stdout",
     "output_type": "stream",
     "text": [
      "[1002]\ttrain-merror:0.00156467+0.000113002\ttest-merror:0.006989+0.000295954\n"
     ]
    },
    {
     "name": "stdout",
     "output_type": "stream",
     "text": [
      "[1003]\ttrain-merror:0.001542+0.00011186\ttest-merror:0.00696633+0.000276034\n"
     ]
    },
    {
     "name": "stdout",
     "output_type": "stream",
     "text": [
      "[1004]\ttrain-merror:0.00155333+0.000125996\ttest-merror:0.00696633+0.000276034\n"
     ]
    },
    {
     "name": "stdout",
     "output_type": "stream",
     "text": [
      "[1005]\ttrain-merror:0.001542+0.00011186\ttest-merror:0.00696633+0.000276034\n"
     ]
    },
    {
     "name": "stdout",
     "output_type": "stream",
     "text": [
      "[1006]\ttrain-merror:0.001542+0.00011186\ttest-merror:0.00696633+0.000276034\n"
     ]
    },
    {
     "name": "stdout",
     "output_type": "stream",
     "text": [
      "[1007]\ttrain-merror:0.001519+0.000116493\ttest-merror:0.00696633+0.000276034\n"
     ]
    },
    {
     "name": "stdout",
     "output_type": "stream",
     "text": [
      "[1008]\ttrain-merror:0.001519+0.000116493\ttest-merror:0.00696633+0.000276034\n"
     ]
    },
    {
     "name": "stdout",
     "output_type": "stream",
     "text": [
      "[1009]\ttrain-merror:0.00150733+0.000100546\ttest-merror:0.00696633+0.000276034\n"
     ]
    },
    {
     "name": "stdout",
     "output_type": "stream",
     "text": [
      "[1010]\ttrain-merror:0.00150733+0.000100546\ttest-merror:0.00696633+0.000276034\n"
     ]
    },
    {
     "name": "stdout",
     "output_type": "stream",
     "text": [
      "[1011]\ttrain-merror:0.00150733+0.000100546\ttest-merror:0.00696633+0.000276034\n"
     ]
    },
    {
     "name": "stdout",
     "output_type": "stream",
     "text": [
      "[1012]\ttrain-merror:0.00148467+8.97045e-05\ttest-merror:0.00696633+0.000276034\n"
     ]
    },
    {
     "name": "stdout",
     "output_type": "stream",
     "text": [
      "[1013]\ttrain-merror:0.00148467+8.97045e-05\ttest-merror:0.00696633+0.000276034\n"
     ]
    },
    {
     "name": "stdout",
     "output_type": "stream",
     "text": [
      "[1014]\ttrain-merror:0.00148467+8.97045e-05\ttest-merror:0.00696633+0.000276034\n"
     ]
    },
    {
     "name": "stdout",
     "output_type": "stream",
     "text": [
      "[1015]\ttrain-merror:0.00148467+8.97045e-05\ttest-merror:0.00696633+0.000276034\n"
     ]
    },
    {
     "name": "stdout",
     "output_type": "stream",
     "text": [
      "[1016]\ttrain-merror:0.00148467+8.97045e-05\ttest-merror:0.00696633+0.000276034\n"
     ]
    },
    {
     "name": "stdout",
     "output_type": "stream",
     "text": [
      "[1017]\ttrain-merror:0.00148467+8.97045e-05\ttest-merror:0.00696633+0.000276034\n"
     ]
    },
    {
     "name": "stdout",
     "output_type": "stream",
     "text": [
      "[1018]\ttrain-merror:0.00148467+8.97045e-05\ttest-merror:0.00696633+0.000276034\n"
     ]
    },
    {
     "name": "stdout",
     "output_type": "stream",
     "text": [
      "[1019]\ttrain-merror:0.001473+0.000100886\ttest-merror:0.00696633+0.000276034\n"
     ]
    },
    {
     "name": "stdout",
     "output_type": "stream",
     "text": [
      "[1020]\ttrain-merror:0.00146167+0.000113002\ttest-merror:0.00696633+0.000276034\n"
     ]
    },
    {
     "name": "stdout",
     "output_type": "stream",
     "text": [
      "[1021]\ttrain-merror:0.00146167+8.56128e-05\ttest-merror:0.00696633+0.000276034\n"
     ]
    },
    {
     "name": "stdout",
     "output_type": "stream",
     "text": [
      "[1022]\ttrain-merror:0.001473+0.000100886\ttest-merror:0.00696633+0.000276034\n"
     ]
    },
    {
     "name": "stdout",
     "output_type": "stream",
     "text": [
      "[1023]\ttrain-merror:0.00145033+9.83068e-05\ttest-merror:0.00696633+0.000276034\n"
     ]
    },
    {
     "name": "stdout",
     "output_type": "stream",
     "text": [
      "[1024]\ttrain-merror:0.00145033+9.83068e-05\ttest-merror:0.00696633+0.000276034\n"
     ]
    },
    {
     "name": "stdout",
     "output_type": "stream",
     "text": [
      "[1025]\ttrain-merror:0.00145033+9.83068e-05\ttest-merror:0.00696633+0.000276034\n"
     ]
    },
    {
     "name": "stdout",
     "output_type": "stream",
     "text": [
      "[1026]\ttrain-merror:0.00142767+8.56128e-05\ttest-merror:0.00696633+0.000276034\n"
     ]
    },
    {
     "name": "stdout",
     "output_type": "stream",
     "text": [
      "[1027]\ttrain-merror:0.001439+0.000100886\ttest-merror:0.00696633+0.000276034\n"
     ]
    },
    {
     "name": "stdout",
     "output_type": "stream",
     "text": [
      "[1028]\ttrain-merror:0.00142767+8.56128e-05\ttest-merror:0.00696633+0.000276034\n"
     ]
    },
    {
     "name": "stdout",
     "output_type": "stream",
     "text": [
      "[1029]\ttrain-merror:0.001416+7.02424e-05\ttest-merror:0.00696633+0.000276034\n"
     ]
    },
    {
     "name": "stdout",
     "output_type": "stream",
     "text": [
      "[1030]\ttrain-merror:0.00140433+7.39114e-05\ttest-merror:0.00696633+0.000276034\n"
     ]
    },
    {
     "name": "stdout",
     "output_type": "stream",
     "text": [
      "[1031]\ttrain-merror:0.001393+8.52565e-05\ttest-merror:0.00696633+0.000276034\n"
     ]
    },
    {
     "name": "stdout",
     "output_type": "stream",
     "text": [
      "[1032]\ttrain-merror:0.001393+8.52565e-05\ttest-merror:0.00696633+0.000276034\n"
     ]
    },
    {
     "name": "stdout",
     "output_type": "stream",
     "text": [
      "[1033]\ttrain-merror:0.001393+8.52565e-05\ttest-merror:0.00696633+0.000276034\n"
     ]
    },
    {
     "name": "stdout",
     "output_type": "stream",
     "text": [
      "[1034]\ttrain-merror:0.001393+8.52565e-05\ttest-merror:0.00696633+0.000276034\n"
     ]
    },
    {
     "name": "stdout",
     "output_type": "stream",
     "text": [
      "[1035]\ttrain-merror:0.00140433+7.39114e-05\ttest-merror:0.00696633+0.000276034\n"
     ]
    },
    {
     "name": "stdout",
     "output_type": "stream",
     "text": [
      "[1036]\ttrain-merror:0.00140433+7.39114e-05\ttest-merror:0.00696633+0.000276034\n"
     ]
    },
    {
     "name": "stdout",
     "output_type": "stream",
     "text": [
      "[1037]\ttrain-merror:0.001393+8.52565e-05\ttest-merror:0.00696633+0.000276034\n"
     ]
    },
    {
     "name": "stdout",
     "output_type": "stream",
     "text": [
      "[1038]\ttrain-merror:0.001393+8.52565e-05\ttest-merror:0.00696633+0.000276034\n"
     ]
    },
    {
     "name": "stdout",
     "output_type": "stream",
     "text": [
      "[1039]\ttrain-merror:0.001393+8.52565e-05\ttest-merror:0.00696633+0.000276034\n"
     ]
    },
    {
     "name": "stdout",
     "output_type": "stream",
     "text": [
      "[1040]\ttrain-merror:0.00138167+9.79195e-05\ttest-merror:0.00696633+0.000276034\n"
     ]
    },
    {
     "name": "stdout",
     "output_type": "stream",
     "text": [
      "[1041]\ttrain-merror:0.00138167+9.79195e-05\ttest-merror:0.00696633+0.000276034\n"
     ]
    },
    {
     "name": "stdout",
     "output_type": "stream",
     "text": [
      "[1042]\ttrain-merror:0.00138167+9.79195e-05\ttest-merror:0.00696633+0.000276034\n"
     ]
    },
    {
     "name": "stdout",
     "output_type": "stream",
     "text": [
      "[1043]\ttrain-merror:0.00138167+9.79195e-05\ttest-merror:0.00696633+0.000276034\n"
     ]
    },
    {
     "name": "stdout",
     "output_type": "stream",
     "text": [
      "[1044]\ttrain-merror:0.00138167+9.79195e-05\ttest-merror:0.00696633+0.000276034\n"
     ]
    },
    {
     "name": "stdout",
     "output_type": "stream",
     "text": [
      "[1045]\ttrain-merror:0.00138167+9.79195e-05\ttest-merror:0.00696633+0.000276034\n"
     ]
    },
    {
     "name": "stdout",
     "output_type": "stream",
     "text": [
      "[1046]\ttrain-merror:0.00138167+9.79195e-05\ttest-merror:0.00696633+0.000276034\n"
     ]
    },
    {
     "name": "stdout",
     "output_type": "stream",
     "text": [
      "[1047]\ttrain-merror:0.00138167+9.79195e-05\ttest-merror:0.00696633+0.000276034\n"
     ]
    },
    {
     "name": "stdout",
     "output_type": "stream",
     "text": [
      "[1048]\ttrain-merror:0.00138167+9.79195e-05\ttest-merror:0.00696633+0.000276034\n"
     ]
    },
    {
     "name": "stdout",
     "output_type": "stream",
     "text": [
      "[1049]\ttrain-merror:0.00138167+9.79195e-05\ttest-merror:0.00696633+0.000276034\n"
     ]
    },
    {
     "name": "stdout",
     "output_type": "stream",
     "text": [
      "[1050]\ttrain-merror:0.00134733+0.000116362\ttest-merror:0.00696633+0.000276034\n"
     ]
    },
    {
     "name": "stdout",
     "output_type": "stream",
     "text": [
      "[1051]\ttrain-merror:0.001359+0.000105568\ttest-merror:0.00696633+0.000276034\n"
     ]
    },
    {
     "name": "stdout",
     "output_type": "stream",
     "text": [
      "[1052]\ttrain-merror:0.001336+0.000128018\ttest-merror:0.006989+0.000244168\n"
     ]
    },
    {
     "name": "stdout",
     "output_type": "stream",
     "text": [
      "[1053]\ttrain-merror:0.001336+0.000128018\ttest-merror:0.006989+0.000244168\n"
     ]
    },
    {
     "name": "stdout",
     "output_type": "stream",
     "text": [
      "[1054]\ttrain-merror:0.00132467+0.000140538\ttest-merror:0.006989+0.000244168\n"
     ]
    },
    {
     "name": "stdout",
     "output_type": "stream",
     "text": [
      "[1055]\ttrain-merror:0.00132467+0.000140538\ttest-merror:0.006989+0.000244168\n"
     ]
    },
    {
     "name": "stdout",
     "output_type": "stream",
     "text": [
      "[1056]\ttrain-merror:0.00131333+0.000125996\ttest-merror:0.006989+0.000244168\n"
     ]
    },
    {
     "name": "stdout",
     "output_type": "stream",
     "text": [
      "[1057]\ttrain-merror:0.00131333+0.000125996\ttest-merror:0.006989+0.000244168\n"
     ]
    },
    {
     "name": "stdout",
     "output_type": "stream",
     "text": [
      "[1058]\ttrain-merror:0.001302+0.000128018\ttest-merror:0.006989+0.000244168\n"
     ]
    },
    {
     "name": "stdout",
     "output_type": "stream",
     "text": [
      "[1059]\ttrain-merror:0.001302+0.000139621\ttest-merror:0.006966+0.000226274\n"
     ]
    },
    {
     "name": "stdout",
     "output_type": "stream",
     "text": [
      "[1060]\ttrain-merror:0.00129067+0.000140538\ttest-merror:0.006989+0.000244168\n"
     ]
    },
    {
     "name": "stdout",
     "output_type": "stream",
     "text": [
      "[1061]\ttrain-merror:0.00129067+0.000140538\ttest-merror:0.006989+0.000244168\n"
     ]
    },
    {
     "name": "stdout",
     "output_type": "stream",
     "text": [
      "[1062]\ttrain-merror:0.00129067+0.000140538\ttest-merror:0.006966+0.000226274\n"
     ]
    },
    {
     "name": "stdout",
     "output_type": "stream",
     "text": [
      "[1063]\ttrain-merror:0.00129067+0.000140538\ttest-merror:0.006966+0.000226274\n"
     ]
    },
    {
     "name": "stdout",
     "output_type": "stream",
     "text": [
      "[1064]\ttrain-merror:0.00129067+0.000140538\ttest-merror:0.006966+0.000226274\n"
     ]
    },
    {
     "name": "stdout",
     "output_type": "stream",
     "text": [
      "[1065]\ttrain-merror:0.00129067+0.000140538\ttest-merror:0.006966+0.000226274\n"
     ]
    },
    {
     "name": "stdout",
     "output_type": "stream",
     "text": [
      "[1066]\ttrain-merror:0.00127933+0.000125996\ttest-merror:0.006966+0.000226274\n"
     ]
    },
    {
     "name": "stdout",
     "output_type": "stream",
     "text": [
      "[1067]\ttrain-merror:0.00127933+0.000125996\ttest-merror:0.006966+0.000226274\n"
     ]
    },
    {
     "name": "stdout",
     "output_type": "stream",
     "text": [
      "[1068]\ttrain-merror:0.00127933+0.000125996\ttest-merror:0.006966+0.000226274\n"
     ]
    },
    {
     "name": "stdout",
     "output_type": "stream",
     "text": [
      "[1069]\ttrain-merror:0.00127933+0.000125996\ttest-merror:0.006966+0.000226274\n"
     ]
    },
    {
     "name": "stdout",
     "output_type": "stream",
     "text": [
      "[1070]\ttrain-merror:0.00125633+0.000126418\ttest-merror:0.006966+0.000226274\n"
     ]
    },
    {
     "name": "stdout",
     "output_type": "stream",
     "text": [
      "[1071]\ttrain-merror:0.001268+0.00011186\ttest-merror:0.006966+0.000226274\n"
     ]
    },
    {
     "name": "stdout",
     "output_type": "stream",
     "text": [
      "[1072]\ttrain-merror:0.001268+0.00011186\ttest-merror:0.00694333+0.00025833\n"
     ]
    },
    {
     "name": "stdout",
     "output_type": "stream",
     "text": [
      "[1073]\ttrain-merror:0.001268+0.00011186\ttest-merror:0.00692067+0.000243887\n"
     ]
    },
    {
     "name": "stdout",
     "output_type": "stream",
     "text": [
      "[1074]\ttrain-merror:0.00125633+0.000126418\ttest-merror:0.00692067+0.000243887\n"
     ]
    },
    {
     "name": "stdout",
     "output_type": "stream",
     "text": [
      "[1075]\ttrain-merror:0.001268+0.00011186\ttest-merror:0.00692067+0.000243887\n"
     ]
    },
    {
     "name": "stdout",
     "output_type": "stream",
     "text": [
      "[1076]\ttrain-merror:0.00125633+0.000126418\ttest-merror:0.00692067+0.000243887\n"
     ]
    },
    {
     "name": "stdout",
     "output_type": "stream",
     "text": [
      "[1077]\ttrain-merror:0.001245+0.00014097\ttest-merror:0.00692067+0.000243887\n"
     ]
    },
    {
     "name": "stdout",
     "output_type": "stream",
     "text": [
      "[1078]\ttrain-merror:0.00123333+0.000128108\ttest-merror:0.00692067+0.000243887\n"
     ]
    },
    {
     "name": "stdout",
     "output_type": "stream",
     "text": [
      "[1079]\ttrain-merror:0.001222+0.000116493\ttest-merror:0.00692067+0.000243887\n"
     ]
    },
    {
     "name": "stdout",
     "output_type": "stream",
     "text": [
      "[1080]\ttrain-merror:0.001222+0.000116493\ttest-merror:0.00692067+0.000243887\n"
     ]
    },
    {
     "name": "stdout",
     "output_type": "stream",
     "text": [
      "[1081]\ttrain-merror:0.001222+0.000116493\ttest-merror:0.00692067+0.000243887\n"
     ]
    },
    {
     "name": "stdout",
     "output_type": "stream",
     "text": [
      "[1082]\ttrain-merror:0.001222+0.000116493\ttest-merror:0.00692067+0.000243887\n"
     ]
    },
    {
     "name": "stdout",
     "output_type": "stream",
     "text": [
      "[1083]\ttrain-merror:0.001222+0.000116493\ttest-merror:0.00692067+0.000243887\n"
     ]
    },
    {
     "name": "stdout",
     "output_type": "stream",
     "text": [
      "[1084]\ttrain-merror:0.001222+0.000116493\ttest-merror:0.00692067+0.000243887\n"
     ]
    },
    {
     "name": "stdout",
     "output_type": "stream",
     "text": [
      "[1085]\ttrain-merror:0.00121067+0.000132114\ttest-merror:0.00692067+0.000243887\n"
     ]
    },
    {
     "name": "stdout",
     "output_type": "stream",
     "text": [
      "[1086]\ttrain-merror:0.00121067+0.000132114\ttest-merror:0.00692067+0.000243887\n"
     ]
    },
    {
     "name": "stdout",
     "output_type": "stream",
     "text": [
      "[1087]\ttrain-merror:0.00121067+0.000132114\ttest-merror:0.00692067+0.000243887\n"
     ]
    },
    {
     "name": "stdout",
     "output_type": "stream",
     "text": [
      "[1088]\ttrain-merror:0.00121067+0.000132114\ttest-merror:0.00692067+0.000243887\n"
     ]
    },
    {
     "name": "stdout",
     "output_type": "stream",
     "text": [
      "[1089]\ttrain-merror:0.00121067+0.000132114\ttest-merror:0.00692067+0.000243887\n"
     ]
    },
    {
     "name": "stdout",
     "output_type": "stream",
     "text": [
      "[1090]\ttrain-merror:0.00121067+0.000132114\ttest-merror:0.00692067+0.000243887\n"
     ]
    },
    {
     "name": "stdout",
     "output_type": "stream",
     "text": [
      "[1091]\ttrain-merror:0.00118767+0.000116362\ttest-merror:0.00692067+0.000243887\n"
     ]
    },
    {
     "name": "stdout",
     "output_type": "stream",
     "text": [
      "[1092]\ttrain-merror:0.00118767+0.000116362\ttest-merror:0.00692067+0.000243887\n"
     ]
    },
    {
     "name": "stdout",
     "output_type": "stream",
     "text": [
      "[1093]\ttrain-merror:0.001199+0.000128018\ttest-merror:0.00692067+0.000243887\n"
     ]
    },
    {
     "name": "stdout",
     "output_type": "stream",
     "text": [
      "[1094]\ttrain-merror:0.00118767+0.000116362\ttest-merror:0.00692067+0.000243887\n"
     ]
    },
    {
     "name": "stdout",
     "output_type": "stream",
     "text": [
      "[1095]\ttrain-merror:0.001199+0.000128018\ttest-merror:0.00692067+0.000243887\n"
     ]
    },
    {
     "name": "stdout",
     "output_type": "stream",
     "text": [
      "[1096]\ttrain-merror:0.00118767+0.000143253\ttest-merror:0.00692067+0.000243887\n"
     ]
    },
    {
     "name": "stdout",
     "output_type": "stream",
     "text": [
      "[1097]\ttrain-merror:0.001165+0.000121757\ttest-merror:0.00689767+0.000226039\n"
     ]
    },
    {
     "name": "stdout",
     "output_type": "stream",
     "text": [
      "[1098]\ttrain-merror:0.001165+0.000121757\ttest-merror:0.00689767+0.000226039\n"
     ]
    },
    {
     "name": "stdout",
     "output_type": "stream",
     "text": [
      "[1099]\ttrain-merror:0.00115333+0.000112666\ttest-merror:0.00689767+0.000226039\n"
     ]
    },
    {
     "name": "stdout",
     "output_type": "stream",
     "text": [
      "[1100]\ttrain-merror:0.00115333+0.000112666\ttest-merror:0.00689767+0.000226039\n"
     ]
    },
    {
     "name": "stdout",
     "output_type": "stream",
     "text": [
      "[1101]\ttrain-merror:0.00115333+0.000112666\ttest-merror:0.00689767+0.000226039\n"
     ]
    },
    {
     "name": "stdout",
     "output_type": "stream",
     "text": [
      "[1102]\ttrain-merror:0.00115333+0.000112666\ttest-merror:0.00689767+0.000226039\n"
     ]
    },
    {
     "name": "stdout",
     "output_type": "stream",
     "text": [
      "[1103]\ttrain-merror:0.00115333+0.000112666\ttest-merror:0.00689767+0.000226039\n"
     ]
    },
    {
     "name": "stdout",
     "output_type": "stream",
     "text": [
      "[1104]\ttrain-merror:0.00115333+0.000112666\ttest-merror:0.00689767+0.000226039\n"
     ]
    },
    {
     "name": "stdout",
     "output_type": "stream",
     "text": [
      "[1105]\ttrain-merror:0.00115333+0.000112666\ttest-merror:0.00689767+0.000226039\n"
     ]
    },
    {
     "name": "stdout",
     "output_type": "stream",
     "text": [
      "[1106]\ttrain-merror:0.00115333+0.000112666\ttest-merror:0.00689767+0.000226039\n"
     ]
    },
    {
     "name": "stdout",
     "output_type": "stream",
     "text": [
      "[1107]\ttrain-merror:0.001142+0.000105568\ttest-merror:0.00689767+0.000226039\n"
     ]
    },
    {
     "name": "stdout",
     "output_type": "stream",
     "text": [
      "[1108]\ttrain-merror:0.001142+0.000105568\ttest-merror:0.00689767+0.000226039\n"
     ]
    },
    {
     "name": "stdout",
     "output_type": "stream",
     "text": [
      "[1109]\ttrain-merror:0.001142+0.000105568\ttest-merror:0.00689767+0.000226039\n"
     ]
    },
    {
     "name": "stdout",
     "output_type": "stream",
     "text": [
      "[1110]\ttrain-merror:0.001142+0.000105568\ttest-merror:0.00687467+0.000258566\n"
     ]
    },
    {
     "name": "stdout",
     "output_type": "stream",
     "text": [
      "[1111]\ttrain-merror:0.001142+0.000105568\ttest-merror:0.00687467+0.000258566\n"
     ]
    },
    {
     "name": "stdout",
     "output_type": "stream",
     "text": [
      "[1112]\ttrain-merror:0.00113067+0.000100546\ttest-merror:0.00687467+0.000258566\n"
     ]
    },
    {
     "name": "stdout",
     "output_type": "stream",
     "text": [
      "[1113]\ttrain-merror:0.00110767+0.00011307\ttest-merror:0.00687467+0.000258566\n"
     ]
    },
    {
     "name": "stdout",
     "output_type": "stream",
     "text": [
      "[1114]\ttrain-merror:0.00110767+0.00011307\ttest-merror:0.00687467+0.000258566\n"
     ]
    },
    {
     "name": "stdout",
     "output_type": "stream",
     "text": [
      "[1115]\ttrain-merror:0.00110767+0.00011307\ttest-merror:0.00687467+0.000258566\n"
     ]
    },
    {
     "name": "stdout",
     "output_type": "stream",
     "text": [
      "[1116]\ttrain-merror:0.00110767+0.00011307\ttest-merror:0.00687467+0.000258566\n"
     ]
    },
    {
     "name": "stdout",
     "output_type": "stream",
     "text": [
      "[1117]\ttrain-merror:0.00110767+0.00011307\ttest-merror:0.00687467+0.000258566\n"
     ]
    },
    {
     "name": "stdout",
     "output_type": "stream",
     "text": [
      "[1118]\ttrain-merror:0.00110767+0.00011307\ttest-merror:0.00687467+0.000258566\n"
     ]
    },
    {
     "name": "stdout",
     "output_type": "stream",
     "text": [
      "[1119]\ttrain-merror:0.00110767+0.00011307\ttest-merror:0.00685167+0.000243887\n"
     ]
    },
    {
     "name": "stdout",
     "output_type": "stream",
     "text": [
      "[1120]\ttrain-merror:0.00111933+9.79195e-05\ttest-merror:0.00687467+0.000258566\n"
     ]
    },
    {
     "name": "stdout",
     "output_type": "stream",
     "text": [
      "[1121]\ttrain-merror:0.00111933+9.79195e-05\ttest-merror:0.00687467+0.000258566\n"
     ]
    },
    {
     "name": "stdout",
     "output_type": "stream",
     "text": [
      "[1122]\ttrain-merror:0.00110767+0.00011307\ttest-merror:0.00687467+0.000258566\n"
     ]
    },
    {
     "name": "stdout",
     "output_type": "stream",
     "text": [
      "[1123]\ttrain-merror:0.00110767+0.00011307\ttest-merror:0.00687467+0.000258566\n"
     ]
    },
    {
     "name": "stdout",
     "output_type": "stream",
     "text": [
      "[1124]\ttrain-merror:0.00109633+0.000100999\ttest-merror:0.00685167+0.000243887\n"
     ]
    },
    {
     "name": "stdout",
     "output_type": "stream",
     "text": [
      "[1125]\ttrain-merror:0.00109633+0.000100999\ttest-merror:0.00685167+0.000243887\n"
     ]
    },
    {
     "name": "stdout",
     "output_type": "stream",
     "text": [
      "[1126]\ttrain-merror:0.00109633+0.000100999\ttest-merror:0.006829+0.000232986\n"
     ]
    },
    {
     "name": "stdout",
     "output_type": "stream",
     "text": [
      "[1127]\ttrain-merror:0.00109633+0.000100999\ttest-merror:0.006829+0.000232986\n"
     ]
    },
    {
     "name": "stdout",
     "output_type": "stream",
     "text": [
      "[1128]\ttrain-merror:0.00108467+9.83068e-05\ttest-merror:0.00685167+0.000243887\n"
     ]
    },
    {
     "name": "stdout",
     "output_type": "stream",
     "text": [
      "[1129]\ttrain-merror:0.00108467+9.83068e-05\ttest-merror:0.00685167+0.000243887\n"
     ]
    },
    {
     "name": "stdout",
     "output_type": "stream",
     "text": [
      "[1130]\ttrain-merror:0.00108467+9.83068e-05\ttest-merror:0.006829+0.000232986\n"
     ]
    },
    {
     "name": "stdout",
     "output_type": "stream",
     "text": [
      "[1131]\ttrain-merror:0.001062+0.000100886\ttest-merror:0.006829+0.000232986\n"
     ]
    },
    {
     "name": "stdout",
     "output_type": "stream",
     "text": [
      "[1132]\ttrain-merror:0.00107333+8.56128e-05\ttest-merror:0.006829+0.000232986\n"
     ]
    },
    {
     "name": "stdout",
     "output_type": "stream",
     "text": [
      "[1133]\ttrain-merror:0.001062+0.000100886\ttest-merror:0.006829+0.000232986\n"
     ]
    },
    {
     "name": "stdout",
     "output_type": "stream",
     "text": [
      "[1134]\ttrain-merror:0.00105067+9.00012e-05\ttest-merror:0.006829+0.000232986\n"
     ]
    },
    {
     "name": "stdout",
     "output_type": "stream",
     "text": [
      "[1135]\ttrain-merror:0.00105067+9.00012e-05\ttest-merror:0.006829+0.000232986\n"
     ]
    },
    {
     "name": "stdout",
     "output_type": "stream",
     "text": [
      "[1136]\ttrain-merror:0.00105067+9.00012e-05\ttest-merror:0.006806+0.000226072\n"
     ]
    },
    {
     "name": "stdout",
     "output_type": "stream",
     "text": [
      "[1137]\ttrain-merror:0.00103933+8.56128e-05\ttest-merror:0.006806+0.000226072\n"
     ]
    },
    {
     "name": "stdout",
     "output_type": "stream",
     "text": [
      "[1138]\ttrain-merror:0.00103933+8.56128e-05\ttest-merror:0.006806+0.000226072\n"
     ]
    },
    {
     "name": "stdout",
     "output_type": "stream",
     "text": [
      "[1139]\ttrain-merror:0.00103933+8.56128e-05\ttest-merror:0.006806+0.000226072\n"
     ]
    },
    {
     "name": "stdout",
     "output_type": "stream",
     "text": [
      "[1140]\ttrain-merror:0.00103933+8.56128e-05\ttest-merror:0.006806+0.000226072\n"
     ]
    },
    {
     "name": "stdout",
     "output_type": "stream",
     "text": [
      "[1141]\ttrain-merror:0.00103933+8.56128e-05\ttest-merror:0.006829+0.000252414\n"
     ]
    },
    {
     "name": "stdout",
     "output_type": "stream",
     "text": [
      "[1142]\ttrain-merror:0.00103933+8.56128e-05\ttest-merror:0.006829+0.000252414\n"
     ]
    },
    {
     "name": "stdout",
     "output_type": "stream",
     "text": [
      "[1143]\ttrain-merror:0.00103933+8.56128e-05\ttest-merror:0.006852+0.00022372\n"
     ]
    },
    {
     "name": "stdout",
     "output_type": "stream",
     "text": [
      "[1144]\ttrain-merror:0.00103933+8.56128e-05\ttest-merror:0.006852+0.00022372\n"
     ]
    },
    {
     "name": "stdout",
     "output_type": "stream",
     "text": [
      "[1145]\ttrain-merror:0.00103933+8.56128e-05\ttest-merror:0.006852+0.00022372\n"
     ]
    },
    {
     "name": "stdout",
     "output_type": "stream",
     "text": [
      "[1146]\ttrain-merror:0.00103933+8.56128e-05\ttest-merror:0.006852+0.00022372\n"
     ]
    },
    {
     "name": "stdout",
     "output_type": "stream",
     "text": [
      "[1147]\ttrain-merror:0.00103933+8.56128e-05\ttest-merror:0.006852+0.00022372\n"
     ]
    },
    {
     "name": "stdout",
     "output_type": "stream",
     "text": [
      "[1148]\ttrain-merror:0.00102767+7.39114e-05\ttest-merror:0.006852+0.00022372\n"
     ]
    },
    {
     "name": "stdout",
     "output_type": "stream",
     "text": [
      "[1149]\ttrain-merror:0.00102767+7.39114e-05\ttest-merror:0.006852+0.00022372\n"
     ]
    },
    {
     "name": "stdout",
     "output_type": "stream",
     "text": [
      "[1150]\ttrain-merror:0.00101633+7.02962e-05\ttest-merror:0.006852+0.00022372\n"
     ]
    },
    {
     "name": "stdout",
     "output_type": "stream",
     "text": [
      "[1151]\ttrain-merror:0.00101633+7.02962e-05\ttest-merror:0.006852+0.00022372\n"
     ]
    },
    {
     "name": "stdout",
     "output_type": "stream",
     "text": [
      "[1152]\ttrain-merror:0.00101633+7.02962e-05\ttest-merror:0.006852+0.00022372\n"
     ]
    },
    {
     "name": "stdout",
     "output_type": "stream",
     "text": [
      "[1153]\ttrain-merror:0.00101633+7.02962e-05\ttest-merror:0.006852+0.00022372\n"
     ]
    },
    {
     "name": "stdout",
     "output_type": "stream",
     "text": [
      "[1154]\ttrain-merror:0.00101633+7.02962e-05\ttest-merror:0.006852+0.00022372\n"
     ]
    },
    {
     "name": "stdout",
     "output_type": "stream",
     "text": [
      "[1155]\ttrain-merror:0.00101633+7.02962e-05\ttest-merror:0.006852+0.00022372\n"
     ]
    },
    {
     "name": "stdout",
     "output_type": "stream",
     "text": [
      "[1156]\ttrain-merror:0.00101633+7.02962e-05\ttest-merror:0.006852+0.00022372\n"
     ]
    },
    {
     "name": "stdout",
     "output_type": "stream",
     "text": [
      "[1157]\ttrain-merror:0.001005+5.82466e-05\ttest-merror:0.006852+0.00022372\n"
     ]
    },
    {
     "name": "stdout",
     "output_type": "stream",
     "text": [
      "[1158]\ttrain-merror:0.001005+5.82466e-05\ttest-merror:0.006852+0.00022372\n"
     ]
    },
    {
     "name": "stdout",
     "output_type": "stream",
     "text": [
      "[1159]\ttrain-merror:0.001005+5.82466e-05\ttest-merror:0.006852+0.00022372\n"
     ]
    },
    {
     "name": "stdout",
     "output_type": "stream",
     "text": [
      "[1160]\ttrain-merror:0.000993667+4.85547e-05\ttest-merror:0.006852+0.00022372\n"
     ]
    },
    {
     "name": "stdout",
     "output_type": "stream",
     "text": [
      "[1161]\ttrain-merror:0.000982333+4.28512e-05\ttest-merror:0.006852+0.00022372\n"
     ]
    },
    {
     "name": "stdout",
     "output_type": "stream",
     "text": [
      "[1162]\ttrain-merror:0.000970667+3.22938e-05\ttest-merror:0.006852+0.00022372\n"
     ]
    },
    {
     "name": "stdout",
     "output_type": "stream",
     "text": [
      "[1163]\ttrain-merror:0.000959+2.77609e-05\ttest-merror:0.006852+0.00022372\n"
     ]
    },
    {
     "name": "stdout",
     "output_type": "stream",
     "text": [
      "[1164]\ttrain-merror:0.000959+2.77609e-05\ttest-merror:0.006852+0.00022372\n"
     ]
    },
    {
     "name": "stdout",
     "output_type": "stream",
     "text": [
      "[1165]\ttrain-merror:0.000959+2.77609e-05\ttest-merror:0.006852+0.00022372\n"
     ]
    },
    {
     "name": "stdout",
     "output_type": "stream",
     "text": [
      "[1166]\ttrain-merror:0.000959+2.77609e-05\ttest-merror:0.006852+0.00022372\n"
     ]
    },
    {
     "name": "stdout",
     "output_type": "stream",
     "text": [
      "[1167]\ttrain-merror:0.000959+2.77609e-05\ttest-merror:0.006852+0.00022372\n"
     ]
    },
    {
     "name": "stdout",
     "output_type": "stream",
     "text": [
      "[1168]\ttrain-merror:0.000947667+1.60278e-05\ttest-merror:0.006829+0.000196226\n"
     ]
    },
    {
     "name": "stdout",
     "output_type": "stream",
     "text": [
      "[1169]\ttrain-merror:0.000936333+1.60278e-05\ttest-merror:0.006829+0.000196226\n"
     ]
    },
    {
     "name": "stdout",
     "output_type": "stream",
     "text": [
      "[1170]\ttrain-merror:0.000936333+1.60278e-05\ttest-merror:0.006829+0.000196226\n"
     ]
    },
    {
     "name": "stdout",
     "output_type": "stream",
     "text": [
      "[1171]\ttrain-merror:0.000936333+1.60278e-05\ttest-merror:0.006829+0.000196226\n"
     ]
    },
    {
     "name": "stdout",
     "output_type": "stream",
     "text": [
      "[1172]\ttrain-merror:0.000936333+1.60278e-05\ttest-merror:0.006829+0.000196226\n"
     ]
    },
    {
     "name": "stdout",
     "output_type": "stream",
     "text": [
      "[1173]\ttrain-merror:0.000936333+1.60278e-05\ttest-merror:0.006829+0.000196226\n"
     ]
    },
    {
     "name": "stdout",
     "output_type": "stream",
     "text": [
      "[1174]\ttrain-merror:0.000936333+1.60278e-05\ttest-merror:0.006829+0.000196226\n"
     ]
    },
    {
     "name": "stdout",
     "output_type": "stream",
     "text": [
      "[1175]\ttrain-merror:0.000936333+1.60278e-05\ttest-merror:0.006829+0.000196226\n"
     ]
    },
    {
     "name": "stdout",
     "output_type": "stream",
     "text": [
      "[1176]\ttrain-merror:0.000936333+1.60278e-05\ttest-merror:0.006829+0.000196226\n"
     ]
    },
    {
     "name": "stdout",
     "output_type": "stream",
     "text": [
      "[1177]\ttrain-merror:0.000936333+1.60278e-05\ttest-merror:0.006829+0.000196226\n"
     ]
    },
    {
     "name": "stdout",
     "output_type": "stream",
     "text": [
      "[1178]\ttrain-merror:0.000936333+1.60278e-05\ttest-merror:0.006852+0.00022372\n"
     ]
    },
    {
     "name": "stdout",
     "output_type": "stream",
     "text": [
      "[1179]\ttrain-merror:0.000936333+1.60278e-05\ttest-merror:0.006852+0.00022372\n"
     ]
    },
    {
     "name": "stdout",
     "output_type": "stream",
     "text": [
      "[1180]\ttrain-merror:0.000925+2.77609e-05\ttest-merror:0.00687467+0.000251991\n"
     ]
    },
    {
     "name": "stdout",
     "output_type": "stream",
     "text": [
      "[1181]\ttrain-merror:0.000925+2.77609e-05\ttest-merror:0.006852+0.00022372\n"
     ]
    },
    {
     "name": "stdout",
     "output_type": "stream",
     "text": [
      "[1182]\ttrain-merror:0.000913333+4.28512e-05\ttest-merror:0.00687467+0.000251991\n"
     ]
    },
    {
     "name": "stdout",
     "output_type": "stream",
     "text": [
      "[1183]\ttrain-merror:0.000902+4.27629e-05\ttest-merror:0.00687467+0.000251991\n"
     ]
    },
    {
     "name": "stdout",
     "output_type": "stream",
     "text": [
      "[1184]\ttrain-merror:0.000902+3.25269e-05\ttest-merror:0.00687467+0.000251991\n"
     ]
    },
    {
     "name": "stdout",
     "output_type": "stream",
     "text": [
      "[1185]\ttrain-merror:0.000879333+1.64992e-05\ttest-merror:0.00687467+0.000251991\n"
     ]
    },
    {
     "name": "stdout",
     "output_type": "stream",
     "text": [
      "[1186]\ttrain-merror:0.000879333+1.64992e-05\ttest-merror:0.00687467+0.000251991\n"
     ]
    },
    {
     "name": "stdout",
     "output_type": "stream",
     "text": [
      "[1187]\ttrain-merror:0.000879333+1.64992e-05\ttest-merror:0.00687467+0.000251991\n"
     ]
    },
    {
     "name": "stdout",
     "output_type": "stream",
     "text": [
      "[1188]\ttrain-merror:0.000879333+1.64992e-05\ttest-merror:0.00687467+0.000251991\n"
     ]
    },
    {
     "name": "stdout",
     "output_type": "stream",
     "text": [
      "[1189]\ttrain-merror:0.000879333+1.64992e-05\ttest-merror:0.00687467+0.000251991\n"
     ]
    },
    {
     "name": "stdout",
     "output_type": "stream",
     "text": [
      "[1190]\ttrain-merror:0.000879333+1.64992e-05\ttest-merror:0.00687467+0.000251991\n"
     ]
    },
    {
     "name": "stdout",
     "output_type": "stream",
     "text": [
      "[1191]\ttrain-merror:0.000879333+1.64992e-05\ttest-merror:0.00689767+0.000252022\n"
     ]
    },
    {
     "name": "stdout",
     "output_type": "stream",
     "text": [
      "[1192]\ttrain-merror:0.000879333+1.64992e-05\ttest-merror:0.006875+0.000226072\n"
     ]
    },
    {
     "name": "stdout",
     "output_type": "stream",
     "text": [
      "[1193]\ttrain-merror:0.000879333+1.64992e-05\ttest-merror:0.006875+0.000226072\n"
     ]
    },
    {
     "name": "stdout",
     "output_type": "stream",
     "text": [
      "[1194]\ttrain-merror:0.000879333+1.64992e-05\ttest-merror:0.006875+0.000226072\n"
     ]
    },
    {
     "name": "stdout",
     "output_type": "stream",
     "text": [
      "[1195]\ttrain-merror:0.000867667+1.64992e-05\ttest-merror:0.006875+0.000226072\n"
     ]
    },
    {
     "name": "stdout",
     "output_type": "stream",
     "text": [
      "[1196]\ttrain-merror:0.000867667+1.64992e-05\ttest-merror:0.006875+0.000226072\n"
     ]
    },
    {
     "name": "stdout",
     "output_type": "stream",
     "text": [
      "[1197]\ttrain-merror:0.000867667+1.64992e-05\ttest-merror:0.006875+0.000226072\n"
     ]
    },
    {
     "name": "stdout",
     "output_type": "stream",
     "text": [
      "[1198]\ttrain-merror:0.000867667+1.64992e-05\ttest-merror:0.006875+0.000226072\n"
     ]
    },
    {
     "name": "stdout",
     "output_type": "stream",
     "text": [
      "[1199]\ttrain-merror:0.000856333+2.81701e-05\ttest-merror:0.00689767+0.000196653\n"
     ]
    },
    {
     "name": "stdout",
     "output_type": "stream",
     "text": [
      "[1200]\ttrain-merror:0.000856333+2.81701e-05\ttest-merror:0.006875+0.000226072\n"
     ]
    },
    {
     "name": "stdout",
     "output_type": "stream",
     "text": [
      "[1201]\ttrain-merror:0.000856333+2.81701e-05\ttest-merror:0.006875+0.000226072\n"
     ]
    },
    {
     "name": "stdout",
     "output_type": "stream",
     "text": [
      "[1202]\ttrain-merror:0.000867667+1.64992e-05\ttest-merror:0.00689767+0.000232855\n"
     ]
    },
    {
     "name": "stdout",
     "output_type": "stream",
     "text": [
      "[1203]\ttrain-merror:0.000867667+1.64992e-05\ttest-merror:0.00689767+0.000232855\n"
     ]
    },
    {
     "name": "stdout",
     "output_type": "stream",
     "text": [
      "[1204]\ttrain-merror:0.000856333+2.81701e-05\ttest-merror:0.00689767+0.000232855\n"
     ]
    },
    {
     "name": "stdout",
     "output_type": "stream",
     "text": [
      "[1205]\ttrain-merror:0.000856333+2.81701e-05\ttest-merror:0.00692033+0.000201885\n"
     ]
    },
    {
     "name": "stdout",
     "output_type": "stream",
     "text": [
      "[1206]\ttrain-merror:0.000856333+2.81701e-05\ttest-merror:0.00692033+0.000201885\n"
     ]
    },
    {
     "name": "stdout",
     "output_type": "stream",
     "text": [
      "[1207]\ttrain-merror:0.000856333+2.81701e-05\ttest-merror:0.00692033+0.000201885\n"
     ]
    },
    {
     "name": "stdout",
     "output_type": "stream",
     "text": [
      "[1208]\ttrain-merror:0.000856333+2.81701e-05\ttest-merror:0.00692033+0.000201885\n"
     ]
    },
    {
     "name": "stdout",
     "output_type": "stream",
     "text": [
      "[1209]\ttrain-merror:0.000845+3.25269e-05\ttest-merror:0.00692033+0.000201885\n"
     ]
    },
    {
     "name": "stdout",
     "output_type": "stream",
     "text": [
      "[1210]\ttrain-merror:0.000845+3.25269e-05\ttest-merror:0.00692033+0.000201885\n"
     ]
    },
    {
     "name": "stdout",
     "output_type": "stream",
     "text": [
      "[1211]\ttrain-merror:0.000845+3.25269e-05\ttest-merror:0.00692033+0.000201885\n"
     ]
    },
    {
     "name": "stdout",
     "output_type": "stream",
     "text": [
      "[1212]\ttrain-merror:0.000845+3.25269e-05\ttest-merror:0.00692033+0.000201885\n"
     ]
    },
    {
     "name": "stdout",
     "output_type": "stream",
     "text": [
      "[1213]\ttrain-merror:0.000845+3.25269e-05\ttest-merror:0.00692033+0.000201885\n"
     ]
    },
    {
     "name": "stdout",
     "output_type": "stream",
     "text": [
      "[1214]\ttrain-merror:0.000845+3.25269e-05\ttest-merror:0.00694333+0.000170869\n"
     ]
    },
    {
     "name": "stdout",
     "output_type": "stream",
     "text": [
      "[1215]\ttrain-merror:0.000833667+4.28512e-05\ttest-merror:0.00694333+0.000170869\n"
     ]
    },
    {
     "name": "stdout",
     "output_type": "stream",
     "text": [
      "[1216]\ttrain-merror:0.000833667+4.28512e-05\ttest-merror:0.00694333+0.000170869\n"
     ]
    },
    {
     "name": "stdout",
     "output_type": "stream",
     "text": [
      "[1217]\ttrain-merror:0.000833667+4.28512e-05\ttest-merror:0.00694333+0.000170869\n"
     ]
    },
    {
     "name": "stdout",
     "output_type": "stream",
     "text": [
      "[1218]\ttrain-merror:0.000833667+4.28512e-05\ttest-merror:0.00692033+0.000147823\n"
     ]
    },
    {
     "name": "stdout",
     "output_type": "stream",
     "text": [
      "[1219]\ttrain-merror:0.000833667+4.28512e-05\ttest-merror:0.00692033+0.000147823\n"
     ]
    },
    {
     "name": "stdout",
     "output_type": "stream",
     "text": [
      "[1220]\ttrain-merror:0.000833667+4.28512e-05\ttest-merror:0.00692033+0.000147823\n"
     ]
    },
    {
     "name": "stdout",
     "output_type": "stream",
     "text": [
      "[1221]\ttrain-merror:0.000833667+4.28512e-05\ttest-merror:0.00692033+0.000147823\n"
     ]
    },
    {
     "name": "stdout",
     "output_type": "stream",
     "text": [
      "[1222]\ttrain-merror:0.000833667+4.28512e-05\ttest-merror:0.00692033+0.000147823\n"
     ]
    },
    {
     "name": "stdout",
     "output_type": "stream",
     "text": [
      "[1223]\ttrain-merror:0.000822333+5.59305e-05\ttest-merror:0.00692033+0.000147823\n"
     ]
    },
    {
     "name": "stdout",
     "output_type": "stream",
     "text": [
      "[1224]\ttrain-merror:0.000822333+5.59305e-05\ttest-merror:0.00692033+0.000147823\n"
     ]
    },
    {
     "name": "stdout",
     "output_type": "stream",
     "text": [
      "[1225]\ttrain-merror:0.000822333+5.59305e-05\ttest-merror:0.00692033+0.000147823\n"
     ]
    },
    {
     "name": "stdout",
     "output_type": "stream",
     "text": [
      "[1226]\ttrain-merror:0.000810667+4.24055e-05\ttest-merror:0.00692033+0.000147823\n"
     ]
    },
    {
     "name": "stdout",
     "output_type": "stream",
     "text": [
      "[1227]\ttrain-merror:0.000810667+4.24055e-05\ttest-merror:0.00692033+0.000147823\n"
     ]
    },
    {
     "name": "stdout",
     "output_type": "stream",
     "text": [
      "[1228]\ttrain-merror:0.000810667+4.24055e-05\ttest-merror:0.00692033+0.000147823\n"
     ]
    },
    {
     "name": "stdout",
     "output_type": "stream",
     "text": [
      "[1229]\ttrain-merror:0.000810667+4.24055e-05\ttest-merror:0.00692033+0.000147823\n"
     ]
    },
    {
     "name": "stdout",
     "output_type": "stream",
     "text": [
      "[1230]\ttrain-merror:0.000810667+4.24055e-05\ttest-merror:0.00692033+0.000147823\n"
     ]
    },
    {
     "name": "stdout",
     "output_type": "stream",
     "text": [
      "[1231]\ttrain-merror:0.000799333+3.20555e-05\ttest-merror:0.00692033+0.000147823\n"
     ]
    },
    {
     "name": "stdout",
     "output_type": "stream",
     "text": [
      "[1232]\ttrain-merror:0.000799333+3.20555e-05\ttest-merror:0.00692033+0.000147823\n"
     ]
    },
    {
     "name": "stdout",
     "output_type": "stream",
     "text": [
      "[1233]\ttrain-merror:0.000799333+3.20555e-05\ttest-merror:0.00692033+0.000147823\n"
     ]
    },
    {
     "name": "stdout",
     "output_type": "stream",
     "text": [
      "[1234]\ttrain-merror:0.000799333+3.20555e-05\ttest-merror:0.00692033+0.000147823\n"
     ]
    },
    {
     "name": "stdout",
     "output_type": "stream",
     "text": [
      "[1235]\ttrain-merror:0.000788+2.77609e-05\ttest-merror:0.00692033+0.000147823\n"
     ]
    },
    {
     "name": "stdout",
     "output_type": "stream",
     "text": [
      "[1236]\ttrain-merror:0.000788+2.77609e-05\ttest-merror:0.00692033+0.000147823\n"
     ]
    },
    {
     "name": "stdout",
     "output_type": "stream",
     "text": [
      "[1237]\ttrain-merror:0.000788+2.77609e-05\ttest-merror:0.00692033+0.000147823\n"
     ]
    },
    {
     "name": "stdout",
     "output_type": "stream",
     "text": [
      "[1238]\ttrain-merror:0.000788+2.77609e-05\ttest-merror:0.00692033+0.000147823\n"
     ]
    },
    {
     "name": "stdout",
     "output_type": "stream",
     "text": [
      "[1239]\ttrain-merror:0.000776667+3.20555e-05\ttest-merror:0.00692033+0.000147823\n"
     ]
    },
    {
     "name": "stdout",
     "output_type": "stream",
     "text": [
      "[1240]\ttrain-merror:0.000776667+3.20555e-05\ttest-merror:0.00692033+0.000147823\n"
     ]
    },
    {
     "name": "stdout",
     "output_type": "stream",
     "text": [
      "[1241]\ttrain-merror:0.000753667+2.81701e-05\ttest-merror:0.00692033+0.000147823\n"
     ]
    },
    {
     "name": "stdout",
     "output_type": "stream",
     "text": [
      "[1242]\ttrain-merror:0.000753667+2.81701e-05\ttest-merror:0.00692033+0.000147823\n"
     ]
    },
    {
     "name": "stdout",
     "output_type": "stream",
     "text": [
      "[1243]\ttrain-merror:0.000753667+2.81701e-05\ttest-merror:0.00692033+0.000147823\n"
     ]
    },
    {
     "name": "stdout",
     "output_type": "stream",
     "text": [
      "[1244]\ttrain-merror:0.000753667+2.81701e-05\ttest-merror:0.00692033+0.000147823\n"
     ]
    },
    {
     "name": "stdout",
     "output_type": "stream",
     "text": [
      "[1245]\ttrain-merror:0.000753667+2.81701e-05\ttest-merror:0.00692033+0.000147823\n"
     ]
    },
    {
     "name": "stdout",
     "output_type": "stream",
     "text": [
      "[1246]\ttrain-merror:0.000753667+2.81701e-05\ttest-merror:0.00692033+0.000147823\n"
     ]
    },
    {
     "name": "stdout",
     "output_type": "stream",
     "text": [
      "[1247]\ttrain-merror:0.000753667+2.81701e-05\ttest-merror:0.00692033+0.000147823\n"
     ]
    },
    {
     "name": "stdout",
     "output_type": "stream",
     "text": [
      "[1248]\ttrain-merror:0.000753667+2.81701e-05\ttest-merror:0.00692033+0.000147823\n"
     ]
    },
    {
     "name": "stdout",
     "output_type": "stream",
     "text": [
      "[1249]\ttrain-merror:0.000753667+2.81701e-05\ttest-merror:0.00692033+0.000147823\n"
     ]
    },
    {
     "name": "stdout",
     "output_type": "stream",
     "text": [
      "[1250]\ttrain-merror:0.000753667+2.81701e-05\ttest-merror:0.006943+0.000116493\n"
     ]
    },
    {
     "name": "stdout",
     "output_type": "stream",
     "text": [
      "[1251]\ttrain-merror:0.000753667+2.81701e-05\ttest-merror:0.00692033+0.000147823\n"
     ]
    },
    {
     "name": "stdout",
     "output_type": "stream",
     "text": [
      "[1252]\ttrain-merror:0.000753667+2.81701e-05\ttest-merror:0.006943+0.000116493\n"
     ]
    },
    {
     "name": "stdout",
     "output_type": "stream",
     "text": [
      "[1253]\ttrain-merror:0.000753667+2.81701e-05\ttest-merror:0.006943+0.000116493\n"
     ]
    },
    {
     "name": "stdout",
     "output_type": "stream",
     "text": [
      "[1254]\ttrain-merror:0.000753667+2.81701e-05\ttest-merror:0.006943+0.000116493\n"
     ]
    },
    {
     "name": "stdout",
     "output_type": "stream",
     "text": [
      "[1255]\ttrain-merror:0.000753667+2.81701e-05\ttest-merror:0.006943+0.000116493\n"
     ]
    },
    {
     "name": "stdout",
     "output_type": "stream",
     "text": [
      "[1256]\ttrain-merror:0.000753667+2.81701e-05\ttest-merror:0.006943+0.000116493\n"
     ]
    },
    {
     "name": "stdout",
     "output_type": "stream",
     "text": [
      "[1257]\ttrain-merror:0.000753667+2.81701e-05\ttest-merror:0.006943+0.000116493\n"
     ]
    },
    {
     "name": "stdout",
     "output_type": "stream",
     "text": [
      "[1258]\ttrain-merror:0.000753667+2.81701e-05\ttest-merror:0.006943+0.000116493\n"
     ]
    },
    {
     "name": "stdout",
     "output_type": "stream",
     "text": [
      "[1259]\ttrain-merror:0.000753667+2.81701e-05\ttest-merror:0.006943+0.000116493\n"
     ]
    },
    {
     "name": "stdout",
     "output_type": "stream",
     "text": [
      "[1260]\ttrain-merror:0.000753667+2.81701e-05\ttest-merror:0.006943+0.000116493\n"
     ]
    },
    {
     "name": "stdout",
     "output_type": "stream",
     "text": [
      "[1261]\ttrain-merror:0.000753667+2.81701e-05\ttest-merror:0.006943+0.000116493\n"
     ]
    },
    {
     "name": "stdout",
     "output_type": "stream",
     "text": [
      "[1262]\ttrain-merror:0.000753667+2.81701e-05\ttest-merror:0.006943+0.000116493\n"
     ]
    },
    {
     "name": "stdout",
     "output_type": "stream",
     "text": [
      "[1263]\ttrain-merror:0.000753667+2.81701e-05\ttest-merror:0.006943+0.000116493\n"
     ]
    },
    {
     "name": "stdout",
     "output_type": "stream",
     "text": [
      "[1264]\ttrain-merror:0.000753667+2.81701e-05\ttest-merror:0.006943+0.000116493\n"
     ]
    },
    {
     "name": "stdout",
     "output_type": "stream",
     "text": [
      "[1265]\ttrain-merror:0.000753667+2.81701e-05\ttest-merror:0.006943+0.000116493\n"
     ]
    },
    {
     "name": "stdout",
     "output_type": "stream",
     "text": [
      "[1266]\ttrain-merror:0.000742+3.25269e-05\ttest-merror:0.006943+0.000116493\n"
     ]
    },
    {
     "name": "stdout",
     "output_type": "stream",
     "text": [
      "[1267]\ttrain-merror:0.000753667+2.81701e-05\ttest-merror:0.006943+0.000116493\n"
     ]
    },
    {
     "name": "stdout",
     "output_type": "stream",
     "text": [
      "[1268]\ttrain-merror:0.000742+3.25269e-05\ttest-merror:0.006943+0.000116493\n"
     ]
    },
    {
     "name": "stdout",
     "output_type": "stream",
     "text": [
      "[1269]\ttrain-merror:0.000742+3.25269e-05\ttest-merror:0.006943+0.000116493\n"
     ]
    },
    {
     "name": "stdout",
     "output_type": "stream",
     "text": [
      "[1270]\ttrain-merror:0.000742+3.25269e-05\ttest-merror:0.006943+0.000116493\n"
     ]
    },
    {
     "name": "stdout",
     "output_type": "stream",
     "text": [
      "[1271]\ttrain-merror:0.000742+3.25269e-05\ttest-merror:0.006943+0.000116493\n"
     ]
    },
    {
     "name": "stdout",
     "output_type": "stream",
     "text": [
      "[1272]\ttrain-merror:0.000742+3.25269e-05\ttest-merror:0.006943+0.000116493\n"
     ]
    },
    {
     "name": "stdout",
     "output_type": "stream",
     "text": [
      "[1273]\ttrain-merror:0.000742+3.25269e-05\ttest-merror:0.006943+0.000116493\n"
     ]
    },
    {
     "name": "stdout",
     "output_type": "stream",
     "text": [
      "[1274]\ttrain-merror:0.000742+3.25269e-05\ttest-merror:0.006943+0.000116493\n"
     ]
    },
    {
     "name": "stdout",
     "output_type": "stream",
     "text": [
      "[1275]\ttrain-merror:0.000742+3.25269e-05\ttest-merror:0.006943+0.000116493\n"
     ]
    },
    {
     "name": "stdout",
     "output_type": "stream",
     "text": [
      "[1276]\ttrain-merror:0.000719+0\ttest-merror:0.006943+0.000116493\n"
     ]
    },
    {
     "name": "stdout",
     "output_type": "stream",
     "text": [
      "[1277]\ttrain-merror:0.000719+0\ttest-merror:0.006943+0.000116493\n"
     ]
    },
    {
     "name": "stdout",
     "output_type": "stream",
     "text": [
      "[1278]\ttrain-merror:0.000719+0\ttest-merror:0.006943+0.000116493\n"
     ]
    },
    {
     "name": "stdout",
     "output_type": "stream",
     "text": [
      "[1279]\ttrain-merror:0.000719+0\ttest-merror:0.006943+0.000116493\n"
     ]
    },
    {
     "name": "stdout",
     "output_type": "stream",
     "text": [
      "[1280]\ttrain-merror:0.000707667+1.60278e-05\ttest-merror:0.006943+0.000116493\n"
     ]
    },
    {
     "name": "stdout",
     "output_type": "stream",
     "text": [
      "[1281]\ttrain-merror:0.000696333+1.60278e-05\ttest-merror:0.006943+0.000116493\n"
     ]
    },
    {
     "name": "stdout",
     "output_type": "stream",
     "text": [
      "[1282]\ttrain-merror:0.000685+0\ttest-merror:0.006943+0.000116493\n"
     ]
    },
    {
     "name": "stdout",
     "output_type": "stream",
     "text": [
      "[1283]\ttrain-merror:0.000685+0\ttest-merror:0.006943+0.000116493\n"
     ]
    },
    {
     "name": "stdout",
     "output_type": "stream",
     "text": [
      "[1284]\ttrain-merror:0.000685+0\ttest-merror:0.00692033+0.000147823\n"
     ]
    },
    {
     "name": "stdout",
     "output_type": "stream",
     "text": [
      "[1285]\ttrain-merror:0.000685+0\ttest-merror:0.00692033+0.000111861\n"
     ]
    },
    {
     "name": "stdout",
     "output_type": "stream",
     "text": [
      "[1286]\ttrain-merror:0.000685+0\ttest-merror:0.006943+0.000116493\n"
     ]
    },
    {
     "name": "stdout",
     "output_type": "stream",
     "text": [
      "[1287]\ttrain-merror:0.000685+0\ttest-merror:0.006943+0.000116493\n"
     ]
    },
    {
     "name": "stdout",
     "output_type": "stream",
     "text": [
      "[1288]\ttrain-merror:0.000673667+1.60278e-05\ttest-merror:0.00692033+0.000111861\n"
     ]
    },
    {
     "name": "stdout",
     "output_type": "stream",
     "text": [
      "[1289]\ttrain-merror:0.000673667+1.60278e-05\ttest-merror:0.00692033+0.000111861\n"
     ]
    },
    {
     "name": "stdout",
     "output_type": "stream",
     "text": [
      "[1290]\ttrain-merror:0.000662333+1.60278e-05\ttest-merror:0.00692033+0.000111861\n"
     ]
    },
    {
     "name": "stdout",
     "output_type": "stream",
     "text": [
      "[1291]\ttrain-merror:0.000639667+1.60278e-05\ttest-merror:0.00692033+0.000111861\n"
     ]
    },
    {
     "name": "stdout",
     "output_type": "stream",
     "text": [
      "[1292]\ttrain-merror:0.000639667+1.60278e-05\ttest-merror:0.00692033+0.000111861\n"
     ]
    },
    {
     "name": "stdout",
     "output_type": "stream",
     "text": [
      "[1293]\ttrain-merror:0.000639667+1.60278e-05\ttest-merror:0.00692033+0.000111861\n"
     ]
    },
    {
     "name": "stdout",
     "output_type": "stream",
     "text": [
      "[1294]\ttrain-merror:0.000639667+1.60278e-05\ttest-merror:0.00692033+0.000111861\n"
     ]
    },
    {
     "name": "stdout",
     "output_type": "stream",
     "text": [
      "[1295]\ttrain-merror:0.000639667+1.60278e-05\ttest-merror:0.00692033+0.000111861\n"
     ]
    },
    {
     "name": "stdout",
     "output_type": "stream",
     "text": [
      "[1296]\ttrain-merror:0.000639667+1.60278e-05\ttest-merror:0.00692033+0.000111861\n"
     ]
    },
    {
     "name": "stdout",
     "output_type": "stream",
     "text": [
      "[1297]\ttrain-merror:0.000639667+1.60278e-05\ttest-merror:0.00692033+0.000111861\n"
     ]
    },
    {
     "name": "stdout",
     "output_type": "stream",
     "text": [
      "[1298]\ttrain-merror:0.000639667+1.60278e-05\ttest-merror:0.006966+8.52565e-05\n"
     ]
    },
    {
     "name": "stdout",
     "output_type": "stream",
     "text": [
      "[1299]\ttrain-merror:0.000639667+1.60278e-05\ttest-merror:0.00694333+8.51678e-05\n"
     ]
    },
    {
     "name": "stdout",
     "output_type": "stream",
     "text": [
      "[1300]\ttrain-merror:0.000639667+1.60278e-05\ttest-merror:0.00694333+8.51678e-05\n"
     ]
    },
    {
     "name": "stdout",
     "output_type": "stream",
     "text": [
      "[1301]\ttrain-merror:0.000639667+1.60278e-05\ttest-merror:0.006966+8.52565e-05\n"
     ]
    },
    {
     "name": "stdout",
     "output_type": "stream",
     "text": [
      "[1302]\ttrain-merror:0.000639667+1.60278e-05\ttest-merror:0.00694333+8.51678e-05\n"
     ]
    },
    {
     "name": "stdout",
     "output_type": "stream",
     "text": [
      "[1303]\ttrain-merror:0.000639667+1.60278e-05\ttest-merror:0.006966+8.52565e-05\n"
     ]
    },
    {
     "name": "stdout",
     "output_type": "stream",
     "text": [
      "[1304]\ttrain-merror:0.000639667+1.60278e-05\ttest-merror:0.00694333+8.51678e-05\n"
     ]
    },
    {
     "name": "stdout",
     "output_type": "stream",
     "text": [
      "[1305]\ttrain-merror:0.000639667+1.60278e-05\ttest-merror:0.00694333+8.51678e-05\n"
     ]
    },
    {
     "name": "stdout",
     "output_type": "stream",
     "text": [
      "[1306]\ttrain-merror:0.000616667+2.81701e-05\ttest-merror:0.00694333+8.51678e-05\n"
     ]
    },
    {
     "name": "stdout",
     "output_type": "stream",
     "text": [
      "[1307]\ttrain-merror:0.000616667+2.81701e-05\ttest-merror:0.00694333+8.51678e-05\n"
     ]
    },
    {
     "name": "stdout",
     "output_type": "stream",
     "text": [
      "[1308]\ttrain-merror:0.000616667+2.81701e-05\ttest-merror:0.00694333+8.51678e-05\n"
     ]
    },
    {
     "name": "stdout",
     "output_type": "stream",
     "text": [
      "[1309]\ttrain-merror:0.000616667+2.81701e-05\ttest-merror:0.00694333+8.51678e-05\n"
     ]
    },
    {
     "name": "stdout",
     "output_type": "stream",
     "text": [
      "[1310]\ttrain-merror:0.000616667+2.81701e-05\ttest-merror:0.00692033+0.000111861\n"
     ]
    },
    {
     "name": "stdout",
     "output_type": "stream",
     "text": [
      "[1311]\ttrain-merror:0.000605333+4.28512e-05\ttest-merror:0.00694333+8.51678e-05\n"
     ]
    },
    {
     "name": "stdout",
     "output_type": "stream",
     "text": [
      "[1312]\ttrain-merror:0.000594+5.82466e-05\ttest-merror:0.00694333+0.000140917\n"
     ]
    },
    {
     "name": "stdout",
     "output_type": "stream",
     "text": [
      "[1313]\ttrain-merror:0.000582333+5.59305e-05\ttest-merror:0.00692033+0.000111861\n"
     ]
    },
    {
     "name": "stdout",
     "output_type": "stream",
     "text": [
      "[1314]\ttrain-merror:0.000582333+5.59305e-05\ttest-merror:0.00694333+0.000140917\n"
     ]
    },
    {
     "name": "stdout",
     "output_type": "stream",
     "text": [
      "[1315]\ttrain-merror:0.000559667+7.02962e-05\ttest-merror:0.006989+5.55218e-05\n"
     ]
    },
    {
     "name": "stdout",
     "output_type": "stream",
     "text": [
      "[1316]\ttrain-merror:0.000559667+7.02962e-05\ttest-merror:0.006989+5.55218e-05\n"
     ]
    },
    {
     "name": "stdout",
     "output_type": "stream",
     "text": [
      "[1317]\ttrain-merror:0.000559667+7.02962e-05\ttest-merror:0.006989+5.55218e-05\n"
     ]
    },
    {
     "name": "stdout",
     "output_type": "stream",
     "text": [
      "[1318]\ttrain-merror:0.000537+5.82466e-05\ttest-merror:0.006989+5.55218e-05\n"
     ]
    },
    {
     "name": "stdout",
     "output_type": "stream",
     "text": [
      "[1319]\ttrain-merror:0.000525667+6.45824e-05\ttest-merror:0.006989+5.55218e-05\n"
     ]
    },
    {
     "name": "stdout",
     "output_type": "stream",
     "text": [
      "[1320]\ttrain-merror:0.000525667+6.45824e-05\ttest-merror:0.006989+5.55218e-05\n"
     ]
    },
    {
     "name": "stdout",
     "output_type": "stream",
     "text": [
      "[1321]\ttrain-merror:0.000525667+6.45824e-05\ttest-merror:0.006989+5.55218e-05\n"
     ]
    },
    {
     "name": "stdout",
     "output_type": "stream",
     "text": [
      "[1322]\ttrain-merror:0.000525667+6.45824e-05\ttest-merror:0.006989+5.55218e-05\n"
     ]
    },
    {
     "name": "stdout",
     "output_type": "stream",
     "text": [
      "[1323]\ttrain-merror:0.000525667+6.45824e-05\ttest-merror:0.006989+5.55218e-05\n"
     ]
    },
    {
     "name": "stdout",
     "output_type": "stream",
     "text": [
      "[1324]\ttrain-merror:0.000525667+6.45824e-05\ttest-merror:0.006989+5.55218e-05\n"
     ]
    },
    {
     "name": "stdout",
     "output_type": "stream",
     "text": [
      "[1325]\ttrain-merror:0.000525667+6.45824e-05\ttest-merror:0.006989+5.55218e-05\n"
     ]
    },
    {
     "name": "stdout",
     "output_type": "stream",
     "text": [
      "[1326]\ttrain-merror:0.000525667+6.45824e-05\ttest-merror:0.006989+5.55218e-05\n"
     ]
    },
    {
     "name": "stdout",
     "output_type": "stream",
     "text": [
      "[1327]\ttrain-merror:0.000525667+6.45824e-05\ttest-merror:0.006989+5.55218e-05\n"
     ]
    },
    {
     "name": "stdout",
     "output_type": "stream",
     "text": [
      "[1328]\ttrain-merror:0.000502333+8.10816e-05\ttest-merror:0.006989+5.55218e-05\n"
     ]
    },
    {
     "name": "stdout",
     "output_type": "stream",
     "text": [
      "[1329]\ttrain-merror:0.000502333+8.10816e-05\ttest-merror:0.006989+5.55218e-05\n"
     ]
    },
    {
     "name": "stdout",
     "output_type": "stream",
     "text": [
      "[1330]\ttrain-merror:0.000502333+8.10816e-05\ttest-merror:0.006989+5.55218e-05\n"
     ]
    },
    {
     "name": "stdout",
     "output_type": "stream",
     "text": [
      "[1331]\ttrain-merror:0.000502333+8.10816e-05\ttest-merror:0.006989+5.55218e-05\n"
     ]
    },
    {
     "name": "stdout",
     "output_type": "stream",
     "text": [
      "[1332]\ttrain-merror:0.000502333+8.10816e-05\ttest-merror:0.006989+5.55218e-05\n"
     ]
    },
    {
     "name": "stdout",
     "output_type": "stream",
     "text": [
      "[1333]\ttrain-merror:0.000502333+8.10816e-05\ttest-merror:0.006989+5.55218e-05\n"
     ]
    },
    {
     "name": "stdout",
     "output_type": "stream",
     "text": [
      "[1334]\ttrain-merror:0.000502333+8.10816e-05\ttest-merror:0.006989+5.55218e-05\n"
     ]
    },
    {
     "name": "stdout",
     "output_type": "stream",
     "text": [
      "[1335]\ttrain-merror:0.000502333+8.10816e-05\ttest-merror:0.006989+5.55218e-05\n"
     ]
    },
    {
     "name": "stdout",
     "output_type": "stream",
     "text": [
      "[1336]\ttrain-merror:0.000502333+8.10816e-05\ttest-merror:0.006989+5.55218e-05\n"
     ]
    },
    {
     "name": "stdout",
     "output_type": "stream",
     "text": [
      "[1337]\ttrain-merror:0.000502333+8.10816e-05\ttest-merror:0.006989+5.55218e-05\n"
     ]
    },
    {
     "name": "stdout",
     "output_type": "stream",
     "text": [
      "[1338]\ttrain-merror:0.000502333+8.10816e-05\ttest-merror:0.006989+5.55218e-05\n"
     ]
    },
    {
     "name": "stdout",
     "output_type": "stream",
     "text": [
      "[1339]\ttrain-merror:0.000502333+8.10816e-05\ttest-merror:0.006989+5.55218e-05\n"
     ]
    },
    {
     "name": "stdout",
     "output_type": "stream",
     "text": [
      "[1340]\ttrain-merror:0.000502333+8.10816e-05\ttest-merror:0.006989+5.55218e-05\n"
     ]
    },
    {
     "name": "stdout",
     "output_type": "stream",
     "text": [
      "[1341]\ttrain-merror:0.000502333+8.10816e-05\ttest-merror:0.006989+5.55218e-05\n"
     ]
    },
    {
     "name": "stdout",
     "output_type": "stream",
     "text": [
      "[1342]\ttrain-merror:0.000502333+8.10816e-05\ttest-merror:0.006989+5.55218e-05\n"
     ]
    },
    {
     "name": "stdout",
     "output_type": "stream",
     "text": [
      "[1343]\ttrain-merror:0.000502333+8.10816e-05\ttest-merror:0.006989+5.55218e-05\n"
     ]
    },
    {
     "name": "stdout",
     "output_type": "stream",
     "text": [
      "[1344]\ttrain-merror:0.000491+9.01702e-05\ttest-merror:0.006989+5.55218e-05\n"
     ]
    },
    {
     "name": "stdout",
     "output_type": "stream",
     "text": [
      "[1345]\ttrain-merror:0.000491+9.01702e-05\ttest-merror:0.00696633+3.20555e-05\n"
     ]
    },
    {
     "name": "stdout",
     "output_type": "stream",
     "text": [
      "[1346]\ttrain-merror:0.000491+9.01702e-05\ttest-merror:0.00696633+3.20555e-05\n"
     ]
    },
    {
     "name": "stdout",
     "output_type": "stream",
     "text": [
      "[1347]\ttrain-merror:0.000491+9.01702e-05\ttest-merror:0.006989+5.55218e-05\n"
     ]
    },
    {
     "name": "stdout",
     "output_type": "stream",
     "text": [
      "[1348]\ttrain-merror:0.000491+9.01702e-05\ttest-merror:0.00696633+3.20555e-05\n"
     ]
    },
    {
     "name": "stdout",
     "output_type": "stream",
     "text": [
      "[1349]\ttrain-merror:0.000491+9.01702e-05\ttest-merror:0.00696633+3.20555e-05\n"
     ]
    },
    {
     "name": "stdout",
     "output_type": "stream",
     "text": [
      "[1350]\ttrain-merror:0.000491+9.01702e-05\ttest-merror:0.00696633+3.20555e-05\n"
     ]
    },
    {
     "name": "stdout",
     "output_type": "stream",
     "text": [
      "[1351]\ttrain-merror:0.000491+9.01702e-05\ttest-merror:0.00696633+3.20555e-05\n"
     ]
    },
    {
     "name": "stdout",
     "output_type": "stream",
     "text": [
      "[1352]\ttrain-merror:0.000491+9.01702e-05\ttest-merror:0.00696633+3.20555e-05\n"
     ]
    },
    {
     "name": "stdout",
     "output_type": "stream",
     "text": [
      "[1353]\ttrain-merror:0.000491+9.01702e-05\ttest-merror:0.006989+5.55218e-05\n"
     ]
    },
    {
     "name": "stdout",
     "output_type": "stream",
     "text": [
      "[1354]\ttrain-merror:0.000491+9.01702e-05\ttest-merror:0.006989+5.55218e-05\n"
     ]
    },
    {
     "name": "stdout",
     "output_type": "stream",
     "text": [
      "[1355]\ttrain-merror:0.000491+9.01702e-05\ttest-merror:0.006989+5.55218e-05\n"
     ]
    },
    {
     "name": "stdout",
     "output_type": "stream",
     "text": [
      "[1356]\ttrain-merror:0.000491+9.01702e-05\ttest-merror:0.006989+5.55218e-05\n"
     ]
    },
    {
     "name": "stdout",
     "output_type": "stream",
     "text": [
      "[1357]\ttrain-merror:0.000491+9.01702e-05\ttest-merror:0.006989+5.55218e-05\n"
     ]
    },
    {
     "name": "stdout",
     "output_type": "stream",
     "text": [
      "[1358]\ttrain-merror:0.000491+9.01702e-05\ttest-merror:0.006989+5.55218e-05\n"
     ]
    },
    {
     "name": "stdout",
     "output_type": "stream",
     "text": [
      "[1359]\ttrain-merror:0.000491+9.01702e-05\ttest-merror:0.00696633+3.20555e-05\n"
     ]
    },
    {
     "name": "stdout",
     "output_type": "stream",
     "text": [
      "[1360]\ttrain-merror:0.000479333+7.39114e-05\ttest-merror:0.00696633+3.20555e-05\n"
     ]
    },
    {
     "name": "stdout",
     "output_type": "stream",
     "text": [
      "[1361]\ttrain-merror:0.000491+9.01702e-05\ttest-merror:0.00696633+3.20555e-05\n"
     ]
    },
    {
     "name": "stdout",
     "output_type": "stream",
     "text": [
      "[1362]\ttrain-merror:0.000491+9.01702e-05\ttest-merror:0.006989+5.55218e-05\n"
     ]
    },
    {
     "name": "stdout",
     "output_type": "stream",
     "text": [
      "[1363]\ttrain-merror:0.000479333+7.39114e-05\ttest-merror:0.006989+5.55218e-05\n"
     ]
    },
    {
     "name": "stdout",
     "output_type": "stream",
     "text": [
      "[1364]\ttrain-merror:0.000491+9.01702e-05\ttest-merror:0.006989+5.55218e-05\n"
     ]
    },
    {
     "name": "stdout",
     "output_type": "stream",
     "text": [
      "[1365]\ttrain-merror:0.000479333+7.39114e-05\ttest-merror:0.006989+5.55218e-05\n"
     ]
    },
    {
     "name": "stdout",
     "output_type": "stream",
     "text": [
      "[1366]\ttrain-merror:0.000479333+7.39114e-05\ttest-merror:0.006989+5.55218e-05\n"
     ]
    },
    {
     "name": "stdout",
     "output_type": "stream",
     "text": [
      "[1367]\ttrain-merror:0.000479333+7.39114e-05\ttest-merror:0.006989+5.55218e-05\n"
     ]
    },
    {
     "name": "stdout",
     "output_type": "stream",
     "text": [
      "[1368]\ttrain-merror:0.000479333+7.39114e-05\ttest-merror:0.006989+5.55218e-05\n"
     ]
    },
    {
     "name": "stdout",
     "output_type": "stream",
     "text": [
      "[1369]\ttrain-merror:0.000479333+7.39114e-05\ttest-merror:0.006989+5.55218e-05\n"
     ]
    },
    {
     "name": "stdout",
     "output_type": "stream",
     "text": [
      "[1370]\ttrain-merror:0.000468+8.52565e-05\ttest-merror:0.006989+5.55218e-05\n"
     ]
    },
    {
     "name": "stdout",
     "output_type": "stream",
     "text": [
      "[1371]\ttrain-merror:0.000468+8.52565e-05\ttest-merror:0.006989+5.55218e-05\n"
     ]
    },
    {
     "name": "stdout",
     "output_type": "stream",
     "text": [
      "[1372]\ttrain-merror:0.000468+8.52565e-05\ttest-merror:0.006989+5.55218e-05\n"
     ]
    },
    {
     "name": "stdout",
     "output_type": "stream",
     "text": [
      "[1373]\ttrain-merror:0.000456667+7.02962e-05\ttest-merror:0.006989+5.55218e-05\n"
     ]
    },
    {
     "name": "stdout",
     "output_type": "stream",
     "text": [
      "[1374]\ttrain-merror:0.000468+8.52565e-05\ttest-merror:0.006989+5.55218e-05\n"
     ]
    },
    {
     "name": "stdout",
     "output_type": "stream",
     "text": [
      "[1375]\ttrain-merror:0.000456667+7.02962e-05\ttest-merror:0.006989+5.55218e-05\n"
     ]
    },
    {
     "name": "stdout",
     "output_type": "stream",
     "text": [
      "[1376]\ttrain-merror:0.000456667+7.02962e-05\ttest-merror:0.006989+5.55218e-05\n"
     ]
    },
    {
     "name": "stdout",
     "output_type": "stream",
     "text": [
      "[1377]\ttrain-merror:0.000456667+7.02962e-05\ttest-merror:0.006989+5.55218e-05\n"
     ]
    },
    {
     "name": "stdout",
     "output_type": "stream",
     "text": [
      "[1378]\ttrain-merror:0.000456667+7.02962e-05\ttest-merror:0.006989+5.55218e-05\n"
     ]
    },
    {
     "name": "stdout",
     "output_type": "stream",
     "text": [
      "[1379]\ttrain-merror:0.000456667+7.02962e-05\ttest-merror:0.006989+5.55218e-05\n"
     ]
    },
    {
     "name": "stdout",
     "output_type": "stream",
     "text": [
      "[1380]\ttrain-merror:0.000456667+7.02962e-05\ttest-merror:0.006989+5.55218e-05\n"
     ]
    },
    {
     "name": "stdout",
     "output_type": "stream",
     "text": [
      "[1381]\ttrain-merror:0.000456667+7.02962e-05\ttest-merror:0.006989+5.55218e-05\n"
     ]
    },
    {
     "name": "stdout",
     "output_type": "stream",
     "text": [
      "[1382]\ttrain-merror:0.000456667+7.02962e-05\ttest-merror:0.006989+5.55218e-05\n"
     ]
    },
    {
     "name": "stdout",
     "output_type": "stream",
     "text": [
      "[1383]\ttrain-merror:0.000456667+7.02962e-05\ttest-merror:0.006989+5.55218e-05\n"
     ]
    },
    {
     "name": "stdout",
     "output_type": "stream",
     "text": [
      "[1384]\ttrain-merror:0.000456667+7.02962e-05\ttest-merror:0.006989+5.55218e-05\n"
     ]
    },
    {
     "name": "stdout",
     "output_type": "stream",
     "text": [
      "[1385]\ttrain-merror:0.000456667+7.02962e-05\ttest-merror:0.006989+5.55218e-05\n"
     ]
    },
    {
     "name": "stdout",
     "output_type": "stream",
     "text": [
      "[1386]\ttrain-merror:0.000445333+5.59305e-05\ttest-merror:0.006989+5.55218e-05\n"
     ]
    },
    {
     "name": "stdout",
     "output_type": "stream",
     "text": [
      "[1387]\ttrain-merror:0.000434+7.02424e-05\ttest-merror:0.00696633+3.20555e-05\n"
     ]
    },
    {
     "name": "stdout",
     "output_type": "stream",
     "text": [
      "[1388]\ttrain-merror:0.000434+7.02424e-05\ttest-merror:0.00696633+3.20555e-05\n"
     ]
    },
    {
     "name": "stdout",
     "output_type": "stream",
     "text": [
      "[1389]\ttrain-merror:0.000434+7.02424e-05\ttest-merror:0.00696633+3.20555e-05\n"
     ]
    },
    {
     "name": "stdout",
     "output_type": "stream",
     "text": [
      "[1390]\ttrain-merror:0.000434+7.02424e-05\ttest-merror:0.00696633+3.20555e-05\n"
     ]
    },
    {
     "name": "stdout",
     "output_type": "stream",
     "text": [
      "[1391]\ttrain-merror:0.000434+7.02424e-05\ttest-merror:0.00696633+3.20555e-05\n"
     ]
    },
    {
     "name": "stdout",
     "output_type": "stream",
     "text": [
      "[1392]\ttrain-merror:0.000434+7.02424e-05\ttest-merror:0.00696633+3.20555e-05\n"
     ]
    },
    {
     "name": "stdout",
     "output_type": "stream",
     "text": [
      "[1393]\ttrain-merror:0.000434+7.02424e-05\ttest-merror:0.00696633+3.20555e-05\n"
     ]
    },
    {
     "name": "stdout",
     "output_type": "stream",
     "text": [
      "[1394]\ttrain-merror:0.000434+7.02424e-05\ttest-merror:0.00696633+3.20555e-05\n"
     ]
    },
    {
     "name": "stdout",
     "output_type": "stream",
     "text": [
      "[1395]\ttrain-merror:0.000434+7.02424e-05\ttest-merror:0.00696633+3.20555e-05\n"
     ]
    },
    {
     "name": "stdout",
     "output_type": "stream",
     "text": [
      "[1396]\ttrain-merror:0.000434+7.02424e-05\ttest-merror:0.00696633+3.20555e-05\n"
     ]
    },
    {
     "name": "stdout",
     "output_type": "stream",
     "text": [
      "[1397]\ttrain-merror:0.000434+7.02424e-05\ttest-merror:0.00696633+3.20555e-05\n"
     ]
    },
    {
     "name": "stdout",
     "output_type": "stream",
     "text": [
      "[1398]\ttrain-merror:0.000434+7.02424e-05\ttest-merror:0.00696633+3.20555e-05\n"
     ]
    },
    {
     "name": "stdout",
     "output_type": "stream",
     "text": [
      "[1399]\ttrain-merror:0.000434+7.02424e-05\ttest-merror:0.00696633+3.20555e-05\n"
     ]
    },
    {
     "name": "stdout",
     "output_type": "stream",
     "text": [
      "[1400]\ttrain-merror:0.000434+7.02424e-05\ttest-merror:0.00696633+3.20555e-05\n"
     ]
    },
    {
     "name": "stdout",
     "output_type": "stream",
     "text": [
      "[1401]\ttrain-merror:0.000434+7.02424e-05\ttest-merror:0.00696633+3.20555e-05\n"
     ]
    },
    {
     "name": "stdout",
     "output_type": "stream",
     "text": [
      "[1402]\ttrain-merror:0.000434+7.02424e-05\ttest-merror:0.00696633+3.20555e-05\n"
     ]
    },
    {
     "name": "stdout",
     "output_type": "stream",
     "text": [
      "[1403]\ttrain-merror:0.000434+7.02424e-05\ttest-merror:0.006989+8.67362e-19\n"
     ]
    },
    {
     "name": "stdout",
     "output_type": "stream",
     "text": [
      "[1404]\ttrain-merror:0.000434+7.02424e-05\ttest-merror:0.006989+8.67362e-19\n"
     ]
    },
    {
     "name": "stdout",
     "output_type": "stream",
     "text": [
      "[1405]\ttrain-merror:0.000422667+5.81167e-05\ttest-merror:0.006989+8.67362e-19\n"
     ]
    },
    {
     "name": "stdout",
     "output_type": "stream",
     "text": [
      "[1406]\ttrain-merror:0.000422667+5.81167e-05\ttest-merror:0.006989+8.67362e-19\n"
     ]
    },
    {
     "name": "stdout",
     "output_type": "stream",
     "text": [
      "[1407]\ttrain-merror:0.000422667+5.81167e-05\ttest-merror:0.006989+8.67362e-19\n"
     ]
    },
    {
     "name": "stdout",
     "output_type": "stream",
     "text": [
      "[1408]\ttrain-merror:0.000411+4.80833e-05\ttest-merror:0.006989+8.67362e-19\n"
     ]
    },
    {
     "name": "stdout",
     "output_type": "stream",
     "text": [
      "[1409]\ttrain-merror:0.000399667+4.24055e-05\ttest-merror:0.00696633+3.20555e-05\n"
     ]
    },
    {
     "name": "stdout",
     "output_type": "stream",
     "text": [
      "[1410]\ttrain-merror:0.000399667+4.24055e-05\ttest-merror:0.00696633+3.20555e-05\n"
     ]
    },
    {
     "name": "stdout",
     "output_type": "stream",
     "text": [
      "[1411]\ttrain-merror:0.000399667+4.24055e-05\ttest-merror:0.00696633+3.20555e-05\n"
     ]
    },
    {
     "name": "stdout",
     "output_type": "stream",
     "text": [
      "[1412]\ttrain-merror:0.000399667+4.24055e-05\ttest-merror:0.00696633+3.20555e-05\n"
     ]
    },
    {
     "name": "stdout",
     "output_type": "stream",
     "text": [
      "[1413]\ttrain-merror:0.000399667+4.24055e-05\ttest-merror:0.00694333+3.22938e-05\n"
     ]
    },
    {
     "name": "stdout",
     "output_type": "stream",
     "text": [
      "[1414]\ttrain-merror:0.000399667+4.24055e-05\ttest-merror:0.00694333+3.22938e-05\n"
     ]
    },
    {
     "name": "stdout",
     "output_type": "stream",
     "text": [
      "[1415]\ttrain-merror:0.000399667+4.24055e-05\ttest-merror:0.00694333+3.22938e-05\n"
     ]
    },
    {
     "name": "stdout",
     "output_type": "stream",
     "text": [
      "[1416]\ttrain-merror:0.000399667+4.24055e-05\ttest-merror:0.00694333+3.22938e-05\n"
     ]
    },
    {
     "name": "stdout",
     "output_type": "stream",
     "text": [
      "[1417]\ttrain-merror:0.000399667+4.24055e-05\ttest-merror:0.00694333+3.22938e-05\n"
     ]
    },
    {
     "name": "stdout",
     "output_type": "stream",
     "text": [
      "[1418]\ttrain-merror:0.000399667+4.24055e-05\ttest-merror:0.00694333+3.22938e-05\n"
     ]
    },
    {
     "name": "stdout",
     "output_type": "stream",
     "text": [
      "[1419]\ttrain-merror:0.000399667+4.24055e-05\ttest-merror:0.00694333+3.22938e-05\n"
     ]
    },
    {
     "name": "stdout",
     "output_type": "stream",
     "text": [
      "[1420]\ttrain-merror:0.000399667+4.24055e-05\ttest-merror:0.00694333+3.22938e-05\n"
     ]
    },
    {
     "name": "stdout",
     "output_type": "stream",
     "text": [
      "[1421]\ttrain-merror:0.000388333+3.20555e-05\ttest-merror:0.00694333+3.22938e-05\n"
     ]
    },
    {
     "name": "stdout",
     "output_type": "stream",
     "text": [
      "[1422]\ttrain-merror:0.000388333+3.20555e-05\ttest-merror:0.00694333+3.22938e-05\n"
     ]
    },
    {
     "name": "stdout",
     "output_type": "stream",
     "text": [
      "[1423]\ttrain-merror:0.000388333+3.20555e-05\ttest-merror:0.006966+3.25269e-05\n"
     ]
    },
    {
     "name": "stdout",
     "output_type": "stream",
     "text": [
      "[1424]\ttrain-merror:0.000388333+3.20555e-05\ttest-merror:0.00694333+3.22938e-05\n"
     ]
    },
    {
     "name": "stdout",
     "output_type": "stream",
     "text": [
      "[1425]\ttrain-merror:0.000388333+3.20555e-05\ttest-merror:0.006966+3.25269e-05\n"
     ]
    },
    {
     "name": "stdout",
     "output_type": "stream",
     "text": [
      "[1426]\ttrain-merror:0.000388333+3.20555e-05\ttest-merror:0.006966+3.25269e-05\n"
     ]
    },
    {
     "name": "stdout",
     "output_type": "stream",
     "text": [
      "[1427]\ttrain-merror:0.000388333+3.20555e-05\ttest-merror:0.006966+3.25269e-05\n"
     ]
    },
    {
     "name": "stdout",
     "output_type": "stream",
     "text": [
      "[1428]\ttrain-merror:0.000388333+3.20555e-05\ttest-merror:0.006966+3.25269e-05\n"
     ]
    },
    {
     "name": "stdout",
     "output_type": "stream",
     "text": [
      "[1429]\ttrain-merror:0.000377+2.77609e-05\ttest-merror:0.006966+3.25269e-05\n"
     ]
    },
    {
     "name": "stdout",
     "output_type": "stream",
     "text": [
      "[1430]\ttrain-merror:0.000377+2.77609e-05\ttest-merror:0.006966+3.25269e-05\n"
     ]
    },
    {
     "name": "stdout",
     "output_type": "stream",
     "text": [
      "[1431]\ttrain-merror:0.000377+2.77609e-05\ttest-merror:0.006966+3.25269e-05\n"
     ]
    },
    {
     "name": "stdout",
     "output_type": "stream",
     "text": [
      "[1432]\ttrain-merror:0.000377+2.77609e-05\ttest-merror:0.006966+3.25269e-05\n"
     ]
    },
    {
     "name": "stdout",
     "output_type": "stream",
     "text": [
      "[1433]\ttrain-merror:0.000377+2.77609e-05\ttest-merror:0.00694333+3.22938e-05\n"
     ]
    },
    {
     "name": "stdout",
     "output_type": "stream",
     "text": [
      "[1434]\ttrain-merror:0.000377+2.77609e-05\ttest-merror:0.00696633+3.20555e-05\n"
     ]
    },
    {
     "name": "stdout",
     "output_type": "stream",
     "text": [
      "[1435]\ttrain-merror:0.000377+2.77609e-05\ttest-merror:0.00696633+3.20555e-05\n"
     ]
    },
    {
     "name": "stdout",
     "output_type": "stream",
     "text": [
      "[1436]\ttrain-merror:0.000377+2.77609e-05\ttest-merror:0.00694333+3.22938e-05\n"
     ]
    },
    {
     "name": "stdout",
     "output_type": "stream",
     "text": [
      "[1437]\ttrain-merror:0.000377+2.77609e-05\ttest-merror:0.00696633+3.20555e-05\n"
     ]
    },
    {
     "name": "stdout",
     "output_type": "stream",
     "text": [
      "[1438]\ttrain-merror:0.000377+2.77609e-05\ttest-merror:0.00696633+3.20555e-05\n"
     ]
    },
    {
     "name": "stdout",
     "output_type": "stream",
     "text": [
      "[1439]\ttrain-merror:0.000377+2.77609e-05\ttest-merror:0.00696633+3.20555e-05\n"
     ]
    },
    {
     "name": "stdout",
     "output_type": "stream",
     "text": [
      "[1440]\ttrain-merror:0.000377+2.77609e-05\ttest-merror:0.00696633+3.20555e-05\n"
     ]
    },
    {
     "name": "stdout",
     "output_type": "stream",
     "text": [
      "[1441]\ttrain-merror:0.000365333+4.28512e-05\ttest-merror:0.00694333+6.45824e-05\n"
     ]
    },
    {
     "name": "stdout",
     "output_type": "stream",
     "text": [
      "[1442]\ttrain-merror:0.000365333+4.28512e-05\ttest-merror:0.00694333+6.45824e-05\n"
     ]
    },
    {
     "name": "stdout",
     "output_type": "stream",
     "text": [
      "[1443]\ttrain-merror:0.000365333+4.28512e-05\ttest-merror:0.00692033+5.59305e-05\n"
     ]
    },
    {
     "name": "stdout",
     "output_type": "stream",
     "text": [
      "[1444]\ttrain-merror:0.000354+4.27629e-05\ttest-merror:0.00692033+5.59305e-05\n"
     ]
    },
    {
     "name": "stdout",
     "output_type": "stream",
     "text": [
      "[1445]\ttrain-merror:0.000354+4.27629e-05\ttest-merror:0.00692033+5.59305e-05\n"
     ]
    },
    {
     "name": "stdout",
     "output_type": "stream",
     "text": [
      "[1446]\ttrain-merror:0.000354+4.27629e-05\ttest-merror:0.00692033+5.59305e-05\n"
     ]
    },
    {
     "name": "stdout",
     "output_type": "stream",
     "text": [
      "[1447]\ttrain-merror:0.000354+4.27629e-05\ttest-merror:0.00692033+5.59305e-05\n"
     ]
    },
    {
     "name": "stdout",
     "output_type": "stream",
     "text": [
      "[1448]\ttrain-merror:0.000354+4.27629e-05\ttest-merror:0.00692033+5.59305e-05\n"
     ]
    },
    {
     "name": "stdout",
     "output_type": "stream",
     "text": [
      "[1449]\ttrain-merror:0.000354+4.27629e-05\ttest-merror:0.00692033+5.59305e-05\n"
     ]
    },
    {
     "name": "stdout",
     "output_type": "stream",
     "text": [
      "[1450]\ttrain-merror:0.000354+4.27629e-05\ttest-merror:0.00692033+5.59305e-05\n"
     ]
    },
    {
     "name": "stdout",
     "output_type": "stream",
     "text": [
      "[1451]\ttrain-merror:0.000354+4.27629e-05\ttest-merror:0.00692033+5.59305e-05\n"
     ]
    },
    {
     "name": "stdout",
     "output_type": "stream",
     "text": [
      "[1452]\ttrain-merror:0.000354+4.27629e-05\ttest-merror:0.00692033+5.59305e-05\n"
     ]
    },
    {
     "name": "stdout",
     "output_type": "stream",
     "text": [
      "[1453]\ttrain-merror:0.000354+4.27629e-05\ttest-merror:0.00692033+5.59305e-05\n"
     ]
    },
    {
     "name": "stdout",
     "output_type": "stream",
     "text": [
      "[1454]\ttrain-merror:0.000354+4.27629e-05\ttest-merror:0.00692033+5.59305e-05\n"
     ]
    },
    {
     "name": "stdout",
     "output_type": "stream",
     "text": [
      "[1455]\ttrain-merror:0.000354+4.27629e-05\ttest-merror:0.00692033+5.59305e-05\n"
     ]
    },
    {
     "name": "stdout",
     "output_type": "stream",
     "text": [
      "[1456]\ttrain-merror:0.000354+4.27629e-05\ttest-merror:0.00694333+6.45824e-05\n"
     ]
    },
    {
     "name": "stdout",
     "output_type": "stream",
     "text": [
      "[1457]\ttrain-merror:0.000342667+5.59305e-05\ttest-merror:0.00694333+6.45824e-05\n"
     ]
    },
    {
     "name": "stdout",
     "output_type": "stream",
     "text": [
      "[1458]\ttrain-merror:0.000354+4.27629e-05\ttest-merror:0.00692033+5.59305e-05\n"
     ]
    },
    {
     "name": "stdout",
     "output_type": "stream",
     "text": [
      "[1459]\ttrain-merror:0.000354+4.27629e-05\ttest-merror:0.00692033+5.59305e-05\n"
     ]
    },
    {
     "name": "stdout",
     "output_type": "stream",
     "text": [
      "[1460]\ttrain-merror:0.000342667+5.59305e-05\ttest-merror:0.00692033+5.59305e-05\n"
     ]
    },
    {
     "name": "stdout",
     "output_type": "stream",
     "text": [
      "[1461]\ttrain-merror:0.000342667+5.59305e-05\ttest-merror:0.00692033+5.59305e-05\n"
     ]
    },
    {
     "name": "stdout",
     "output_type": "stream",
     "text": [
      "[1462]\ttrain-merror:0.000342667+5.59305e-05\ttest-merror:0.00692033+5.59305e-05\n"
     ]
    },
    {
     "name": "stdout",
     "output_type": "stream",
     "text": [
      "[1463]\ttrain-merror:0.000342667+5.59305e-05\ttest-merror:0.00692033+5.59305e-05\n"
     ]
    },
    {
     "name": "stdout",
     "output_type": "stream",
     "text": [
      "[1464]\ttrain-merror:0.000342667+5.59305e-05\ttest-merror:0.006943+8.52565e-05\n"
     ]
    },
    {
     "name": "stdout",
     "output_type": "stream",
     "text": [
      "[1465]\ttrain-merror:0.000342667+5.59305e-05\ttest-merror:0.00692033+5.59305e-05\n"
     ]
    },
    {
     "name": "stdout",
     "output_type": "stream",
     "text": [
      "[1466]\ttrain-merror:0.000342667+5.59305e-05\ttest-merror:0.006943+8.52565e-05\n"
     ]
    },
    {
     "name": "stdout",
     "output_type": "stream",
     "text": [
      "[1467]\ttrain-merror:0.000342667+5.59305e-05\ttest-merror:0.00692033+5.59305e-05\n"
     ]
    },
    {
     "name": "stdout",
     "output_type": "stream",
     "text": [
      "[1468]\ttrain-merror:0.000331333+7.02962e-05\ttest-merror:0.006943+8.52565e-05\n"
     ]
    },
    {
     "name": "stdout",
     "output_type": "stream",
     "text": [
      "[1469]\ttrain-merror:0.000342667+5.59305e-05\ttest-merror:0.006943+8.52565e-05\n"
     ]
    },
    {
     "name": "stdout",
     "output_type": "stream",
     "text": [
      "[1470]\ttrain-merror:0.000331333+7.02962e-05\ttest-merror:0.006966+6.4348e-05\n"
     ]
    },
    {
     "name": "stdout",
     "output_type": "stream",
     "text": [
      "[1471]\ttrain-merror:0.000331333+7.02962e-05\ttest-merror:0.006966+6.4348e-05\n"
     ]
    },
    {
     "name": "stdout",
     "output_type": "stream",
     "text": [
      "[1472]\ttrain-merror:0.000331333+7.02962e-05\ttest-merror:0.006966+6.4348e-05\n"
     ]
    },
    {
     "name": "stdout",
     "output_type": "stream",
     "text": [
      "[1473]\ttrain-merror:0.000331333+7.02962e-05\ttest-merror:0.006966+6.4348e-05\n"
     ]
    },
    {
     "name": "stdout",
     "output_type": "stream",
     "text": [
      "[1474]\ttrain-merror:0.000331333+7.02962e-05\ttest-merror:0.006966+6.4348e-05\n"
     ]
    },
    {
     "name": "stdout",
     "output_type": "stream",
     "text": [
      "[1475]\ttrain-merror:0.000331333+7.02962e-05\ttest-merror:0.006966+6.4348e-05\n"
     ]
    },
    {
     "name": "stdout",
     "output_type": "stream",
     "text": [
      "[1476]\ttrain-merror:0.000331333+7.02962e-05\ttest-merror:0.006966+6.4348e-05\n"
     ]
    },
    {
     "name": "stdout",
     "output_type": "stream",
     "text": [
      "[1477]\ttrain-merror:0.000331333+7.02962e-05\ttest-merror:0.006966+6.4348e-05\n"
     ]
    },
    {
     "name": "stdout",
     "output_type": "stream",
     "text": [
      "[1478]\ttrain-merror:0.000319667+7.02962e-05\ttest-merror:0.006966+6.4348e-05\n"
     ]
    },
    {
     "name": "stdout",
     "output_type": "stream",
     "text": [
      "[1479]\ttrain-merror:0.000331333+7.02962e-05\ttest-merror:0.006966+6.4348e-05\n"
     ]
    },
    {
     "name": "stdout",
     "output_type": "stream",
     "text": [
      "[1480]\ttrain-merror:0.000331333+7.02962e-05\ttest-merror:0.006966+6.4348e-05\n"
     ]
    },
    {
     "name": "stdout",
     "output_type": "stream",
     "text": [
      "[1481]\ttrain-merror:0.000319667+7.02962e-05\ttest-merror:0.006966+6.4348e-05\n"
     ]
    },
    {
     "name": "stdout",
     "output_type": "stream",
     "text": [
      "[1482]\ttrain-merror:0.000308333+5.59305e-05\ttest-merror:0.006966+6.4348e-05\n"
     ]
    },
    {
     "name": "stdout",
     "output_type": "stream",
     "text": [
      "[1483]\ttrain-merror:0.000308333+5.59305e-05\ttest-merror:0.006966+6.4348e-05\n"
     ]
    },
    {
     "name": "stdout",
     "output_type": "stream",
     "text": [
      "[1484]\ttrain-merror:0.000308333+5.59305e-05\ttest-merror:0.006966+6.4348e-05\n"
     ]
    },
    {
     "name": "stdout",
     "output_type": "stream",
     "text": [
      "[1485]\ttrain-merror:0.000308333+5.59305e-05\ttest-merror:0.006966+6.4348e-05\n"
     ]
    },
    {
     "name": "stdout",
     "output_type": "stream",
     "text": [
      "[1486]\ttrain-merror:0.000319667+7.02962e-05\ttest-merror:0.006966+6.4348e-05\n"
     ]
    },
    {
     "name": "stdout",
     "output_type": "stream",
     "text": [
      "[1487]\ttrain-merror:0.000308333+5.59305e-05\ttest-merror:0.006966+6.4348e-05\n"
     ]
    },
    {
     "name": "stdout",
     "output_type": "stream",
     "text": [
      "[1488]\ttrain-merror:0.000308333+5.59305e-05\ttest-merror:0.006966+6.4348e-05\n"
     ]
    },
    {
     "name": "stdout",
     "output_type": "stream",
     "text": [
      "[1489]\ttrain-merror:0.000308333+5.59305e-05\ttest-merror:0.006966+6.4348e-05\n"
     ]
    },
    {
     "name": "stdout",
     "output_type": "stream",
     "text": [
      "[1490]\ttrain-merror:0.000308333+5.59305e-05\ttest-merror:0.006966+6.4348e-05\n"
     ]
    },
    {
     "name": "stdout",
     "output_type": "stream",
     "text": [
      "[1491]\ttrain-merror:0.000308333+5.59305e-05\ttest-merror:0.006966+6.4348e-05\n"
     ]
    },
    {
     "name": "stdout",
     "output_type": "stream",
     "text": [
      "[1492]\ttrain-merror:0.000308333+5.59305e-05\ttest-merror:0.006989+5.55218e-05\n"
     ]
    },
    {
     "name": "stdout",
     "output_type": "stream",
     "text": [
      "[1493]\ttrain-merror:0.000297+7.02424e-05\ttest-merror:0.006966+6.4348e-05\n"
     ]
    },
    {
     "name": "stdout",
     "output_type": "stream",
     "text": [
      "[1494]\ttrain-merror:0.000297+7.02424e-05\ttest-merror:0.006966+6.4348e-05\n"
     ]
    },
    {
     "name": "stdout",
     "output_type": "stream",
     "text": [
      "[1495]\ttrain-merror:0.000297+7.02424e-05\ttest-merror:0.006966+6.4348e-05\n"
     ]
    },
    {
     "name": "stdout",
     "output_type": "stream",
     "text": [
      "[1496]\ttrain-merror:0.000297+7.02424e-05\ttest-merror:0.00694333+8.51678e-05\n"
     ]
    },
    {
     "name": "stdout",
     "output_type": "stream",
     "text": [
      "[1497]\ttrain-merror:0.000297+7.02424e-05\ttest-merror:0.00694333+8.51678e-05\n"
     ]
    },
    {
     "name": "stdout",
     "output_type": "stream",
     "text": [
      "[1498]\ttrain-merror:0.000285667+7.02962e-05\ttest-merror:0.00694333+8.51678e-05\n"
     ]
    },
    {
     "name": "stdout",
     "output_type": "stream",
     "text": [
      "[1499]\ttrain-merror:0.000285667+7.02962e-05\ttest-merror:0.006966+6.4348e-05\n"
     ]
    },
    {
     "name": "stdout",
     "output_type": "stream",
     "text": [
      "[1500]\ttrain-merror:0.000285667+7.02962e-05\ttest-merror:0.006966+6.4348e-05\n"
     ]
    },
    {
     "name": "stdout",
     "output_type": "stream",
     "text": [
      "[1501]\ttrain-merror:0.000285667+7.02962e-05\ttest-merror:0.006966+6.4348e-05\n"
     ]
    },
    {
     "name": "stdout",
     "output_type": "stream",
     "text": [
      "[1502]\ttrain-merror:0.000285667+7.02962e-05\ttest-merror:0.006966+6.4348e-05\n"
     ]
    },
    {
     "name": "stdout",
     "output_type": "stream",
     "text": [
      "[1503]\ttrain-merror:0.000285667+7.02962e-05\ttest-merror:0.006966+6.4348e-05\n"
     ]
    },
    {
     "name": "stdout",
     "output_type": "stream",
     "text": [
      "[1504]\ttrain-merror:0.000285667+7.02962e-05\ttest-merror:0.006966+6.4348e-05\n"
     ]
    },
    {
     "name": "stdout",
     "output_type": "stream",
     "text": [
      "[1505]\ttrain-merror:0.000285667+7.02962e-05\ttest-merror:0.006966+6.4348e-05\n"
     ]
    },
    {
     "name": "stdout",
     "output_type": "stream",
     "text": [
      "[1506]\ttrain-merror:0.000285667+7.02962e-05\ttest-merror:0.006966+6.4348e-05\n"
     ]
    },
    {
     "name": "stdout",
     "output_type": "stream",
     "text": [
      "[1507]\ttrain-merror:0.000285667+7.02962e-05\ttest-merror:0.006966+6.4348e-05\n"
     ]
    },
    {
     "name": "stdout",
     "output_type": "stream",
     "text": [
      "[1508]\ttrain-merror:0.000285667+7.02962e-05\ttest-merror:0.006966+6.4348e-05\n"
     ]
    },
    {
     "name": "stdout",
     "output_type": "stream",
     "text": [
      "[1509]\ttrain-merror:0.000285667+7.02962e-05\ttest-merror:0.006966+6.4348e-05\n"
     ]
    },
    {
     "name": "stdout",
     "output_type": "stream",
     "text": [
      "[1510]\ttrain-merror:0.000285667+7.02962e-05\ttest-merror:0.006966+6.4348e-05\n"
     ]
    },
    {
     "name": "stdout",
     "output_type": "stream",
     "text": [
      "[1511]\ttrain-merror:0.000285667+7.02962e-05\ttest-merror:0.006966+6.4348e-05\n"
     ]
    },
    {
     "name": "stdout",
     "output_type": "stream",
     "text": [
      "[1512]\ttrain-merror:0.000285667+7.02962e-05\ttest-merror:0.006966+6.4348e-05\n"
     ]
    },
    {
     "name": "stdout",
     "output_type": "stream",
     "text": [
      "[1513]\ttrain-merror:0.000285667+7.02962e-05\ttest-merror:0.006966+6.4348e-05\n"
     ]
    },
    {
     "name": "stdout",
     "output_type": "stream",
     "text": [
      "[1514]\ttrain-merror:0.000285667+7.02962e-05\ttest-merror:0.006943+8.52565e-05\n"
     ]
    },
    {
     "name": "stdout",
     "output_type": "stream",
     "text": [
      "[1515]\ttrain-merror:0.000285667+7.02962e-05\ttest-merror:0.006943+8.52565e-05\n"
     ]
    },
    {
     "name": "stdout",
     "output_type": "stream",
     "text": [
      "[1516]\ttrain-merror:0.000262667+4.24055e-05\ttest-merror:0.006943+8.52565e-05\n"
     ]
    },
    {
     "name": "stdout",
     "output_type": "stream",
     "text": [
      "[1517]\ttrain-merror:0.000274333+5.59305e-05\ttest-merror:0.006943+8.52565e-05\n"
     ]
    },
    {
     "name": "stdout",
     "output_type": "stream",
     "text": [
      "[1518]\ttrain-merror:0.000262667+4.24055e-05\ttest-merror:0.006943+8.52565e-05\n"
     ]
    },
    {
     "name": "stdout",
     "output_type": "stream",
     "text": [
      "[1519]\ttrain-merror:0.000262667+4.24055e-05\ttest-merror:0.006943+8.52565e-05\n"
     ]
    },
    {
     "name": "stdout",
     "output_type": "stream",
     "text": [
      "[1520]\ttrain-merror:0.000262667+4.24055e-05\ttest-merror:0.006943+8.52565e-05\n"
     ]
    },
    {
     "name": "stdout",
     "output_type": "stream",
     "text": [
      "[1521]\ttrain-merror:0.000262667+4.24055e-05\ttest-merror:0.006943+8.52565e-05\n"
     ]
    },
    {
     "name": "stdout",
     "output_type": "stream",
     "text": [
      "[1522]\ttrain-merror:0.000262667+4.24055e-05\ttest-merror:0.006943+8.52565e-05\n"
     ]
    },
    {
     "name": "stdout",
     "output_type": "stream",
     "text": [
      "[1523]\ttrain-merror:0.000262667+4.24055e-05\ttest-merror:0.006943+8.52565e-05\n"
     ]
    },
    {
     "name": "stdout",
     "output_type": "stream",
     "text": [
      "[1524]\ttrain-merror:0.000262667+4.24055e-05\ttest-merror:0.006943+8.52565e-05\n"
     ]
    },
    {
     "name": "stdout",
     "output_type": "stream",
     "text": [
      "[1525]\ttrain-merror:0.000262667+4.24055e-05\ttest-merror:0.006943+8.52565e-05\n"
     ]
    },
    {
     "name": "stdout",
     "output_type": "stream",
     "text": [
      "[1526]\ttrain-merror:0.000262667+4.24055e-05\ttest-merror:0.006943+8.52565e-05\n"
     ]
    },
    {
     "name": "stdout",
     "output_type": "stream",
     "text": [
      "[1527]\ttrain-merror:0.000262667+4.24055e-05\ttest-merror:0.006943+8.52565e-05\n"
     ]
    },
    {
     "name": "stdout",
     "output_type": "stream",
     "text": [
      "[1528]\ttrain-merror:0.000262667+4.24055e-05\ttest-merror:0.006943+8.52565e-05\n"
     ]
    },
    {
     "name": "stdout",
     "output_type": "stream",
     "text": [
      "[1529]\ttrain-merror:0.000251333+3.20555e-05\ttest-merror:0.006943+8.52565e-05\n"
     ]
    },
    {
     "name": "stdout",
     "output_type": "stream",
     "text": [
      "[1530]\ttrain-merror:0.000251333+3.20555e-05\ttest-merror:0.006943+8.52565e-05\n"
     ]
    },
    {
     "name": "stdout",
     "output_type": "stream",
     "text": [
      "[1531]\ttrain-merror:0.000251333+3.20555e-05\ttest-merror:0.006943+8.52565e-05\n"
     ]
    },
    {
     "name": "stdout",
     "output_type": "stream",
     "text": [
      "[1532]\ttrain-merror:0.000251333+3.20555e-05\ttest-merror:0.006943+8.52565e-05\n"
     ]
    },
    {
     "name": "stdout",
     "output_type": "stream",
     "text": [
      "[1533]\ttrain-merror:0.000251333+3.20555e-05\ttest-merror:0.006943+8.52565e-05\n"
     ]
    },
    {
     "name": "stdout",
     "output_type": "stream",
     "text": [
      "[1534]\ttrain-merror:0.000251333+3.20555e-05\ttest-merror:0.006943+8.52565e-05\n"
     ]
    },
    {
     "name": "stdout",
     "output_type": "stream",
     "text": [
      "[1535]\ttrain-merror:0.000251333+3.20555e-05\ttest-merror:0.006943+8.52565e-05\n"
     ]
    },
    {
     "name": "stdout",
     "output_type": "stream",
     "text": [
      "[1536]\ttrain-merror:0.000251333+3.20555e-05\ttest-merror:0.006943+8.52565e-05\n"
     ]
    },
    {
     "name": "stdout",
     "output_type": "stream",
     "text": [
      "[1537]\ttrain-merror:0.00024+2.77609e-05\ttest-merror:0.006943+8.52565e-05\n"
     ]
    },
    {
     "name": "stdout",
     "output_type": "stream",
     "text": [
      "[1538]\ttrain-merror:0.00024+2.77609e-05\ttest-merror:0.006943+8.52565e-05\n"
     ]
    },
    {
     "name": "stdout",
     "output_type": "stream",
     "text": [
      "[1539]\ttrain-merror:0.00024+2.77609e-05\ttest-merror:0.006943+8.52565e-05\n"
     ]
    },
    {
     "name": "stdout",
     "output_type": "stream",
     "text": [
      "[1540]\ttrain-merror:0.00024+2.77609e-05\ttest-merror:0.006943+8.52565e-05\n"
     ]
    },
    {
     "name": "stdout",
     "output_type": "stream",
     "text": [
      "[1541]\ttrain-merror:0.00024+2.77609e-05\ttest-merror:0.006943+8.52565e-05\n"
     ]
    },
    {
     "name": "stdout",
     "output_type": "stream",
     "text": [
      "[1542]\ttrain-merror:0.00024+2.77609e-05\ttest-merror:0.006943+8.52565e-05\n"
     ]
    },
    {
     "name": "stdout",
     "output_type": "stream",
     "text": [
      "[1543]\ttrain-merror:0.00024+2.77609e-05\ttest-merror:0.006943+8.52565e-05\n"
     ]
    },
    {
     "name": "stdout",
     "output_type": "stream",
     "text": [
      "[1544]\ttrain-merror:0.00024+2.77609e-05\ttest-merror:0.006943+8.52565e-05\n"
     ]
    },
    {
     "name": "stdout",
     "output_type": "stream",
     "text": [
      "[1545]\ttrain-merror:0.00024+2.77609e-05\ttest-merror:0.006943+8.52565e-05\n"
     ]
    },
    {
     "name": "stdout",
     "output_type": "stream",
     "text": [
      "[1546]\ttrain-merror:0.00024+2.77609e-05\ttest-merror:0.006943+8.52565e-05\n"
     ]
    },
    {
     "name": "stdout",
     "output_type": "stream",
     "text": [
      "[1547]\ttrain-merror:0.00024+2.77609e-05\ttest-merror:0.006943+8.52565e-05\n"
     ]
    },
    {
     "name": "stdout",
     "output_type": "stream",
     "text": [
      "[1548]\ttrain-merror:0.00024+2.77609e-05\ttest-merror:0.006943+8.52565e-05\n"
     ]
    },
    {
     "name": "stdout",
     "output_type": "stream",
     "text": [
      "[1549]\ttrain-merror:0.00024+2.77609e-05\ttest-merror:0.006943+8.52565e-05\n"
     ]
    },
    {
     "name": "stdout",
     "output_type": "stream",
     "text": [
      "[1550]\ttrain-merror:0.00024+2.77609e-05\ttest-merror:0.006943+8.52565e-05\n"
     ]
    },
    {
     "name": "stdout",
     "output_type": "stream",
     "text": [
      "[1551]\ttrain-merror:0.00024+2.77609e-05\ttest-merror:0.006943+8.52565e-05\n"
     ]
    },
    {
     "name": "stdout",
     "output_type": "stream",
     "text": [
      "[1552]\ttrain-merror:0.00024+2.77609e-05\ttest-merror:0.006943+8.52565e-05\n"
     ]
    },
    {
     "name": "stdout",
     "output_type": "stream",
     "text": [
      "[1553]\ttrain-merror:0.00024+2.77609e-05\ttest-merror:0.006943+8.52565e-05\n"
     ]
    },
    {
     "name": "stdout",
     "output_type": "stream",
     "text": [
      "[1554]\ttrain-merror:0.00024+2.77609e-05\ttest-merror:0.006943+8.52565e-05\n"
     ]
    },
    {
     "name": "stdout",
     "output_type": "stream",
     "text": [
      "[1555]\ttrain-merror:0.00024+2.77609e-05\ttest-merror:0.006943+8.52565e-05\n"
     ]
    },
    {
     "name": "stdout",
     "output_type": "stream",
     "text": [
      "[1556]\ttrain-merror:0.00024+2.77609e-05\ttest-merror:0.006943+8.52565e-05\n"
     ]
    },
    {
     "name": "stdout",
     "output_type": "stream",
     "text": [
      "[1557]\ttrain-merror:0.00024+2.77609e-05\ttest-merror:0.006943+8.52565e-05\n"
     ]
    },
    {
     "name": "stdout",
     "output_type": "stream",
     "text": [
      "[1558]\ttrain-merror:0.00024+2.77609e-05\ttest-merror:0.006943+8.52565e-05\n"
     ]
    },
    {
     "name": "stdout",
     "output_type": "stream",
     "text": [
      "[1559]\ttrain-merror:0.000228333+4.28512e-05\ttest-merror:0.006943+8.52565e-05\n"
     ]
    },
    {
     "name": "stdout",
     "output_type": "stream",
     "text": [
      "[1560]\ttrain-merror:0.000228333+4.28512e-05\ttest-merror:0.006943+8.52565e-05\n"
     ]
    },
    {
     "name": "stdout",
     "output_type": "stream",
     "text": [
      "[1561]\ttrain-merror:0.000228333+4.28512e-05\ttest-merror:0.006943+8.52565e-05\n"
     ]
    },
    {
     "name": "stdout",
     "output_type": "stream",
     "text": [
      "[1562]\ttrain-merror:0.000228333+4.28512e-05\ttest-merror:0.006943+8.52565e-05\n"
     ]
    },
    {
     "name": "stdout",
     "output_type": "stream",
     "text": [
      "[1563]\ttrain-merror:0.000228333+4.28512e-05\ttest-merror:0.006943+8.52565e-05\n"
     ]
    },
    {
     "name": "stdout",
     "output_type": "stream",
     "text": [
      "[1564]\ttrain-merror:0.000228333+4.28512e-05\ttest-merror:0.006943+8.52565e-05\n"
     ]
    },
    {
     "name": "stdout",
     "output_type": "stream",
     "text": [
      "[1565]\ttrain-merror:0.000228333+4.28512e-05\ttest-merror:0.006943+8.52565e-05\n"
     ]
    },
    {
     "name": "stdout",
     "output_type": "stream",
     "text": [
      "[1566]\ttrain-merror:0.000228333+4.28512e-05\ttest-merror:0.006943+8.52565e-05\n"
     ]
    },
    {
     "name": "stdout",
     "output_type": "stream",
     "text": [
      "[1567]\ttrain-merror:0.000217+3.25269e-05\ttest-merror:0.006943+8.52565e-05\n"
     ]
    },
    {
     "name": "stdout",
     "output_type": "stream",
     "text": [
      "[1568]\ttrain-merror:0.000217+3.25269e-05\ttest-merror:0.006943+8.52565e-05\n"
     ]
    },
    {
     "name": "stdout",
     "output_type": "stream",
     "text": [
      "[1569]\ttrain-merror:0.000217+3.25269e-05\ttest-merror:0.006943+8.52565e-05\n"
     ]
    },
    {
     "name": "stdout",
     "output_type": "stream",
     "text": [
      "[1570]\ttrain-merror:0.000205667+2.81701e-05\ttest-merror:0.006943+8.52565e-05\n"
     ]
    },
    {
     "name": "stdout",
     "output_type": "stream",
     "text": [
      "[1571]\ttrain-merror:0.000205667+2.81701e-05\ttest-merror:0.006943+8.52565e-05\n"
     ]
    },
    {
     "name": "stdout",
     "output_type": "stream",
     "text": [
      "[1572]\ttrain-merror:0.000205667+2.81701e-05\ttest-merror:0.006943+8.52565e-05\n"
     ]
    },
    {
     "name": "stdout",
     "output_type": "stream",
     "text": [
      "[1573]\ttrain-merror:0.000205667+2.81701e-05\ttest-merror:0.006943+8.52565e-05\n"
     ]
    },
    {
     "name": "stdout",
     "output_type": "stream",
     "text": [
      "[1574]\ttrain-merror:0.000217+3.25269e-05\ttest-merror:0.006943+8.52565e-05\n"
     ]
    },
    {
     "name": "stdout",
     "output_type": "stream",
     "text": [
      "[1575]\ttrain-merror:0.000205667+2.81701e-05\ttest-merror:0.006943+8.52565e-05\n"
     ]
    },
    {
     "name": "stdout",
     "output_type": "stream",
     "text": [
      "[1576]\ttrain-merror:0.000205667+2.81701e-05\ttest-merror:0.006943+8.52565e-05\n"
     ]
    },
    {
     "name": "stdout",
     "output_type": "stream",
     "text": [
      "[1577]\ttrain-merror:0.000205667+2.81701e-05\ttest-merror:0.006943+8.52565e-05\n"
     ]
    },
    {
     "name": "stdout",
     "output_type": "stream",
     "text": [
      "[1578]\ttrain-merror:0.000205667+2.81701e-05\ttest-merror:0.006943+8.52565e-05\n"
     ]
    },
    {
     "name": "stdout",
     "output_type": "stream",
     "text": [
      "[1579]\ttrain-merror:0.000205667+2.81701e-05\ttest-merror:0.006943+8.52565e-05\n"
     ]
    },
    {
     "name": "stdout",
     "output_type": "stream",
     "text": [
      "[1580]\ttrain-merror:0.000205667+2.81701e-05\ttest-merror:0.006943+8.52565e-05\n"
     ]
    },
    {
     "name": "stdout",
     "output_type": "stream",
     "text": [
      "[1581]\ttrain-merror:0.000205667+2.81701e-05\ttest-merror:0.006943+8.52565e-05\n"
     ]
    },
    {
     "name": "stdout",
     "output_type": "stream",
     "text": [
      "[1582]\ttrain-merror:0.000205667+2.81701e-05\ttest-merror:0.006943+8.52565e-05\n"
     ]
    },
    {
     "name": "stdout",
     "output_type": "stream",
     "text": [
      "[1583]\ttrain-merror:0.000205667+2.81701e-05\ttest-merror:0.006943+8.52565e-05\n"
     ]
    },
    {
     "name": "stdout",
     "output_type": "stream",
     "text": [
      "[1584]\ttrain-merror:0.000205667+2.81701e-05\ttest-merror:0.006943+8.52565e-05\n"
     ]
    },
    {
     "name": "stdout",
     "output_type": "stream",
     "text": [
      "[1585]\ttrain-merror:0.000194+3.25269e-05\ttest-merror:0.006943+8.52565e-05\n"
     ]
    },
    {
     "name": "stdout",
     "output_type": "stream",
     "text": [
      "[1586]\ttrain-merror:0.000194+3.25269e-05\ttest-merror:0.006943+8.52565e-05\n"
     ]
    },
    {
     "name": "stdout",
     "output_type": "stream",
     "text": [
      "[1587]\ttrain-merror:0.000194+3.25269e-05\ttest-merror:0.006943+8.52565e-05\n"
     ]
    },
    {
     "name": "stdout",
     "output_type": "stream",
     "text": [
      "[1588]\ttrain-merror:0.000194+3.25269e-05\ttest-merror:0.006943+8.52565e-05\n"
     ]
    },
    {
     "name": "stdout",
     "output_type": "stream",
     "text": [
      "[1589]\ttrain-merror:0.000194+3.25269e-05\ttest-merror:0.006943+8.52565e-05\n"
     ]
    },
    {
     "name": "stdout",
     "output_type": "stream",
     "text": [
      "[1590]\ttrain-merror:0.000194+3.25269e-05\ttest-merror:0.006943+8.52565e-05\n"
     ]
    },
    {
     "name": "stdout",
     "output_type": "stream",
     "text": [
      "[1591]\ttrain-merror:0.000194+3.25269e-05\ttest-merror:0.006943+8.52565e-05\n"
     ]
    },
    {
     "name": "stdout",
     "output_type": "stream",
     "text": [
      "[1592]\ttrain-merror:0.000194+3.25269e-05\ttest-merror:0.006943+8.52565e-05\n"
     ]
    },
    {
     "name": "stdout",
     "output_type": "stream",
     "text": [
      "[1593]\ttrain-merror:0.000194+3.25269e-05\ttest-merror:0.006943+8.52565e-05\n"
     ]
    },
    {
     "name": "stdout",
     "output_type": "stream",
     "text": [
      "[1594]\ttrain-merror:0.000194+3.25269e-05\ttest-merror:0.006943+8.52565e-05\n"
     ]
    },
    {
     "name": "stdout",
     "output_type": "stream",
     "text": [
      "[1595]\ttrain-merror:0.000182667+4.28512e-05\ttest-merror:0.006943+8.52565e-05\n"
     ]
    },
    {
     "name": "stdout",
     "output_type": "stream",
     "text": [
      "[1596]\ttrain-merror:0.000182667+4.28512e-05\ttest-merror:0.006943+8.52565e-05\n"
     ]
    },
    {
     "name": "stdout",
     "output_type": "stream",
     "text": [
      "[1597]\ttrain-merror:0.000182667+4.28512e-05\ttest-merror:0.006943+8.52565e-05\n"
     ]
    },
    {
     "name": "stdout",
     "output_type": "stream",
     "text": [
      "[1598]\ttrain-merror:0.000182667+4.28512e-05\ttest-merror:0.006943+8.52565e-05\n"
     ]
    },
    {
     "name": "stdout",
     "output_type": "stream",
     "text": [
      "[1599]\ttrain-merror:0.000182667+4.28512e-05\ttest-merror:0.006943+8.52565e-05\n"
     ]
    },
    {
     "name": "stdout",
     "output_type": "stream",
     "text": [
      "[1600]\ttrain-merror:0.000182667+4.28512e-05\ttest-merror:0.006943+8.52565e-05\n"
     ]
    },
    {
     "name": "stdout",
     "output_type": "stream",
     "text": [
      "[1601]\ttrain-merror:0.000182667+4.28512e-05\ttest-merror:0.006943+8.52565e-05\n"
     ]
    },
    {
     "name": "stdout",
     "output_type": "stream",
     "text": [
      "[1602]\ttrain-merror:0.000182667+4.28512e-05\ttest-merror:0.006943+8.52565e-05\n"
     ]
    },
    {
     "name": "stdout",
     "output_type": "stream",
     "text": [
      "[1603]\ttrain-merror:0.000182667+4.28512e-05\ttest-merror:0.006943+8.52565e-05\n"
     ]
    },
    {
     "name": "stdout",
     "output_type": "stream",
     "text": [
      "[1604]\ttrain-merror:0.000194+3.25269e-05\ttest-merror:0.006943+8.52565e-05\n"
     ]
    },
    {
     "name": "stdout",
     "output_type": "stream",
     "text": [
      "[1605]\ttrain-merror:0.000182667+4.28512e-05\ttest-merror:0.006966+8.52565e-05\n"
     ]
    },
    {
     "name": "stdout",
     "output_type": "stream",
     "text": [
      "[1606]\ttrain-merror:0.000182667+4.28512e-05\ttest-merror:0.006966+8.52565e-05\n"
     ]
    },
    {
     "name": "stdout",
     "output_type": "stream",
     "text": [
      "[1607]\ttrain-merror:0.000182667+4.28512e-05\ttest-merror:0.006966+8.52565e-05\n"
     ]
    },
    {
     "name": "stdout",
     "output_type": "stream",
     "text": [
      "[1608]\ttrain-merror:0.000182667+4.28512e-05\ttest-merror:0.006966+8.52565e-05\n"
     ]
    },
    {
     "name": "stdout",
     "output_type": "stream",
     "text": [
      "[1609]\ttrain-merror:0.000171333+5.59305e-05\ttest-merror:0.006966+8.52565e-05\n"
     ]
    },
    {
     "name": "stdout",
     "output_type": "stream",
     "text": [
      "[1610]\ttrain-merror:0.000171333+5.59305e-05\ttest-merror:0.006989+5.55218e-05\n"
     ]
    },
    {
     "name": "stdout",
     "output_type": "stream",
     "text": [
      "[1611]\ttrain-merror:0.000171333+5.59305e-05\ttest-merror:0.006989+5.55218e-05\n"
     ]
    },
    {
     "name": "stdout",
     "output_type": "stream",
     "text": [
      "[1612]\ttrain-merror:0.000171333+5.59305e-05\ttest-merror:0.006989+5.55218e-05\n"
     ]
    },
    {
     "name": "stdout",
     "output_type": "stream",
     "text": [
      "[1613]\ttrain-merror:0.000171333+5.59305e-05\ttest-merror:0.006989+5.55218e-05\n"
     ]
    },
    {
     "name": "stdout",
     "output_type": "stream",
     "text": [
      "[1614]\ttrain-merror:0.000171333+5.59305e-05\ttest-merror:0.006989+5.55218e-05\n"
     ]
    },
    {
     "name": "stdout",
     "output_type": "stream",
     "text": [
      "[1615]\ttrain-merror:0.000171333+5.59305e-05\ttest-merror:0.006966+6.4348e-05\n"
     ]
    },
    {
     "name": "stdout",
     "output_type": "stream",
     "text": [
      "[1616]\ttrain-merror:0.000171333+5.59305e-05\ttest-merror:0.006966+6.4348e-05\n"
     ]
    },
    {
     "name": "stdout",
     "output_type": "stream",
     "text": [
      "[1617]\ttrain-merror:0.000171333+5.59305e-05\ttest-merror:0.006966+6.4348e-05\n"
     ]
    },
    {
     "name": "stdout",
     "output_type": "stream",
     "text": [
      "[1618]\ttrain-merror:0.000171333+5.59305e-05\ttest-merror:0.00698867+5.59305e-05\n"
     ]
    },
    {
     "name": "stdout",
     "output_type": "stream",
     "text": [
      "[1619]\ttrain-merror:0.000171333+5.59305e-05\ttest-merror:0.00698867+5.59305e-05\n"
     ]
    },
    {
     "name": "stdout",
     "output_type": "stream",
     "text": [
      "[1620]\ttrain-merror:0.000171333+5.59305e-05\ttest-merror:0.00698867+5.59305e-05\n"
     ]
    },
    {
     "name": "stdout",
     "output_type": "stream",
     "text": [
      "[1621]\ttrain-merror:0.000171333+5.59305e-05\ttest-merror:0.00698867+5.59305e-05\n"
     ]
    },
    {
     "name": "stdout",
     "output_type": "stream",
     "text": [
      "[1622]\ttrain-merror:0.000171333+5.59305e-05\ttest-merror:0.00698867+5.59305e-05\n"
     ]
    },
    {
     "name": "stdout",
     "output_type": "stream",
     "text": [
      "[1623]\ttrain-merror:0.00016+5.82466e-05\ttest-merror:0.00698867+5.59305e-05\n"
     ]
    },
    {
     "name": "stdout",
     "output_type": "stream",
     "text": [
      "[1624]\ttrain-merror:0.00016+5.82466e-05\ttest-merror:0.00698867+5.59305e-05\n"
     ]
    },
    {
     "name": "stdout",
     "output_type": "stream",
     "text": [
      "[1625]\ttrain-merror:0.00016+5.82466e-05\ttest-merror:0.00698867+5.59305e-05\n"
     ]
    },
    {
     "name": "stdout",
     "output_type": "stream",
     "text": [
      "[1626]\ttrain-merror:0.00016+5.82466e-05\ttest-merror:0.00698867+5.59305e-05\n"
     ]
    },
    {
     "name": "stdout",
     "output_type": "stream",
     "text": [
      "[1627]\ttrain-merror:0.00016+5.82466e-05\ttest-merror:0.00698867+5.59305e-05\n"
     ]
    },
    {
     "name": "stdout",
     "output_type": "stream",
     "text": [
      "[1628]\ttrain-merror:0.00016+5.82466e-05\ttest-merror:0.00698867+5.59305e-05\n"
     ]
    },
    {
     "name": "stdout",
     "output_type": "stream",
     "text": [
      "[1629]\ttrain-merror:0.00016+5.82466e-05\ttest-merror:0.00698867+5.59305e-05\n"
     ]
    },
    {
     "name": "stdout",
     "output_type": "stream",
     "text": [
      "[1630]\ttrain-merror:0.00016+5.82466e-05\ttest-merror:0.00698867+5.59305e-05\n"
     ]
    },
    {
     "name": "stdout",
     "output_type": "stream",
     "text": [
      "[1631]\ttrain-merror:0.000148667+4.28512e-05\ttest-merror:0.00698867+5.59305e-05\n"
     ]
    },
    {
     "name": "stdout",
     "output_type": "stream",
     "text": [
      "[1632]\ttrain-merror:0.000148667+4.28512e-05\ttest-merror:0.006966+6.4348e-05\n"
     ]
    },
    {
     "name": "stdout",
     "output_type": "stream",
     "text": [
      "[1633]\ttrain-merror:0.000148667+4.28512e-05\ttest-merror:0.006966+6.4348e-05\n"
     ]
    },
    {
     "name": "stdout",
     "output_type": "stream",
     "text": [
      "[1634]\ttrain-merror:0.000148667+4.28512e-05\ttest-merror:0.006966+6.4348e-05\n"
     ]
    },
    {
     "name": "stdout",
     "output_type": "stream",
     "text": [
      "[1635]\ttrain-merror:0.000148667+4.28512e-05\ttest-merror:0.006966+6.4348e-05\n"
     ]
    }
   ],
   "source": [
    "import xgboost as xgb\n",
    "vect = preproc_pipeline().fit_transform(features)\n",
    "params = {'seed': 42, 'max_depth': 8, 'learning_rate': 0.01, 'num_class': 2,\n",
    "          'min_child_weight': 1, 'gamma': 0, 'subsample': 0.9, 'colsample_bytree ': 0.6}\n",
    "cv_xgb = xgb.cv(params, xgb.DMatrix(vect, labels), early_stopping_rounds=500, verbose_eval=1,\n",
    "                num_boost_round=5000, nfold=3)\n"
   ]
  },
  {
   "cell_type": "code",
   "execution_count": 85,
   "metadata": {},
   "outputs": [],
   "source": [
    "from xgboost import XGBClassifier\n",
    "\n",
    "params = {\n",
    "    # 'xgb__n_estimators': [1140],\n",
    "    # 'xgb__learning_rate': [0.01],\n",
    "    # 'xgb__max_depth': [8], #range(6, 9, 1),\n",
    "    # 'xgb__min_child_weight': [1], #range(6, 9, 1),\n",
    "    # #'xgb__gamma': [0], #np.linspace(0, 0.5, 5),\n",
    "    # 'xgb__subsample': [0.9], #[i/10.0 for i in range(6, 11)],\n",
    "    # 'xgb__colsample_bytree': [0.6], #[i/10.0 for i in range(5, 7)],\n",
    "    # #'xgb__reg_alpha': [0, 1e-5, 1e-2, 0.1, 1, 100],\n",
    "    # #'reg_lambda':[0, 1e-5, 1e-2, 0.1, 1, 100]\n",
    "    # #'xgb__num_class': [2]\n",
    "}\n",
    "\n",
    "xgb = XGBClassifier(seed=42, n_estimators=1250, reg_alpha=1e-5,\n",
    "                    learning_rate=0.01, max_depth=8, min_child_weight=1, subsample=0.9, colsample_bytree=0.6)\n"
   ]
  },
  {
   "cell_type": "heading",
   "metadata": {},
   "level": 1,
   "source": [
    "Grid search and testing"
   ]
  },
  {
   "cell_type": "code",
   "execution_count": 83,
   "metadata": {
    "collapsed": true
   },
   "outputs": [],
   "source": [
    "# pipeline definition\n",
    "from sklearn.pipeline import Pipeline, make_union\n",
    "from tempfile import mkdtemp\n",
    "from sklearn.feature_extraction.text import CountVectorizer\n",
    "from sklearn.preprocessing import Imputer, FunctionTransformer\n",
    "\n",
    "\n",
    "\n",
    "pipeline = Pipeline([\n",
    "    ('preproc', preproc_pipeline()),\n",
    "    #('smote', SMOTE()),\n",
    "    ('xgb', xgb)\n",
    "], memory=None)\n",
    "#mkdtemp\n"
   ]
  },
  {
   "cell_type": "code",
   "execution_count": 45,
   "metadata": {
    "collapsed": true
   },
   "outputs": [
    {
     "name": "stdout",
     "output_type": "stream",
     "text": [
      "Fitting 10 folds for each of 1 candidates, totalling 10 fits\n[CV]  ................................................................\n"
     ]
    },
    {
     "ename": "KeyboardInterrupt",
     "evalue": "",
     "traceback": [
      "\u001b[0;31m---------------------------------------------------------------------------\u001b[0m",
      "\u001b[0;31mKeyboardInterrupt\u001b[0m                         Traceback (most recent call last)",
      "\u001b[0;32m<ipython-input-45-7e27391c47f3>\u001b[0m in \u001b[0;36m<module>\u001b[0;34m()\u001b[0m\n\u001b[1;32m     12\u001b[0m     \u001b[0mmodel\u001b[0m \u001b[0;34m=\u001b[0m \u001b[0mGridSearchCV\u001b[0m\u001b[0;34m(\u001b[0m\u001b[0mpipeline\u001b[0m\u001b[0;34m,\u001b[0m \u001b[0mcv\u001b[0m\u001b[0;34m=\u001b[0m\u001b[0;36m10\u001b[0m\u001b[0;34m,\u001b[0m  \u001b[0mparam_grid\u001b[0m\u001b[0;34m=\u001b[0m\u001b[0mparams\u001b[0m\u001b[0;34m,\u001b[0m \u001b[0mscoring\u001b[0m\u001b[0;34m=\u001b[0m\u001b[0;34m'f1_weighted'\u001b[0m\u001b[0;34m,\u001b[0m \u001b[0mverbose\u001b[0m\u001b[0;34m=\u001b[0m\u001b[0;36m10\u001b[0m\u001b[0;34m)\u001b[0m\u001b[0;34m\u001b[0m\u001b[0m\n\u001b[1;32m     13\u001b[0m     \u001b[0;31m#model.fit(features_train, labels_train)\u001b[0m\u001b[0;34m\u001b[0m\u001b[0;34m\u001b[0m\u001b[0m\n\u001b[0;32m---> 14\u001b[0;31m     \u001b[0mmodel\u001b[0m\u001b[0;34m.\u001b[0m\u001b[0mfit\u001b[0m\u001b[0;34m(\u001b[0m\u001b[0mfeatures_train\u001b[0m\u001b[0;34m,\u001b[0m \u001b[0mlabels_train\u001b[0m\u001b[0;34m)\u001b[0m\u001b[0;34m\u001b[0m\u001b[0m\n\u001b[0m",
      "\u001b[0;32m~/anaconda3/lib/python3.6/site-packages/sklearn/model_selection/_search.py\u001b[0m in \u001b[0;36mfit\u001b[0;34m(self, X, y, groups, **fit_params)\u001b[0m\n\u001b[1;32m    637\u001b[0m                                   error_score=self.error_score)\n\u001b[1;32m    638\u001b[0m           for parameters, (train, test) in product(candidate_params,\n\u001b[0;32m--> 639\u001b[0;31m                                                    cv.split(X, y, groups)))\n\u001b[0m\u001b[1;32m    640\u001b[0m \u001b[0;34m\u001b[0m\u001b[0m\n\u001b[1;32m    641\u001b[0m         \u001b[0;31m# if one choose to see train score, \"out\" will contain train score info\u001b[0m\u001b[0;34m\u001b[0m\u001b[0;34m\u001b[0m\u001b[0m\n",
      "\u001b[0;32m~/anaconda3/lib/python3.6/site-packages/sklearn/externals/joblib/parallel.py\u001b[0m in \u001b[0;36m__call__\u001b[0;34m(self, iterable)\u001b[0m\n\u001b[1;32m    777\u001b[0m             \u001b[0;31m# was dispatched. In particular this covers the edge\u001b[0m\u001b[0;34m\u001b[0m\u001b[0;34m\u001b[0m\u001b[0m\n\u001b[1;32m    778\u001b[0m             \u001b[0;31m# case of Parallel used with an exhausted iterator.\u001b[0m\u001b[0;34m\u001b[0m\u001b[0;34m\u001b[0m\u001b[0m\n\u001b[0;32m--> 779\u001b[0;31m             \u001b[0;32mwhile\u001b[0m \u001b[0mself\u001b[0m\u001b[0;34m.\u001b[0m\u001b[0mdispatch_one_batch\u001b[0m\u001b[0;34m(\u001b[0m\u001b[0miterator\u001b[0m\u001b[0;34m)\u001b[0m\u001b[0;34m:\u001b[0m\u001b[0;34m\u001b[0m\u001b[0m\n\u001b[0m\u001b[1;32m    780\u001b[0m                 \u001b[0mself\u001b[0m\u001b[0;34m.\u001b[0m\u001b[0m_iterating\u001b[0m \u001b[0;34m=\u001b[0m \u001b[0;32mTrue\u001b[0m\u001b[0;34m\u001b[0m\u001b[0m\n\u001b[1;32m    781\u001b[0m             \u001b[0;32melse\u001b[0m\u001b[0;34m:\u001b[0m\u001b[0;34m\u001b[0m\u001b[0m\n",
      "\u001b[0;32m~/anaconda3/lib/python3.6/site-packages/sklearn/externals/joblib/parallel.py\u001b[0m in \u001b[0;36mdispatch_one_batch\u001b[0;34m(self, iterator)\u001b[0m\n\u001b[1;32m    623\u001b[0m                 \u001b[0;32mreturn\u001b[0m \u001b[0;32mFalse\u001b[0m\u001b[0;34m\u001b[0m\u001b[0m\n\u001b[1;32m    624\u001b[0m             \u001b[0;32melse\u001b[0m\u001b[0;34m:\u001b[0m\u001b[0;34m\u001b[0m\u001b[0m\n\u001b[0;32m--> 625\u001b[0;31m                 \u001b[0mself\u001b[0m\u001b[0;34m.\u001b[0m\u001b[0m_dispatch\u001b[0m\u001b[0;34m(\u001b[0m\u001b[0mtasks\u001b[0m\u001b[0;34m)\u001b[0m\u001b[0;34m\u001b[0m\u001b[0m\n\u001b[0m\u001b[1;32m    626\u001b[0m                 \u001b[0;32mreturn\u001b[0m \u001b[0;32mTrue\u001b[0m\u001b[0;34m\u001b[0m\u001b[0m\n\u001b[1;32m    627\u001b[0m \u001b[0;34m\u001b[0m\u001b[0m\n",
      "\u001b[0;32m~/anaconda3/lib/python3.6/site-packages/sklearn/externals/joblib/parallel.py\u001b[0m in \u001b[0;36m_dispatch\u001b[0;34m(self, batch)\u001b[0m\n\u001b[1;32m    586\u001b[0m         \u001b[0mdispatch_timestamp\u001b[0m \u001b[0;34m=\u001b[0m \u001b[0mtime\u001b[0m\u001b[0;34m.\u001b[0m\u001b[0mtime\u001b[0m\u001b[0;34m(\u001b[0m\u001b[0;34m)\u001b[0m\u001b[0;34m\u001b[0m\u001b[0m\n\u001b[1;32m    587\u001b[0m         \u001b[0mcb\u001b[0m \u001b[0;34m=\u001b[0m \u001b[0mBatchCompletionCallBack\u001b[0m\u001b[0;34m(\u001b[0m\u001b[0mdispatch_timestamp\u001b[0m\u001b[0;34m,\u001b[0m \u001b[0mlen\u001b[0m\u001b[0;34m(\u001b[0m\u001b[0mbatch\u001b[0m\u001b[0;34m)\u001b[0m\u001b[0;34m,\u001b[0m \u001b[0mself\u001b[0m\u001b[0;34m)\u001b[0m\u001b[0;34m\u001b[0m\u001b[0m\n\u001b[0;32m--> 588\u001b[0;31m         \u001b[0mjob\u001b[0m \u001b[0;34m=\u001b[0m \u001b[0mself\u001b[0m\u001b[0;34m.\u001b[0m\u001b[0m_backend\u001b[0m\u001b[0;34m.\u001b[0m\u001b[0mapply_async\u001b[0m\u001b[0;34m(\u001b[0m\u001b[0mbatch\u001b[0m\u001b[0;34m,\u001b[0m \u001b[0mcallback\u001b[0m\u001b[0;34m=\u001b[0m\u001b[0mcb\u001b[0m\u001b[0;34m)\u001b[0m\u001b[0;34m\u001b[0m\u001b[0m\n\u001b[0m\u001b[1;32m    589\u001b[0m         \u001b[0mself\u001b[0m\u001b[0;34m.\u001b[0m\u001b[0m_jobs\u001b[0m\u001b[0;34m.\u001b[0m\u001b[0mappend\u001b[0m\u001b[0;34m(\u001b[0m\u001b[0mjob\u001b[0m\u001b[0;34m)\u001b[0m\u001b[0;34m\u001b[0m\u001b[0m\n\u001b[1;32m    590\u001b[0m \u001b[0;34m\u001b[0m\u001b[0m\n",
      "\u001b[0;32m~/anaconda3/lib/python3.6/site-packages/sklearn/externals/joblib/_parallel_backends.py\u001b[0m in \u001b[0;36mapply_async\u001b[0;34m(self, func, callback)\u001b[0m\n\u001b[1;32m    109\u001b[0m     \u001b[0;32mdef\u001b[0m \u001b[0mapply_async\u001b[0m\u001b[0;34m(\u001b[0m\u001b[0mself\u001b[0m\u001b[0;34m,\u001b[0m \u001b[0mfunc\u001b[0m\u001b[0;34m,\u001b[0m \u001b[0mcallback\u001b[0m\u001b[0;34m=\u001b[0m\u001b[0;32mNone\u001b[0m\u001b[0;34m)\u001b[0m\u001b[0;34m:\u001b[0m\u001b[0;34m\u001b[0m\u001b[0m\n\u001b[1;32m    110\u001b[0m         \u001b[0;34m\"\"\"Schedule a func to be run\"\"\"\u001b[0m\u001b[0;34m\u001b[0m\u001b[0m\n\u001b[0;32m--> 111\u001b[0;31m         \u001b[0mresult\u001b[0m \u001b[0;34m=\u001b[0m \u001b[0mImmediateResult\u001b[0m\u001b[0;34m(\u001b[0m\u001b[0mfunc\u001b[0m\u001b[0;34m)\u001b[0m\u001b[0;34m\u001b[0m\u001b[0m\n\u001b[0m\u001b[1;32m    112\u001b[0m         \u001b[0;32mif\u001b[0m \u001b[0mcallback\u001b[0m\u001b[0;34m:\u001b[0m\u001b[0;34m\u001b[0m\u001b[0m\n\u001b[1;32m    113\u001b[0m             \u001b[0mcallback\u001b[0m\u001b[0;34m(\u001b[0m\u001b[0mresult\u001b[0m\u001b[0;34m)\u001b[0m\u001b[0;34m\u001b[0m\u001b[0m\n",
      "\u001b[0;32m~/anaconda3/lib/python3.6/site-packages/sklearn/externals/joblib/_parallel_backends.py\u001b[0m in \u001b[0;36m__init__\u001b[0;34m(self, batch)\u001b[0m\n\u001b[1;32m    330\u001b[0m         \u001b[0;31m# Don't delay the application, to avoid keeping the input\u001b[0m\u001b[0;34m\u001b[0m\u001b[0;34m\u001b[0m\u001b[0m\n\u001b[1;32m    331\u001b[0m         \u001b[0;31m# arguments in memory\u001b[0m\u001b[0;34m\u001b[0m\u001b[0;34m\u001b[0m\u001b[0m\n\u001b[0;32m--> 332\u001b[0;31m         \u001b[0mself\u001b[0m\u001b[0;34m.\u001b[0m\u001b[0mresults\u001b[0m \u001b[0;34m=\u001b[0m \u001b[0mbatch\u001b[0m\u001b[0;34m(\u001b[0m\u001b[0;34m)\u001b[0m\u001b[0;34m\u001b[0m\u001b[0m\n\u001b[0m\u001b[1;32m    333\u001b[0m \u001b[0;34m\u001b[0m\u001b[0m\n\u001b[1;32m    334\u001b[0m     \u001b[0;32mdef\u001b[0m \u001b[0mget\u001b[0m\u001b[0;34m(\u001b[0m\u001b[0mself\u001b[0m\u001b[0;34m)\u001b[0m\u001b[0;34m:\u001b[0m\u001b[0;34m\u001b[0m\u001b[0m\n",
      "\u001b[0;32m~/anaconda3/lib/python3.6/site-packages/sklearn/externals/joblib/parallel.py\u001b[0m in \u001b[0;36m__call__\u001b[0;34m(self)\u001b[0m\n\u001b[1;32m    129\u001b[0m \u001b[0;34m\u001b[0m\u001b[0m\n\u001b[1;32m    130\u001b[0m     \u001b[0;32mdef\u001b[0m \u001b[0m__call__\u001b[0m\u001b[0;34m(\u001b[0m\u001b[0mself\u001b[0m\u001b[0;34m)\u001b[0m\u001b[0;34m:\u001b[0m\u001b[0;34m\u001b[0m\u001b[0m\n\u001b[0;32m--> 131\u001b[0;31m         \u001b[0;32mreturn\u001b[0m \u001b[0;34m[\u001b[0m\u001b[0mfunc\u001b[0m\u001b[0;34m(\u001b[0m\u001b[0;34m*\u001b[0m\u001b[0margs\u001b[0m\u001b[0;34m,\u001b[0m \u001b[0;34m**\u001b[0m\u001b[0mkwargs\u001b[0m\u001b[0;34m)\u001b[0m \u001b[0;32mfor\u001b[0m \u001b[0mfunc\u001b[0m\u001b[0;34m,\u001b[0m \u001b[0margs\u001b[0m\u001b[0;34m,\u001b[0m \u001b[0mkwargs\u001b[0m \u001b[0;32min\u001b[0m \u001b[0mself\u001b[0m\u001b[0;34m.\u001b[0m\u001b[0mitems\u001b[0m\u001b[0;34m]\u001b[0m\u001b[0;34m\u001b[0m\u001b[0m\n\u001b[0m\u001b[1;32m    132\u001b[0m \u001b[0;34m\u001b[0m\u001b[0m\n\u001b[1;32m    133\u001b[0m     \u001b[0;32mdef\u001b[0m \u001b[0m__len__\u001b[0m\u001b[0;34m(\u001b[0m\u001b[0mself\u001b[0m\u001b[0;34m)\u001b[0m\u001b[0;34m:\u001b[0m\u001b[0;34m\u001b[0m\u001b[0m\n",
      "\u001b[0;32m~/anaconda3/lib/python3.6/site-packages/sklearn/externals/joblib/parallel.py\u001b[0m in \u001b[0;36m<listcomp>\u001b[0;34m(.0)\u001b[0m\n\u001b[1;32m    129\u001b[0m \u001b[0;34m\u001b[0m\u001b[0m\n\u001b[1;32m    130\u001b[0m     \u001b[0;32mdef\u001b[0m \u001b[0m__call__\u001b[0m\u001b[0;34m(\u001b[0m\u001b[0mself\u001b[0m\u001b[0;34m)\u001b[0m\u001b[0;34m:\u001b[0m\u001b[0;34m\u001b[0m\u001b[0m\n\u001b[0;32m--> 131\u001b[0;31m         \u001b[0;32mreturn\u001b[0m \u001b[0;34m[\u001b[0m\u001b[0mfunc\u001b[0m\u001b[0;34m(\u001b[0m\u001b[0;34m*\u001b[0m\u001b[0margs\u001b[0m\u001b[0;34m,\u001b[0m \u001b[0;34m**\u001b[0m\u001b[0mkwargs\u001b[0m\u001b[0;34m)\u001b[0m \u001b[0;32mfor\u001b[0m \u001b[0mfunc\u001b[0m\u001b[0;34m,\u001b[0m \u001b[0margs\u001b[0m\u001b[0;34m,\u001b[0m \u001b[0mkwargs\u001b[0m \u001b[0;32min\u001b[0m \u001b[0mself\u001b[0m\u001b[0;34m.\u001b[0m\u001b[0mitems\u001b[0m\u001b[0;34m]\u001b[0m\u001b[0;34m\u001b[0m\u001b[0m\n\u001b[0m\u001b[1;32m    132\u001b[0m \u001b[0;34m\u001b[0m\u001b[0m\n\u001b[1;32m    133\u001b[0m     \u001b[0;32mdef\u001b[0m \u001b[0m__len__\u001b[0m\u001b[0;34m(\u001b[0m\u001b[0mself\u001b[0m\u001b[0;34m)\u001b[0m\u001b[0;34m:\u001b[0m\u001b[0;34m\u001b[0m\u001b[0m\n",
      "\u001b[0;32m~/anaconda3/lib/python3.6/site-packages/sklearn/model_selection/_validation.py\u001b[0m in \u001b[0;36m_fit_and_score\u001b[0;34m(estimator, X, y, scorer, train, test, verbose, parameters, fit_params, return_train_score, return_parameters, return_n_test_samples, return_times, error_score)\u001b[0m\n\u001b[1;32m    456\u001b[0m             \u001b[0mestimator\u001b[0m\u001b[0;34m.\u001b[0m\u001b[0mfit\u001b[0m\u001b[0;34m(\u001b[0m\u001b[0mX_train\u001b[0m\u001b[0;34m,\u001b[0m \u001b[0;34m**\u001b[0m\u001b[0mfit_params\u001b[0m\u001b[0;34m)\u001b[0m\u001b[0;34m\u001b[0m\u001b[0m\n\u001b[1;32m    457\u001b[0m         \u001b[0;32melse\u001b[0m\u001b[0;34m:\u001b[0m\u001b[0;34m\u001b[0m\u001b[0m\n\u001b[0;32m--> 458\u001b[0;31m             \u001b[0mestimator\u001b[0m\u001b[0;34m.\u001b[0m\u001b[0mfit\u001b[0m\u001b[0;34m(\u001b[0m\u001b[0mX_train\u001b[0m\u001b[0;34m,\u001b[0m \u001b[0my_train\u001b[0m\u001b[0;34m,\u001b[0m \u001b[0;34m**\u001b[0m\u001b[0mfit_params\u001b[0m\u001b[0;34m)\u001b[0m\u001b[0;34m\u001b[0m\u001b[0m\n\u001b[0m\u001b[1;32m    459\u001b[0m \u001b[0;34m\u001b[0m\u001b[0m\n\u001b[1;32m    460\u001b[0m     \u001b[0;32mexcept\u001b[0m \u001b[0mException\u001b[0m \u001b[0;32mas\u001b[0m \u001b[0me\u001b[0m\u001b[0;34m:\u001b[0m\u001b[0;34m\u001b[0m\u001b[0m\n",
      "\u001b[0;32m~/anaconda3/lib/python3.6/site-packages/sklearn/pipeline.py\u001b[0m in \u001b[0;36mfit\u001b[0;34m(self, X, y, **fit_params)\u001b[0m\n\u001b[1;32m    246\u001b[0m             \u001b[0mThis\u001b[0m \u001b[0mestimator\u001b[0m\u001b[0;34m\u001b[0m\u001b[0m\n\u001b[1;32m    247\u001b[0m         \"\"\"\n\u001b[0;32m--> 248\u001b[0;31m         \u001b[0mXt\u001b[0m\u001b[0;34m,\u001b[0m \u001b[0mfit_params\u001b[0m \u001b[0;34m=\u001b[0m \u001b[0mself\u001b[0m\u001b[0;34m.\u001b[0m\u001b[0m_fit\u001b[0m\u001b[0;34m(\u001b[0m\u001b[0mX\u001b[0m\u001b[0;34m,\u001b[0m \u001b[0my\u001b[0m\u001b[0;34m,\u001b[0m \u001b[0;34m**\u001b[0m\u001b[0mfit_params\u001b[0m\u001b[0;34m)\u001b[0m\u001b[0;34m\u001b[0m\u001b[0m\n\u001b[0m\u001b[1;32m    249\u001b[0m         \u001b[0;32mif\u001b[0m \u001b[0mself\u001b[0m\u001b[0;34m.\u001b[0m\u001b[0m_final_estimator\u001b[0m \u001b[0;32mis\u001b[0m \u001b[0;32mnot\u001b[0m \u001b[0;32mNone\u001b[0m\u001b[0;34m:\u001b[0m\u001b[0;34m\u001b[0m\u001b[0m\n\u001b[1;32m    250\u001b[0m             \u001b[0mself\u001b[0m\u001b[0;34m.\u001b[0m\u001b[0m_final_estimator\u001b[0m\u001b[0;34m.\u001b[0m\u001b[0mfit\u001b[0m\u001b[0;34m(\u001b[0m\u001b[0mXt\u001b[0m\u001b[0;34m,\u001b[0m \u001b[0my\u001b[0m\u001b[0;34m,\u001b[0m \u001b[0;34m**\u001b[0m\u001b[0mfit_params\u001b[0m\u001b[0;34m)\u001b[0m\u001b[0;34m\u001b[0m\u001b[0m\n",
      "\u001b[0;32m~/anaconda3/lib/python3.6/site-packages/sklearn/pipeline.py\u001b[0m in \u001b[0;36m_fit\u001b[0;34m(self, X, y, **fit_params)\u001b[0m\n\u001b[1;32m    211\u001b[0m                 Xt, fitted_transformer = fit_transform_one_cached(\n\u001b[1;32m    212\u001b[0m                     \u001b[0mcloned_transformer\u001b[0m\u001b[0;34m,\u001b[0m \u001b[0;32mNone\u001b[0m\u001b[0;34m,\u001b[0m \u001b[0mXt\u001b[0m\u001b[0;34m,\u001b[0m \u001b[0my\u001b[0m\u001b[0;34m,\u001b[0m\u001b[0;34m\u001b[0m\u001b[0m\n\u001b[0;32m--> 213\u001b[0;31m                     **fit_params_steps[name])\n\u001b[0m\u001b[1;32m    214\u001b[0m                 \u001b[0;31m# Replace the transformer of the step with the fitted\u001b[0m\u001b[0;34m\u001b[0m\u001b[0;34m\u001b[0m\u001b[0m\n\u001b[1;32m    215\u001b[0m                 \u001b[0;31m# transformer. This is necessary when loading the transformer\u001b[0m\u001b[0;34m\u001b[0m\u001b[0;34m\u001b[0m\u001b[0m\n",
      "\u001b[0;32m~/anaconda3/lib/python3.6/site-packages/sklearn/externals/joblib/memory.py\u001b[0m in \u001b[0;36m__call__\u001b[0;34m(self, *args, **kwargs)\u001b[0m\n\u001b[1;32m    360\u001b[0m \u001b[0;34m\u001b[0m\u001b[0m\n\u001b[1;32m    361\u001b[0m     \u001b[0;32mdef\u001b[0m \u001b[0m__call__\u001b[0m\u001b[0;34m(\u001b[0m\u001b[0mself\u001b[0m\u001b[0;34m,\u001b[0m \u001b[0;34m*\u001b[0m\u001b[0margs\u001b[0m\u001b[0;34m,\u001b[0m \u001b[0;34m**\u001b[0m\u001b[0mkwargs\u001b[0m\u001b[0;34m)\u001b[0m\u001b[0;34m:\u001b[0m\u001b[0;34m\u001b[0m\u001b[0m\n\u001b[0;32m--> 362\u001b[0;31m         \u001b[0;32mreturn\u001b[0m \u001b[0mself\u001b[0m\u001b[0;34m.\u001b[0m\u001b[0mfunc\u001b[0m\u001b[0;34m(\u001b[0m\u001b[0;34m*\u001b[0m\u001b[0margs\u001b[0m\u001b[0;34m,\u001b[0m \u001b[0;34m**\u001b[0m\u001b[0mkwargs\u001b[0m\u001b[0;34m)\u001b[0m\u001b[0;34m\u001b[0m\u001b[0m\n\u001b[0m\u001b[1;32m    363\u001b[0m \u001b[0;34m\u001b[0m\u001b[0m\n\u001b[1;32m    364\u001b[0m     \u001b[0;32mdef\u001b[0m \u001b[0mcall_and_shelve\u001b[0m\u001b[0;34m(\u001b[0m\u001b[0mself\u001b[0m\u001b[0;34m,\u001b[0m \u001b[0;34m*\u001b[0m\u001b[0margs\u001b[0m\u001b[0;34m,\u001b[0m \u001b[0;34m**\u001b[0m\u001b[0mkwargs\u001b[0m\u001b[0;34m)\u001b[0m\u001b[0;34m:\u001b[0m\u001b[0;34m\u001b[0m\u001b[0m\n",
      "\u001b[0;32m~/anaconda3/lib/python3.6/site-packages/sklearn/pipeline.py\u001b[0m in \u001b[0;36m_fit_transform_one\u001b[0;34m(transformer, weight, X, y, **fit_params)\u001b[0m\n\u001b[1;32m    579\u001b[0m                        **fit_params):\n\u001b[1;32m    580\u001b[0m     \u001b[0;32mif\u001b[0m \u001b[0mhasattr\u001b[0m\u001b[0;34m(\u001b[0m\u001b[0mtransformer\u001b[0m\u001b[0;34m,\u001b[0m \u001b[0;34m'fit_transform'\u001b[0m\u001b[0;34m)\u001b[0m\u001b[0;34m:\u001b[0m\u001b[0;34m\u001b[0m\u001b[0m\n\u001b[0;32m--> 581\u001b[0;31m         \u001b[0mres\u001b[0m \u001b[0;34m=\u001b[0m \u001b[0mtransformer\u001b[0m\u001b[0;34m.\u001b[0m\u001b[0mfit_transform\u001b[0m\u001b[0;34m(\u001b[0m\u001b[0mX\u001b[0m\u001b[0;34m,\u001b[0m \u001b[0my\u001b[0m\u001b[0;34m,\u001b[0m \u001b[0;34m**\u001b[0m\u001b[0mfit_params\u001b[0m\u001b[0;34m)\u001b[0m\u001b[0;34m\u001b[0m\u001b[0m\n\u001b[0m\u001b[1;32m    582\u001b[0m     \u001b[0;32melse\u001b[0m\u001b[0;34m:\u001b[0m\u001b[0;34m\u001b[0m\u001b[0m\n\u001b[1;32m    583\u001b[0m         \u001b[0mres\u001b[0m \u001b[0;34m=\u001b[0m \u001b[0mtransformer\u001b[0m\u001b[0;34m.\u001b[0m\u001b[0mfit\u001b[0m\u001b[0;34m(\u001b[0m\u001b[0mX\u001b[0m\u001b[0;34m,\u001b[0m \u001b[0my\u001b[0m\u001b[0;34m,\u001b[0m \u001b[0;34m**\u001b[0m\u001b[0mfit_params\u001b[0m\u001b[0;34m)\u001b[0m\u001b[0;34m.\u001b[0m\u001b[0mtransform\u001b[0m\u001b[0;34m(\u001b[0m\u001b[0mX\u001b[0m\u001b[0;34m)\u001b[0m\u001b[0;34m\u001b[0m\u001b[0m\n",
      "\u001b[0;32m~/anaconda3/lib/python3.6/site-packages/sklearn/pipeline.py\u001b[0m in \u001b[0;36mfit_transform\u001b[0;34m(self, X, y, **fit_params)\u001b[0m\n\u001b[1;32m    737\u001b[0m             delayed(_fit_transform_one)(trans, weight, X, y,\n\u001b[1;32m    738\u001b[0m                                         **fit_params)\n\u001b[0;32m--> 739\u001b[0;31m             for name, trans, weight in self._iter())\n\u001b[0m\u001b[1;32m    740\u001b[0m \u001b[0;34m\u001b[0m\u001b[0m\n\u001b[1;32m    741\u001b[0m         \u001b[0;32mif\u001b[0m \u001b[0;32mnot\u001b[0m \u001b[0mresult\u001b[0m\u001b[0;34m:\u001b[0m\u001b[0;34m\u001b[0m\u001b[0m\n",
      "\u001b[0;32m~/anaconda3/lib/python3.6/site-packages/sklearn/externals/joblib/parallel.py\u001b[0m in \u001b[0;36m__call__\u001b[0;34m(self, iterable)\u001b[0m\n\u001b[1;32m    777\u001b[0m             \u001b[0;31m# was dispatched. In particular this covers the edge\u001b[0m\u001b[0;34m\u001b[0m\u001b[0;34m\u001b[0m\u001b[0m\n\u001b[1;32m    778\u001b[0m             \u001b[0;31m# case of Parallel used with an exhausted iterator.\u001b[0m\u001b[0;34m\u001b[0m\u001b[0;34m\u001b[0m\u001b[0m\n\u001b[0;32m--> 779\u001b[0;31m             \u001b[0;32mwhile\u001b[0m \u001b[0mself\u001b[0m\u001b[0;34m.\u001b[0m\u001b[0mdispatch_one_batch\u001b[0m\u001b[0;34m(\u001b[0m\u001b[0miterator\u001b[0m\u001b[0;34m)\u001b[0m\u001b[0;34m:\u001b[0m\u001b[0;34m\u001b[0m\u001b[0m\n\u001b[0m\u001b[1;32m    780\u001b[0m                 \u001b[0mself\u001b[0m\u001b[0;34m.\u001b[0m\u001b[0m_iterating\u001b[0m \u001b[0;34m=\u001b[0m \u001b[0;32mTrue\u001b[0m\u001b[0;34m\u001b[0m\u001b[0m\n\u001b[1;32m    781\u001b[0m             \u001b[0;32melse\u001b[0m\u001b[0;34m:\u001b[0m\u001b[0;34m\u001b[0m\u001b[0m\n",
      "\u001b[0;32m~/anaconda3/lib/python3.6/site-packages/sklearn/externals/joblib/parallel.py\u001b[0m in \u001b[0;36mdispatch_one_batch\u001b[0;34m(self, iterator)\u001b[0m\n\u001b[1;32m    623\u001b[0m                 \u001b[0;32mreturn\u001b[0m \u001b[0;32mFalse\u001b[0m\u001b[0;34m\u001b[0m\u001b[0m\n\u001b[1;32m    624\u001b[0m             \u001b[0;32melse\u001b[0m\u001b[0;34m:\u001b[0m\u001b[0;34m\u001b[0m\u001b[0m\n\u001b[0;32m--> 625\u001b[0;31m                 \u001b[0mself\u001b[0m\u001b[0;34m.\u001b[0m\u001b[0m_dispatch\u001b[0m\u001b[0;34m(\u001b[0m\u001b[0mtasks\u001b[0m\u001b[0;34m)\u001b[0m\u001b[0;34m\u001b[0m\u001b[0m\n\u001b[0m\u001b[1;32m    626\u001b[0m                 \u001b[0;32mreturn\u001b[0m \u001b[0;32mTrue\u001b[0m\u001b[0;34m\u001b[0m\u001b[0m\n\u001b[1;32m    627\u001b[0m \u001b[0;34m\u001b[0m\u001b[0m\n",
      "\u001b[0;32m~/anaconda3/lib/python3.6/site-packages/sklearn/externals/joblib/parallel.py\u001b[0m in \u001b[0;36m_dispatch\u001b[0;34m(self, batch)\u001b[0m\n\u001b[1;32m    586\u001b[0m         \u001b[0mdispatch_timestamp\u001b[0m \u001b[0;34m=\u001b[0m \u001b[0mtime\u001b[0m\u001b[0;34m.\u001b[0m\u001b[0mtime\u001b[0m\u001b[0;34m(\u001b[0m\u001b[0;34m)\u001b[0m\u001b[0;34m\u001b[0m\u001b[0m\n\u001b[1;32m    587\u001b[0m         \u001b[0mcb\u001b[0m \u001b[0;34m=\u001b[0m \u001b[0mBatchCompletionCallBack\u001b[0m\u001b[0;34m(\u001b[0m\u001b[0mdispatch_timestamp\u001b[0m\u001b[0;34m,\u001b[0m \u001b[0mlen\u001b[0m\u001b[0;34m(\u001b[0m\u001b[0mbatch\u001b[0m\u001b[0;34m)\u001b[0m\u001b[0;34m,\u001b[0m \u001b[0mself\u001b[0m\u001b[0;34m)\u001b[0m\u001b[0;34m\u001b[0m\u001b[0m\n\u001b[0;32m--> 588\u001b[0;31m         \u001b[0mjob\u001b[0m \u001b[0;34m=\u001b[0m \u001b[0mself\u001b[0m\u001b[0;34m.\u001b[0m\u001b[0m_backend\u001b[0m\u001b[0;34m.\u001b[0m\u001b[0mapply_async\u001b[0m\u001b[0;34m(\u001b[0m\u001b[0mbatch\u001b[0m\u001b[0;34m,\u001b[0m \u001b[0mcallback\u001b[0m\u001b[0;34m=\u001b[0m\u001b[0mcb\u001b[0m\u001b[0;34m)\u001b[0m\u001b[0;34m\u001b[0m\u001b[0m\n\u001b[0m\u001b[1;32m    589\u001b[0m         \u001b[0mself\u001b[0m\u001b[0;34m.\u001b[0m\u001b[0m_jobs\u001b[0m\u001b[0;34m.\u001b[0m\u001b[0mappend\u001b[0m\u001b[0;34m(\u001b[0m\u001b[0mjob\u001b[0m\u001b[0;34m)\u001b[0m\u001b[0;34m\u001b[0m\u001b[0m\n\u001b[1;32m    590\u001b[0m \u001b[0;34m\u001b[0m\u001b[0m\n",
      "\u001b[0;32m~/anaconda3/lib/python3.6/site-packages/sklearn/externals/joblib/_parallel_backends.py\u001b[0m in \u001b[0;36mapply_async\u001b[0;34m(self, func, callback)\u001b[0m\n\u001b[1;32m    109\u001b[0m     \u001b[0;32mdef\u001b[0m \u001b[0mapply_async\u001b[0m\u001b[0;34m(\u001b[0m\u001b[0mself\u001b[0m\u001b[0;34m,\u001b[0m \u001b[0mfunc\u001b[0m\u001b[0;34m,\u001b[0m \u001b[0mcallback\u001b[0m\u001b[0;34m=\u001b[0m\u001b[0;32mNone\u001b[0m\u001b[0;34m)\u001b[0m\u001b[0;34m:\u001b[0m\u001b[0;34m\u001b[0m\u001b[0m\n\u001b[1;32m    110\u001b[0m         \u001b[0;34m\"\"\"Schedule a func to be run\"\"\"\u001b[0m\u001b[0;34m\u001b[0m\u001b[0m\n\u001b[0;32m--> 111\u001b[0;31m         \u001b[0mresult\u001b[0m \u001b[0;34m=\u001b[0m \u001b[0mImmediateResult\u001b[0m\u001b[0;34m(\u001b[0m\u001b[0mfunc\u001b[0m\u001b[0;34m)\u001b[0m\u001b[0;34m\u001b[0m\u001b[0m\n\u001b[0m\u001b[1;32m    112\u001b[0m         \u001b[0;32mif\u001b[0m \u001b[0mcallback\u001b[0m\u001b[0;34m:\u001b[0m\u001b[0;34m\u001b[0m\u001b[0m\n\u001b[1;32m    113\u001b[0m             \u001b[0mcallback\u001b[0m\u001b[0;34m(\u001b[0m\u001b[0mresult\u001b[0m\u001b[0;34m)\u001b[0m\u001b[0;34m\u001b[0m\u001b[0m\n",
      "\u001b[0;32m~/anaconda3/lib/python3.6/site-packages/sklearn/externals/joblib/_parallel_backends.py\u001b[0m in \u001b[0;36m__init__\u001b[0;34m(self, batch)\u001b[0m\n\u001b[1;32m    330\u001b[0m         \u001b[0;31m# Don't delay the application, to avoid keeping the input\u001b[0m\u001b[0;34m\u001b[0m\u001b[0;34m\u001b[0m\u001b[0m\n\u001b[1;32m    331\u001b[0m         \u001b[0;31m# arguments in memory\u001b[0m\u001b[0;34m\u001b[0m\u001b[0;34m\u001b[0m\u001b[0m\n\u001b[0;32m--> 332\u001b[0;31m         \u001b[0mself\u001b[0m\u001b[0;34m.\u001b[0m\u001b[0mresults\u001b[0m \u001b[0;34m=\u001b[0m \u001b[0mbatch\u001b[0m\u001b[0;34m(\u001b[0m\u001b[0;34m)\u001b[0m\u001b[0;34m\u001b[0m\u001b[0m\n\u001b[0m\u001b[1;32m    333\u001b[0m \u001b[0;34m\u001b[0m\u001b[0m\n\u001b[1;32m    334\u001b[0m     \u001b[0;32mdef\u001b[0m \u001b[0mget\u001b[0m\u001b[0;34m(\u001b[0m\u001b[0mself\u001b[0m\u001b[0;34m)\u001b[0m\u001b[0;34m:\u001b[0m\u001b[0;34m\u001b[0m\u001b[0m\n",
      "\u001b[0;32m~/anaconda3/lib/python3.6/site-packages/sklearn/externals/joblib/parallel.py\u001b[0m in \u001b[0;36m__call__\u001b[0;34m(self)\u001b[0m\n\u001b[1;32m    129\u001b[0m \u001b[0;34m\u001b[0m\u001b[0m\n\u001b[1;32m    130\u001b[0m     \u001b[0;32mdef\u001b[0m \u001b[0m__call__\u001b[0m\u001b[0;34m(\u001b[0m\u001b[0mself\u001b[0m\u001b[0;34m)\u001b[0m\u001b[0;34m:\u001b[0m\u001b[0;34m\u001b[0m\u001b[0m\n\u001b[0;32m--> 131\u001b[0;31m         \u001b[0;32mreturn\u001b[0m \u001b[0;34m[\u001b[0m\u001b[0mfunc\u001b[0m\u001b[0;34m(\u001b[0m\u001b[0;34m*\u001b[0m\u001b[0margs\u001b[0m\u001b[0;34m,\u001b[0m \u001b[0;34m**\u001b[0m\u001b[0mkwargs\u001b[0m\u001b[0;34m)\u001b[0m \u001b[0;32mfor\u001b[0m \u001b[0mfunc\u001b[0m\u001b[0;34m,\u001b[0m \u001b[0margs\u001b[0m\u001b[0;34m,\u001b[0m \u001b[0mkwargs\u001b[0m \u001b[0;32min\u001b[0m \u001b[0mself\u001b[0m\u001b[0;34m.\u001b[0m\u001b[0mitems\u001b[0m\u001b[0;34m]\u001b[0m\u001b[0;34m\u001b[0m\u001b[0m\n\u001b[0m\u001b[1;32m    132\u001b[0m \u001b[0;34m\u001b[0m\u001b[0m\n\u001b[1;32m    133\u001b[0m     \u001b[0;32mdef\u001b[0m \u001b[0m__len__\u001b[0m\u001b[0;34m(\u001b[0m\u001b[0mself\u001b[0m\u001b[0;34m)\u001b[0m\u001b[0;34m:\u001b[0m\u001b[0;34m\u001b[0m\u001b[0m\n",
      "\u001b[0;32m~/anaconda3/lib/python3.6/site-packages/sklearn/externals/joblib/parallel.py\u001b[0m in \u001b[0;36m<listcomp>\u001b[0;34m(.0)\u001b[0m\n\u001b[1;32m    129\u001b[0m \u001b[0;34m\u001b[0m\u001b[0m\n\u001b[1;32m    130\u001b[0m     \u001b[0;32mdef\u001b[0m \u001b[0m__call__\u001b[0m\u001b[0;34m(\u001b[0m\u001b[0mself\u001b[0m\u001b[0;34m)\u001b[0m\u001b[0;34m:\u001b[0m\u001b[0;34m\u001b[0m\u001b[0m\n\u001b[0;32m--> 131\u001b[0;31m         \u001b[0;32mreturn\u001b[0m \u001b[0;34m[\u001b[0m\u001b[0mfunc\u001b[0m\u001b[0;34m(\u001b[0m\u001b[0;34m*\u001b[0m\u001b[0margs\u001b[0m\u001b[0;34m,\u001b[0m \u001b[0;34m**\u001b[0m\u001b[0mkwargs\u001b[0m\u001b[0;34m)\u001b[0m \u001b[0;32mfor\u001b[0m \u001b[0mfunc\u001b[0m\u001b[0;34m,\u001b[0m \u001b[0margs\u001b[0m\u001b[0;34m,\u001b[0m \u001b[0mkwargs\u001b[0m \u001b[0;32min\u001b[0m \u001b[0mself\u001b[0m\u001b[0;34m.\u001b[0m\u001b[0mitems\u001b[0m\u001b[0;34m]\u001b[0m\u001b[0;34m\u001b[0m\u001b[0m\n\u001b[0m\u001b[1;32m    132\u001b[0m \u001b[0;34m\u001b[0m\u001b[0m\n\u001b[1;32m    133\u001b[0m     \u001b[0;32mdef\u001b[0m \u001b[0m__len__\u001b[0m\u001b[0;34m(\u001b[0m\u001b[0mself\u001b[0m\u001b[0;34m)\u001b[0m\u001b[0;34m:\u001b[0m\u001b[0;34m\u001b[0m\u001b[0m\n",
      "\u001b[0;32m~/anaconda3/lib/python3.6/site-packages/sklearn/pipeline.py\u001b[0m in \u001b[0;36m_fit_transform_one\u001b[0;34m(transformer, weight, X, y, **fit_params)\u001b[0m\n\u001b[1;32m    579\u001b[0m                        **fit_params):\n\u001b[1;32m    580\u001b[0m     \u001b[0;32mif\u001b[0m \u001b[0mhasattr\u001b[0m\u001b[0;34m(\u001b[0m\u001b[0mtransformer\u001b[0m\u001b[0;34m,\u001b[0m \u001b[0;34m'fit_transform'\u001b[0m\u001b[0;34m)\u001b[0m\u001b[0;34m:\u001b[0m\u001b[0;34m\u001b[0m\u001b[0m\n\u001b[0;32m--> 581\u001b[0;31m         \u001b[0mres\u001b[0m \u001b[0;34m=\u001b[0m \u001b[0mtransformer\u001b[0m\u001b[0;34m.\u001b[0m\u001b[0mfit_transform\u001b[0m\u001b[0;34m(\u001b[0m\u001b[0mX\u001b[0m\u001b[0;34m,\u001b[0m \u001b[0my\u001b[0m\u001b[0;34m,\u001b[0m \u001b[0;34m**\u001b[0m\u001b[0mfit_params\u001b[0m\u001b[0;34m)\u001b[0m\u001b[0;34m\u001b[0m\u001b[0m\n\u001b[0m\u001b[1;32m    582\u001b[0m     \u001b[0;32melse\u001b[0m\u001b[0;34m:\u001b[0m\u001b[0;34m\u001b[0m\u001b[0m\n\u001b[1;32m    583\u001b[0m         \u001b[0mres\u001b[0m \u001b[0;34m=\u001b[0m \u001b[0mtransformer\u001b[0m\u001b[0;34m.\u001b[0m\u001b[0mfit\u001b[0m\u001b[0;34m(\u001b[0m\u001b[0mX\u001b[0m\u001b[0;34m,\u001b[0m \u001b[0my\u001b[0m\u001b[0;34m,\u001b[0m \u001b[0;34m**\u001b[0m\u001b[0mfit_params\u001b[0m\u001b[0;34m)\u001b[0m\u001b[0;34m.\u001b[0m\u001b[0mtransform\u001b[0m\u001b[0;34m(\u001b[0m\u001b[0mX\u001b[0m\u001b[0;34m)\u001b[0m\u001b[0;34m\u001b[0m\u001b[0m\n",
      "\u001b[0;32m~/anaconda3/lib/python3.6/site-packages/sklearn/pipeline.py\u001b[0m in \u001b[0;36mfit_transform\u001b[0;34m(self, X, y, **fit_params)\u001b[0m\n\u001b[1;32m    281\u001b[0m         \u001b[0mXt\u001b[0m\u001b[0;34m,\u001b[0m \u001b[0mfit_params\u001b[0m \u001b[0;34m=\u001b[0m \u001b[0mself\u001b[0m\u001b[0;34m.\u001b[0m\u001b[0m_fit\u001b[0m\u001b[0;34m(\u001b[0m\u001b[0mX\u001b[0m\u001b[0;34m,\u001b[0m \u001b[0my\u001b[0m\u001b[0;34m,\u001b[0m \u001b[0;34m**\u001b[0m\u001b[0mfit_params\u001b[0m\u001b[0;34m)\u001b[0m\u001b[0;34m\u001b[0m\u001b[0m\n\u001b[1;32m    282\u001b[0m         \u001b[0;32mif\u001b[0m \u001b[0mhasattr\u001b[0m\u001b[0;34m(\u001b[0m\u001b[0mlast_step\u001b[0m\u001b[0;34m,\u001b[0m \u001b[0;34m'fit_transform'\u001b[0m\u001b[0;34m)\u001b[0m\u001b[0;34m:\u001b[0m\u001b[0;34m\u001b[0m\u001b[0m\n\u001b[0;32m--> 283\u001b[0;31m             \u001b[0;32mreturn\u001b[0m \u001b[0mlast_step\u001b[0m\u001b[0;34m.\u001b[0m\u001b[0mfit_transform\u001b[0m\u001b[0;34m(\u001b[0m\u001b[0mXt\u001b[0m\u001b[0;34m,\u001b[0m \u001b[0my\u001b[0m\u001b[0;34m,\u001b[0m \u001b[0;34m**\u001b[0m\u001b[0mfit_params\u001b[0m\u001b[0;34m)\u001b[0m\u001b[0;34m\u001b[0m\u001b[0m\n\u001b[0m\u001b[1;32m    284\u001b[0m         \u001b[0;32melif\u001b[0m \u001b[0mlast_step\u001b[0m \u001b[0;32mis\u001b[0m \u001b[0;32mNone\u001b[0m\u001b[0;34m:\u001b[0m\u001b[0;34m\u001b[0m\u001b[0m\n\u001b[1;32m    285\u001b[0m             \u001b[0;32mreturn\u001b[0m \u001b[0mXt\u001b[0m\u001b[0;34m\u001b[0m\u001b[0m\n",
      "\u001b[0;32m~/anaconda3/lib/python3.6/site-packages/sklearn/feature_extraction/text.py\u001b[0m in \u001b[0;36mfit_transform\u001b[0;34m(self, raw_documents, y)\u001b[0m\n\u001b[1;32m    867\u001b[0m \u001b[0;34m\u001b[0m\u001b[0m\n\u001b[1;32m    868\u001b[0m         vocabulary, X = self._count_vocab(raw_documents,\n\u001b[0;32m--> 869\u001b[0;31m                                           self.fixed_vocabulary_)\n\u001b[0m\u001b[1;32m    870\u001b[0m \u001b[0;34m\u001b[0m\u001b[0m\n\u001b[1;32m    871\u001b[0m         \u001b[0;32mif\u001b[0m \u001b[0mself\u001b[0m\u001b[0;34m.\u001b[0m\u001b[0mbinary\u001b[0m\u001b[0;34m:\u001b[0m\u001b[0;34m\u001b[0m\u001b[0m\n",
      "\u001b[0;32m~/anaconda3/lib/python3.6/site-packages/sklearn/feature_extraction/text.py\u001b[0m in \u001b[0;36m_count_vocab\u001b[0;34m(self, raw_documents, fixed_vocab)\u001b[0m\n\u001b[1;32m    792\u001b[0m             \u001b[0;32mfor\u001b[0m \u001b[0mfeature\u001b[0m \u001b[0;32min\u001b[0m \u001b[0manalyze\u001b[0m\u001b[0;34m(\u001b[0m\u001b[0mdoc\u001b[0m\u001b[0;34m)\u001b[0m\u001b[0;34m:\u001b[0m\u001b[0;34m\u001b[0m\u001b[0m\n\u001b[1;32m    793\u001b[0m                 \u001b[0;32mtry\u001b[0m\u001b[0;34m:\u001b[0m\u001b[0;34m\u001b[0m\u001b[0m\n\u001b[0;32m--> 794\u001b[0;31m                     \u001b[0mfeature_idx\u001b[0m \u001b[0;34m=\u001b[0m \u001b[0mvocabulary\u001b[0m\u001b[0;34m[\u001b[0m\u001b[0mfeature\u001b[0m\u001b[0;34m]\u001b[0m\u001b[0;34m\u001b[0m\u001b[0m\n\u001b[0m\u001b[1;32m    795\u001b[0m                     \u001b[0;32mif\u001b[0m \u001b[0mfeature_idx\u001b[0m \u001b[0;32mnot\u001b[0m \u001b[0;32min\u001b[0m \u001b[0mfeature_counter\u001b[0m\u001b[0;34m:\u001b[0m\u001b[0;34m\u001b[0m\u001b[0m\n\u001b[1;32m    796\u001b[0m                         \u001b[0mfeature_counter\u001b[0m\u001b[0;34m[\u001b[0m\u001b[0mfeature_idx\u001b[0m\u001b[0;34m]\u001b[0m \u001b[0;34m=\u001b[0m \u001b[0;36m1\u001b[0m\u001b[0;34m\u001b[0m\u001b[0m\n",
      "\u001b[0;31mKeyboardInterrupt\u001b[0m: "
     ],
     "output_type": "error"
    }
   ],
   "source": [
    "# grid search\n",
    "import numpy as np\n",
    "from sklearn.model_selection import GridSearchCV\n",
    "from sklearn.model_selection import learning_curve\n",
    "\n",
    "\n",
    "import warnings\n",
    "\n",
    "with warnings.catch_warnings():\n",
    "    warnings.simplefilter(\"ignore\")\n",
    "    # TODO check how they evaluate and decide on metric\n",
    "    model = GridSearchCV(pipeline, cv=10,  param_grid=params, scoring='f1_weighted', verbose=10)\n",
    "    #model.fit(features_train, labels_train)\n",
    "    model.fit(features_train, labels_train)"
   ]
  },
  {
   "cell_type": "code",
   "execution_count": 43,
   "metadata": {
    "collapsed": true
   },
   "outputs": [
    {
     "ename": "NameError",
     "evalue": "name 'model' is not defined",
     "traceback": [
      "\u001b[0;31m---------------------------------------------------------------------------\u001b[0m",
      "\u001b[0;31mNameError\u001b[0m                                 Traceback (most recent call last)",
      "\u001b[0;32m<ipython-input-43-a4fd83b3147c>\u001b[0m in \u001b[0;36m<module>\u001b[0;34m()\u001b[0m\n\u001b[1;32m      1\u001b[0m \u001b[0;31m# fir the CV and get basic results\u001b[0m\u001b[0;34m\u001b[0m\u001b[0;34m\u001b[0m\u001b[0m\n\u001b[0;32m----> 2\u001b[0;31m \u001b[0mprint\u001b[0m\u001b[0;34m(\u001b[0m\u001b[0mmodel\u001b[0m\u001b[0;34m.\u001b[0m\u001b[0mbest_params_\u001b[0m\u001b[0;34m)\u001b[0m\u001b[0;34m\u001b[0m\u001b[0m\n\u001b[0m",
      "\u001b[0;31mNameError\u001b[0m: name 'model' is not defined"
     ],
     "output_type": "error"
    }
   ],
   "source": [
    "# fir the CV and get basic results\n",
    "print(model.best_params_)\n"
   ]
  },
  {
   "cell_type": "code",
   "execution_count": 34,
   "metadata": {
    "collapsed": true
   },
   "outputs": [
    {
     "name": "stdout",
     "output_type": "stream",
     "text": [
      "0.9970 (+/-0.0011) for {'xgb__colsample_bytree': 0.6, 'xgb__learning_rate': 0.01, 'xgb__max_depth': 8, 'xgb__min_child_weight': 1, 'xgb__n_estimators': 1250, 'xgb__subsample': 0.9}\n"
     ]
    }
   ],
   "source": [
    "# detailed results\n",
    "means = model.cv_results_['mean_test_score']\n",
    "stds = model.cv_results_['std_test_score']\n",
    "\n",
    "for mean, std, params in zip(means, stds, model.cv_results_['params']):\n",
    "    print(\"%0.4f (+/-%0.04f) for %r\" % (mean, std * 2, params))\n"
   ]
  },
  {
   "cell_type": "code",
   "execution_count": 35,
   "metadata": {
    "collapsed": true
   },
   "outputs": [
    {
     "name": "stdout",
     "output_type": "stream",
     "text": [
      "             precision    recall  f1-score   support\n\n          0     0.9993    0.9970    0.9982      4393\n          1     0.9920    1.0000    0.9960      2347\n          2     0.9983    1.0000    0.9991      2311\n          3     1.0000    0.9955    0.9978      2921\n          4     1.0000    1.0000    1.0000      2002\n\navg / total     0.9982    0.9981    0.9981     13974\n\n"
     ]
    },
    {
     "name": "stderr",
     "output_type": "stream",
     "text": [
      "/home/dkovac/anaconda3/lib/python3.6/site-packages/sklearn/preprocessing/label.py:151: DeprecationWarning: The truth value of an empty array is ambiguous. Returning False, but in future this will result in an error. Use `array.size > 0` to check that an array is not empty.\n  if diff:\n"
     ]
    }
   ],
   "source": [
    "# test best model on test set and get classification report\n",
    "from sklearn.metrics import classification_report\n",
    "\n",
    "y_true, y_pred = labels_test, model.predict(features_test)\n",
    "print(classification_report(y_true, y_pred, digits=4))\n"
   ]
  },
  {
   "cell_type": "code",
   "execution_count": 19,
   "metadata": {
    "collapsed": true
   },
   "outputs": [
    {
     "ename": "KeyboardInterrupt",
     "evalue": "",
     "traceback": [
      "\u001b[0;31m---------------------------------------------------------------------------\u001b[0m",
      "\u001b[0;31mKeyboardInterrupt\u001b[0m                         Traceback (most recent call last)",
      "\u001b[0;32m<ipython-input-19-9f45ac5f9d67>\u001b[0m in \u001b[0;36m<module>\u001b[0;34m()\u001b[0m\n\u001b[1;32m     28\u001b[0m         \u001b[0mlabels\u001b[0m \u001b[0;34m=\u001b[0m \u001b[0mdf_80\u001b[0m\u001b[0;34m[\u001b[0m\u001b[0;34m[\u001b[0m\u001b[0;34m'group'\u001b[0m\u001b[0;34m]\u001b[0m\u001b[0;34m]\u001b[0m\u001b[0;34m\u001b[0m\u001b[0m\n\u001b[1;32m     29\u001b[0m \u001b[0;34m\u001b[0m\u001b[0m\n\u001b[0;32m---> 30\u001b[0;31m         \u001b[0mpipeline\u001b[0m\u001b[0;34m.\u001b[0m\u001b[0mfit\u001b[0m\u001b[0;34m(\u001b[0m\u001b[0mfeatures\u001b[0m\u001b[0;34m,\u001b[0m \u001b[0mlabels\u001b[0m\u001b[0;34m)\u001b[0m\u001b[0;34m\u001b[0m\u001b[0m\n\u001b[0m\u001b[1;32m     31\u001b[0m         \u001b[0my_true\u001b[0m\u001b[0;34m,\u001b[0m \u001b[0my_pred\u001b[0m \u001b[0;34m=\u001b[0m \u001b[0mdf_20\u001b[0m\u001b[0;34m[\u001b[0m\u001b[0;34m[\u001b[0m\u001b[0;34m'group'\u001b[0m\u001b[0;34m]\u001b[0m\u001b[0;34m]\u001b[0m\u001b[0;34m,\u001b[0m \u001b[0mpipeline\u001b[0m\u001b[0;34m.\u001b[0m\u001b[0mpredict\u001b[0m\u001b[0;34m(\u001b[0m\u001b[0mdf_20\u001b[0m\u001b[0;34m)\u001b[0m\u001b[0;34m\u001b[0m\u001b[0m\n\u001b[1;32m     32\u001b[0m         \u001b[0mprint\u001b[0m\u001b[0;34m(\u001b[0m\u001b[0mclassification_report\u001b[0m\u001b[0;34m(\u001b[0m\u001b[0my_true\u001b[0m\u001b[0;34m,\u001b[0m \u001b[0my_pred\u001b[0m\u001b[0;34m,\u001b[0m \u001b[0mdigits\u001b[0m\u001b[0;34m=\u001b[0m\u001b[0;36m4\u001b[0m\u001b[0;34m)\u001b[0m\u001b[0;34m)\u001b[0m\u001b[0;34m\u001b[0m\u001b[0m\n",
      "\u001b[0;32m~/anaconda3/lib/python3.6/site-packages/sklearn/pipeline.py\u001b[0m in \u001b[0;36mfit\u001b[0;34m(self, X, y, **fit_params)\u001b[0m\n\u001b[1;32m    248\u001b[0m         \u001b[0mXt\u001b[0m\u001b[0;34m,\u001b[0m \u001b[0mfit_params\u001b[0m \u001b[0;34m=\u001b[0m \u001b[0mself\u001b[0m\u001b[0;34m.\u001b[0m\u001b[0m_fit\u001b[0m\u001b[0;34m(\u001b[0m\u001b[0mX\u001b[0m\u001b[0;34m,\u001b[0m \u001b[0my\u001b[0m\u001b[0;34m,\u001b[0m \u001b[0;34m**\u001b[0m\u001b[0mfit_params\u001b[0m\u001b[0;34m)\u001b[0m\u001b[0;34m\u001b[0m\u001b[0m\n\u001b[1;32m    249\u001b[0m         \u001b[0;32mif\u001b[0m \u001b[0mself\u001b[0m\u001b[0;34m.\u001b[0m\u001b[0m_final_estimator\u001b[0m \u001b[0;32mis\u001b[0m \u001b[0;32mnot\u001b[0m \u001b[0;32mNone\u001b[0m\u001b[0;34m:\u001b[0m\u001b[0;34m\u001b[0m\u001b[0m\n\u001b[0;32m--> 250\u001b[0;31m             \u001b[0mself\u001b[0m\u001b[0;34m.\u001b[0m\u001b[0m_final_estimator\u001b[0m\u001b[0;34m.\u001b[0m\u001b[0mfit\u001b[0m\u001b[0;34m(\u001b[0m\u001b[0mXt\u001b[0m\u001b[0;34m,\u001b[0m \u001b[0my\u001b[0m\u001b[0;34m,\u001b[0m \u001b[0;34m**\u001b[0m\u001b[0mfit_params\u001b[0m\u001b[0;34m)\u001b[0m\u001b[0;34m\u001b[0m\u001b[0m\n\u001b[0m\u001b[1;32m    251\u001b[0m         \u001b[0;32mreturn\u001b[0m \u001b[0mself\u001b[0m\u001b[0;34m\u001b[0m\u001b[0m\n\u001b[1;32m    252\u001b[0m \u001b[0;34m\u001b[0m\u001b[0m\n",
      "\u001b[0;32m~/anaconda3/lib/python3.6/site-packages/xgboost/sklearn.py\u001b[0m in \u001b[0;36mfit\u001b[0;34m(self, X, y, sample_weight, eval_set, eval_metric, early_stopping_rounds, verbose, xgb_model)\u001b[0m\n\u001b[1;32m    504\u001b[0m                               \u001b[0mearly_stopping_rounds\u001b[0m\u001b[0;34m=\u001b[0m\u001b[0mearly_stopping_rounds\u001b[0m\u001b[0;34m,\u001b[0m\u001b[0;34m\u001b[0m\u001b[0m\n\u001b[1;32m    505\u001b[0m                               \u001b[0mevals_result\u001b[0m\u001b[0;34m=\u001b[0m\u001b[0mevals_result\u001b[0m\u001b[0;34m,\u001b[0m \u001b[0mobj\u001b[0m\u001b[0;34m=\u001b[0m\u001b[0mobj\u001b[0m\u001b[0;34m,\u001b[0m \u001b[0mfeval\u001b[0m\u001b[0;34m=\u001b[0m\u001b[0mfeval\u001b[0m\u001b[0;34m,\u001b[0m\u001b[0;34m\u001b[0m\u001b[0m\n\u001b[0;32m--> 506\u001b[0;31m                               verbose_eval=verbose, xgb_model=None)\n\u001b[0m\u001b[1;32m    507\u001b[0m \u001b[0;34m\u001b[0m\u001b[0m\n\u001b[1;32m    508\u001b[0m         \u001b[0mself\u001b[0m\u001b[0;34m.\u001b[0m\u001b[0mobjective\u001b[0m \u001b[0;34m=\u001b[0m \u001b[0mxgb_options\u001b[0m\u001b[0;34m[\u001b[0m\u001b[0;34m\"objective\"\u001b[0m\u001b[0;34m]\u001b[0m\u001b[0;34m\u001b[0m\u001b[0m\n",
      "\u001b[0;32m~/anaconda3/lib/python3.6/site-packages/xgboost/training.py\u001b[0m in \u001b[0;36mtrain\u001b[0;34m(params, dtrain, num_boost_round, evals, obj, feval, maximize, early_stopping_rounds, evals_result, verbose_eval, xgb_model, callbacks, learning_rates)\u001b[0m\n\u001b[1;32m    202\u001b[0m                            \u001b[0mevals\u001b[0m\u001b[0;34m=\u001b[0m\u001b[0mevals\u001b[0m\u001b[0;34m,\u001b[0m\u001b[0;34m\u001b[0m\u001b[0m\n\u001b[1;32m    203\u001b[0m                            \u001b[0mobj\u001b[0m\u001b[0;34m=\u001b[0m\u001b[0mobj\u001b[0m\u001b[0;34m,\u001b[0m \u001b[0mfeval\u001b[0m\u001b[0;34m=\u001b[0m\u001b[0mfeval\u001b[0m\u001b[0;34m,\u001b[0m\u001b[0;34m\u001b[0m\u001b[0m\n\u001b[0;32m--> 204\u001b[0;31m                            xgb_model=xgb_model, callbacks=callbacks)\n\u001b[0m\u001b[1;32m    205\u001b[0m \u001b[0;34m\u001b[0m\u001b[0m\n\u001b[1;32m    206\u001b[0m \u001b[0;34m\u001b[0m\u001b[0m\n",
      "\u001b[0;32m~/anaconda3/lib/python3.6/site-packages/xgboost/training.py\u001b[0m in \u001b[0;36m_train_internal\u001b[0;34m(params, dtrain, num_boost_round, evals, obj, feval, xgb_model, callbacks)\u001b[0m\n\u001b[1;32m     72\u001b[0m         \u001b[0;31m# Skip the first update if it is a recovery step.\u001b[0m\u001b[0;34m\u001b[0m\u001b[0;34m\u001b[0m\u001b[0m\n\u001b[1;32m     73\u001b[0m         \u001b[0;32mif\u001b[0m \u001b[0mversion\u001b[0m \u001b[0;34m%\u001b[0m \u001b[0;36m2\u001b[0m \u001b[0;34m==\u001b[0m \u001b[0;36m0\u001b[0m\u001b[0;34m:\u001b[0m\u001b[0;34m\u001b[0m\u001b[0m\n\u001b[0;32m---> 74\u001b[0;31m             \u001b[0mbst\u001b[0m\u001b[0;34m.\u001b[0m\u001b[0mupdate\u001b[0m\u001b[0;34m(\u001b[0m\u001b[0mdtrain\u001b[0m\u001b[0;34m,\u001b[0m \u001b[0mi\u001b[0m\u001b[0;34m,\u001b[0m \u001b[0mobj\u001b[0m\u001b[0;34m)\u001b[0m\u001b[0;34m\u001b[0m\u001b[0m\n\u001b[0m\u001b[1;32m     75\u001b[0m             \u001b[0mbst\u001b[0m\u001b[0;34m.\u001b[0m\u001b[0msave_rabit_checkpoint\u001b[0m\u001b[0;34m(\u001b[0m\u001b[0;34m)\u001b[0m\u001b[0;34m\u001b[0m\u001b[0m\n\u001b[1;32m     76\u001b[0m             \u001b[0mversion\u001b[0m \u001b[0;34m+=\u001b[0m \u001b[0;36m1\u001b[0m\u001b[0;34m\u001b[0m\u001b[0m\n",
      "\u001b[0;32m~/anaconda3/lib/python3.6/site-packages/xgboost/core.py\u001b[0m in \u001b[0;36mupdate\u001b[0;34m(self, dtrain, iteration, fobj)\u001b[0m\n\u001b[1;32m    893\u001b[0m         \u001b[0;32mif\u001b[0m \u001b[0mfobj\u001b[0m \u001b[0;32mis\u001b[0m \u001b[0;32mNone\u001b[0m\u001b[0;34m:\u001b[0m\u001b[0;34m\u001b[0m\u001b[0m\n\u001b[1;32m    894\u001b[0m             _check_call(_LIB.XGBoosterUpdateOneIter(self.handle, ctypes.c_int(iteration),\n\u001b[0;32m--> 895\u001b[0;31m                                                     dtrain.handle))\n\u001b[0m\u001b[1;32m    896\u001b[0m         \u001b[0;32melse\u001b[0m\u001b[0;34m:\u001b[0m\u001b[0;34m\u001b[0m\u001b[0m\n\u001b[1;32m    897\u001b[0m             \u001b[0mpred\u001b[0m \u001b[0;34m=\u001b[0m \u001b[0mself\u001b[0m\u001b[0;34m.\u001b[0m\u001b[0mpredict\u001b[0m\u001b[0;34m(\u001b[0m\u001b[0mdtrain\u001b[0m\u001b[0;34m)\u001b[0m\u001b[0;34m\u001b[0m\u001b[0m\n",
      "\u001b[0;31mKeyboardInterrupt\u001b[0m: "
     ],
     "output_type": "error"
    }
   ],
   "source": [
    "# test oversampling\n",
    "import random \n",
    "from sklearn.utils import shuffle\n",
    "from sklearn.metrics import classification_report\n",
    "\n",
    "\n",
    "import warnings\n",
    "\n",
    "with warnings.catch_warnings():\n",
    "    warnings.simplefilter(\"ignore\")\n",
    "    for i in range(20):\n",
    "        df['section_names'] = df['section_names'].str.lower()\n",
    "        df['apis'] = df['apis'].str.lower()\n",
    "        df['imports'] = df['imports'].str.lower()\n",
    "        df = shuffle(df)\n",
    "        df_20 = df[0:8756]\n",
    "        df_80 = df[8757:43783]\n",
    "        \n",
    "        features = df_80.drop(['Unnamed: 0', 'group', 'label'], axis=1)\n",
    "        labels = df_80[['label']]\n",
    "        \n",
    "        pipeline.fit(features, labels)\n",
    "        y_true, y_pred = df_20[['label']], pipeline.predict(df_20)\n",
    "        print(classification_report(y_true, y_pred, digits=4))\n"
   ]
  },
  {
   "cell_type": "code",
   "execution_count": 70,
   "metadata": {
    "collapsed": true
   },
   "outputs": [
    {
     "data": {
      "image/png": "[encoded data removed]",
      "text/plain": [
       "<matplotlib.figure.Figure at 0x7f3e9b6220b8>"
      ]
     },
     "metadata": {},
     "output_type": "display_data"
    }
   ],
   "source": [
    "import matplotlib.pyplot as plt\n",
    "from sklearn.model_selection import learning_curve\n",
    "import numpy as np\n",
    "import warnings\n",
    "\n",
    "with warnings.catch_warnings():\n",
    "    warnings.simplefilter(\"ignore\")\n",
    "    plt.figure()\n",
    "    plt.title('LC')\n",
    "    \n",
    "    plt.xlabel(\"Training examples\")\n",
    "    plt.ylabel(\"Score\")\n",
    "    train_sizes, train_scores, test_scores = learning_curve(\n",
    "        pipeline, features, labels, cv=5, n_jobs=4, train_sizes=np.linspace(.1, 1.0, 4))\n",
    "    train_scores_mean = np.mean(train_scores, axis=1)\n",
    "    train_scores_std = np.std(train_scores, axis=1)\n",
    "    test_scores_mean = np.mean(test_scores, axis=1)\n",
    "    test_scores_std = np.std(test_scores, axis=1)\n",
    "    plt.grid()\n",
    "    \n",
    "    plt.fill_between(train_sizes, train_scores_mean - train_scores_std,\n",
    "                     train_scores_mean + train_scores_std, alpha=0.1,\n",
    "                     color=\"r\")\n",
    "    plt.fill_between(train_sizes, test_scores_mean - test_scores_std,\n",
    "                     test_scores_mean + test_scores_std, alpha=0.1, color=\"g\")\n",
    "    plt.plot(train_sizes, train_scores_mean, 'o-', color=\"r\",\n",
    "             label=\"Training score\")\n",
    "    plt.plot(train_sizes, test_scores_mean, 'o-', color=\"g\",\n",
    "             label=\"Cross-validation score\")\n",
    "\n",
    "    plt.legend(loc=\"best\")\n",
    "    plt.show()\n"
   ]
  },
  {
   "cell_type": "code",
   "execution_count": 75,
   "metadata": {
    "collapsed": true
   },
   "outputs": [
    {
     "name": "stderr",
     "output_type": "stream",
     "text": [
      "/home/dkovac/anaconda3/lib/python3.6/site-packages/sklearn/preprocessing/label.py:95: DataConversionWarning: A column-vector y was passed when a 1d array was expected. Please change the shape of y to (n_samples, ), for example using ravel().\n  y = column_or_1d(y, warn=True)\n/home/dkovac/anaconda3/lib/python3.6/site-packages/sklearn/preprocessing/label.py:128: DataConversionWarning: A column-vector y was passed when a 1d array was expected. Please change the shape of y to (n_samples, ), for example using ravel().\n  y = column_or_1d(y, warn=True)\n"
     ]
    },
    {
     "data": {
      "image/png": "[encoded data removed]",
      "text/plain": [
       "<matplotlib.figure.Figure at 0x7f3ea95a8400>"
      ]
     },
     "metadata": {},
     "output_type": "display_data"
    },
    {
     "data": {
      "text/plain": [
       "array([0.08243266, 0.03750258, 0.08255964, 0.03131299, 0.03326509,\n       0.07178339, 0.06257837, 0.04997699, 0.        , 0.01069688,\n       0.01482328, 0.04942151, 0.00820518, 0.00650701, 0.06616515,\n       0.0684188 , 0.10788935, 0.04048628, 0.06346712, 0.04240664,\n       0.03848657, 0.01706105, 0.00561824, 0.00611024, 0.00282499],\n      dtype=float32)"
      ]
     },
     "execution_count": 75,
     "metadata": {},
     "output_type": "execute_result"
    }
   ],
   "source": [
    "from xgboost import plot_importance\n",
    "import matplotlib.pyplot as plt\n",
    "\n",
    "pipeline.fit(features, labels)\n",
    "plot_importance(pipeline.named_steps['xgb'])\n",
    "plt.show()\n",
    "pipeline.named_steps['xgb'].feature_importances_"
   ]
  },
  {
   "cell_type": "code",
   "execution_count": 84,
   "metadata": {},
   "outputs": [
    {
     "name": "stderr",
     "output_type": "stream",
     "text": [
      "/home/dkovac/anaconda3/lib/python3.6/site-packages/sklearn/preprocessing/label.py:95: DataConversionWarning: A column-vector y was passed when a 1d array was expected. Please change the shape of y to (n_samples, ), for example using ravel().\n  y = column_or_1d(y, warn=True)\n/home/dkovac/anaconda3/lib/python3.6/site-packages/sklearn/preprocessing/label.py:128: DataConversionWarning: A column-vector y was passed when a 1d array was expected. Please change the shape of y to (n_samples, ), for example using ravel().\n  y = column_or_1d(y, warn=True)\n"
     ]
    },
    {
     "data": {
      "text/plain": [
       "['/home/dkovac/PycharmProjects/Proteus/model/model.pkl']"
      ]
     },
     "execution_count": 84,
     "metadata": {},
     "output_type": "execute_result"
    }
   ],
   "source": [
    "from sklearn.externals import joblib\n",
    "pipeline.fit(features, labels)\n",
    "joblib.dump(pipeline, '/home/dkovac/PycharmProjects/Proteus/model/model.pkl') "
   ]
  },
  {
   "cell_type": "code",
   "execution_count": null,
   "metadata": {},
   "outputs": [],
   "source": []
  }
 ],
 "metadata": {
  "kernelspec": {
   "display_name": "Python 2",
   "language": "python",
   "name": "python2"
  },
  "language_info": {
   "codemirror_mode": {
    "name": "ipython",
    "version": 2
   },
   "file_extension": ".py",
   "mimetype": "text/x-python",
   "name": "python",
   "nbconvert_exporter": "python",
   "pygments_lexer": "ipython2",
   "version": "2.7.6"
  }
 },
 "nbformat": 4,
 "nbformat_minor": 0
}
